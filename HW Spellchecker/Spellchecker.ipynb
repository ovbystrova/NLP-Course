{
  "nbformat": 4,
  "nbformat_minor": 0,
  "metadata": {
    "colab": {
      "name": "Spellchecker.ipynb",
      "version": "0.3.2",
      "provenance": [],
      "collapsed_sections": [],
      "toc_visible": true
    },
    "kernelspec": {
      "name": "python3",
      "display_name": "Python 3"
    },
    "accelerator": "GPU"
  },
  "cells": [
    {
      "metadata": {
        "colab_type": "text",
        "id": "ntsf5JE3NiZi"
      },
      "cell_type": "markdown",
      "source": [
        "# 0. Импортируем, загружаем, подготавливаем"
      ]
    },
    {
      "metadata": {
        "id": "w0YAD0IHmXEf",
        "colab_type": "code",
        "colab": {}
      },
      "cell_type": "code",
      "source": [
        "!pip install textdistance"
      ],
      "execution_count": 0,
      "outputs": []
    },
    {
      "metadata": {
        "colab_type": "code",
        "id": "ip5i8h3-NiZm",
        "colab": {}
      },
      "cell_type": "code",
      "source": [
        "import os, re\n",
        "from string import punctuation\n",
        "import numpy as np\n",
        "import json\n",
        "from collections import Counter\n",
        "from pprint import pprint\n",
        "punct = set(punctuation)\n",
        "from sklearn.metrics import classification_report\n",
        "from sklearn.feature_extraction.text import CountVectorizer, TfidfVectorizer\n",
        "from sklearn.metrics.pairwise import cosine_similarity, cosine_distances\n",
        "import textdistance\n",
        "from tqdm import tqdm"
      ],
      "execution_count": 0,
      "outputs": []
    },
    {
      "metadata": {
        "colab_type": "code",
        "id": "vwZdXoXfNiZv",
        "colab": {}
      },
      "cell_type": "code",
      "source": [
        "bad = open('sents_with_mistakes.txt', encoding='utf8').read().splitlines()\n",
        "true = open('correct_sents.txt', encoding='utf8').read().splitlines()"
      ],
      "execution_count": 0,
      "outputs": []
    },
    {
      "metadata": {
        "colab_type": "code",
        "id": "63idSK6HNiZ3",
        "colab": {}
      },
      "cell_type": "code",
      "source": [
        "def align_words(sent_1, sent_2):\n",
        "    tokens_1 = sent_1.lower().split()\n",
        "    tokens_2 = sent_2.lower().split()\n",
        "    \n",
        "    tokens_1 = [re.sub('(^\\W+|\\W+$)', '', token) for token in tokens_1 if (set(token)-punct)]\n",
        "    tokens_2 = [re.sub('(^\\W+|\\W+$)', '', token) for token in tokens_2 if (set(token)-punct)]\n",
        "    \n",
        "    return list(zip(tokens_1, tokens_2))"
      ],
      "execution_count": 0,
      "outputs": []
    },
    {
      "metadata": {
        "colab_type": "code",
        "id": "ANl6WwsFNiZ-",
        "colab": {}
      },
      "cell_type": "code",
      "source": [
        "corpus = [sent.split() for sent in open('corpus_ng.txt', encoding='utf-8').read().splitlines()]\n",
        "WORDS = Counter()\n",
        "for sent in corpus:\n",
        "    WORDS.update(sent)"
      ],
      "execution_count": 0,
      "outputs": []
    },
    {
      "metadata": {
        "colab_type": "code",
        "id": "4U0xoDdwNiaF",
        "colab": {}
      },
      "cell_type": "code",
      "source": [
        "vocab = list(WORDS.keys())\n",
        "id2word = {i:word for i, word in enumerate(vocab)}\n",
        "\n",
        "vec = TfidfVectorizer(analyzer='char', ngram_range=(1,1))\n",
        "X = vec.fit_transform(vocab)"
      ],
      "execution_count": 0,
      "outputs": []
    },
    {
      "metadata": {
        "id": "fkiJat4OoyuV",
        "colab_type": "text"
      },
      "cell_type": "markdown",
      "source": [
        "## Удаляем неточности в align_words"
      ]
    },
    {
      "metadata": {
        "id": "pMxlq8ZEoyuY",
        "colab_type": "text"
      },
      "cell_type": "markdown",
      "source": [
        "Align_words может не всегда работать точно. Так, на примере ниже показано, что правильные и неправильные варианты могут сьезжать, хотя при этом их кол-во будет соответствовать."
      ]
    },
    {
      "metadata": {
        "colab_type": "code",
        "id": "53z03I4UR5Ry",
        "outputId": "c39c9164-f84a-47b2-f664-5743fe39245e",
        "colab": {
          "base_uri": "https://localhost:8080/",
          "height": 336
        }
      },
      "cell_type": "code",
      "source": [
        "align_words(bad[9], true[9])"
      ],
      "execution_count": 7,
      "outputs": [
        {
          "output_type": "execute_result",
          "data": {
            "text/plain": [
              "[('вобщем', 'в'),\n",
              " ('как', 'общем'),\n",
              " ('вы', 'как'),\n",
              " ('знаете', 'вы'),\n",
              " ('из', 'знаете'),\n",
              " ('моего', 'из'),\n",
              " ('не', 'моего'),\n",
              " ('давнего', 'недавнего'),\n",
              " ('поста', 'поста'),\n",
              " ('я', 'я'),\n",
              " ('жаловался', 'жаловался'),\n",
              " ('на', 'на'),\n",
              " ('пропажу', 'пропажу'),\n",
              " ('писем', 'писем'),\n",
              " ('с', 'с'),\n",
              " ('моего', 'моего'),\n",
              " ('ящека', 'ящика'),\n",
              " ('на', 'на'),\n",
              " ('почте.ру', 'почте.ру')]"
            ]
          },
          "metadata": {
            "tags": []
          },
          "execution_count": 7
        }
      ]
    },
    {
      "metadata": {
        "id": "a1mx5AYmoyug",
        "colab_type": "text"
      },
      "cell_type": "markdown",
      "source": [
        "Для начала найдем похожие случаи с помощью простых предположений, проверим каждый из случаев, и если в нем будет все съезжать, то удалим его."
      ]
    },
    {
      "metadata": {
        "colab_type": "code",
        "id": "PI8RvGJ0fxs2",
        "outputId": "96ae08e0-a1e1-47bc-c871-10ea5113e1d3",
        "colab": {
          "base_uri": "https://localhost:8080/",
          "height": 34
        }
      },
      "cell_type": "code",
      "source": [
        "#Попробуем найти похожие примеры, если они есть.\n",
        "testik = []\n",
        "bad_to_del = []\n",
        "true_to_del = []\n",
        "for i in range(len(bad)):\n",
        "    if ('вобщем' in bad[i] or 'вощем' in bad[i]) and  'в общем' in true[i]: #случай когда 'вобщем' делится на 'в' и 'общем'\n",
        "        testik.append(i)\n",
        "        bad_to_del.append(bad[i])\n",
        "        true_to_del.append(true[i])\n",
        "    elif ('как то' in bad[i]) and 'как-то' in true[i]:\n",
        "        testik.append(i)\n",
        "        bad_to_del.append(bad[i])\n",
        "        true_to_del.append(true[i])\n",
        "testik"
      ],
      "execution_count": 8,
      "outputs": [
        {
          "output_type": "execute_result",
          "data": {
            "text/plain": [
              "[9, 276, 468, 722]"
            ]
          },
          "metadata": {
            "tags": []
          },
          "execution_count": 8
        }
      ]
    },
    {
      "metadata": {
        "id": "DwVAelDvoyum",
        "colab_type": "code",
        "outputId": "86ce6d1f-333f-4733-be27-c878314a6303",
        "colab": {
          "base_uri": "https://localhost:8080/",
          "height": 269
        }
      },
      "cell_type": "code",
      "source": [
        "align_words(bad[276], true[276])"
      ],
      "execution_count": 9,
      "outputs": [
        {
          "output_type": "execute_result",
          "data": {
            "text/plain": [
              "[('вобщем', 'в'),\n",
              " ('сниццо', 'общем'),\n",
              " ('мне', 'снится'),\n",
              " ('что', 'мне'),\n",
              " ('я', 'что'),\n",
              " ('нашел', 'я'),\n",
              " ('таки', 'нашел-таки'),\n",
              " ('артефакт', 'артефакт'),\n",
              " ('позволяющий', 'позволяющий'),\n",
              " ('видеть', 'видеть'),\n",
              " ('что', 'что'),\n",
              " ('там', 'там'),\n",
              " ('у', 'у'),\n",
              " ('людей', 'людей'),\n",
              " ('внутри', 'внутри')]"
            ]
          },
          "metadata": {
            "tags": []
          },
          "execution_count": 9
        }
      ]
    },
    {
      "metadata": {
        "id": "TazV_qxRoyus",
        "colab_type": "code",
        "outputId": "92dcc8aa-d5b8-437c-d8c7-70845a3d6654",
        "colab": {
          "base_uri": "https://localhost:8080/",
          "height": 470
        }
      },
      "cell_type": "code",
      "source": [
        "align_words(bad[468], true[468])"
      ],
      "execution_count": 10,
      "outputs": [
        {
          "output_type": "execute_result",
          "data": {
            "text/plain": [
              "[('ура', 'ура'),\n",
              " ('я', 'я'),\n",
              " ('сделала', 'сделала'),\n",
              " ('себе', 'себе'),\n",
              " ('выходной', 'выходной'),\n",
              " ('правда', 'правда'),\n",
              " ('провела', 'провела'),\n",
              " ('его', 'его'),\n",
              " ('как', 'как-то'),\n",
              " ('то', 'странно'),\n",
              " ('странно', 'на'),\n",
              " ('на', 'улице'),\n",
              " ('улице', 'супер'),\n",
              " ('супер', 'просто'),\n",
              " ('просто', 'а'),\n",
              " ('а', 'я'),\n",
              " ('я', 'целый'),\n",
              " ('целый', 'день'),\n",
              " ('день', 'проспала'),\n",
              " ('проспала', 'потом'),\n",
              " ('потом', 'уборкой'),\n",
              " ('уборкой', 'занималась'),\n",
              " ('занималась', 'ну'),\n",
              " ('ну', 'в'),\n",
              " ('вобщем', 'общем'),\n",
              " ('как', 'как'),\n",
              " ('обычно', 'обычно')]"
            ]
          },
          "metadata": {
            "tags": []
          },
          "execution_count": 10
        }
      ]
    },
    {
      "metadata": {
        "id": "_yJV0Kl6oyux",
        "colab_type": "code",
        "outputId": "47724a71-9b68-4068-85be-64981ca30400",
        "colab": {
          "base_uri": "https://localhost:8080/",
          "height": 370
        }
      },
      "cell_type": "code",
      "source": [
        "align_words(bad[722], true[722])"
      ],
      "execution_count": 11,
      "outputs": [
        {
          "output_type": "execute_result",
          "data": {
            "text/plain": [
              "[('что', 'что'),\n",
              " ('примечательно', 'примечательно'),\n",
              " ('перед', 'перед'),\n",
              " ('нами', 'нами'),\n",
              " ('выступали', 'выступали'),\n",
              " ('мои', 'мои'),\n",
              " ('знакомые', 'знакомые'),\n",
              " ('с', 'с'),\n",
              " ('реп', 'репбазы'),\n",
              " ('базы', 'которые'),\n",
              " ('которые', 'оказались'),\n",
              " ('оказались', 'крайне'),\n",
              " ('крайне', 'близкими'),\n",
              " ('близкими', 'друзьями'),\n",
              " ('друзьями', 'нежданным'),\n",
              " ('нежданным', 'в'),\n",
              " ('вобщем', 'общем'),\n",
              " ('море', 'море'),\n",
              " ('позитива', 'позитива'),\n",
              " ('и', 'и'),\n",
              " ('рокенрола', 'рок-н-ролла')]"
            ]
          },
          "metadata": {
            "tags": []
          },
          "execution_count": 11
        }
      ]
    },
    {
      "metadata": {
        "id": "3shG2oP9oyu2",
        "colab_type": "code",
        "colab": {}
      },
      "cell_type": "code",
      "source": [
        "#удаляем эти предложения из набора\n",
        "for i in testik[::-1]:\n",
        "    true.remove(true[i])\n",
        "    bad.remove(bad[i])"
      ],
      "execution_count": 0,
      "outputs": []
    },
    {
      "metadata": {
        "id": "ynZOMfW-oyu6",
        "colab_type": "text"
      },
      "cell_type": "markdown",
      "source": [
        "Удалив ненужное, посмотрим на долю ошибок."
      ]
    },
    {
      "metadata": {
        "colab_type": "code",
        "id": "BWgYmmaiW0I1",
        "colab": {}
      },
      "cell_type": "code",
      "source": [
        "mistakes_list = []\n",
        "total = 0\n",
        "\n",
        "for i in range(len(true)):\n",
        "    \n",
        "    word_pairs = align_words(true[i], bad[i])\n",
        "    \n",
        "    for pair in word_pairs:\n",
        "        if pair[0] != pair[1]:\n",
        "            mistakes_list.append(pair)\n",
        "        total += 1"
      ],
      "execution_count": 0,
      "outputs": []
    },
    {
      "metadata": {
        "colab_type": "code",
        "id": "2jUmUAlmW4fR",
        "outputId": "3f4f1714-9c3e-417d-a716-deb118083f5a",
        "colab": {
          "base_uri": "https://localhost:8080/",
          "height": 34
        }
      },
      "cell_type": "code",
      "source": [
        "print('Доля ошибок - ', len(mistakes_list)/total )"
      ],
      "execution_count": 14,
      "outputs": [
        {
          "output_type": "stream",
          "text": [
            "Доля ошибок -  0.1270896273917422\n"
          ],
          "name": "stdout"
        }
      ]
    },
    {
      "metadata": {
        "id": "VNf95DAv-iAQ",
        "colab_type": "code",
        "outputId": "c33bf9f6-3618-4e43-969d-3612fe4fe5ed",
        "colab": {
          "base_uri": "https://localhost:8080/",
          "height": 34
        }
      },
      "cell_type": "code",
      "source": [
        "1 - len(mistakes_list)/total"
      ],
      "execution_count": 15,
      "outputs": [
        {
          "output_type": "execute_result",
          "data": {
            "text/plain": [
              "0.8729103726082578"
            ]
          },
          "metadata": {
            "tags": []
          },
          "execution_count": 15
        }
      ]
    },
    {
      "metadata": {
        "colab_type": "text",
        "id": "q9vGPZNLNiaM"
      },
      "cell_type": "markdown",
      "source": [
        "# 1. Совмещаем get_closest_match_vec и Левенштейна"
      ]
    },
    {
      "metadata": {
        "colab_type": "text",
        "id": "FFqMzvIFNiaO"
      },
      "cell_type": "markdown",
      "source": [
        "Функция get_closest_vector_levi сначала находит TOPN (по дефолту = 6) вариантов по векторной близости, затем для каждого из кандидатов находит расстояние Левенштейна и вовращает наилучший вариант."
      ]
    },
    {
      "metadata": {
        "colab_type": "code",
        "id": "kTAHot0uNiaR",
        "colab": {}
      },
      "cell_type": "code",
      "source": [
        "def get_closest_match_vec(text, X, vec, TOPN=6):\n",
        "    v = vec.transform([text])\n",
        "    similarities = cosine_distances(v, X)\n",
        "    topn = similarities.argsort()[0][:TOPN]\n",
        "    \n",
        "    return [id2word[top] for top in topn]"
      ],
      "execution_count": 0,
      "outputs": []
    },
    {
      "metadata": {
        "colab_type": "code",
        "id": "70pOG1RUNiaX",
        "colab": {}
      },
      "cell_type": "code",
      "source": [
        "def get_closest_vector_levi(text, X, vec, metric=textdistance.levenshtein):\n",
        "    #v = vec.transform([text])\n",
        "    # similarities = cosine_distances(v, X)\n",
        "    #topn = similarities.argsort()[0][:TOPN]\n",
        "    #variants = [id2word[top] for top in topn]\n",
        "    variants = get_closest_match_vec(text, X, vec, TOPN=6)\n",
        "    similarities = [metric.normalized_similarity(text, variant) for variant in variants]\n",
        "    best = variants[similarities.index(max(similarities))]\n",
        "    return best"
      ],
      "execution_count": 0,
      "outputs": []
    },
    {
      "metadata": {
        "colab_type": "code",
        "id": "6Y7P8E-lNiab",
        "outputId": "31db2144-ec5f-40f3-fa20-e5efa8c47244",
        "colab": {
          "base_uri": "https://localhost:8080/",
          "height": 67
        }
      },
      "cell_type": "code",
      "source": [
        "%%time\n",
        "get_closest_vector_levi('вобще',  X, vec)"
      ],
      "execution_count": 18,
      "outputs": [
        {
          "output_type": "stream",
          "text": [
            "CPU times: user 55.2 ms, sys: 2.9 ms, total: 58.1 ms\n",
            "Wall time: 63 ms\n"
          ],
          "name": "stdout"
        },
        {
          "output_type": "execute_result",
          "data": {
            "text/plain": [
              "'вообще'"
            ]
          },
          "metadata": {
            "tags": []
          },
          "execution_count": 18
        }
      ]
    },
    {
      "metadata": {
        "colab_type": "code",
        "id": "GXDfgxSkNiam",
        "outputId": "6fb0358a-39bd-4759-ceef-f67845f967b7",
        "colab": {
          "base_uri": "https://localhost:8080/",
          "height": 67
        }
      },
      "cell_type": "code",
      "source": [
        "%%time\n",
        "get_closest_vector_levi('опофеоз',  X, vec)"
      ],
      "execution_count": 19,
      "outputs": [
        {
          "output_type": "stream",
          "text": [
            "CPU times: user 55.9 ms, sys: 852 µs, total: 56.7 ms\n",
            "Wall time: 60.1 ms\n"
          ],
          "name": "stdout"
        },
        {
          "output_type": "execute_result",
          "data": {
            "text/plain": [
              "'апофеоз'"
            ]
          },
          "metadata": {
            "tags": []
          },
          "execution_count": 19
        }
      ]
    },
    {
      "metadata": {
        "colab_type": "code",
        "id": "8eMHvY1oNkvt",
        "outputId": "4c022b69-8a14-4ad0-8959-aaf27abc64a7",
        "colab": {
          "base_uri": "https://localhost:8080/",
          "height": 67
        }
      },
      "cell_type": "code",
      "source": [
        "%%time\n",
        "get_closest_vector_levi('очень',  X, vec)"
      ],
      "execution_count": 20,
      "outputs": [
        {
          "output_type": "stream",
          "text": [
            "CPU times: user 52.5 ms, sys: 1.94 ms, total: 54.4 ms\n",
            "Wall time: 57 ms\n"
          ],
          "name": "stdout"
        },
        {
          "output_type": "execute_result",
          "data": {
            "text/plain": [
              "'очень'"
            ]
          },
          "metadata": {
            "tags": []
          },
          "execution_count": 20
        }
      ]
    },
    {
      "metadata": {
        "colab_type": "text",
        "id": "FxvBcva6Niay"
      },
      "cell_type": "markdown",
      "source": [
        "# 2. Проверяем качество на данных соревнования диалога"
      ]
    },
    {
      "metadata": {
        "id": "eR9pnRbFeMVU",
        "colab_type": "code",
        "outputId": "680f3b7c-23a1-4729-d90e-13058abb0693",
        "colab": {
          "base_uri": "https://localhost:8080/",
          "height": 34
        }
      },
      "cell_type": "code",
      "source": [
        "#Создадим словарь неверных исправлений\n",
        "mistakes = {'bad':[], 'our correction':[], 'true':[]}\n",
        "\n",
        "\n",
        "correct = 0\n",
        "total = 0\n",
        "for i in tqdm(range(len(true))):\n",
        "    word_pairs = align_words(bad[i], true[i])\n",
        "    for pair in word_pairs:\n",
        "        predicted = get_closest_vector_levi(pair[0],  X, vec)\n",
        "        if predicted == pair[1]:\n",
        "            correct += 1\n",
        "        else:\n",
        "          mistakes['bad'].append(pair[0])\n",
        "          mistakes['our correction']. append(predicted)\n",
        "          mistakes['true'].append(pair[1])          \n",
        "        total += 1\n",
        "    "
      ],
      "execution_count": 21,
      "outputs": [
        {
          "output_type": "stream",
          "text": [
            "100%|██████████| 912/912 [08:43<00:00,  1.38it/s]\n"
          ],
          "name": "stderr"
        }
      ]
    },
    {
      "metadata": {
        "id": "Mp52-P-Oh8ws",
        "colab_type": "code",
        "outputId": "f6c6f21e-c0e3-45f8-b2bb-d506b67aa931",
        "colab": {
          "base_uri": "https://localhost:8080/",
          "height": 34
        }
      },
      "cell_type": "code",
      "source": [
        "correct/total"
      ],
      "execution_count": 22,
      "outputs": [
        {
          "output_type": "execute_result",
          "data": {
            "text/plain": [
              "0.8326283987915408"
            ]
          },
          "metadata": {
            "tags": []
          },
          "execution_count": 22
        }
      ]
    },
    {
      "metadata": {
        "colab_type": "text",
        "id": "h7LRqve1Nia9"
      },
      "cell_type": "markdown",
      "source": [
        "# 3. Смотрим на ошибки"
      ]
    },
    {
      "metadata": {
        "colab_type": "code",
        "id": "sFV5aw4rNia_",
        "colab": {}
      },
      "cell_type": "code",
      "source": [
        "import pandas as pd"
      ],
      "execution_count": 0,
      "outputs": []
    },
    {
      "metadata": {
        "colab_type": "code",
        "id": "a2eG0V-9NibE",
        "outputId": "7965813e-a687-43a8-d290-a172964f883a",
        "colab": {
          "base_uri": "https://localhost:8080/",
          "height": 377
        }
      },
      "cell_type": "code",
      "source": [
        "df_mistakes = pd.DataFrame(mistakes)\n",
        "print('Кол-во ошибок: ', len(df_mistakes['bad']))\n",
        "print('Доля ошибок:', len(df_mistakes) / total)\n",
        "df_mistakes.head(10)"
      ],
      "execution_count": 24,
      "outputs": [
        {
          "output_type": "stream",
          "text": [
            "Кол-во ошибок:  1662\n",
            "Доля ошибок: 0.1673716012084592\n"
          ],
          "name": "stdout"
        },
        {
          "output_type": "execute_result",
          "data": {
            "text/html": [
              "<div>\n",
              "<style scoped>\n",
              "    .dataframe tbody tr th:only-of-type {\n",
              "        vertical-align: middle;\n",
              "    }\n",
              "\n",
              "    .dataframe tbody tr th {\n",
              "        vertical-align: top;\n",
              "    }\n",
              "\n",
              "    .dataframe thead th {\n",
              "        text-align: right;\n",
              "    }\n",
              "</style>\n",
              "<table border=\"1\" class=\"dataframe\">\n",
              "  <thead>\n",
              "    <tr style=\"text-align: right;\">\n",
              "      <th></th>\n",
              "      <th>bad</th>\n",
              "      <th>our correction</th>\n",
              "      <th>true</th>\n",
              "    </tr>\n",
              "  </thead>\n",
              "  <tbody>\n",
              "    <tr>\n",
              "      <th>0</th>\n",
              "      <td>симпатичнейшое</td>\n",
              "      <td>пластичнейшими</td>\n",
              "      <td>симпатичнейшее</td>\n",
              "    </tr>\n",
              "    <tr>\n",
              "      <th>1</th>\n",
              "      <td>шпионское</td>\n",
              "      <td>шпионские</td>\n",
              "      <td>шпионское</td>\n",
              "    </tr>\n",
              "    <tr>\n",
              "      <th>2</th>\n",
              "      <td>гламурный</td>\n",
              "      <td>лагерный</td>\n",
              "      <td>гламурный</td>\n",
              "    </tr>\n",
              "    <tr>\n",
              "      <th>3</th>\n",
              "      <td>бонда</td>\n",
              "      <td>банда</td>\n",
              "      <td>бонда</td>\n",
              "    </tr>\n",
              "    <tr>\n",
              "      <th>4</th>\n",
              "      <td>superheadz</td>\n",
              "      <td>heads</td>\n",
              "      <td>superheadz</td>\n",
              "    </tr>\n",
              "    <tr>\n",
              "      <th>5</th>\n",
              "      <td>clap</td>\n",
              "      <td>place</td>\n",
              "      <td>clap</td>\n",
              "    </tr>\n",
              "    <tr>\n",
              "      <th>6</th>\n",
              "      <td>camera</td>\n",
              "      <td>america</td>\n",
              "      <td>camera</td>\n",
              "    </tr>\n",
              "    <tr>\n",
              "      <th>7</th>\n",
              "      <td>полчатся</td>\n",
              "      <td>ополчатся</td>\n",
              "      <td>получатся</td>\n",
              "    </tr>\n",
              "    <tr>\n",
              "      <th>8</th>\n",
              "      <td>язычки</td>\n",
              "      <td>язычка</td>\n",
              "      <td>язычки</td>\n",
              "    </tr>\n",
              "    <tr>\n",
              "      <th>9</th>\n",
              "      <td>оччччень</td>\n",
              "      <td>чечни</td>\n",
              "      <td>очень</td>\n",
              "    </tr>\n",
              "  </tbody>\n",
              "</table>\n",
              "</div>"
            ],
            "text/plain": [
              "              bad  our correction            true\n",
              "0  симпатичнейшое  пластичнейшими  симпатичнейшее\n",
              "1       шпионское       шпионские       шпионское\n",
              "2       гламурный        лагерный       гламурный\n",
              "3           бонда           банда           бонда\n",
              "4      superheadz           heads      superheadz\n",
              "5            clap           place            clap\n",
              "6          camera         america          camera\n",
              "7        полчатся       ополчатся       получатся\n",
              "8          язычки          язычка          язычки\n",
              "9        оччччень           чечни           очень"
            ]
          },
          "metadata": {
            "tags": []
          },
          "execution_count": 24
        }
      ]
    },
    {
      "metadata": {
        "colab_type": "code",
        "id": "VfKe5h6-Qlgr",
        "outputId": "adc12682-e06a-4889-f1a4-801cb312d8c7",
        "colab": {
          "base_uri": "https://localhost:8080/",
          "height": 67
        }
      },
      "cell_type": "code",
      "source": [
        "%%time\n",
        "get_closest_vector_levi('оччччень',  X, vec)"
      ],
      "execution_count": 26,
      "outputs": [
        {
          "output_type": "stream",
          "text": [
            "CPU times: user 53.9 ms, sys: 1.98 ms, total: 55.9 ms\n",
            "Wall time: 57 ms\n"
          ],
          "name": "stdout"
        },
        {
          "output_type": "execute_result",
          "data": {
            "text/plain": [
              "'чечни'"
            ]
          },
          "metadata": {
            "tags": []
          },
          "execution_count": 26
        }
      ]
    },
    {
      "metadata": {
        "colab_type": "text",
        "id": "GuDcSmTqNibN"
      },
      "cell_type": "markdown",
      "source": [
        "Многие ошибки связаны с тем, что корректор исправляет уже верные слова на ошибочные. Возможно, это связано с тем, что нашего словаря недостаточно. "
      ]
    },
    {
      "metadata": {
        "colab_type": "text",
        "id": "qqGCvCdINibQ"
      },
      "cell_type": "markdown",
      "source": [
        "# 4. Исправляем ошибки"
      ]
    },
    {
      "metadata": {
        "colab_type": "text",
        "id": "1BySMBmZNibS"
      },
      "cell_type": "markdown",
      "source": [
        "## 4.1 Попробуем использовать буквенные нграммы"
      ]
    },
    {
      "metadata": {
        "colab_type": "code",
        "id": "D9_6QtRPNibT",
        "colab": {}
      },
      "cell_type": "code",
      "source": [
        "vocab = list(WORDS.keys())\n",
        "id2word = {i:word for i, word in enumerate(vocab)}\n",
        "\n",
        "vec = CountVectorizer(analyzer='char', ngram_range=(1,4))\n",
        "X = vec.fit_transform(vocab)"
      ],
      "execution_count": 0,
      "outputs": []
    },
    {
      "metadata": {
        "id": "xWBJFO4ez775",
        "colab_type": "code",
        "colab": {}
      },
      "cell_type": "code",
      "source": [
        "def get_closest_match_vec(text, X, vec, TOPN=6):\n",
        "    v = vec.transform([text])\n",
        "    similarities = cosine_distances(v, X)\n",
        "    topn = similarities.argsort()[0][:TOPN]\n",
        "    \n",
        "    return [id2word[top] for top in topn]"
      ],
      "execution_count": 0,
      "outputs": []
    },
    {
      "metadata": {
        "id": "MEF9oWukz_RY",
        "colab_type": "code",
        "colab": {}
      },
      "cell_type": "code",
      "source": [
        "def get_closest_vector_levi(text, X, vec, metric=textdistance.levenshtein):\n",
        "    #v = vec.transform([text])\n",
        "    # similarities = cosine_distances(v, X)\n",
        "    #topn = similarities.argsort()[0][:TOPN]\n",
        "    #variants = [id2word[top] for top in topn]\n",
        "    variants = get_closest_match_vec(text, X, vec, TOPN=6)\n",
        "    similarities = [metric.normalized_similarity(text, variant) for variant in variants]\n",
        "    best = variants[similarities.index(max(similarities))]\n",
        "    return best"
      ],
      "execution_count": 0,
      "outputs": []
    },
    {
      "metadata": {
        "id": "-MMw_2jLokNR",
        "colab_type": "code",
        "outputId": "e8f5681b-5c42-4c26-d82f-263d27a6df1c",
        "colab": {
          "base_uri": "https://localhost:8080/",
          "height": 34
        }
      },
      "cell_type": "code",
      "source": [
        "mistakes2 = {'bad':[], 'our correction':[], 'true':[]}\n",
        "\n",
        "\n",
        "correct = 0\n",
        "total = 0\n",
        "for i in tqdm(range(len(true))):\n",
        "    word_pairs = align_words(bad[i], true[i])\n",
        "    for pair in word_pairs:\n",
        "        predicted = get_closest_vector_levi(pair[0],  X, vec)\n",
        "        if predicted == pair[1]:\n",
        "            correct += 1\n",
        "        else:\n",
        "          mistakes2['bad'].append(pair[0])\n",
        "          mistakes2['our correction']. append(predicted)\n",
        "          mistakes2['true'].append(pair[1])          \n",
        "        total += 1"
      ],
      "execution_count": 30,
      "outputs": [
        {
          "output_type": "stream",
          "text": [
            "100%|██████████| 912/912 [41:01<00:00,  3.47s/it]\n"
          ],
          "name": "stderr"
        }
      ]
    },
    {
      "metadata": {
        "colab_type": "code",
        "id": "dbqW-kH4Nibk",
        "outputId": "acb19b87-161e-4cfa-fc7c-f3133aa760f8",
        "colab": {
          "base_uri": "https://localhost:8080/",
          "height": 377
        }
      },
      "cell_type": "code",
      "source": [
        "df_mistakes2 = pd.DataFrame(mistakes2)\n",
        "print(len(df_mistakes2['bad']))\n",
        "print('Доля ошибок:', len(df_mistakes2) / total)\n",
        "df_mistakes2.head(10)"
      ],
      "execution_count": 31,
      "outputs": [
        {
          "output_type": "stream",
          "text": [
            "1527\n",
            "Доля ошибок: 0.1537764350453172\n"
          ],
          "name": "stdout"
        },
        {
          "output_type": "execute_result",
          "data": {
            "text/html": [
              "<div>\n",
              "<style scoped>\n",
              "    .dataframe tbody tr th:only-of-type {\n",
              "        vertical-align: middle;\n",
              "    }\n",
              "\n",
              "    .dataframe tbody tr th {\n",
              "        vertical-align: top;\n",
              "    }\n",
              "\n",
              "    .dataframe thead th {\n",
              "        text-align: right;\n",
              "    }\n",
              "</style>\n",
              "<table border=\"1\" class=\"dataframe\">\n",
              "  <thead>\n",
              "    <tr style=\"text-align: right;\">\n",
              "      <th></th>\n",
              "      <th>bad</th>\n",
              "      <th>our correction</th>\n",
              "      <th>true</th>\n",
              "    </tr>\n",
              "  </thead>\n",
              "  <tbody>\n",
              "    <tr>\n",
              "      <th>0</th>\n",
              "      <td>симпатичнейшое</td>\n",
              "      <td>симпатичный</td>\n",
              "      <td>симпатичнейшее</td>\n",
              "    </tr>\n",
              "    <tr>\n",
              "      <th>1</th>\n",
              "      <td>шпионское</td>\n",
              "      <td>шпионской</td>\n",
              "      <td>шпионское</td>\n",
              "    </tr>\n",
              "    <tr>\n",
              "      <th>2</th>\n",
              "      <td>гламурный</td>\n",
              "      <td>гламур</td>\n",
              "      <td>гламурный</td>\n",
              "    </tr>\n",
              "    <tr>\n",
              "      <th>3</th>\n",
              "      <td>бонда</td>\n",
              "      <td>бонди</td>\n",
              "      <td>бонда</td>\n",
              "    </tr>\n",
              "    <tr>\n",
              "      <th>4</th>\n",
              "      <td>superheadz</td>\n",
              "      <td>superjet</td>\n",
              "      <td>superheadz</td>\n",
              "    </tr>\n",
              "    <tr>\n",
              "      <th>5</th>\n",
              "      <td>clap</td>\n",
              "      <td>la</td>\n",
              "      <td>clap</td>\n",
              "    </tr>\n",
              "    <tr>\n",
              "      <th>6</th>\n",
              "      <td>camera</td>\n",
              "      <td>tamer</td>\n",
              "      <td>camera</td>\n",
              "    </tr>\n",
              "    <tr>\n",
              "      <th>7</th>\n",
              "      <td>полчатся</td>\n",
              "      <td>ополчатся</td>\n",
              "      <td>получатся</td>\n",
              "    </tr>\n",
              "    <tr>\n",
              "      <th>8</th>\n",
              "      <td>язычки</td>\n",
              "      <td>язычка</td>\n",
              "      <td>язычки</td>\n",
              "    </tr>\n",
              "    <tr>\n",
              "      <th>9</th>\n",
              "      <td>милые</td>\n",
              "      <td>милы</td>\n",
              "      <td>милые</td>\n",
              "    </tr>\n",
              "  </tbody>\n",
              "</table>\n",
              "</div>"
            ],
            "text/plain": [
              "              bad our correction            true\n",
              "0  симпатичнейшое    симпатичный  симпатичнейшее\n",
              "1       шпионское      шпионской       шпионское\n",
              "2       гламурный         гламур       гламурный\n",
              "3           бонда          бонди           бонда\n",
              "4      superheadz       superjet      superheadz\n",
              "5            clap             la            clap\n",
              "6          camera          tamer          camera\n",
              "7        полчатся      ополчатся       получатся\n",
              "8          язычки         язычка          язычки\n",
              "9           милые           милы           милые"
            ]
          },
          "metadata": {
            "tags": []
          },
          "execution_count": 31
        }
      ]
    },
    {
      "metadata": {
        "id": "c7epcMG2ut9E",
        "colab_type": "code",
        "outputId": "c2dcca4b-cf00-4a63-c9a9-01ca9b5df387",
        "colab": {
          "base_uri": "https://localhost:8080/",
          "height": 34
        }
      },
      "cell_type": "code",
      "source": [
        "correct/total"
      ],
      "execution_count": 32,
      "outputs": [
        {
          "output_type": "execute_result",
          "data": {
            "text/plain": [
              "0.8462235649546828"
            ]
          },
          "metadata": {
            "tags": []
          },
          "execution_count": 32
        }
      ]
    },
    {
      "metadata": {
        "colab_type": "text",
        "id": "wYhKpcUz9HRG"
      },
      "cell_type": "markdown",
      "source": [
        "Как мы видим, кол-во ошибок уменьшилось, но незначительно. "
      ]
    },
    {
      "metadata": {
        "colab_type": "text",
        "id": "67VOod6w9nD_"
      },
      "cell_type": "markdown",
      "source": [
        "## 4.2 Добавим pymorphy"
      ]
    },
    {
      "metadata": {
        "id": "NNV0Yx0BBaeU",
        "colab_type": "text"
      },
      "cell_type": "markdown",
      "source": [
        "Используем его так: когда подбираем варианты, смотрим на то, какой они части речи. Если совпадают с исходной, оставляем, если нет - выкидываем, несмотря на вероятность. Однако, если не остается ни одного варианта исходной части речи, то работаем с дефолтными вариантами."
      ]
    },
    {
      "metadata": {
        "colab_type": "code",
        "id": "_zXu9bwT94nM",
        "colab": {}
      },
      "cell_type": "code",
      "source": [
        "!pip install pymorphy2\n",
        "import pymorphy2 as py\n",
        "morph = py.MorphAnalyzer()"
      ],
      "execution_count": 0,
      "outputs": []
    },
    {
      "metadata": {
        "colab_type": "code",
        "id": "s0FVmFGB_Jff",
        "colab": {}
      },
      "cell_type": "code",
      "source": [
        "def get_closest_vector_levi(text, X, vec, metric=textdistance.levenshtein):\n",
        "    #v = vec.transform([text])\n",
        "    # similarities = cosine_distances(v, X)\n",
        "    #topn = similarities.argsort()[0][:TOPN]\n",
        "    #variants = [id2word[top] for top in topn]\n",
        "    variants = get_closest_match_vec(text, X, vec, TOPN=6)\n",
        "    similarities = [textdistance.levenshtein.normalized_similarity(text, variant) for variant in variants]\n",
        "    #print(variants, similarities)\n",
        "    variants, similarities = pos_similar(text, variants, similarities)\n",
        "    #print(variants, similarities)\n",
        "    best = variants[similarities.index(max(similarities))]\n",
        "    return best"
      ],
      "execution_count": 0,
      "outputs": []
    },
    {
      "metadata": {
        "colab_type": "code",
        "id": "5EWiddzLAnEr",
        "colab": {}
      },
      "cell_type": "code",
      "source": [
        "def pos_similar(mistake, variants, similarities):\n",
        "  word = morph.parse(mistake)[0]\n",
        "  t = word.tag.POS\n",
        "  new_variants = []\n",
        "  new_similarities = []\n",
        "  for variant in variants:\n",
        "    if morph.parse(variant)[0].tag.POS == t:\n",
        "      new_variants.append(variant)\n",
        "      new_similarities.append(similarities[variants.index(variant)])\n",
        "    else:\n",
        "      pass\n",
        "  if len(new_variants) > 0:\n",
        "    return new_variants, new_similarities\n",
        "  else:\n",
        "    return variants, similarities"
      ],
      "execution_count": 0,
      "outputs": []
    },
    {
      "metadata": {
        "id": "InpMRtPKvQYT",
        "colab_type": "text"
      },
      "cell_type": "markdown",
      "source": [
        "Обработаем так только ошибки. "
      ]
    },
    {
      "metadata": {
        "id": "GYXrMcWtNqvB",
        "colab_type": "code",
        "outputId": "dc3c2d5e-967e-4a0c-b37e-7e8ef4da4dac",
        "colab": {
          "base_uri": "https://localhost:8080/",
          "height": 34
        }
      },
      "cell_type": "code",
      "source": [
        "mistakes_after_pos = {'bad':[], 'our correction':[], 'true':[]}\n",
        "n_mistakes = len(df_mistakes2)\n",
        "y_add_pred = []\n",
        "for i in tqdm(range(len(mistakes2['bad']))):\n",
        "  mistake = mistakes2['bad'][i]\n",
        "  pred = get_closest_vector_levi(mistake,  X, vec)\n",
        "  if pred != mistakes2['true'][i]:\n",
        "    mistakes_after_pos['bad'].append(mistakes2['bad'][i])\n",
        "    mistakes_after_pos['our correction'].append(pred)\n",
        "    mistakes_after_pos['true'].append(mistakes2['true'][i])\n",
        "  else:\n",
        "    n_mistakes -= 1\n",
        "  "
      ],
      "execution_count": 36,
      "outputs": [
        {
          "output_type": "stream",
          "text": [
            "100%|██████████| 1527/1527 [06:30<00:00,  3.88it/s]\n"
          ],
          "name": "stderr"
        }
      ]
    },
    {
      "metadata": {
        "colab_type": "code",
        "id": "dJ1-3Fe9KNw_",
        "outputId": "8f7d2804-f13e-45ee-9465-5b4450ac1207",
        "colab": {
          "base_uri": "https://localhost:8080/",
          "height": 377
        }
      },
      "cell_type": "code",
      "source": [
        "df_mistakes3 = pd.DataFrame(mistakes_after_pos)\n",
        "print('Кол-во ошибок: ', len(df_mistakes3['bad']))\n",
        "print('Доля ошибок:', len(df_mistakes3) / total)\n",
        "df_mistakes3.head(10)"
      ],
      "execution_count": 37,
      "outputs": [
        {
          "output_type": "stream",
          "text": [
            "Кол-во ошибок:  1518\n",
            "Доля ошибок: 0.1528700906344411\n"
          ],
          "name": "stdout"
        },
        {
          "output_type": "execute_result",
          "data": {
            "text/html": [
              "<div>\n",
              "<style scoped>\n",
              "    .dataframe tbody tr th:only-of-type {\n",
              "        vertical-align: middle;\n",
              "    }\n",
              "\n",
              "    .dataframe tbody tr th {\n",
              "        vertical-align: top;\n",
              "    }\n",
              "\n",
              "    .dataframe thead th {\n",
              "        text-align: right;\n",
              "    }\n",
              "</style>\n",
              "<table border=\"1\" class=\"dataframe\">\n",
              "  <thead>\n",
              "    <tr style=\"text-align: right;\">\n",
              "      <th></th>\n",
              "      <th>bad</th>\n",
              "      <th>our correction</th>\n",
              "      <th>true</th>\n",
              "    </tr>\n",
              "  </thead>\n",
              "  <tbody>\n",
              "    <tr>\n",
              "      <th>0</th>\n",
              "      <td>симпатичнейшое</td>\n",
              "      <td>симпатией</td>\n",
              "      <td>симпатичнейшее</td>\n",
              "    </tr>\n",
              "    <tr>\n",
              "      <th>1</th>\n",
              "      <td>шпионское</td>\n",
              "      <td>шпионской</td>\n",
              "      <td>шпионское</td>\n",
              "    </tr>\n",
              "    <tr>\n",
              "      <th>2</th>\n",
              "      <td>гламурный</td>\n",
              "      <td>пасмурный</td>\n",
              "      <td>гламурный</td>\n",
              "    </tr>\n",
              "    <tr>\n",
              "      <th>3</th>\n",
              "      <td>бонда</td>\n",
              "      <td>бонди</td>\n",
              "      <td>бонда</td>\n",
              "    </tr>\n",
              "    <tr>\n",
              "      <th>4</th>\n",
              "      <td>superheadz</td>\n",
              "      <td>superjet</td>\n",
              "      <td>superheadz</td>\n",
              "    </tr>\n",
              "    <tr>\n",
              "      <th>5</th>\n",
              "      <td>clap</td>\n",
              "      <td>la</td>\n",
              "      <td>clap</td>\n",
              "    </tr>\n",
              "    <tr>\n",
              "      <th>6</th>\n",
              "      <td>camera</td>\n",
              "      <td>tamer</td>\n",
              "      <td>camera</td>\n",
              "    </tr>\n",
              "    <tr>\n",
              "      <th>7</th>\n",
              "      <td>полчатся</td>\n",
              "      <td>ополчатся</td>\n",
              "      <td>получатся</td>\n",
              "    </tr>\n",
              "    <tr>\n",
              "      <th>8</th>\n",
              "      <td>язычки</td>\n",
              "      <td>язычка</td>\n",
              "      <td>язычки</td>\n",
              "    </tr>\n",
              "    <tr>\n",
              "      <th>9</th>\n",
              "      <td>милые</td>\n",
              "      <td>милым</td>\n",
              "      <td>милые</td>\n",
              "    </tr>\n",
              "  </tbody>\n",
              "</table>\n",
              "</div>"
            ],
            "text/plain": [
              "              bad our correction            true\n",
              "0  симпатичнейшое      симпатией  симпатичнейшее\n",
              "1       шпионское      шпионской       шпионское\n",
              "2       гламурный      пасмурный       гламурный\n",
              "3           бонда          бонди           бонда\n",
              "4      superheadz       superjet      superheadz\n",
              "5            clap             la            clap\n",
              "6          camera          tamer          camera\n",
              "7        полчатся      ополчатся       получатся\n",
              "8          язычки         язычка          язычки\n",
              "9           милые          милым           милые"
            ]
          },
          "metadata": {
            "tags": []
          },
          "execution_count": 37
        }
      ]
    },
    {
      "metadata": {
        "id": "Im_81tlLxmeE",
        "colab_type": "code",
        "outputId": "a3915605-c76c-49cc-bc5f-f39e34851139",
        "colab": {
          "base_uri": "https://localhost:8080/",
          "height": 34
        }
      },
      "cell_type": "code",
      "source": [
        "1 - n_mistakes/total"
      ],
      "execution_count": 38,
      "outputs": [
        {
          "output_type": "execute_result",
          "data": {
            "text/plain": [
              "0.8471299093655589"
            ]
          },
          "metadata": {
            "tags": []
          },
          "execution_count": 38
        }
      ]
    },
    {
      "metadata": {
        "id": "q7I6nMrjxIry",
        "colab_type": "text"
      },
      "cell_type": "markdown",
      "source": [
        "Как видно, совсем незначительное число ошибок удалось исправить таким способом."
      ]
    }
  ]
}