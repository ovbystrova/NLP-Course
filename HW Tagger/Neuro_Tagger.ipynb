{
  "nbformat": 4,
  "nbformat_minor": 0,
  "metadata": {
    "colab": {
      "name": "Neuro-Tegger.ipynb",
      "version": "0.3.2",
      "provenance": [],
      "collapsed_sections": [],
      "toc_visible": true
    },
    "kernelspec": {
      "name": "python3",
      "display_name": "Python 3"
    },
    "accelerator": "GPU"
  },
  "cells": [
    {
      "cell_type": "markdown",
      "metadata": {
        "id": "fR-HqTKq5oef",
        "colab_type": "text"
      },
      "source": [
        "**Задание 2. Тестирование нейронной сети.**"
      ]
    },
    {
      "cell_type": "markdown",
      "metadata": {
        "id": "p1b34y6f511p",
        "colab_type": "text"
      },
      "source": [
        "Во второй части второй тетрадки показано, как обучить нейронную сеть предсказывать морфологические тэги. Однако предсказывается только часть речи и одушевленность. Ваша задача добавить другие категории (лицо, падеж, время и т.д.), а также оценить общее качество полученного тэггера.\n",
        "(ЗАМЕЧАНИЕ: если вы будете добавлять остальные категории так, как это сделано в тетрадке для одушевленности - добавлением отдельного классифицирующего выхода (головы) - у вас получится, что выходы независимы, т.е. предсказать прош. время и вин. падеж - вполне возможно, поэтому не забудьте добавить класс \"пустой категории\", а также сделать простую эвристику на предсказаниях (if tags['POS'] == 'VERB': tags['Case'] = ''. Если вы найдете другой способ решить эту проблему, не забудьте написать об этом в отчете) \n",
        "\n",
        "Критерии оценки:\n",
        "1) добавлены оставшиеся грамматические категории, модель обучена (следите, чтобы лосс снижался, а метрики росли, останавливайте обучение когда лосс и метрики на трейне и валидации начинают сильно расходиться) - 4 балла\n",
        "2) на отложенной выборке (или кросс-валидацией) посчитана метрика, учитывающая сразу все категории (например, как жаккар в первой тетрадке) - 4 балла\n",
        "3) есть исправление несовместимости некоторых категории (эвристикой или как-то более глобально)  - 2 балла"
      ]
    },
    {
      "cell_type": "markdown",
      "metadata": {
        "id": "373VSxhW_IKz",
        "colab_type": "text"
      },
      "source": [
        "# 0. Все загружаем"
      ]
    },
    {
      "cell_type": "code",
      "metadata": {
        "id": "eYxk8Xv15Iz_",
        "colab_type": "code",
        "colab": {}
      },
      "source": [
        "from lxml import etree\n",
        "from collections import defaultdict"
      ],
      "execution_count": 0,
      "outputs": []
    },
    {
      "cell_type": "code",
      "metadata": {
        "id": "j0Hy6JX7-pBL",
        "colab_type": "code",
        "outputId": "8fcd3db6-381b-4fbb-9a7b-5f1a1489b5d1",
        "colab": {
          "base_uri": "https://localhost:8080/",
          "height": 201
        }
      },
      "source": [
        "!wget http://opencorpora.org/files/export/annot/annot.opcorpora.no_ambig_strict.xml.zip"
      ],
      "execution_count": 2,
      "outputs": [
        {
          "output_type": "stream",
          "text": [
            "--2019-05-24 11:09:41--  http://opencorpora.org/files/export/annot/annot.opcorpora.no_ambig_strict.xml.zip\n",
            "Resolving opencorpora.org (opencorpora.org)... 148.251.2.141\n",
            "Connecting to opencorpora.org (opencorpora.org)|148.251.2.141|:80... connected.\n",
            "HTTP request sent, awaiting response... 200 OK\n",
            "Length: 2190887 (2.1M) [application/zip]\n",
            "Saving to: ‘annot.opcorpora.no_ambig_strict.xml.zip.1’\n",
            "\n",
            "\r          annot.opc   0%[                    ]       0  --.-KB/s               \rannot.opcorpora.no_ 100%[===================>]   2.09M  --.-KB/s    in 0.1s    \n",
            "\n",
            "2019-05-24 11:09:41 (20.4 MB/s) - ‘annot.opcorpora.no_ambig_strict.xml.zip.1’ saved [2190887/2190887]\n",
            "\n"
          ],
          "name": "stdout"
        }
      ]
    },
    {
      "cell_type": "code",
      "metadata": {
        "id": "HbDmG1oB-twJ",
        "colab_type": "code",
        "outputId": "8879469a-2056-4797-b56d-542884c6c360",
        "colab": {
          "base_uri": "https://localhost:8080/",
          "height": 50
        }
      },
      "source": [
        "!unzip annot.opcorpora.no_ambig_strict.xml.zip"
      ],
      "execution_count": 3,
      "outputs": [
        {
          "output_type": "stream",
          "text": [
            "Archive:  annot.opcorpora.no_ambig_strict.xml.zip\n",
            "replace annot.opcorpora.no_ambig_strict.xml? [y]es, [n]o, [A]ll, [N]one, [r]ename: N\n"
          ],
          "name": "stdout"
        }
      ]
    },
    {
      "cell_type": "code",
      "metadata": {
        "id": "8VbOUdBk-O0J",
        "colab_type": "code",
        "colab": {}
      },
      "source": [
        "open_corpora = etree.fromstring(open('annot.opcorpora.no_ambig_strict.xml', 'rb').read())\n",
        "corpus = open('corpus_train.txt', 'w')\n",
        "vocab = defaultdict(set)\n",
        "tags = set()\n",
        "\n",
        "for sentence in open_corpora.xpath('//tokens'):\n",
        "    length = len(sentence.xpath('token'))\n",
        "    ended = False\n",
        "    for i,token in enumerate(sentence.xpath('token')):\n",
        "        word = token.xpath('@text')\n",
        "        gram_info = token.xpath('tfr/v/l/g/@v')\n",
        "        \n",
        "        if (i+1)==length and gram_info[0] == 'PNCT':\n",
        "            gram_info = ['SENT']\n",
        "            ended = True\n",
        "        \n",
        "            \n",
        "        corpus.write(word[0] + '\\t' + ','.join(gram_info) + '\\n')\n",
        "        lemma = token.xpath('tfr/v/l/@t')[0]\n",
        "        vocab[word[0].lower()].add((','.join(gram_info), lemma.lower()))\n",
        "        tags.add(','.join(gram_info))\n",
        "    \n",
        "    if not ended:\n",
        "        corpus.write('.\\tSENT\\n')\n",
        "f = open('lexicon.txt', 'w')\n",
        "\n",
        "for word in vocab:\n",
        "    f.write(word + '\\t')\n",
        "    f.write('\\t'.join([' '.join(pair) for pair in vocab[word]]))\n",
        "    f.write('\\n')\n",
        "# f.write('SENT\\tSENT .')\n",
        "f.close()\n",
        "f = open('open_class.txt', 'w')\n",
        "\n",
        "f.write('\\n'.join([tag for tag in tags if 'NOUN' in tag or 'VERB' in tag or 'ADJF' in tag]))\n",
        "f.close()"
      ],
      "execution_count": 0,
      "outputs": []
    },
    {
      "cell_type": "markdown",
      "metadata": {
        "id": "dTCa17L9_Urc",
        "colab_type": "text"
      },
      "source": [
        "# 1. Делаем модель"
      ]
    },
    {
      "cell_type": "code",
      "metadata": {
        "id": "9dW7sVj8_W_t",
        "colab_type": "code",
        "colab": {
          "base_uri": "https://localhost:8080/",
          "height": 33
        },
        "outputId": "214153b2-b7cd-40de-ddde-c5ad6bf60818"
      },
      "source": [
        "import keras\n",
        "from collections import Counter"
      ],
      "execution_count": 5,
      "outputs": [
        {
          "output_type": "stream",
          "text": [
            "Using TensorFlow backend.\n"
          ],
          "name": "stderr"
        }
      ]
    },
    {
      "cell_type": "code",
      "metadata": {
        "id": "cTjGfW8I_cRP",
        "colab_type": "code",
        "colab": {}
      },
      "source": [
        "corpus = []\n",
        "vocab = defaultdict(set)\n",
        "tags = set()\n",
        "\n",
        "for sentence in open_corpora.xpath('//tokens'):\n",
        "    sent = []\n",
        "    for token in sentence.xpath('token'):\n",
        "        word = token.xpath('@text')\n",
        "        gram_info = token.xpath('tfr/v/l/g/@v')\n",
        "        \n",
        "        \n",
        "            \n",
        "        sent.append(word + gram_info)\n",
        "    corpus.append(sent)"
      ],
      "execution_count": 0,
      "outputs": []
    },
    {
      "cell_type": "code",
      "metadata": {
        "id": "EEjJQBXG_h2c",
        "colab_type": "code",
        "outputId": "889c6bad-808e-49ef-f9d1-5cfae6e42dcc",
        "colab": {
          "base_uri": "https://localhost:8080/",
          "height": 134
        }
      },
      "source": [
        "corpus[0]"
      ],
      "execution_count": 7,
      "outputs": [
        {
          "output_type": "execute_result",
          "data": {
            "text/plain": [
              "[['«', 'PNCT'],\n",
              " ['Школа', 'NOUN', 'inan', 'femn', 'sing', 'nomn'],\n",
              " ['злословия', 'NOUN', 'inan', 'neut', 'sing', 'gent'],\n",
              " ['»', 'PNCT'],\n",
              " ['учит', 'VERB', 'impf', 'tran', 'sing', '3per', 'pres', 'indc'],\n",
              " ['прикусить', 'INFN', 'perf', 'tran'],\n",
              " ['язык', 'NOUN', 'inan', 'masc', 'sing', 'accs']]"
            ]
          },
          "metadata": {
            "tags": []
          },
          "execution_count": 7
        }
      ]
    },
    {
      "cell_type": "code",
      "metadata": {
        "id": "EVWgBO2DCRFa",
        "colab_type": "code",
        "outputId": "36fddd86-0f89-40ee-8097-83d36205967b",
        "colab": {
          "base_uri": "https://localhost:8080/",
          "height": 33
        }
      },
      "source": [
        "#Отложим часть для будущей метрики. \n",
        "metric_corpus = corpus[int(len(corpus)*0.97):]\n",
        "corpus = corpus[:int(len(corpus)*0.97)]\n",
        "len(corpus), len(metric_corpus)"
      ],
      "execution_count": 8,
      "outputs": [
        {
          "output_type": "execute_result",
          "data": {
            "text/plain": [
              "(10272, 318)"
            ]
          },
          "metadata": {
            "tags": []
          },
          "execution_count": 8
        }
      ]
    },
    {
      "cell_type": "markdown",
      "metadata": {
        "id": "wDrSRunAAU5i",
        "colab_type": "text"
      },
      "source": [
        "**Далее добавляются следующие категории:**: лицо, падеж, время, число, переходность.\n",
        "\n"
      ]
    },
    {
      "cell_type": "markdown",
      "metadata": {
        "id": "a2f8gPlDBJ8r",
        "colab_type": "text"
      },
      "source": [
        "## Создаем словари для признаков"
      ]
    },
    {
      "cell_type": "code",
      "metadata": {
        "id": "doYzhQ-4BOiI",
        "colab_type": "code",
        "outputId": "46e463ab-6036-4695-d96f-f6fbdadad42b",
        "colab": {
          "base_uri": "https://localhost:8080/",
          "height": 33
        }
      },
      "source": [
        "vocab = Counter()\n",
        "poses = Counter()\n",
        "\n",
        "for sent in corpus:\n",
        "  for word, pos, *tags in sent:\n",
        "    vocab[word.lower()] += 1\n",
        "    poses[pos] += 1\n",
        "vocab = {word for word,c in vocab.most_common() if c > 3}\n",
        "\n",
        "len(vocab), len(poses)"
      ],
      "execution_count": 9,
      "outputs": [
        {
          "output_type": "execute_result",
          "data": {
            "text/plain": [
              "(2122, 22)"
            ]
          },
          "metadata": {
            "tags": []
          },
          "execution_count": 9
        }
      ]
    },
    {
      "cell_type": "code",
      "metadata": {
        "id": "IllF6saYB3z7",
        "colab_type": "code",
        "colab": {}
      },
      "source": [
        "#Просто слова\n",
        "id2word = {i+2:word for i, word in enumerate(vocab)}\n",
        "id2word[0] = '<PAD>'\n",
        "id2word[1] = '<UNK>'\n",
        "word2id = {word:i for i, word in id2word.items()}"
      ],
      "execution_count": 0,
      "outputs": []
    },
    {
      "cell_type": "code",
      "metadata": {
        "id": "rR-6ugdSB8A4",
        "colab_type": "code",
        "colab": {}
      },
      "source": [
        "#Часть речи\n",
        "id2pos = {i+1:pos for i, pos in enumerate(poses)}\n",
        "id2pos[0] = '<PAD>'\n",
        "pos2id = {pos:i for i, pos in id2pos.items()}"
      ],
      "execution_count": 0,
      "outputs": []
    },
    {
      "cell_type": "code",
      "metadata": {
        "id": "JUMbCseUB-Gd",
        "colab_type": "code",
        "colab": {}
      },
      "source": [
        "#Одушевленность\n",
        "id2anim = {1:'NONE', 2:'anim', 3:'inan'}\n",
        "id2anim[0] = '<PAD>'\n",
        "anim2id = {tag:i for i, tag in id2anim.items()}"
      ],
      "execution_count": 0,
      "outputs": []
    },
    {
      "cell_type": "code",
      "metadata": {
        "id": "zwpgrNmxCAWA",
        "colab_type": "code",
        "colab": {}
      },
      "source": [
        "#Ссылка на тэги: http://opencorpora.org/dict.php?act=gram\n",
        "#Лицо\n",
        "id2face = {1:'NONE', 2:'masc', 3:'femn', 4:'neut', 5:'ms-f'}\n",
        "id2face[0] = '<PAD>'\n",
        "face2id = {tag:i for i, tag in id2face.items()}"
      ],
      "execution_count": 0,
      "outputs": []
    },
    {
      "cell_type": "code",
      "metadata": {
        "id": "Ei4HD090Cu1o",
        "colab_type": "code",
        "colab": {}
      },
      "source": [
        "#Падеж\n",
        "id2case = {1:'NONE', 2:'nomn', 3:'gent', 4:'datv', \n",
        "           5:'accs', 6:'ablt', 7:'loct'}\n",
        "id2case[0] = '<PAD>'\n",
        "case2id = {tag:i for i, tag in id2case.items()}"
      ],
      "execution_count": 0,
      "outputs": []
    },
    {
      "cell_type": "code",
      "metadata": {
        "id": "v9wcOmYbDQA3",
        "colab_type": "code",
        "colab": {}
      },
      "source": [
        "#Число\n",
        "id2num = {1:'NONE', 2:'sing', 3:'plur'}\n",
        "id2num[0] = '<PAD>'\n",
        "num2id = {tag:i for i, tag in id2num.items()}"
      ],
      "execution_count": 0,
      "outputs": []
    },
    {
      "cell_type": "code",
      "metadata": {
        "id": "92syL7M9DdSL",
        "colab_type": "code",
        "colab": {}
      },
      "source": [
        "#Переходность\n",
        "id2tran = {1:'NONE', 2:'tran', 3:'intr'}\n",
        "id2tran[0] = '<PAD>'\n",
        "tran2id = {tag:i for i, tag in id2tran.items()}"
      ],
      "execution_count": 0,
      "outputs": []
    },
    {
      "cell_type": "code",
      "metadata": {
        "id": "OPIkSj-GEH7-",
        "colab_type": "code",
        "colab": {}
      },
      "source": [
        "sents_ids = []\n",
        "poses_ids = []\n",
        "anim_ids = []\n",
        "face_ids = []\n",
        "case_ids = []\n",
        "num_ids = []\n",
        "tran_ids = []\n",
        "\n",
        "for sent in corpus:\n",
        "    sents_ids.append([word2id.get(word.lower(), 1) for word, *_ in sent])\n",
        "    poses_ids.append([pos2id[tag] for word, tag, *_ in sent])\n",
        "    \n",
        "    anim_ids_sent = []\n",
        "    face_ids_sent = []\n",
        "    case_ids_sent = []\n",
        "    num_ids_sent = []\n",
        "    tran_ids_sent = []   \n",
        "    \n",
        "    \n",
        "    for word, pos, *tags in sent:\n",
        "      anim_tag, face_tag, case_tag, num_tag, tran_tag = 1, 1, 1, 1, 1\n",
        "      for tag in tags:\n",
        "        \n",
        "        if tag in anim2id:\n",
        "          anim_tag = anim2id[tag]\n",
        "        if tag in face2id:\n",
        "          face_tag = face2id[tag]\n",
        "        if tag in case2id:\n",
        "          case_tag = case2id[tag]\n",
        "        if tag in num2id:\n",
        "          num_tag = num2id[tag]\n",
        "        if tag in tran2id:\n",
        "          tran_tag = tran2id[tag]\n",
        "      \n",
        "      if pos == 'VERB':\n",
        "        anim_tag = 1\n",
        "        case_tag = 1\n",
        "      elif pos == \"NOUN\":\n",
        "        tran_tag = 1\n",
        "      elif pos == \"PNCT\" or pos == \"ADV\":\n",
        "        anim_tag, face_tage, case_tag, num_tag, tran_tag = 1, 1, 1, 1, 1\n",
        "      elif pos == \"ADJF\":\n",
        "        tran_tag, anim_tag == 1\n",
        "      \n",
        "      anim_ids_sent.append(anim_tag)\n",
        "      face_ids_sent.append(face_tag)\n",
        "      case_ids_sent.append(case_tag)\n",
        "      num_ids_sent.append(num_tag)\n",
        "      tran_ids_sent.append(tran_tag)\n",
        "    anim_ids.append(anim_ids_sent)\n",
        "    face_ids.append(face_ids_sent)\n",
        "    case_ids.append(case_ids_sent)\n",
        "    num_ids.append(num_ids_sent)\n",
        "    tran_ids.append(tran_ids_sent)"
      ],
      "execution_count": 0,
      "outputs": []
    },
    {
      "cell_type": "markdown",
      "metadata": {
        "id": "VNP09x-iGs0B",
        "colab_type": "text"
      },
      "source": [
        "## Подготавливаем модель"
      ]
    },
    {
      "cell_type": "code",
      "metadata": {
        "id": "WpB1dH9-GPBP",
        "colab_type": "code",
        "colab": {}
      },
      "source": [
        "from keras.preprocessing.sequence import pad_sequences\n",
        "from sklearn.model_selection import train_test_split\n",
        "from keras.models import Model\n",
        "from keras.layers import Dense, LSTM, Input, Bidirectional, TimeDistributed, Embedding, Activation\n",
        "from keras.optimizers import Adam"
      ],
      "execution_count": 0,
      "outputs": []
    },
    {
      "cell_type": "code",
      "metadata": {
        "id": "HVA4Zi1ZGGse",
        "colab_type": "code",
        "colab": {}
      },
      "source": [
        "MAX_LENGTH = 10\n",
        "sents_ids_padded = pad_sequences(sents_ids, maxlen=MAX_LENGTH, padding='post',  truncating='post')\n",
        "poses_ids_padded = pad_sequences(poses_ids, maxlen=MAX_LENGTH, padding='post',  truncating='post')\n",
        "anim_ids_padded = pad_sequences(anim_ids, maxlen=MAX_LENGTH, padding='post',  truncating='post')\n",
        "face_ids_padded = pad_sequences(face_ids, maxlen=MAX_LENGTH, padding='post',  truncating='post')\n",
        "case_ids_padded = pad_sequences(case_ids, maxlen=MAX_LENGTH, padding='post',  truncating='post')\n",
        "num_ids_padded = pad_sequences(num_ids, maxlen=MAX_LENGTH, padding='post',  truncating='post')\n",
        "tran_ids_padded = pad_sequences(tran_ids, maxlen=MAX_LENGTH, padding='post',  truncating='post')"
      ],
      "execution_count": 0,
      "outputs": []
    },
    {
      "cell_type": "code",
      "metadata": {
        "id": "1FUGAGYsGzkP",
        "colab_type": "code",
        "colab": {}
      },
      "source": [
        "train_index, test_index = train_test_split(list(range(sents_ids_padded.shape[0])),test_size=0.2)"
      ],
      "execution_count": 0,
      "outputs": []
    },
    {
      "cell_type": "code",
      "metadata": {
        "id": "bkYCwjGzG5WE",
        "colab_type": "code",
        "colab": {}
      },
      "source": [
        "train_sents, test_sents = sents_ids_padded[train_index], sents_ids_padded[test_index]\n",
        "train_pos, test_pos = poses_ids_padded[train_index], poses_ids_padded[test_index]\n",
        "train_anim, test_anim = anim_ids_padded[train_index], anim_ids_padded[test_index]\n",
        "train_face, test_face = face_ids_padded[train_index], face_ids_padded[test_index]\n",
        "train_case, test_case = case_ids_padded[train_index], case_ids_padded[test_index]\n",
        "train_num, test_num = num_ids_padded[train_index], num_ids_padded[test_index]\n",
        "train_tran, test_tran = tran_ids_padded[train_index], tran_ids_padded[test_index]"
      ],
      "execution_count": 0,
      "outputs": []
    },
    {
      "cell_type": "code",
      "metadata": {
        "id": "WOnfl1eBHNQ9",
        "colab_type": "code",
        "colab": {
          "base_uri": "https://localhost:8080/",
          "height": 87
        },
        "outputId": "e41d511a-2d4f-48af-b964-3c2fcb31a742"
      },
      "source": [
        "inp = Input(shape=(MAX_LENGTH, ))\n",
        "# создаем эбмеддинги размерностью 8\n",
        "x = Embedding(len(word2id), 8)(inp)\n",
        "\n",
        "# пропускаем эмбединги через LSTM, чтобы модель учитывала контекст\n",
        "x = LSTM(20, return_sequences=True)(x)\n",
        "\n",
        "# каждый выход - последовательность классов\n",
        "pos = TimeDistributed(Dense(len(pos2id), activation='softmax'))(x)\n",
        "anim = TimeDistributed(Dense(len(anim2id), activation='softmax'))(x)\n",
        "face = TimeDistributed(Dense(len(face2id), activation='softmax'))(x)\n",
        "case = TimeDistributed(Dense(len(case2id), activation='softmax'))(x)\n",
        "num = TimeDistributed(Dense(len(num2id), activation='softmax'))(x)\n",
        "tran = TimeDistributed(Dense(len(tran2id), activation='softmax'))(x)\n",
        "\n",
        " \n",
        "model = Model(inputs=inp, outputs=[pos, anim, face, case, num, tran], \n",
        "           )\n",
        " \n",
        "model.compile(loss='categorical_crossentropy',\n",
        "              optimizer='adam',\n",
        "              metrics=['accuracy'])"
      ],
      "execution_count": 22,
      "outputs": [
        {
          "output_type": "stream",
          "text": [
            "WARNING:tensorflow:From /usr/local/lib/python3.6/dist-packages/tensorflow/python/framework/op_def_library.py:263: colocate_with (from tensorflow.python.framework.ops) is deprecated and will be removed in a future version.\n",
            "Instructions for updating:\n",
            "Colocations handled automatically by placer.\n"
          ],
          "name": "stdout"
        }
      ]
    },
    {
      "cell_type": "code",
      "metadata": {
        "id": "8v7ah3-nKjHg",
        "colab_type": "code",
        "colab": {}
      },
      "source": [
        "from keras.utils import to_categorical"
      ],
      "execution_count": 0,
      "outputs": []
    },
    {
      "cell_type": "code",
      "metadata": {
        "id": "btId5NtxKmjE",
        "colab_type": "code",
        "outputId": "c572bc30-f3da-4812-ca82-05288ce11583",
        "colab": {
          "base_uri": "https://localhost:8080/",
          "height": 5138
        }
      },
      "source": [
        "model.fit(x=train_sents, \n",
        "        y=[to_categorical(train_pos), to_categorical(train_anim), to_categorical(train_face), to_categorical(train_case),\n",
        "          to_categorical(train_num), to_categorical(train_tran)], \n",
        "          batch_size=128, epochs=150, validation_split=0.2)"
      ],
      "execution_count": 24,
      "outputs": [
        {
          "output_type": "stream",
          "text": [
            "WARNING:tensorflow:From /usr/local/lib/python3.6/dist-packages/tensorflow/python/ops/math_ops.py:3066: to_int32 (from tensorflow.python.ops.math_ops) is deprecated and will be removed in a future version.\n",
            "Instructions for updating:\n",
            "Use tf.cast instead.\n",
            "Train on 6573 samples, validate on 1644 samples\n",
            "Epoch 1/150\n",
            "6573/6573 [==============================] - 3s 496us/step - loss: 10.7121 - time_distributed_1_loss: 3.0527 - time_distributed_2_loss: 1.3280 - time_distributed_3_loss: 1.7407 - time_distributed_4_loss: 1.9815 - time_distributed_5_loss: 1.3407 - time_distributed_6_loss: 1.2685 - time_distributed_1_acc: 0.3638 - time_distributed_2_acc: 0.4287 - time_distributed_3_acc: 0.2907 - time_distributed_4_acc: 0.3704 - time_distributed_5_acc: 0.4134 - time_distributed_6_acc: 0.4307 - val_loss: 9.5721 - val_time_distributed_1_loss: 2.8192 - val_time_distributed_2_loss: 1.1923 - val_time_distributed_3_loss: 1.6042 - val_time_distributed_4_loss: 1.7169 - val_time_distributed_5_loss: 1.2084 - val_time_distributed_6_loss: 1.0311 - val_time_distributed_1_acc: 0.4835 - val_time_distributed_2_acc: 0.4333 - val_time_distributed_3_acc: 0.3262 - val_time_distributed_4_acc: 0.4310 - val_time_distributed_5_acc: 0.4310 - val_time_distributed_6_acc: 0.4313\n",
            "Epoch 2/150\n",
            "6573/6573 [==============================] - 1s 210us/step - loss: 8.2545 - time_distributed_1_loss: 2.3018 - time_distributed_2_loss: 1.0540 - time_distributed_3_loss: 1.3730 - time_distributed_4_loss: 1.4736 - time_distributed_5_loss: 1.1359 - time_distributed_6_loss: 0.9162 - time_distributed_1_acc: 0.4425 - time_distributed_2_acc: 0.4963 - time_distributed_3_acc: 0.4163 - time_distributed_4_acc: 0.4314 - time_distributed_5_acc: 0.4396 - time_distributed_6_acc: 0.5560 - val_loss: 7.4098 - val_time_distributed_1_loss: 1.9735 - val_time_distributed_2_loss: 0.9493 - val_time_distributed_3_loss: 1.2318 - val_time_distributed_4_loss: 1.3528 - val_time_distributed_5_loss: 1.0646 - val_time_distributed_6_loss: 0.8379 - val_time_distributed_1_acc: 0.4310 - val_time_distributed_2_acc: 0.6592 - val_time_distributed_3_acc: 0.4359 - val_time_distributed_4_acc: 0.4468 - val_time_distributed_5_acc: 0.4856 - val_time_distributed_6_acc: 0.7574\n",
            "Epoch 3/150\n",
            "6573/6573 [==============================] - 1s 210us/step - loss: 6.7654 - time_distributed_1_loss: 1.8543 - time_distributed_2_loss: 0.8248 - time_distributed_3_loss: 1.1441 - time_distributed_4_loss: 1.2486 - time_distributed_5_loss: 0.9685 - time_distributed_6_loss: 0.7251 - time_distributed_1_acc: 0.4366 - time_distributed_2_acc: 0.7390 - time_distributed_3_acc: 0.5292 - time_distributed_4_acc: 0.5083 - time_distributed_5_acc: 0.5393 - time_distributed_6_acc: 0.8409 - val_loss: 6.2132 - val_time_distributed_1_loss: 1.7285 - val_time_distributed_2_loss: 0.7383 - val_time_distributed_3_loss: 1.0705 - val_time_distributed_4_loss: 1.1603 - val_time_distributed_5_loss: 0.8871 - val_time_distributed_6_loss: 0.6285 - val_time_distributed_1_acc: 0.4521 - val_time_distributed_2_acc: 0.7669 - val_time_distributed_3_acc: 0.6061 - val_time_distributed_4_acc: 0.6175 - val_time_distributed_5_acc: 0.5898 - val_time_distributed_6_acc: 0.8783\n",
            "Epoch 4/150\n",
            "6573/6573 [==============================] - 1s 207us/step - loss: 5.7673 - time_distributed_1_loss: 1.6279 - time_distributed_2_loss: 0.6763 - time_distributed_3_loss: 0.9982 - time_distributed_4_loss: 1.0875 - time_distributed_5_loss: 0.8274 - time_distributed_6_loss: 0.5500 - time_distributed_1_acc: 0.4743 - time_distributed_2_acc: 0.7774 - time_distributed_3_acc: 0.6654 - time_distributed_4_acc: 0.6797 - time_distributed_5_acc: 0.6241 - time_distributed_6_acc: 0.8859 - val_loss: 5.4146 - val_time_distributed_1_loss: 1.5397 - val_time_distributed_2_loss: 0.6400 - val_time_distributed_3_loss: 0.9328 - val_time_distributed_4_loss: 1.0323 - val_time_distributed_5_loss: 0.7757 - val_time_distributed_6_loss: 0.4942 - val_time_distributed_1_acc: 0.4908 - val_time_distributed_2_acc: 0.7833 - val_time_distributed_3_acc: 0.7035 - val_time_distributed_4_acc: 0.7063 - val_time_distributed_5_acc: 0.6453 - val_time_distributed_6_acc: 0.8993\n",
            "Epoch 5/150\n",
            "6573/6573 [==============================] - 1s 210us/step - loss: 5.0934 - time_distributed_1_loss: 1.4787 - time_distributed_2_loss: 0.5938 - time_distributed_3_loss: 0.8670 - time_distributed_4_loss: 0.9782 - time_distributed_5_loss: 0.7327 - time_distributed_6_loss: 0.4430 - time_distributed_1_acc: 0.5107 - time_distributed_2_acc: 0.7930 - time_distributed_3_acc: 0.7285 - time_distributed_4_acc: 0.7227 - time_distributed_5_acc: 0.6616 - time_distributed_6_acc: 0.9072 - val_loss: 4.8681 - val_time_distributed_1_loss: 1.4200 - val_time_distributed_2_loss: 0.5744 - val_time_distributed_3_loss: 0.8223 - val_time_distributed_4_loss: 0.9420 - val_time_distributed_5_loss: 0.6962 - val_time_distributed_6_loss: 0.4131 - val_time_distributed_1_acc: 0.5288 - val_time_distributed_2_acc: 0.7972 - val_time_distributed_3_acc: 0.7338 - val_time_distributed_4_acc: 0.7294 - val_time_distributed_5_acc: 0.6691 - val_time_distributed_6_acc: 0.9120\n",
            "Epoch 6/150\n",
            "6573/6573 [==============================] - 1s 208us/step - loss: 4.6641 - time_distributed_1_loss: 1.3794 - time_distributed_2_loss: 0.5434 - time_distributed_3_loss: 0.7819 - time_distributed_4_loss: 0.9063 - time_distributed_5_loss: 0.6717 - time_distributed_6_loss: 0.3815 - time_distributed_1_acc: 0.6016 - time_distributed_2_acc: 0.8028 - time_distributed_3_acc: 0.7414 - time_distributed_4_acc: 0.7382 - time_distributed_5_acc: 0.6770 - time_distributed_6_acc: 0.9156 - val_loss: 4.5323 - val_time_distributed_1_loss: 1.3396 - val_time_distributed_2_loss: 0.5349 - val_time_distributed_3_loss: 0.7591 - val_time_distributed_4_loss: 0.8838 - val_time_distributed_5_loss: 0.6483 - val_time_distributed_6_loss: 0.3665 - val_time_distributed_1_acc: 0.6471 - val_time_distributed_2_acc: 0.8033 - val_time_distributed_3_acc: 0.7398 - val_time_distributed_4_acc: 0.7415 - val_time_distributed_5_acc: 0.6832 - val_time_distributed_6_acc: 0.9177\n",
            "Epoch 7/150\n",
            "6573/6573 [==============================] - 1s 211us/step - loss: 4.3944 - time_distributed_1_loss: 1.3146 - time_distributed_2_loss: 0.5114 - time_distributed_3_loss: 0.7332 - time_distributed_4_loss: 0.8579 - time_distributed_5_loss: 0.6330 - time_distributed_6_loss: 0.3443 - time_distributed_1_acc: 0.6520 - time_distributed_2_acc: 0.8102 - time_distributed_3_acc: 0.7475 - time_distributed_4_acc: 0.7475 - time_distributed_5_acc: 0.6911 - time_distributed_6_acc: 0.9226 - val_loss: 4.3024 - val_time_distributed_1_loss: 1.2844 - val_time_distributed_2_loss: 0.5062 - val_time_distributed_3_loss: 0.7192 - val_time_distributed_4_loss: 0.8427 - val_time_distributed_5_loss: 0.6142 - val_time_distributed_6_loss: 0.3357 - val_time_distributed_1_acc: 0.6619 - val_time_distributed_2_acc: 0.8106 - val_time_distributed_3_acc: 0.7449 - val_time_distributed_4_acc: 0.7487 - val_time_distributed_5_acc: 0.6941 - val_time_distributed_6_acc: 0.9244\n",
            "Epoch 8/150\n",
            "6573/6573 [==============================] - 1s 211us/step - loss: 4.1931 - time_distributed_1_loss: 1.2654 - time_distributed_2_loss: 0.4863 - time_distributed_3_loss: 0.6995 - time_distributed_4_loss: 0.8206 - time_distributed_5_loss: 0.6026 - time_distributed_6_loss: 0.3187 - time_distributed_1_acc: 0.6652 - time_distributed_2_acc: 0.8150 - time_distributed_3_acc: 0.7528 - time_distributed_4_acc: 0.7530 - time_distributed_5_acc: 0.7108 - time_distributed_6_acc: 0.9286 - val_loss: 4.1128 - val_time_distributed_1_loss: 1.2378 - val_time_distributed_2_loss: 0.4815 - val_time_distributed_3_loss: 0.6881 - val_time_distributed_4_loss: 0.8072 - val_time_distributed_5_loss: 0.5843 - val_time_distributed_6_loss: 0.3140 - val_time_distributed_1_acc: 0.6741 - val_time_distributed_2_acc: 0.8144 - val_time_distributed_3_acc: 0.7503 - val_time_distributed_4_acc: 0.7533 - val_time_distributed_5_acc: 0.7192 - val_time_distributed_6_acc: 0.9290\n",
            "Epoch 9/150\n",
            "6573/6573 [==============================] - 1s 206us/step - loss: 4.0057 - time_distributed_1_loss: 1.2178 - time_distributed_2_loss: 0.4627 - time_distributed_3_loss: 0.6694 - time_distributed_4_loss: 0.7851 - time_distributed_5_loss: 0.5706 - time_distributed_6_loss: 0.3001 - time_distributed_1_acc: 0.6874 - time_distributed_2_acc: 0.8175 - time_distributed_3_acc: 0.7555 - time_distributed_4_acc: 0.7562 - time_distributed_5_acc: 0.7387 - time_distributed_6_acc: 0.9314 - val_loss: 3.9100 - val_time_distributed_1_loss: 1.1861 - val_time_distributed_2_loss: 0.4558 - val_time_distributed_3_loss: 0.6550 - val_time_distributed_4_loss: 0.7695 - val_time_distributed_5_loss: 0.5477 - val_time_distributed_6_loss: 0.2960 - val_time_distributed_1_acc: 0.7094 - val_time_distributed_2_acc: 0.8173 - val_time_distributed_3_acc: 0.7513 - val_time_distributed_4_acc: 0.7557 - val_time_distributed_5_acc: 0.7654 - val_time_distributed_6_acc: 0.9324\n",
            "Epoch 10/150\n",
            "6573/6573 [==============================] - 1s 206us/step - loss: 3.7817 - time_distributed_1_loss: 1.1615 - time_distributed_2_loss: 0.4344 - time_distributed_3_loss: 0.6334 - time_distributed_4_loss: 0.7432 - time_distributed_5_loss: 0.5255 - time_distributed_6_loss: 0.2837 - time_distributed_1_acc: 0.7158 - time_distributed_2_acc: 0.8196 - time_distributed_3_acc: 0.7560 - time_distributed_4_acc: 0.7576 - time_distributed_5_acc: 0.7825 - time_distributed_6_acc: 0.9338 - val_loss: 3.6527 - val_time_distributed_1_loss: 1.1244 - val_time_distributed_2_loss: 0.4235 - val_time_distributed_3_loss: 0.6123 - val_time_distributed_4_loss: 0.7215 - val_time_distributed_5_loss: 0.4921 - val_time_distributed_6_loss: 0.2789 - val_time_distributed_1_acc: 0.7241 - val_time_distributed_2_acc: 0.8190 - val_time_distributed_3_acc: 0.7521 - val_time_distributed_4_acc: 0.7567 - val_time_distributed_5_acc: 0.8218 - val_time_distributed_6_acc: 0.9339\n",
            "Epoch 11/150\n",
            "6573/6573 [==============================] - 2s 247us/step - loss: 3.5029 - time_distributed_1_loss: 1.0989 - time_distributed_2_loss: 0.3995 - time_distributed_3_loss: 0.5862 - time_distributed_4_loss: 0.6904 - time_distributed_5_loss: 0.4604 - time_distributed_6_loss: 0.2674 - time_distributed_1_acc: 0.7259 - time_distributed_2_acc: 0.8235 - time_distributed_3_acc: 0.7566 - time_distributed_4_acc: 0.7587 - time_distributed_5_acc: 0.8405 - time_distributed_6_acc: 0.9343 - val_loss: 3.3657 - val_time_distributed_1_loss: 1.0627 - val_time_distributed_2_loss: 0.3880 - val_time_distributed_3_loss: 0.5620 - val_time_distributed_4_loss: 0.6670 - val_time_distributed_5_loss: 0.4232 - val_time_distributed_6_loss: 0.2629 - val_time_distributed_1_acc: 0.7290 - val_time_distributed_2_acc: 0.8317 - val_time_distributed_3_acc: 0.7554 - val_time_distributed_4_acc: 0.7603 - val_time_distributed_5_acc: 0.8574 - val_time_distributed_6_acc: 0.9341\n",
            "Epoch 12/150\n",
            "6573/6573 [==============================] - 2s 250us/step - loss: 3.2451 - time_distributed_1_loss: 1.0388 - time_distributed_2_loss: 0.3680 - time_distributed_3_loss: 0.5418 - time_distributed_4_loss: 0.6410 - time_distributed_5_loss: 0.4002 - time_distributed_6_loss: 0.2554 - time_distributed_1_acc: 0.7287 - time_distributed_2_acc: 0.8387 - time_distributed_3_acc: 0.7604 - time_distributed_4_acc: 0.7639 - time_distributed_5_acc: 0.8613 - time_distributed_6_acc: 0.9344 - val_loss: 3.1460 - val_time_distributed_1_loss: 1.0047 - val_time_distributed_2_loss: 0.3618 - val_time_distributed_3_loss: 0.5236 - val_time_distributed_4_loss: 0.6261 - val_time_distributed_5_loss: 0.3765 - val_time_distributed_6_loss: 0.2534 - val_time_distributed_1_acc: 0.7302 - val_time_distributed_2_acc: 0.8392 - val_time_distributed_3_acc: 0.7633 - val_time_distributed_4_acc: 0.7674 - val_time_distributed_5_acc: 0.8673 - val_time_distributed_6_acc: 0.9342\n",
            "Epoch 13/150\n",
            "6573/6573 [==============================] - 2s 250us/step - loss: 3.0530 - time_distributed_1_loss: 0.9821 - time_distributed_2_loss: 0.3452 - time_distributed_3_loss: 0.5081 - time_distributed_4_loss: 0.6060 - time_distributed_5_loss: 0.3630 - time_distributed_6_loss: 0.2487 - time_distributed_1_acc: 0.7300 - time_distributed_2_acc: 0.8454 - time_distributed_3_acc: 0.7731 - time_distributed_4_acc: 0.7738 - time_distributed_5_acc: 0.8691 - time_distributed_6_acc: 0.9344 - val_loss: 2.9866 - val_time_distributed_1_loss: 0.9521 - val_time_distributed_2_loss: 0.3433 - val_time_distributed_3_loss: 0.4964 - val_time_distributed_4_loss: 0.5977 - val_time_distributed_5_loss: 0.3490 - val_time_distributed_6_loss: 0.2481 - val_time_distributed_1_acc: 0.7314 - val_time_distributed_2_acc: 0.8466 - val_time_distributed_3_acc: 0.7755 - val_time_distributed_4_acc: 0.7771 - val_time_distributed_5_acc: 0.8762 - val_time_distributed_6_acc: 0.9344\n",
            "Epoch 14/150\n",
            "6573/6573 [==============================] - 2s 251us/step - loss: 2.9118 - time_distributed_1_loss: 0.9343 - time_distributed_2_loss: 0.3280 - time_distributed_3_loss: 0.4835 - time_distributed_4_loss: 0.5808 - time_distributed_5_loss: 0.3401 - time_distributed_6_loss: 0.2451 - time_distributed_1_acc: 0.7361 - time_distributed_2_acc: 0.8535 - time_distributed_3_acc: 0.7813 - time_distributed_4_acc: 0.7830 - time_distributed_5_acc: 0.8763 - time_distributed_6_acc: 0.9344 - val_loss: 2.8673 - val_time_distributed_1_loss: 0.9105 - val_time_distributed_2_loss: 0.3286 - val_time_distributed_3_loss: 0.4757 - val_time_distributed_4_loss: 0.5765 - val_time_distributed_5_loss: 0.3306 - val_time_distributed_6_loss: 0.2453 - val_time_distributed_1_acc: 0.7504 - val_time_distributed_2_acc: 0.8533 - val_time_distributed_3_acc: 0.7850 - val_time_distributed_4_acc: 0.7851 - val_time_distributed_5_acc: 0.8783 - val_time_distributed_6_acc: 0.9344\n",
            "Epoch 15/150\n",
            "6573/6573 [==============================] - 2s 249us/step - loss: 2.8041 - time_distributed_1_loss: 0.8956 - time_distributed_2_loss: 0.3141 - time_distributed_3_loss: 0.4646 - time_distributed_4_loss: 0.5614 - time_distributed_5_loss: 0.3252 - time_distributed_6_loss: 0.2433 - time_distributed_1_acc: 0.7600 - time_distributed_2_acc: 0.8599 - time_distributed_3_acc: 0.7891 - time_distributed_4_acc: 0.7919 - time_distributed_5_acc: 0.8786 - time_distributed_6_acc: 0.9344 - val_loss: 2.7751 - val_time_distributed_1_loss: 0.8762 - val_time_distributed_2_loss: 0.3164 - val_time_distributed_3_loss: 0.4603 - val_time_distributed_4_loss: 0.5592 - val_time_distributed_5_loss: 0.3189 - val_time_distributed_6_loss: 0.2441 - val_time_distributed_1_acc: 0.7672 - val_time_distributed_2_acc: 0.8609 - val_time_distributed_3_acc: 0.7904 - val_time_distributed_4_acc: 0.7910 - val_time_distributed_5_acc: 0.8804 - val_time_distributed_6_acc: 0.9344\n",
            "Epoch 16/150\n",
            "6573/6573 [==============================] - 2s 250us/step - loss: 2.7184 - time_distributed_1_loss: 0.8621 - time_distributed_2_loss: 0.3026 - time_distributed_3_loss: 0.4509 - time_distributed_4_loss: 0.5458 - time_distributed_5_loss: 0.3148 - time_distributed_6_loss: 0.2422 - time_distributed_1_acc: 0.7680 - time_distributed_2_acc: 0.8657 - time_distributed_3_acc: 0.7944 - time_distributed_4_acc: 0.8002 - time_distributed_5_acc: 0.8790 - time_distributed_6_acc: 0.9344 - val_loss: 2.6974 - val_time_distributed_1_loss: 0.8443 - val_time_distributed_2_loss: 0.3066 - val_time_distributed_3_loss: 0.4492 - val_time_distributed_4_loss: 0.5441 - val_time_distributed_5_loss: 0.3103 - val_time_distributed_6_loss: 0.2428 - val_time_distributed_1_acc: 0.7731 - val_time_distributed_2_acc: 0.8651 - val_time_distributed_3_acc: 0.7945 - val_time_distributed_4_acc: 0.8021 - val_time_distributed_5_acc: 0.8812 - val_time_distributed_6_acc: 0.9344\n",
            "Epoch 17/150\n",
            "6573/6573 [==============================] - 1s 224us/step - loss: 2.6445 - time_distributed_1_loss: 0.8307 - time_distributed_2_loss: 0.2930 - time_distributed_3_loss: 0.4409 - time_distributed_4_loss: 0.5316 - time_distributed_5_loss: 0.3072 - time_distributed_6_loss: 0.2410 - time_distributed_1_acc: 0.7755 - time_distributed_2_acc: 0.8693 - time_distributed_3_acc: 0.7981 - time_distributed_4_acc: 0.8037 - time_distributed_5_acc: 0.8791 - time_distributed_6_acc: 0.9344 - val_loss: 2.6292 - val_time_distributed_1_loss: 0.8152 - val_time_distributed_2_loss: 0.2976 - val_time_distributed_3_loss: 0.4403 - val_time_distributed_4_loss: 0.5307 - val_time_distributed_5_loss: 0.3040 - val_time_distributed_6_loss: 0.2413 - val_time_distributed_1_acc: 0.7841 - val_time_distributed_2_acc: 0.8700 - val_time_distributed_3_acc: 0.7950 - val_time_distributed_4_acc: 0.8035 - val_time_distributed_5_acc: 0.8810 - val_time_distributed_6_acc: 0.9343\n",
            "Epoch 18/150\n",
            "6573/6573 [==============================] - 1s 209us/step - loss: 2.5769 - time_distributed_1_loss: 0.8008 - time_distributed_2_loss: 0.2847 - time_distributed_3_loss: 0.4330 - time_distributed_4_loss: 0.5187 - time_distributed_5_loss: 0.3011 - time_distributed_6_loss: 0.2386 - time_distributed_1_acc: 0.7834 - time_distributed_2_acc: 0.8736 - time_distributed_3_acc: 0.8001 - time_distributed_4_acc: 0.8055 - time_distributed_5_acc: 0.8795 - time_distributed_6_acc: 0.9344 - val_loss: 2.5658 - val_time_distributed_1_loss: 0.7864 - val_time_distributed_2_loss: 0.2905 - val_time_distributed_3_loss: 0.4336 - val_time_distributed_4_loss: 0.5185 - val_time_distributed_5_loss: 0.2989 - val_time_distributed_6_loss: 0.2379 - val_time_distributed_1_acc: 0.7869 - val_time_distributed_2_acc: 0.8727 - val_time_distributed_3_acc: 0.7972 - val_time_distributed_4_acc: 0.8073 - val_time_distributed_5_acc: 0.8818 - val_time_distributed_6_acc: 0.9342\n",
            "Epoch 19/150\n",
            "6573/6573 [==============================] - 1s 208us/step - loss: 2.5138 - time_distributed_1_loss: 0.7721 - time_distributed_2_loss: 0.2776 - time_distributed_3_loss: 0.4265 - time_distributed_4_loss: 0.5070 - time_distributed_5_loss: 0.2958 - time_distributed_6_loss: 0.2347 - time_distributed_1_acc: 0.7874 - time_distributed_2_acc: 0.8771 - time_distributed_3_acc: 0.8046 - time_distributed_4_acc: 0.8088 - time_distributed_5_acc: 0.8802 - time_distributed_6_acc: 0.9344 - val_loss: 2.5068 - val_time_distributed_1_loss: 0.7598 - val_time_distributed_2_loss: 0.2843 - val_time_distributed_3_loss: 0.4279 - val_time_distributed_4_loss: 0.5074 - val_time_distributed_5_loss: 0.2938 - val_time_distributed_6_loss: 0.2337 - val_time_distributed_1_acc: 0.7897 - val_time_distributed_2_acc: 0.8763 - val_time_distributed_3_acc: 0.8026 - val_time_distributed_4_acc: 0.8065 - val_time_distributed_5_acc: 0.8836 - val_time_distributed_6_acc: 0.9342\n",
            "Epoch 20/150\n",
            "6573/6573 [==============================] - 1s 207us/step - loss: 2.4544 - time_distributed_1_loss: 0.7448 - time_distributed_2_loss: 0.2718 - time_distributed_3_loss: 0.4216 - time_distributed_4_loss: 0.4962 - time_distributed_5_loss: 0.2906 - time_distributed_6_loss: 0.2294 - time_distributed_1_acc: 0.7910 - time_distributed_2_acc: 0.8810 - time_distributed_3_acc: 0.8066 - time_distributed_4_acc: 0.8174 - time_distributed_5_acc: 0.8810 - time_distributed_6_acc: 0.9344 - val_loss: 2.4506 - val_time_distributed_1_loss: 0.7342 - val_time_distributed_2_loss: 0.2785 - val_time_distributed_3_loss: 0.4231 - val_time_distributed_4_loss: 0.4970 - val_time_distributed_5_loss: 0.2894 - val_time_distributed_6_loss: 0.2282 - val_time_distributed_1_acc: 0.7934 - val_time_distributed_2_acc: 0.8799 - val_time_distributed_3_acc: 0.8036 - val_time_distributed_4_acc: 0.8174 - val_time_distributed_5_acc: 0.8836 - val_time_distributed_6_acc: 0.9342\n",
            "Epoch 21/150\n",
            "6573/6573 [==============================] - 1s 211us/step - loss: 2.3974 - time_distributed_1_loss: 0.7190 - time_distributed_2_loss: 0.2666 - time_distributed_3_loss: 0.4167 - time_distributed_4_loss: 0.4859 - time_distributed_5_loss: 0.2857 - time_distributed_6_loss: 0.2235 - time_distributed_1_acc: 0.7959 - time_distributed_2_acc: 0.8859 - time_distributed_3_acc: 0.8081 - time_distributed_4_acc: 0.8192 - time_distributed_5_acc: 0.8815 - time_distributed_6_acc: 0.9344 - val_loss: 2.3974 - val_time_distributed_1_loss: 0.7100 - val_time_distributed_2_loss: 0.2739 - val_time_distributed_3_loss: 0.4190 - val_time_distributed_4_loss: 0.4876 - val_time_distributed_5_loss: 0.2850 - val_time_distributed_6_loss: 0.2219 - val_time_distributed_1_acc: 0.7977 - val_time_distributed_2_acc: 0.8860 - val_time_distributed_3_acc: 0.8089 - val_time_distributed_4_acc: 0.8192 - val_time_distributed_5_acc: 0.8844 - val_time_distributed_6_acc: 0.9342\n",
            "Epoch 22/150\n",
            "6573/6573 [==============================] - 1s 211us/step - loss: 2.3420 - time_distributed_1_loss: 0.6942 - time_distributed_2_loss: 0.2616 - time_distributed_3_loss: 0.4124 - time_distributed_4_loss: 0.4762 - time_distributed_5_loss: 0.2805 - time_distributed_6_loss: 0.2170 - time_distributed_1_acc: 0.8009 - time_distributed_2_acc: 0.8894 - time_distributed_3_acc: 0.8124 - time_distributed_4_acc: 0.8204 - time_distributed_5_acc: 0.8825 - time_distributed_6_acc: 0.9344 - val_loss: 2.3446 - val_time_distributed_1_loss: 0.6870 - val_time_distributed_2_loss: 0.2699 - val_time_distributed_3_loss: 0.4147 - val_time_distributed_4_loss: 0.4777 - val_time_distributed_5_loss: 0.2798 - val_time_distributed_6_loss: 0.2154 - val_time_distributed_1_acc: 0.8009 - val_time_distributed_2_acc: 0.8859 - val_time_distributed_3_acc: 0.8103 - val_time_distributed_4_acc: 0.8210 - val_time_distributed_5_acc: 0.8858 - val_time_distributed_6_acc: 0.9342\n",
            "Epoch 23/150\n",
            "6573/6573 [==============================] - 2s 247us/step - loss: 2.2881 - time_distributed_1_loss: 0.6706 - time_distributed_2_loss: 0.2577 - time_distributed_3_loss: 0.4080 - time_distributed_4_loss: 0.4662 - time_distributed_5_loss: 0.2753 - time_distributed_6_loss: 0.2103 - time_distributed_1_acc: 0.8047 - time_distributed_2_acc: 0.8906 - time_distributed_3_acc: 0.8144 - time_distributed_4_acc: 0.8237 - time_distributed_5_acc: 0.8839 - time_distributed_6_acc: 0.9344 - val_loss: 2.2944 - val_time_distributed_1_loss: 0.6652 - val_time_distributed_2_loss: 0.2656 - val_time_distributed_3_loss: 0.4109 - val_time_distributed_4_loss: 0.4681 - val_time_distributed_5_loss: 0.2747 - val_time_distributed_6_loss: 0.2097 - val_time_distributed_1_acc: 0.8064 - val_time_distributed_2_acc: 0.8878 - val_time_distributed_3_acc: 0.8125 - val_time_distributed_4_acc: 0.8259 - val_time_distributed_5_acc: 0.8873 - val_time_distributed_6_acc: 0.9343\n",
            "Epoch 24/150\n",
            "6573/6573 [==============================] - 2s 243us/step - loss: 2.2351 - time_distributed_1_loss: 0.6478 - time_distributed_2_loss: 0.2538 - time_distributed_3_loss: 0.4039 - time_distributed_4_loss: 0.4565 - time_distributed_5_loss: 0.2692 - time_distributed_6_loss: 0.2040 - time_distributed_1_acc: 0.8101 - time_distributed_2_acc: 0.8921 - time_distributed_3_acc: 0.8174 - time_distributed_4_acc: 0.8276 - time_distributed_5_acc: 0.8864 - time_distributed_6_acc: 0.9346 - val_loss: 2.2470 - val_time_distributed_1_loss: 0.6440 - val_time_distributed_2_loss: 0.2618 - val_time_distributed_3_loss: 0.4072 - val_time_distributed_4_loss: 0.4592 - val_time_distributed_5_loss: 0.2708 - val_time_distributed_6_loss: 0.2039 - val_time_distributed_1_acc: 0.8112 - val_time_distributed_2_acc: 0.8881 - val_time_distributed_3_acc: 0.8151 - val_time_distributed_4_acc: 0.8295 - val_time_distributed_5_acc: 0.8905 - val_time_distributed_6_acc: 0.9348\n",
            "Epoch 25/150\n",
            "6573/6573 [==============================] - 2s 244us/step - loss: 2.1843 - time_distributed_1_loss: 0.6260 - time_distributed_2_loss: 0.2501 - time_distributed_3_loss: 0.3997 - time_distributed_4_loss: 0.4467 - time_distributed_5_loss: 0.2638 - time_distributed_6_loss: 0.1980 - time_distributed_1_acc: 0.8145 - time_distributed_2_acc: 0.8944 - time_distributed_3_acc: 0.8197 - time_distributed_4_acc: 0.8328 - time_distributed_5_acc: 0.8890 - time_distributed_6_acc: 0.9352 - val_loss: 2.2003 - val_time_distributed_1_loss: 0.6233 - val_time_distributed_2_loss: 0.2593 - val_time_distributed_3_loss: 0.4037 - val_time_distributed_4_loss: 0.4510 - val_time_distributed_5_loss: 0.2648 - val_time_distributed_6_loss: 0.1981 - val_time_distributed_1_acc: 0.8159 - val_time_distributed_2_acc: 0.8889 - val_time_distributed_3_acc: 0.8158 - val_time_distributed_4_acc: 0.8366 - val_time_distributed_5_acc: 0.8908 - val_time_distributed_6_acc: 0.9355\n",
            "Epoch 26/150\n",
            "6573/6573 [==============================] - 2s 242us/step - loss: 2.1367 - time_distributed_1_loss: 0.6053 - time_distributed_2_loss: 0.2463 - time_distributed_3_loss: 0.3961 - time_distributed_4_loss: 0.4376 - time_distributed_5_loss: 0.2589 - time_distributed_6_loss: 0.1925 - time_distributed_1_acc: 0.8197 - time_distributed_2_acc: 0.8958 - time_distributed_3_acc: 0.8215 - time_distributed_4_acc: 0.8443 - time_distributed_5_acc: 0.8904 - time_distributed_6_acc: 0.9358 - val_loss: 2.1595 - val_time_distributed_1_loss: 0.6050 - val_time_distributed_2_loss: 0.2564 - val_time_distributed_3_loss: 0.4008 - val_time_distributed_4_loss: 0.4433 - val_time_distributed_5_loss: 0.2604 - val_time_distributed_6_loss: 0.1936 - val_time_distributed_1_acc: 0.8203 - val_time_distributed_2_acc: 0.8904 - val_time_distributed_3_acc: 0.8156 - val_time_distributed_4_acc: 0.8445 - val_time_distributed_5_acc: 0.8931 - val_time_distributed_6_acc: 0.9365\n",
            "Epoch 27/150\n",
            "6573/6573 [==============================] - 2s 246us/step - loss: 2.0918 - time_distributed_1_loss: 0.5859 - time_distributed_2_loss: 0.2433 - time_distributed_3_loss: 0.3920 - time_distributed_4_loss: 0.4300 - time_distributed_5_loss: 0.2533 - time_distributed_6_loss: 0.1873 - time_distributed_1_acc: 0.8261 - time_distributed_2_acc: 0.8963 - time_distributed_3_acc: 0.8226 - time_distributed_4_acc: 0.8490 - time_distributed_5_acc: 0.8926 - time_distributed_6_acc: 0.9370 - val_loss: 2.1182 - val_time_distributed_1_loss: 0.5872 - val_time_distributed_2_loss: 0.2533 - val_time_distributed_3_loss: 0.3973 - val_time_distributed_4_loss: 0.4356 - val_time_distributed_5_loss: 0.2558 - val_time_distributed_6_loss: 0.1890 - val_time_distributed_1_acc: 0.8266 - val_time_distributed_2_acc: 0.8919 - val_time_distributed_3_acc: 0.8183 - val_time_distributed_4_acc: 0.8496 - val_time_distributed_5_acc: 0.8943 - val_time_distributed_6_acc: 0.9376\n",
            "Epoch 28/150\n",
            "6573/6573 [==============================] - 2s 243us/step - loss: 2.0501 - time_distributed_1_loss: 0.5682 - time_distributed_2_loss: 0.2404 - time_distributed_3_loss: 0.3885 - time_distributed_4_loss: 0.4218 - time_distributed_5_loss: 0.2487 - time_distributed_6_loss: 0.1824 - time_distributed_1_acc: 0.8317 - time_distributed_2_acc: 0.8967 - time_distributed_3_acc: 0.8251 - time_distributed_4_acc: 0.8541 - time_distributed_5_acc: 0.8945 - time_distributed_6_acc: 0.9380 - val_loss: 2.0822 - val_time_distributed_1_loss: 0.5709 - val_time_distributed_2_loss: 0.2506 - val_time_distributed_3_loss: 0.3945 - val_time_distributed_4_loss: 0.4291 - val_time_distributed_5_loss: 0.2526 - val_time_distributed_6_loss: 0.1846 - val_time_distributed_1_acc: 0.8316 - val_time_distributed_2_acc: 0.8917 - val_time_distributed_3_acc: 0.8204 - val_time_distributed_4_acc: 0.8536 - val_time_distributed_5_acc: 0.8966 - val_time_distributed_6_acc: 0.9386\n",
            "Epoch 29/150\n",
            "6573/6573 [==============================] - 1s 212us/step - loss: 2.0122 - time_distributed_1_loss: 0.5520 - time_distributed_2_loss: 0.2373 - time_distributed_3_loss: 0.3854 - time_distributed_4_loss: 0.4153 - time_distributed_5_loss: 0.2443 - time_distributed_6_loss: 0.1779 - time_distributed_1_acc: 0.8367 - time_distributed_2_acc: 0.8971 - time_distributed_3_acc: 0.8263 - time_distributed_4_acc: 0.8564 - time_distributed_5_acc: 0.8968 - time_distributed_6_acc: 0.9389 - val_loss: 2.0491 - val_time_distributed_1_loss: 0.5562 - val_time_distributed_2_loss: 0.2487 - val_time_distributed_3_loss: 0.3921 - val_time_distributed_4_loss: 0.4238 - val_time_distributed_5_loss: 0.2478 - val_time_distributed_6_loss: 0.1806 - val_time_distributed_1_acc: 0.8381 - val_time_distributed_2_acc: 0.8926 - val_time_distributed_3_acc: 0.8186 - val_time_distributed_4_acc: 0.8549 - val_time_distributed_5_acc: 0.8973 - val_time_distributed_6_acc: 0.9391\n",
            "Epoch 30/150\n",
            "6573/6573 [==============================] - 1s 208us/step - loss: 1.9765 - time_distributed_1_loss: 0.5371 - time_distributed_2_loss: 0.2348 - time_distributed_3_loss: 0.3821 - time_distributed_4_loss: 0.4090 - time_distributed_5_loss: 0.2401 - time_distributed_6_loss: 0.1734 - time_distributed_1_acc: 0.8416 - time_distributed_2_acc: 0.8977 - time_distributed_3_acc: 0.8283 - time_distributed_4_acc: 0.8588 - time_distributed_5_acc: 0.8984 - time_distributed_6_acc: 0.9399 - val_loss: 2.0196 - val_time_distributed_1_loss: 0.5432 - val_time_distributed_2_loss: 0.2469 - val_time_distributed_3_loss: 0.3894 - val_time_distributed_4_loss: 0.4189 - val_time_distributed_5_loss: 0.2446 - val_time_distributed_6_loss: 0.1765 - val_time_distributed_1_acc: 0.8411 - val_time_distributed_2_acc: 0.8928 - val_time_distributed_3_acc: 0.8207 - val_time_distributed_4_acc: 0.8555 - val_time_distributed_5_acc: 0.8981 - val_time_distributed_6_acc: 0.9403\n",
            "Epoch 31/150\n",
            "6573/6573 [==============================] - 1s 212us/step - loss: 1.9434 - time_distributed_1_loss: 0.5235 - time_distributed_2_loss: 0.2321 - time_distributed_3_loss: 0.3789 - time_distributed_4_loss: 0.4034 - time_distributed_5_loss: 0.2365 - time_distributed_6_loss: 0.1690 - time_distributed_1_acc: 0.8463 - time_distributed_2_acc: 0.8985 - time_distributed_3_acc: 0.8297 - time_distributed_4_acc: 0.8600 - time_distributed_5_acc: 0.9001 - time_distributed_6_acc: 0.9409 - val_loss: 1.9903 - val_time_distributed_1_loss: 0.5303 - val_time_distributed_2_loss: 0.2448 - val_time_distributed_3_loss: 0.3866 - val_time_distributed_4_loss: 0.4136 - val_time_distributed_5_loss: 0.2423 - val_time_distributed_6_loss: 0.1727 - val_time_distributed_1_acc: 0.8454 - val_time_distributed_2_acc: 0.8921 - val_time_distributed_3_acc: 0.8233 - val_time_distributed_4_acc: 0.8572 - val_time_distributed_5_acc: 0.8993 - val_time_distributed_6_acc: 0.9412\n",
            "Epoch 32/150\n",
            "6573/6573 [==============================] - 1s 208us/step - loss: 1.9125 - time_distributed_1_loss: 0.5109 - time_distributed_2_loss: 0.2298 - time_distributed_3_loss: 0.3761 - time_distributed_4_loss: 0.3977 - time_distributed_5_loss: 0.2333 - time_distributed_6_loss: 0.1647 - time_distributed_1_acc: 0.8503 - time_distributed_2_acc: 0.8988 - time_distributed_3_acc: 0.8304 - time_distributed_4_acc: 0.8618 - time_distributed_5_acc: 0.9015 - time_distributed_6_acc: 0.9422 - val_loss: 1.9625 - val_time_distributed_1_loss: 0.5192 - val_time_distributed_2_loss: 0.2429 - val_time_distributed_3_loss: 0.3838 - val_time_distributed_4_loss: 0.4090 - val_time_distributed_5_loss: 0.2388 - val_time_distributed_6_loss: 0.1689 - val_time_distributed_1_acc: 0.8487 - val_time_distributed_2_acc: 0.8921 - val_time_distributed_3_acc: 0.8249 - val_time_distributed_4_acc: 0.8583 - val_time_distributed_5_acc: 0.9002 - val_time_distributed_6_acc: 0.9422\n",
            "Epoch 33/150\n",
            "6573/6573 [==============================] - 1s 208us/step - loss: 1.8831 - time_distributed_1_loss: 0.4992 - time_distributed_2_loss: 0.2276 - time_distributed_3_loss: 0.3727 - time_distributed_4_loss: 0.3929 - time_distributed_5_loss: 0.2299 - time_distributed_6_loss: 0.1608 - time_distributed_1_acc: 0.8543 - time_distributed_2_acc: 0.8994 - time_distributed_3_acc: 0.8324 - time_distributed_4_acc: 0.8638 - time_distributed_5_acc: 0.9029 - time_distributed_6_acc: 0.9441 - val_loss: 1.9373 - val_time_distributed_1_loss: 0.5084 - val_time_distributed_2_loss: 0.2414 - val_time_distributed_3_loss: 0.3810 - val_time_distributed_4_loss: 0.4049 - val_time_distributed_5_loss: 0.2362 - val_time_distributed_6_loss: 0.1654 - val_time_distributed_1_acc: 0.8525 - val_time_distributed_2_acc: 0.8924 - val_time_distributed_3_acc: 0.8268 - val_time_distributed_4_acc: 0.8599 - val_time_distributed_5_acc: 0.9026 - val_time_distributed_6_acc: 0.9432\n",
            "Epoch 34/150\n",
            "6573/6573 [==============================] - 1s 207us/step - loss: 1.8562 - time_distributed_1_loss: 0.4883 - time_distributed_2_loss: 0.2255 - time_distributed_3_loss: 0.3700 - time_distributed_4_loss: 0.3881 - time_distributed_5_loss: 0.2275 - time_distributed_6_loss: 0.1570 - time_distributed_1_acc: 0.8583 - time_distributed_2_acc: 0.9003 - time_distributed_3_acc: 0.8335 - time_distributed_4_acc: 0.8656 - time_distributed_5_acc: 0.9045 - time_distributed_6_acc: 0.9459 - val_loss: 1.9158 - val_time_distributed_1_loss: 0.4990 - val_time_distributed_2_loss: 0.2402 - val_time_distributed_3_loss: 0.3795 - val_time_distributed_4_loss: 0.4012 - val_time_distributed_5_loss: 0.2339 - val_time_distributed_6_loss: 0.1621 - val_time_distributed_1_acc: 0.8563 - val_time_distributed_2_acc: 0.8948 - val_time_distributed_3_acc: 0.8285 - val_time_distributed_4_acc: 0.8607 - val_time_distributed_5_acc: 0.9029 - val_time_distributed_6_acc: 0.9449\n",
            "Epoch 35/150\n",
            "6573/6573 [==============================] - 1s 211us/step - loss: 1.8306 - time_distributed_1_loss: 0.4783 - time_distributed_2_loss: 0.2233 - time_distributed_3_loss: 0.3673 - time_distributed_4_loss: 0.3835 - time_distributed_5_loss: 0.2246 - time_distributed_6_loss: 0.1536 - time_distributed_1_acc: 0.8618 - time_distributed_2_acc: 0.9011 - time_distributed_3_acc: 0.8349 - time_distributed_4_acc: 0.8673 - time_distributed_5_acc: 0.9055 - time_distributed_6_acc: 0.9475 - val_loss: 1.8931 - val_time_distributed_1_loss: 0.4898 - val_time_distributed_2_loss: 0.2384 - val_time_distributed_3_loss: 0.3767 - val_time_distributed_4_loss: 0.3973 - val_time_distributed_5_loss: 0.2319 - val_time_distributed_6_loss: 0.1590 - val_time_distributed_1_acc: 0.8609 - val_time_distributed_2_acc: 0.8954 - val_time_distributed_3_acc: 0.8298 - val_time_distributed_4_acc: 0.8619 - val_time_distributed_5_acc: 0.9050 - val_time_distributed_6_acc: 0.9458\n",
            "Epoch 36/150\n",
            "6573/6573 [==============================] - 1s 207us/step - loss: 1.8066 - time_distributed_1_loss: 0.4689 - time_distributed_2_loss: 0.2213 - time_distributed_3_loss: 0.3645 - time_distributed_4_loss: 0.3792 - time_distributed_5_loss: 0.2222 - time_distributed_6_loss: 0.1505 - time_distributed_1_acc: 0.8667 - time_distributed_2_acc: 0.9026 - time_distributed_3_acc: 0.8355 - time_distributed_4_acc: 0.8679 - time_distributed_5_acc: 0.9073 - time_distributed_6_acc: 0.9488 - val_loss: 1.8727 - val_time_distributed_1_loss: 0.4812 - val_time_distributed_2_loss: 0.2369 - val_time_distributed_3_loss: 0.3747 - val_time_distributed_4_loss: 0.3936 - val_time_distributed_5_loss: 0.2301 - val_time_distributed_6_loss: 0.1562 - val_time_distributed_1_acc: 0.8645 - val_time_distributed_2_acc: 0.8954 - val_time_distributed_3_acc: 0.8302 - val_time_distributed_4_acc: 0.8636 - val_time_distributed_5_acc: 0.9070 - val_time_distributed_6_acc: 0.9464\n",
            "Epoch 37/150\n",
            "6573/6573 [==============================] - 1s 208us/step - loss: 1.7845 - time_distributed_1_loss: 0.4603 - time_distributed_2_loss: 0.2192 - time_distributed_3_loss: 0.3621 - time_distributed_4_loss: 0.3752 - time_distributed_5_loss: 0.2202 - time_distributed_6_loss: 0.1475 - time_distributed_1_acc: 0.8707 - time_distributed_2_acc: 0.9034 - time_distributed_3_acc: 0.8355 - time_distributed_4_acc: 0.8687 - time_distributed_5_acc: 0.9083 - time_distributed_6_acc: 0.9496 - val_loss: 1.8545 - val_time_distributed_1_loss: 0.4738 - val_time_distributed_2_loss: 0.2359 - val_time_distributed_3_loss: 0.3725 - val_time_distributed_4_loss: 0.3901 - val_time_distributed_5_loss: 0.2282 - val_time_distributed_6_loss: 0.1540 - val_time_distributed_1_acc: 0.8684 - val_time_distributed_2_acc: 0.8963 - val_time_distributed_3_acc: 0.8309 - val_time_distributed_4_acc: 0.8629 - val_time_distributed_5_acc: 0.9077 - val_time_distributed_6_acc: 0.9466\n",
            "Epoch 38/150\n",
            "6573/6573 [==============================] - 1s 228us/step - loss: 1.7629 - time_distributed_1_loss: 0.4519 - time_distributed_2_loss: 0.2176 - time_distributed_3_loss: 0.3593 - time_distributed_4_loss: 0.3711 - time_distributed_5_loss: 0.2181 - time_distributed_6_loss: 0.1448 - time_distributed_1_acc: 0.8737 - time_distributed_2_acc: 0.9050 - time_distributed_3_acc: 0.8376 - time_distributed_4_acc: 0.8702 - time_distributed_5_acc: 0.9094 - time_distributed_6_acc: 0.9499 - val_loss: 1.8375 - val_time_distributed_1_loss: 0.4664 - val_time_distributed_2_loss: 0.2346 - val_time_distributed_3_loss: 0.3709 - val_time_distributed_4_loss: 0.3869 - val_time_distributed_5_loss: 0.2272 - val_time_distributed_6_loss: 0.1515 - val_time_distributed_1_acc: 0.8704 - val_time_distributed_2_acc: 0.8973 - val_time_distributed_3_acc: 0.8329 - val_time_distributed_4_acc: 0.8640 - val_time_distributed_5_acc: 0.9077 - val_time_distributed_6_acc: 0.9471\n",
            "Epoch 39/150\n",
            "6573/6573 [==============================] - 2s 247us/step - loss: 1.7425 - time_distributed_1_loss: 0.4442 - time_distributed_2_loss: 0.2155 - time_distributed_3_loss: 0.3570 - time_distributed_4_loss: 0.3675 - time_distributed_5_loss: 0.2161 - time_distributed_6_loss: 0.1423 - time_distributed_1_acc: 0.8759 - time_distributed_2_acc: 0.9063 - time_distributed_3_acc: 0.8401 - time_distributed_4_acc: 0.8712 - time_distributed_5_acc: 0.9100 - time_distributed_6_acc: 0.9506 - val_loss: 1.8192 - val_time_distributed_1_loss: 0.4594 - val_time_distributed_2_loss: 0.2334 - val_time_distributed_3_loss: 0.3684 - val_time_distributed_4_loss: 0.3836 - val_time_distributed_5_loss: 0.2251 - val_time_distributed_6_loss: 0.1494 - val_time_distributed_1_acc: 0.8721 - val_time_distributed_2_acc: 0.8978 - val_time_distributed_3_acc: 0.8341 - val_time_distributed_4_acc: 0.8658 - val_time_distributed_5_acc: 0.9090 - val_time_distributed_6_acc: 0.9479\n",
            "Epoch 40/150\n",
            "6573/6573 [==============================] - 2s 246us/step - loss: 1.7243 - time_distributed_1_loss: 0.4372 - time_distributed_2_loss: 0.2140 - time_distributed_3_loss: 0.3547 - time_distributed_4_loss: 0.3636 - time_distributed_5_loss: 0.2146 - time_distributed_6_loss: 0.1403 - time_distributed_1_acc: 0.8790 - time_distributed_2_acc: 0.9074 - time_distributed_3_acc: 0.8401 - time_distributed_4_acc: 0.8721 - time_distributed_5_acc: 0.9107 - time_distributed_6_acc: 0.9512 - val_loss: 1.8028 - val_time_distributed_1_loss: 0.4529 - val_time_distributed_2_loss: 0.2324 - val_time_distributed_3_loss: 0.3662 - val_time_distributed_4_loss: 0.3800 - val_time_distributed_5_loss: 0.2235 - val_time_distributed_6_loss: 0.1477 - val_time_distributed_1_acc: 0.8759 - val_time_distributed_2_acc: 0.8976 - val_time_distributed_3_acc: 0.8361 - val_time_distributed_4_acc: 0.8661 - val_time_distributed_5_acc: 0.9095 - val_time_distributed_6_acc: 0.9490\n",
            "Epoch 41/150\n",
            "6573/6573 [==============================] - 2s 235us/step - loss: 1.7066 - time_distributed_1_loss: 0.4302 - time_distributed_2_loss: 0.2125 - time_distributed_3_loss: 0.3523 - time_distributed_4_loss: 0.3604 - time_distributed_5_loss: 0.2129 - time_distributed_6_loss: 0.1383 - time_distributed_1_acc: 0.8827 - time_distributed_2_acc: 0.9083 - time_distributed_3_acc: 0.8428 - time_distributed_4_acc: 0.8728 - time_distributed_5_acc: 0.9115 - time_distributed_6_acc: 0.9522 - val_loss: 1.7883 - val_time_distributed_1_loss: 0.4469 - val_time_distributed_2_loss: 0.2308 - val_time_distributed_3_loss: 0.3642 - val_time_distributed_4_loss: 0.3768 - val_time_distributed_5_loss: 0.2233 - val_time_distributed_6_loss: 0.1463 - val_time_distributed_1_acc: 0.8793 - val_time_distributed_2_acc: 0.8979 - val_time_distributed_3_acc: 0.8372 - val_time_distributed_4_acc: 0.8669 - val_time_distributed_5_acc: 0.9113 - val_time_distributed_6_acc: 0.9499\n",
            "Epoch 42/150\n",
            "6573/6573 [==============================] - 1s 209us/step - loss: 1.6877 - time_distributed_1_loss: 0.4236 - time_distributed_2_loss: 0.2109 - time_distributed_3_loss: 0.3497 - time_distributed_4_loss: 0.3560 - time_distributed_5_loss: 0.2109 - time_distributed_6_loss: 0.1366 - time_distributed_1_acc: 0.8845 - time_distributed_2_acc: 0.9090 - time_distributed_3_acc: 0.8434 - time_distributed_4_acc: 0.8748 - time_distributed_5_acc: 0.9123 - time_distributed_6_acc: 0.9527 - val_loss: 1.7770 - val_time_distributed_1_loss: 0.4418 - val_time_distributed_2_loss: 0.2309 - val_time_distributed_3_loss: 0.3634 - val_time_distributed_4_loss: 0.3753 - val_time_distributed_5_loss: 0.2211 - val_time_distributed_6_loss: 0.1446 - val_time_distributed_1_acc: 0.8810 - val_time_distributed_2_acc: 0.8994 - val_time_distributed_3_acc: 0.8372 - val_time_distributed_4_acc: 0.8676 - val_time_distributed_5_acc: 0.9111 - val_time_distributed_6_acc: 0.9493\n",
            "Epoch 43/150\n",
            "6573/6573 [==============================] - 1s 207us/step - loss: 1.6730 - time_distributed_1_loss: 0.4178 - time_distributed_2_loss: 0.2096 - time_distributed_3_loss: 0.3477 - time_distributed_4_loss: 0.3533 - time_distributed_5_loss: 0.2095 - time_distributed_6_loss: 0.1352 - time_distributed_1_acc: 0.8870 - time_distributed_2_acc: 0.9098 - time_distributed_3_acc: 0.8452 - time_distributed_4_acc: 0.8750 - time_distributed_5_acc: 0.9132 - time_distributed_6_acc: 0.9525 - val_loss: 1.7604 - val_time_distributed_1_loss: 0.4359 - val_time_distributed_2_loss: 0.2285 - val_time_distributed_3_loss: 0.3606 - val_time_distributed_4_loss: 0.3718 - val_time_distributed_5_loss: 0.2201 - val_time_distributed_6_loss: 0.1434 - val_time_distributed_1_acc: 0.8823 - val_time_distributed_2_acc: 0.9000 - val_time_distributed_3_acc: 0.8393 - val_time_distributed_4_acc: 0.8689 - val_time_distributed_5_acc: 0.9125 - val_time_distributed_6_acc: 0.9498\n",
            "Epoch 44/150\n",
            "6573/6573 [==============================] - 1s 211us/step - loss: 1.6554 - time_distributed_1_loss: 0.4113 - time_distributed_2_loss: 0.2075 - time_distributed_3_loss: 0.3452 - time_distributed_4_loss: 0.3498 - time_distributed_5_loss: 0.2080 - time_distributed_6_loss: 0.1336 - time_distributed_1_acc: 0.8887 - time_distributed_2_acc: 0.9104 - time_distributed_3_acc: 0.8459 - time_distributed_4_acc: 0.8759 - time_distributed_5_acc: 0.9139 - time_distributed_6_acc: 0.9535 - val_loss: 1.7480 - val_time_distributed_1_loss: 0.4306 - val_time_distributed_2_loss: 0.2277 - val_time_distributed_3_loss: 0.3591 - val_time_distributed_4_loss: 0.3687 - val_time_distributed_5_loss: 0.2195 - val_time_distributed_6_loss: 0.1423 - val_time_distributed_1_acc: 0.8841 - val_time_distributed_2_acc: 0.9002 - val_time_distributed_3_acc: 0.8400 - val_time_distributed_4_acc: 0.8690 - val_time_distributed_5_acc: 0.9123 - val_time_distributed_6_acc: 0.9505\n",
            "Epoch 45/150\n",
            "6573/6573 [==============================] - 1s 206us/step - loss: 1.6408 - time_distributed_1_loss: 0.4059 - time_distributed_2_loss: 0.2061 - time_distributed_3_loss: 0.3433 - time_distributed_4_loss: 0.3465 - time_distributed_5_loss: 0.2065 - time_distributed_6_loss: 0.1325 - time_distributed_1_acc: 0.8899 - time_distributed_2_acc: 0.9119 - time_distributed_3_acc: 0.8470 - time_distributed_4_acc: 0.8772 - time_distributed_5_acc: 0.9147 - time_distributed_6_acc: 0.9537 - val_loss: 1.7351 - val_time_distributed_1_loss: 0.4260 - val_time_distributed_2_loss: 0.2270 - val_time_distributed_3_loss: 0.3567 - val_time_distributed_4_loss: 0.3665 - val_time_distributed_5_loss: 0.2176 - val_time_distributed_6_loss: 0.1413 - val_time_distributed_1_acc: 0.8852 - val_time_distributed_2_acc: 0.8999 - val_time_distributed_3_acc: 0.8403 - val_time_distributed_4_acc: 0.8694 - val_time_distributed_5_acc: 0.9140 - val_time_distributed_6_acc: 0.9507\n",
            "Epoch 46/150\n",
            "6573/6573 [==============================] - 1s 208us/step - loss: 1.6269 - time_distributed_1_loss: 0.4009 - time_distributed_2_loss: 0.2049 - time_distributed_3_loss: 0.3410 - time_distributed_4_loss: 0.3437 - time_distributed_5_loss: 0.2050 - time_distributed_6_loss: 0.1313 - time_distributed_1_acc: 0.8916 - time_distributed_2_acc: 0.9117 - time_distributed_3_acc: 0.8474 - time_distributed_4_acc: 0.8779 - time_distributed_5_acc: 0.9157 - time_distributed_6_acc: 0.9539 - val_loss: 1.7227 - val_time_distributed_1_loss: 0.4214 - val_time_distributed_2_loss: 0.2251 - val_time_distributed_3_loss: 0.3547 - val_time_distributed_4_loss: 0.3642 - val_time_distributed_5_loss: 0.2167 - val_time_distributed_6_loss: 0.1406 - val_time_distributed_1_acc: 0.8863 - val_time_distributed_2_acc: 0.9005 - val_time_distributed_3_acc: 0.8424 - val_time_distributed_4_acc: 0.8695 - val_time_distributed_5_acc: 0.9140 - val_time_distributed_6_acc: 0.9511\n",
            "Epoch 47/150\n",
            "6573/6573 [==============================] - 1s 209us/step - loss: 1.6124 - time_distributed_1_loss: 0.3957 - time_distributed_2_loss: 0.2032 - time_distributed_3_loss: 0.3388 - time_distributed_4_loss: 0.3408 - time_distributed_5_loss: 0.2036 - time_distributed_6_loss: 0.1304 - time_distributed_1_acc: 0.8927 - time_distributed_2_acc: 0.9130 - time_distributed_3_acc: 0.8492 - time_distributed_4_acc: 0.8790 - time_distributed_5_acc: 0.9161 - time_distributed_6_acc: 0.9547 - val_loss: 1.7113 - val_time_distributed_1_loss: 0.4172 - val_time_distributed_2_loss: 0.2243 - val_time_distributed_3_loss: 0.3527 - val_time_distributed_4_loss: 0.3616 - val_time_distributed_5_loss: 0.2154 - val_time_distributed_6_loss: 0.1401 - val_time_distributed_1_acc: 0.8876 - val_time_distributed_2_acc: 0.9013 - val_time_distributed_3_acc: 0.8425 - val_time_distributed_4_acc: 0.8698 - val_time_distributed_5_acc: 0.9139 - val_time_distributed_6_acc: 0.9513\n",
            "Epoch 48/150\n",
            "6573/6573 [==============================] - 1s 207us/step - loss: 1.5992 - time_distributed_1_loss: 0.3911 - time_distributed_2_loss: 0.2018 - time_distributed_3_loss: 0.3363 - time_distributed_4_loss: 0.3381 - time_distributed_5_loss: 0.2025 - time_distributed_6_loss: 0.1294 - time_distributed_1_acc: 0.8939 - time_distributed_2_acc: 0.9136 - time_distributed_3_acc: 0.8502 - time_distributed_4_acc: 0.8797 - time_distributed_5_acc: 0.9164 - time_distributed_6_acc: 0.9548 - val_loss: 1.7017 - val_time_distributed_1_loss: 0.4134 - val_time_distributed_2_loss: 0.2234 - val_time_distributed_3_loss: 0.3509 - val_time_distributed_4_loss: 0.3599 - val_time_distributed_5_loss: 0.2147 - val_time_distributed_6_loss: 0.1394 - val_time_distributed_1_acc: 0.8886 - val_time_distributed_2_acc: 0.9021 - val_time_distributed_3_acc: 0.8435 - val_time_distributed_4_acc: 0.8698 - val_time_distributed_5_acc: 0.9150 - val_time_distributed_6_acc: 0.9510\n",
            "Epoch 49/150\n",
            "6573/6573 [==============================] - 1s 209us/step - loss: 1.5859 - time_distributed_1_loss: 0.3863 - time_distributed_2_loss: 0.2005 - time_distributed_3_loss: 0.3342 - time_distributed_4_loss: 0.3352 - time_distributed_5_loss: 0.2010 - time_distributed_6_loss: 0.1286 - time_distributed_1_acc: 0.8950 - time_distributed_2_acc: 0.9143 - time_distributed_3_acc: 0.8521 - time_distributed_4_acc: 0.8795 - time_distributed_5_acc: 0.9176 - time_distributed_6_acc: 0.9548 - val_loss: 1.6916 - val_time_distributed_1_loss: 0.4096 - val_time_distributed_2_loss: 0.2225 - val_time_distributed_3_loss: 0.3491 - val_time_distributed_4_loss: 0.3578 - val_time_distributed_5_loss: 0.2138 - val_time_distributed_6_loss: 0.1389 - val_time_distributed_1_acc: 0.8893 - val_time_distributed_2_acc: 0.9018 - val_time_distributed_3_acc: 0.8444 - val_time_distributed_4_acc: 0.8703 - val_time_distributed_5_acc: 0.9155 - val_time_distributed_6_acc: 0.9515\n",
            "Epoch 50/150\n",
            "6573/6573 [==============================] - 1s 213us/step - loss: 1.5744 - time_distributed_1_loss: 0.3823 - time_distributed_2_loss: 0.1992 - time_distributed_3_loss: 0.3319 - time_distributed_4_loss: 0.3330 - time_distributed_5_loss: 0.2002 - time_distributed_6_loss: 0.1279 - time_distributed_1_acc: 0.8960 - time_distributed_2_acc: 0.9150 - time_distributed_3_acc: 0.8529 - time_distributed_4_acc: 0.8807 - time_distributed_5_acc: 0.9176 - time_distributed_6_acc: 0.9553 - val_loss: 1.6816 - val_time_distributed_1_loss: 0.4058 - val_time_distributed_2_loss: 0.2213 - val_time_distributed_3_loss: 0.3468 - val_time_distributed_4_loss: 0.3561 - val_time_distributed_5_loss: 0.2134 - val_time_distributed_6_loss: 0.1381 - val_time_distributed_1_acc: 0.8907 - val_time_distributed_2_acc: 0.9033 - val_time_distributed_3_acc: 0.8479 - val_time_distributed_4_acc: 0.8707 - val_time_distributed_5_acc: 0.9157 - val_time_distributed_6_acc: 0.9519\n",
            "Epoch 51/150\n",
            "6573/6573 [==============================] - 1s 206us/step - loss: 1.5642 - time_distributed_1_loss: 0.3783 - time_distributed_2_loss: 0.1981 - time_distributed_3_loss: 0.3304 - time_distributed_4_loss: 0.3309 - time_distributed_5_loss: 0.1995 - time_distributed_6_loss: 0.1271 - time_distributed_1_acc: 0.8972 - time_distributed_2_acc: 0.9154 - time_distributed_3_acc: 0.8538 - time_distributed_4_acc: 0.8809 - time_distributed_5_acc: 0.9179 - time_distributed_6_acc: 0.9553 - val_loss: 1.6730 - val_time_distributed_1_loss: 0.4027 - val_time_distributed_2_loss: 0.2209 - val_time_distributed_3_loss: 0.3456 - val_time_distributed_4_loss: 0.3542 - val_time_distributed_5_loss: 0.2118 - val_time_distributed_6_loss: 0.1379 - val_time_distributed_1_acc: 0.8914 - val_time_distributed_2_acc: 0.9032 - val_time_distributed_3_acc: 0.8459 - val_time_distributed_4_acc: 0.8715 - val_time_distributed_5_acc: 0.9161 - val_time_distributed_6_acc: 0.9522\n",
            "Epoch 52/150\n",
            "6573/6573 [==============================] - 1s 208us/step - loss: 1.5522 - time_distributed_1_loss: 0.3746 - time_distributed_2_loss: 0.1972 - time_distributed_3_loss: 0.3279 - time_distributed_4_loss: 0.3279 - time_distributed_5_loss: 0.1982 - time_distributed_6_loss: 0.1265 - time_distributed_1_acc: 0.8979 - time_distributed_2_acc: 0.9156 - time_distributed_3_acc: 0.8553 - time_distributed_4_acc: 0.8816 - time_distributed_5_acc: 0.9185 - time_distributed_6_acc: 0.9557 - val_loss: 1.6634 - val_time_distributed_1_loss: 0.3993 - val_time_distributed_2_loss: 0.2201 - val_time_distributed_3_loss: 0.3433 - val_time_distributed_4_loss: 0.3522 - val_time_distributed_5_loss: 0.2109 - val_time_distributed_6_loss: 0.1375 - val_time_distributed_1_acc: 0.8915 - val_time_distributed_2_acc: 0.9036 - val_time_distributed_3_acc: 0.8493 - val_time_distributed_4_acc: 0.8724 - val_time_distributed_5_acc: 0.9174 - val_time_distributed_6_acc: 0.9519\n",
            "Epoch 53/150\n",
            "6573/6573 [==============================] - 1s 208us/step - loss: 1.5402 - time_distributed_1_loss: 0.3708 - time_distributed_2_loss: 0.1955 - time_distributed_3_loss: 0.3255 - time_distributed_4_loss: 0.3257 - time_distributed_5_loss: 0.1967 - time_distributed_6_loss: 0.1259 - time_distributed_1_acc: 0.8989 - time_distributed_2_acc: 0.9167 - time_distributed_3_acc: 0.8568 - time_distributed_4_acc: 0.8823 - time_distributed_5_acc: 0.9192 - time_distributed_6_acc: 0.9557 - val_loss: 1.6556 - val_time_distributed_1_loss: 0.3964 - val_time_distributed_2_loss: 0.2192 - val_time_distributed_3_loss: 0.3418 - val_time_distributed_4_loss: 0.3507 - val_time_distributed_5_loss: 0.2103 - val_time_distributed_6_loss: 0.1372 - val_time_distributed_1_acc: 0.8922 - val_time_distributed_2_acc: 0.9048 - val_time_distributed_3_acc: 0.8500 - val_time_distributed_4_acc: 0.8719 - val_time_distributed_5_acc: 0.9176 - val_time_distributed_6_acc: 0.9524\n",
            "Epoch 54/150\n",
            "6573/6573 [==============================] - 1s 206us/step - loss: 1.5300 - time_distributed_1_loss: 0.3672 - time_distributed_2_loss: 0.1946 - time_distributed_3_loss: 0.3234 - time_distributed_4_loss: 0.3234 - time_distributed_5_loss: 0.1960 - time_distributed_6_loss: 0.1254 - time_distributed_1_acc: 0.8992 - time_distributed_2_acc: 0.9170 - time_distributed_3_acc: 0.8582 - time_distributed_4_acc: 0.8834 - time_distributed_5_acc: 0.9195 - time_distributed_6_acc: 0.9557 - val_loss: 1.6474 - val_time_distributed_1_loss: 0.3936 - val_time_distributed_2_loss: 0.2182 - val_time_distributed_3_loss: 0.3402 - val_time_distributed_4_loss: 0.3493 - val_time_distributed_5_loss: 0.2095 - val_time_distributed_6_loss: 0.1367 - val_time_distributed_1_acc: 0.8932 - val_time_distributed_2_acc: 0.9055 - val_time_distributed_3_acc: 0.8506 - val_time_distributed_4_acc: 0.8747 - val_time_distributed_5_acc: 0.9168 - val_time_distributed_6_acc: 0.9522\n",
            "Epoch 55/150\n",
            "6573/6573 [==============================] - 1s 207us/step - loss: 1.5198 - time_distributed_1_loss: 0.3636 - time_distributed_2_loss: 0.1938 - time_distributed_3_loss: 0.3214 - time_distributed_4_loss: 0.3214 - time_distributed_5_loss: 0.1949 - time_distributed_6_loss: 0.1248 - time_distributed_1_acc: 0.9001 - time_distributed_2_acc: 0.9174 - time_distributed_3_acc: 0.8588 - time_distributed_4_acc: 0.8844 - time_distributed_5_acc: 0.9200 - time_distributed_6_acc: 0.9563 - val_loss: 1.6395 - val_time_distributed_1_loss: 0.3907 - val_time_distributed_2_loss: 0.2173 - val_time_distributed_3_loss: 0.3382 - val_time_distributed_4_loss: 0.3474 - val_time_distributed_5_loss: 0.2092 - val_time_distributed_6_loss: 0.1367 - val_time_distributed_1_acc: 0.8946 - val_time_distributed_2_acc: 0.9068 - val_time_distributed_3_acc: 0.8521 - val_time_distributed_4_acc: 0.8732 - val_time_distributed_5_acc: 0.9171 - val_time_distributed_6_acc: 0.9523\n",
            "Epoch 56/150\n",
            "6573/6573 [==============================] - 1s 208us/step - loss: 1.5097 - time_distributed_1_loss: 0.3606 - time_distributed_2_loss: 0.1926 - time_distributed_3_loss: 0.3192 - time_distributed_4_loss: 0.3191 - time_distributed_5_loss: 0.1939 - time_distributed_6_loss: 0.1243 - time_distributed_1_acc: 0.9013 - time_distributed_2_acc: 0.9180 - time_distributed_3_acc: 0.8604 - time_distributed_4_acc: 0.8843 - time_distributed_5_acc: 0.9202 - time_distributed_6_acc: 0.9560 - val_loss: 1.6304 - val_time_distributed_1_loss: 0.3875 - val_time_distributed_2_loss: 0.2166 - val_time_distributed_3_loss: 0.3363 - val_time_distributed_4_loss: 0.3458 - val_time_distributed_5_loss: 0.2080 - val_time_distributed_6_loss: 0.1361 - val_time_distributed_1_acc: 0.8944 - val_time_distributed_2_acc: 0.9067 - val_time_distributed_3_acc: 0.8532 - val_time_distributed_4_acc: 0.8734 - val_time_distributed_5_acc: 0.9175 - val_time_distributed_6_acc: 0.9524\n",
            "Epoch 57/150\n",
            "6573/6573 [==============================] - 1s 206us/step - loss: 1.4997 - time_distributed_1_loss: 0.3572 - time_distributed_2_loss: 0.1913 - time_distributed_3_loss: 0.3173 - time_distributed_4_loss: 0.3171 - time_distributed_5_loss: 0.1929 - time_distributed_6_loss: 0.1238 - time_distributed_1_acc: 0.9019 - time_distributed_2_acc: 0.9183 - time_distributed_3_acc: 0.8615 - time_distributed_4_acc: 0.8851 - time_distributed_5_acc: 0.9210 - time_distributed_6_acc: 0.9563 - val_loss: 1.6263 - val_time_distributed_1_loss: 0.3858 - val_time_distributed_2_loss: 0.2164 - val_time_distributed_3_loss: 0.3354 - val_time_distributed_4_loss: 0.3454 - val_time_distributed_5_loss: 0.2076 - val_time_distributed_6_loss: 0.1358 - val_time_distributed_1_acc: 0.8944 - val_time_distributed_2_acc: 0.9071 - val_time_distributed_3_acc: 0.8566 - val_time_distributed_4_acc: 0.8746 - val_time_distributed_5_acc: 0.9176 - val_time_distributed_6_acc: 0.9530\n",
            "Epoch 58/150\n",
            "6573/6573 [==============================] - 1s 208us/step - loss: 1.4902 - time_distributed_1_loss: 0.3542 - time_distributed_2_loss: 0.1905 - time_distributed_3_loss: 0.3154 - time_distributed_4_loss: 0.3150 - time_distributed_5_loss: 0.1918 - time_distributed_6_loss: 0.1232 - time_distributed_1_acc: 0.9025 - time_distributed_2_acc: 0.9183 - time_distributed_3_acc: 0.8633 - time_distributed_4_acc: 0.8857 - time_distributed_5_acc: 0.9212 - time_distributed_6_acc: 0.9565 - val_loss: 1.6187 - val_time_distributed_1_loss: 0.3831 - val_time_distributed_2_loss: 0.2155 - val_time_distributed_3_loss: 0.3334 - val_time_distributed_4_loss: 0.3430 - val_time_distributed_5_loss: 0.2076 - val_time_distributed_6_loss: 0.1361 - val_time_distributed_1_acc: 0.8957 - val_time_distributed_2_acc: 0.9077 - val_time_distributed_3_acc: 0.8554 - val_time_distributed_4_acc: 0.8739 - val_time_distributed_5_acc: 0.9179 - val_time_distributed_6_acc: 0.9530\n",
            "Epoch 59/150\n",
            "6573/6573 [==============================] - 1s 213us/step - loss: 1.4809 - time_distributed_1_loss: 0.3512 - time_distributed_2_loss: 0.1897 - time_distributed_3_loss: 0.3133 - time_distributed_4_loss: 0.3129 - time_distributed_5_loss: 0.1910 - time_distributed_6_loss: 0.1228 - time_distributed_1_acc: 0.9028 - time_distributed_2_acc: 0.9189 - time_distributed_3_acc: 0.8635 - time_distributed_4_acc: 0.8863 - time_distributed_5_acc: 0.9216 - time_distributed_6_acc: 0.9565 - val_loss: 1.6117 - val_time_distributed_1_loss: 0.3809 - val_time_distributed_2_loss: 0.2150 - val_time_distributed_3_loss: 0.3317 - val_time_distributed_4_loss: 0.3418 - val_time_distributed_5_loss: 0.2065 - val_time_distributed_6_loss: 0.1358 - val_time_distributed_1_acc: 0.8959 - val_time_distributed_2_acc: 0.9068 - val_time_distributed_3_acc: 0.8561 - val_time_distributed_4_acc: 0.8749 - val_time_distributed_5_acc: 0.9182 - val_time_distributed_6_acc: 0.9531\n",
            "Epoch 60/150\n",
            "6573/6573 [==============================] - 1s 208us/step - loss: 1.4729 - time_distributed_1_loss: 0.3486 - time_distributed_2_loss: 0.1888 - time_distributed_3_loss: 0.3116 - time_distributed_4_loss: 0.3109 - time_distributed_5_loss: 0.1906 - time_distributed_6_loss: 0.1225 - time_distributed_1_acc: 0.9034 - time_distributed_2_acc: 0.9185 - time_distributed_3_acc: 0.8642 - time_distributed_4_acc: 0.8868 - time_distributed_5_acc: 0.9221 - time_distributed_6_acc: 0.9567 - val_loss: 1.6053 - val_time_distributed_1_loss: 0.3786 - val_time_distributed_2_loss: 0.2144 - val_time_distributed_3_loss: 0.3304 - val_time_distributed_4_loss: 0.3402 - val_time_distributed_5_loss: 0.2061 - val_time_distributed_6_loss: 0.1356 - val_time_distributed_1_acc: 0.8962 - val_time_distributed_2_acc: 0.9072 - val_time_distributed_3_acc: 0.8575 - val_time_distributed_4_acc: 0.8759 - val_time_distributed_5_acc: 0.9178 - val_time_distributed_6_acc: 0.9527\n",
            "Epoch 61/150\n",
            "6573/6573 [==============================] - 1s 208us/step - loss: 1.4633 - time_distributed_1_loss: 0.3459 - time_distributed_2_loss: 0.1879 - time_distributed_3_loss: 0.3092 - time_distributed_4_loss: 0.3091 - time_distributed_5_loss: 0.1893 - time_distributed_6_loss: 0.1220 - time_distributed_1_acc: 0.9043 - time_distributed_2_acc: 0.9187 - time_distributed_3_acc: 0.8665 - time_distributed_4_acc: 0.8875 - time_distributed_5_acc: 0.9225 - time_distributed_6_acc: 0.9569 - val_loss: 1.6002 - val_time_distributed_1_loss: 0.3767 - val_time_distributed_2_loss: 0.2145 - val_time_distributed_3_loss: 0.3293 - val_time_distributed_4_loss: 0.3398 - val_time_distributed_5_loss: 0.2048 - val_time_distributed_6_loss: 0.1350 - val_time_distributed_1_acc: 0.8961 - val_time_distributed_2_acc: 0.9085 - val_time_distributed_3_acc: 0.8559 - val_time_distributed_4_acc: 0.8748 - val_time_distributed_5_acc: 0.9187 - val_time_distributed_6_acc: 0.9529\n",
            "Epoch 62/150\n",
            "6573/6573 [==============================] - 1s 208us/step - loss: 1.4556 - time_distributed_1_loss: 0.3433 - time_distributed_2_loss: 0.1874 - time_distributed_3_loss: 0.3077 - time_distributed_4_loss: 0.3073 - time_distributed_5_loss: 0.1885 - time_distributed_6_loss: 0.1214 - time_distributed_1_acc: 0.9047 - time_distributed_2_acc: 0.9191 - time_distributed_3_acc: 0.8663 - time_distributed_4_acc: 0.8877 - time_distributed_5_acc: 0.9229 - time_distributed_6_acc: 0.9573 - val_loss: 1.5932 - val_time_distributed_1_loss: 0.3744 - val_time_distributed_2_loss: 0.2137 - val_time_distributed_3_loss: 0.3279 - val_time_distributed_4_loss: 0.3383 - val_time_distributed_5_loss: 0.2043 - val_time_distributed_6_loss: 0.1347 - val_time_distributed_1_acc: 0.8970 - val_time_distributed_2_acc: 0.9089 - val_time_distributed_3_acc: 0.8574 - val_time_distributed_4_acc: 0.8759 - val_time_distributed_5_acc: 0.9192 - val_time_distributed_6_acc: 0.9525\n",
            "Epoch 63/150\n",
            "6573/6573 [==============================] - 1s 208us/step - loss: 1.4468 - time_distributed_1_loss: 0.3407 - time_distributed_2_loss: 0.1863 - time_distributed_3_loss: 0.3058 - time_distributed_4_loss: 0.3054 - time_distributed_5_loss: 0.1878 - time_distributed_6_loss: 0.1210 - time_distributed_1_acc: 0.9053 - time_distributed_2_acc: 0.9200 - time_distributed_3_acc: 0.8679 - time_distributed_4_acc: 0.8887 - time_distributed_5_acc: 0.9233 - time_distributed_6_acc: 0.9573 - val_loss: 1.5871 - val_time_distributed_1_loss: 0.3724 - val_time_distributed_2_loss: 0.2129 - val_time_distributed_3_loss: 0.3265 - val_time_distributed_4_loss: 0.3368 - val_time_distributed_5_loss: 0.2037 - val_time_distributed_6_loss: 0.1348 - val_time_distributed_1_acc: 0.8976 - val_time_distributed_2_acc: 0.9080 - val_time_distributed_3_acc: 0.8571 - val_time_distributed_4_acc: 0.8762 - val_time_distributed_5_acc: 0.9195 - val_time_distributed_6_acc: 0.9529\n",
            "Epoch 64/150\n",
            "6573/6573 [==============================] - 1s 208us/step - loss: 1.4385 - time_distributed_1_loss: 0.3383 - time_distributed_2_loss: 0.1856 - time_distributed_3_loss: 0.3039 - time_distributed_4_loss: 0.3034 - time_distributed_5_loss: 0.1868 - time_distributed_6_loss: 0.1205 - time_distributed_1_acc: 0.9060 - time_distributed_2_acc: 0.9200 - time_distributed_3_acc: 0.8683 - time_distributed_4_acc: 0.8894 - time_distributed_5_acc: 0.9233 - time_distributed_6_acc: 0.9575 - val_loss: 1.5826 - val_time_distributed_1_loss: 0.3709 - val_time_distributed_2_loss: 0.2128 - val_time_distributed_3_loss: 0.3254 - val_time_distributed_4_loss: 0.3357 - val_time_distributed_5_loss: 0.2032 - val_time_distributed_6_loss: 0.1347 - val_time_distributed_1_acc: 0.8976 - val_time_distributed_2_acc: 0.9086 - val_time_distributed_3_acc: 0.8581 - val_time_distributed_4_acc: 0.8771 - val_time_distributed_5_acc: 0.9195 - val_time_distributed_6_acc: 0.9531\n",
            "Epoch 65/150\n",
            "6573/6573 [==============================] - 1s 208us/step - loss: 1.4314 - time_distributed_1_loss: 0.3359 - time_distributed_2_loss: 0.1852 - time_distributed_3_loss: 0.3025 - time_distributed_4_loss: 0.3017 - time_distributed_5_loss: 0.1861 - time_distributed_6_loss: 0.1200 - time_distributed_1_acc: 0.9060 - time_distributed_2_acc: 0.9197 - time_distributed_3_acc: 0.8691 - time_distributed_4_acc: 0.8909 - time_distributed_5_acc: 0.9237 - time_distributed_6_acc: 0.9580 - val_loss: 1.5757 - val_time_distributed_1_loss: 0.3683 - val_time_distributed_2_loss: 0.2122 - val_time_distributed_3_loss: 0.3239 - val_time_distributed_4_loss: 0.3347 - val_time_distributed_5_loss: 0.2027 - val_time_distributed_6_loss: 0.1338 - val_time_distributed_1_acc: 0.8978 - val_time_distributed_2_acc: 0.9102 - val_time_distributed_3_acc: 0.8593 - val_time_distributed_4_acc: 0.8793 - val_time_distributed_5_acc: 0.9194 - val_time_distributed_6_acc: 0.9533\n",
            "Epoch 66/150\n",
            "6573/6573 [==============================] - 1s 211us/step - loss: 1.4236 - time_distributed_1_loss: 0.3336 - time_distributed_2_loss: 0.1841 - time_distributed_3_loss: 0.3009 - time_distributed_4_loss: 0.2999 - time_distributed_5_loss: 0.1856 - time_distributed_6_loss: 0.1196 - time_distributed_1_acc: 0.9066 - time_distributed_2_acc: 0.9209 - time_distributed_3_acc: 0.8699 - time_distributed_4_acc: 0.8919 - time_distributed_5_acc: 0.9241 - time_distributed_6_acc: 0.9580 - val_loss: 1.5702 - val_time_distributed_1_loss: 0.3665 - val_time_distributed_2_loss: 0.2118 - val_time_distributed_3_loss: 0.3220 - val_time_distributed_4_loss: 0.3341 - val_time_distributed_5_loss: 0.2021 - val_time_distributed_6_loss: 0.1336 - val_time_distributed_1_acc: 0.8983 - val_time_distributed_2_acc: 0.9086 - val_time_distributed_3_acc: 0.8585 - val_time_distributed_4_acc: 0.8759 - val_time_distributed_5_acc: 0.9196 - val_time_distributed_6_acc: 0.9535\n",
            "Epoch 67/150\n",
            "6573/6573 [==============================] - 1s 209us/step - loss: 1.4159 - time_distributed_1_loss: 0.3315 - time_distributed_2_loss: 0.1834 - time_distributed_3_loss: 0.2989 - time_distributed_4_loss: 0.2982 - time_distributed_5_loss: 0.1846 - time_distributed_6_loss: 0.1192 - time_distributed_1_acc: 0.9069 - time_distributed_2_acc: 0.9206 - time_distributed_3_acc: 0.8705 - time_distributed_4_acc: 0.8920 - time_distributed_5_acc: 0.9243 - time_distributed_6_acc: 0.9582 - val_loss: 1.5671 - val_time_distributed_1_loss: 0.3649 - val_time_distributed_2_loss: 0.2112 - val_time_distributed_3_loss: 0.3220 - val_time_distributed_4_loss: 0.3328 - val_time_distributed_5_loss: 0.2029 - val_time_distributed_6_loss: 0.1333 - val_time_distributed_1_acc: 0.8989 - val_time_distributed_2_acc: 0.9095 - val_time_distributed_3_acc: 0.8602 - val_time_distributed_4_acc: 0.8827 - val_time_distributed_5_acc: 0.9189 - val_time_distributed_6_acc: 0.9536\n",
            "Epoch 68/150\n",
            "6573/6573 [==============================] - 1s 205us/step - loss: 1.4098 - time_distributed_1_loss: 0.3296 - time_distributed_2_loss: 0.1829 - time_distributed_3_loss: 0.2975 - time_distributed_4_loss: 0.2970 - time_distributed_5_loss: 0.1840 - time_distributed_6_loss: 0.1188 - time_distributed_1_acc: 0.9075 - time_distributed_2_acc: 0.9209 - time_distributed_3_acc: 0.8711 - time_distributed_4_acc: 0.8935 - time_distributed_5_acc: 0.9240 - time_distributed_6_acc: 0.9584 - val_loss: 1.5611 - val_time_distributed_1_loss: 0.3636 - val_time_distributed_2_loss: 0.2106 - val_time_distributed_3_loss: 0.3203 - val_time_distributed_4_loss: 0.3318 - val_time_distributed_5_loss: 0.2014 - val_time_distributed_6_loss: 0.1334 - val_time_distributed_1_acc: 0.8990 - val_time_distributed_2_acc: 0.9100 - val_time_distributed_3_acc: 0.8605 - val_time_distributed_4_acc: 0.8800 - val_time_distributed_5_acc: 0.9196 - val_time_distributed_6_acc: 0.9540\n",
            "Epoch 69/150\n",
            "6573/6573 [==============================] - 1s 208us/step - loss: 1.4023 - time_distributed_1_loss: 0.3274 - time_distributed_2_loss: 0.1822 - time_distributed_3_loss: 0.2960 - time_distributed_4_loss: 0.2947 - time_distributed_5_loss: 0.1837 - time_distributed_6_loss: 0.1183 - time_distributed_1_acc: 0.9075 - time_distributed_2_acc: 0.9207 - time_distributed_3_acc: 0.8722 - time_distributed_4_acc: 0.8945 - time_distributed_5_acc: 0.9247 - time_distributed_6_acc: 0.9584 - val_loss: 1.5574 - val_time_distributed_1_loss: 0.3622 - val_time_distributed_2_loss: 0.2109 - val_time_distributed_3_loss: 0.3190 - val_time_distributed_4_loss: 0.3311 - val_time_distributed_5_loss: 0.2008 - val_time_distributed_6_loss: 0.1334 - val_time_distributed_1_acc: 0.8995 - val_time_distributed_2_acc: 0.9096 - val_time_distributed_3_acc: 0.8612 - val_time_distributed_4_acc: 0.8793 - val_time_distributed_5_acc: 0.9201 - val_time_distributed_6_acc: 0.9545\n",
            "Epoch 70/150\n",
            "6573/6573 [==============================] - 1s 209us/step - loss: 1.3948 - time_distributed_1_loss: 0.3254 - time_distributed_2_loss: 0.1814 - time_distributed_3_loss: 0.2943 - time_distributed_4_loss: 0.2933 - time_distributed_5_loss: 0.1823 - time_distributed_6_loss: 0.1180 - time_distributed_1_acc: 0.9081 - time_distributed_2_acc: 0.9217 - time_distributed_3_acc: 0.8733 - time_distributed_4_acc: 0.8956 - time_distributed_5_acc: 0.9253 - time_distributed_6_acc: 0.9588 - val_loss: 1.5529 - val_time_distributed_1_loss: 0.3602 - val_time_distributed_2_loss: 0.2100 - val_time_distributed_3_loss: 0.3182 - val_time_distributed_4_loss: 0.3293 - val_time_distributed_5_loss: 0.2024 - val_time_distributed_6_loss: 0.1328 - val_time_distributed_1_acc: 0.8997 - val_time_distributed_2_acc: 0.9100 - val_time_distributed_3_acc: 0.8618 - val_time_distributed_4_acc: 0.8829 - val_time_distributed_5_acc: 0.9190 - val_time_distributed_6_acc: 0.9543\n",
            "Epoch 71/150\n",
            "6573/6573 [==============================] - 1s 208us/step - loss: 1.3881 - time_distributed_1_loss: 0.3234 - time_distributed_2_loss: 0.1809 - time_distributed_3_loss: 0.2928 - time_distributed_4_loss: 0.2918 - time_distributed_5_loss: 0.1819 - time_distributed_6_loss: 0.1174 - time_distributed_1_acc: 0.9083 - time_distributed_2_acc: 0.9215 - time_distributed_3_acc: 0.8737 - time_distributed_4_acc: 0.8964 - time_distributed_5_acc: 0.9255 - time_distributed_6_acc: 0.9590 - val_loss: 1.5475 - val_time_distributed_1_loss: 0.3589 - val_time_distributed_2_loss: 0.2097 - val_time_distributed_3_loss: 0.3171 - val_time_distributed_4_loss: 0.3294 - val_time_distributed_5_loss: 0.2001 - val_time_distributed_6_loss: 0.1323 - val_time_distributed_1_acc: 0.8997 - val_time_distributed_2_acc: 0.9102 - val_time_distributed_3_acc: 0.8630 - val_time_distributed_4_acc: 0.8833 - val_time_distributed_5_acc: 0.9206 - val_time_distributed_6_acc: 0.9543\n",
            "Epoch 72/150\n",
            "6573/6573 [==============================] - 1s 208us/step - loss: 1.3826 - time_distributed_1_loss: 0.3218 - time_distributed_2_loss: 0.1805 - time_distributed_3_loss: 0.2915 - time_distributed_4_loss: 0.2901 - time_distributed_5_loss: 0.1816 - time_distributed_6_loss: 0.1172 - time_distributed_1_acc: 0.9088 - time_distributed_2_acc: 0.9214 - time_distributed_3_acc: 0.8730 - time_distributed_4_acc: 0.8965 - time_distributed_5_acc: 0.9254 - time_distributed_6_acc: 0.9589 - val_loss: 1.5445 - val_time_distributed_1_loss: 0.3580 - val_time_distributed_2_loss: 0.2103 - val_time_distributed_3_loss: 0.3158 - val_time_distributed_4_loss: 0.3286 - val_time_distributed_5_loss: 0.1998 - val_time_distributed_6_loss: 0.1321 - val_time_distributed_1_acc: 0.9005 - val_time_distributed_2_acc: 0.9095 - val_time_distributed_3_acc: 0.8621 - val_time_distributed_4_acc: 0.8811 - val_time_distributed_5_acc: 0.9212 - val_time_distributed_6_acc: 0.9544\n",
            "Epoch 73/150\n",
            "6573/6573 [==============================] - 1s 209us/step - loss: 1.3756 - time_distributed_1_loss: 0.3200 - time_distributed_2_loss: 0.1801 - time_distributed_3_loss: 0.2899 - time_distributed_4_loss: 0.2885 - time_distributed_5_loss: 0.1805 - time_distributed_6_loss: 0.1166 - time_distributed_1_acc: 0.9092 - time_distributed_2_acc: 0.9215 - time_distributed_3_acc: 0.8750 - time_distributed_4_acc: 0.8978 - time_distributed_5_acc: 0.9260 - time_distributed_6_acc: 0.9594 - val_loss: 1.5391 - val_time_distributed_1_loss: 0.3562 - val_time_distributed_2_loss: 0.2092 - val_time_distributed_3_loss: 0.3153 - val_time_distributed_4_loss: 0.3270 - val_time_distributed_5_loss: 0.1995 - val_time_distributed_6_loss: 0.1318 - val_time_distributed_1_acc: 0.9005 - val_time_distributed_2_acc: 0.9091 - val_time_distributed_3_acc: 0.8615 - val_time_distributed_4_acc: 0.8827 - val_time_distributed_5_acc: 0.9207 - val_time_distributed_6_acc: 0.9547\n",
            "Epoch 74/150\n",
            "6573/6573 [==============================] - 1s 208us/step - loss: 1.3694 - time_distributed_1_loss: 0.3183 - time_distributed_2_loss: 0.1794 - time_distributed_3_loss: 0.2884 - time_distributed_4_loss: 0.2872 - time_distributed_5_loss: 0.1796 - time_distributed_6_loss: 0.1164 - time_distributed_1_acc: 0.9097 - time_distributed_2_acc: 0.9219 - time_distributed_3_acc: 0.8748 - time_distributed_4_acc: 0.8977 - time_distributed_5_acc: 0.9263 - time_distributed_6_acc: 0.9592 - val_loss: 1.5349 - val_time_distributed_1_loss: 0.3545 - val_time_distributed_2_loss: 0.2092 - val_time_distributed_3_loss: 0.3143 - val_time_distributed_4_loss: 0.3262 - val_time_distributed_5_loss: 0.1991 - val_time_distributed_6_loss: 0.1316 - val_time_distributed_1_acc: 0.9005 - val_time_distributed_2_acc: 0.9103 - val_time_distributed_3_acc: 0.8636 - val_time_distributed_4_acc: 0.8856 - val_time_distributed_5_acc: 0.9207 - val_time_distributed_6_acc: 0.9548\n",
            "Epoch 75/150\n",
            "6573/6573 [==============================] - 1s 209us/step - loss: 1.3630 - time_distributed_1_loss: 0.3164 - time_distributed_2_loss: 0.1787 - time_distributed_3_loss: 0.2871 - time_distributed_4_loss: 0.2857 - time_distributed_5_loss: 0.1793 - time_distributed_6_loss: 0.1158 - time_distributed_1_acc: 0.9100 - time_distributed_2_acc: 0.9221 - time_distributed_3_acc: 0.8756 - time_distributed_4_acc: 0.8985 - time_distributed_5_acc: 0.9261 - time_distributed_6_acc: 0.9597 - val_loss: 1.5342 - val_time_distributed_1_loss: 0.3543 - val_time_distributed_2_loss: 0.2093 - val_time_distributed_3_loss: 0.3137 - val_time_distributed_4_loss: 0.3257 - val_time_distributed_5_loss: 0.1995 - val_time_distributed_6_loss: 0.1316 - val_time_distributed_1_acc: 0.9009 - val_time_distributed_2_acc: 0.9094 - val_time_distributed_3_acc: 0.8623 - val_time_distributed_4_acc: 0.8856 - val_time_distributed_5_acc: 0.9208 - val_time_distributed_6_acc: 0.9552\n",
            "Epoch 76/150\n",
            "6573/6573 [==============================] - 1s 209us/step - loss: 1.3573 - time_distributed_1_loss: 0.3148 - time_distributed_2_loss: 0.1783 - time_distributed_3_loss: 0.2860 - time_distributed_4_loss: 0.2841 - time_distributed_5_loss: 0.1787 - time_distributed_6_loss: 0.1154 - time_distributed_1_acc: 0.9106 - time_distributed_2_acc: 0.9223 - time_distributed_3_acc: 0.8760 - time_distributed_4_acc: 0.9003 - time_distributed_5_acc: 0.9262 - time_distributed_6_acc: 0.9599 - val_loss: 1.5309 - val_time_distributed_1_loss: 0.3532 - val_time_distributed_2_loss: 0.2093 - val_time_distributed_3_loss: 0.3135 - val_time_distributed_4_loss: 0.3251 - val_time_distributed_5_loss: 0.1986 - val_time_distributed_6_loss: 0.1312 - val_time_distributed_1_acc: 0.9011 - val_time_distributed_2_acc: 0.9100 - val_time_distributed_3_acc: 0.8643 - val_time_distributed_4_acc: 0.8868 - val_time_distributed_5_acc: 0.9212 - val_time_distributed_6_acc: 0.9554\n",
            "Epoch 77/150\n",
            "6573/6573 [==============================] - 1s 206us/step - loss: 1.3520 - time_distributed_1_loss: 0.3136 - time_distributed_2_loss: 0.1782 - time_distributed_3_loss: 0.2844 - time_distributed_4_loss: 0.2828 - time_distributed_5_loss: 0.1780 - time_distributed_6_loss: 0.1150 - time_distributed_1_acc: 0.9107 - time_distributed_2_acc: 0.9224 - time_distributed_3_acc: 0.8764 - time_distributed_4_acc: 0.9002 - time_distributed_5_acc: 0.9267 - time_distributed_6_acc: 0.9601 - val_loss: 1.5275 - val_time_distributed_1_loss: 0.3520 - val_time_distributed_2_loss: 0.2089 - val_time_distributed_3_loss: 0.3121 - val_time_distributed_4_loss: 0.3245 - val_time_distributed_5_loss: 0.1990 - val_time_distributed_6_loss: 0.1310 - val_time_distributed_1_acc: 0.9017 - val_time_distributed_2_acc: 0.9093 - val_time_distributed_3_acc: 0.8644 - val_time_distributed_4_acc: 0.8864 - val_time_distributed_5_acc: 0.9210 - val_time_distributed_6_acc: 0.9555\n",
            "Epoch 78/150\n",
            "6573/6573 [==============================] - 1s 205us/step - loss: 1.3450 - time_distributed_1_loss: 0.3115 - time_distributed_2_loss: 0.1772 - time_distributed_3_loss: 0.2830 - time_distributed_4_loss: 0.2812 - time_distributed_5_loss: 0.1773 - time_distributed_6_loss: 0.1147 - time_distributed_1_acc: 0.9108 - time_distributed_2_acc: 0.9230 - time_distributed_3_acc: 0.8773 - time_distributed_4_acc: 0.9005 - time_distributed_5_acc: 0.9267 - time_distributed_6_acc: 0.9601 - val_loss: 1.5241 - val_time_distributed_1_loss: 0.3507 - val_time_distributed_2_loss: 0.2088 - val_time_distributed_3_loss: 0.3115 - val_time_distributed_4_loss: 0.3241 - val_time_distributed_5_loss: 0.1985 - val_time_distributed_6_loss: 0.1305 - val_time_distributed_1_acc: 0.9015 - val_time_distributed_2_acc: 0.9100 - val_time_distributed_3_acc: 0.8642 - val_time_distributed_4_acc: 0.8847 - val_time_distributed_5_acc: 0.9208 - val_time_distributed_6_acc: 0.9551\n",
            "Epoch 79/150\n",
            "6573/6573 [==============================] - 1s 209us/step - loss: 1.3397 - time_distributed_1_loss: 0.3103 - time_distributed_2_loss: 0.1766 - time_distributed_3_loss: 0.2820 - time_distributed_4_loss: 0.2798 - time_distributed_5_loss: 0.1767 - time_distributed_6_loss: 0.1143 - time_distributed_1_acc: 0.9114 - time_distributed_2_acc: 0.9227 - time_distributed_3_acc: 0.8772 - time_distributed_4_acc: 0.9019 - time_distributed_5_acc: 0.9272 - time_distributed_6_acc: 0.9602 - val_loss: 1.5210 - val_time_distributed_1_loss: 0.3499 - val_time_distributed_2_loss: 0.2089 - val_time_distributed_3_loss: 0.3106 - val_time_distributed_4_loss: 0.3229 - val_time_distributed_5_loss: 0.1984 - val_time_distributed_6_loss: 0.1303 - val_time_distributed_1_acc: 0.9018 - val_time_distributed_2_acc: 0.9095 - val_time_distributed_3_acc: 0.8641 - val_time_distributed_4_acc: 0.8868 - val_time_distributed_5_acc: 0.9223 - val_time_distributed_6_acc: 0.9554\n",
            "Epoch 80/150\n",
            "6573/6573 [==============================] - 2s 242us/step - loss: 1.3340 - time_distributed_1_loss: 0.3089 - time_distributed_2_loss: 0.1762 - time_distributed_3_loss: 0.2807 - time_distributed_4_loss: 0.2784 - time_distributed_5_loss: 0.1761 - time_distributed_6_loss: 0.1138 - time_distributed_1_acc: 0.9113 - time_distributed_2_acc: 0.9236 - time_distributed_3_acc: 0.8783 - time_distributed_4_acc: 0.9024 - time_distributed_5_acc: 0.9273 - time_distributed_6_acc: 0.9605 - val_loss: 1.5185 - val_time_distributed_1_loss: 0.3492 - val_time_distributed_2_loss: 0.2085 - val_time_distributed_3_loss: 0.3098 - val_time_distributed_4_loss: 0.3220 - val_time_distributed_5_loss: 0.1983 - val_time_distributed_6_loss: 0.1307 - val_time_distributed_1_acc: 0.9018 - val_time_distributed_2_acc: 0.9088 - val_time_distributed_3_acc: 0.8648 - val_time_distributed_4_acc: 0.8844 - val_time_distributed_5_acc: 0.9228 - val_time_distributed_6_acc: 0.9555\n",
            "Epoch 81/150\n",
            "6573/6573 [==============================] - 2s 245us/step - loss: 1.3299 - time_distributed_1_loss: 0.3078 - time_distributed_2_loss: 0.1761 - time_distributed_3_loss: 0.2799 - time_distributed_4_loss: 0.2769 - time_distributed_5_loss: 0.1757 - time_distributed_6_loss: 0.1136 - time_distributed_1_acc: 0.9117 - time_distributed_2_acc: 0.9230 - time_distributed_3_acc: 0.8778 - time_distributed_4_acc: 0.9023 - time_distributed_5_acc: 0.9278 - time_distributed_6_acc: 0.9604 - val_loss: 1.5161 - val_time_distributed_1_loss: 0.3482 - val_time_distributed_2_loss: 0.2084 - val_time_distributed_3_loss: 0.3092 - val_time_distributed_4_loss: 0.3215 - val_time_distributed_5_loss: 0.1986 - val_time_distributed_6_loss: 0.1302 - val_time_distributed_1_acc: 0.9021 - val_time_distributed_2_acc: 0.9087 - val_time_distributed_3_acc: 0.8654 - val_time_distributed_4_acc: 0.8857 - val_time_distributed_5_acc: 0.9215 - val_time_distributed_6_acc: 0.9561\n",
            "Epoch 82/150\n",
            "6573/6573 [==============================] - 2s 242us/step - loss: 1.3237 - time_distributed_1_loss: 0.3063 - time_distributed_2_loss: 0.1754 - time_distributed_3_loss: 0.2783 - time_distributed_4_loss: 0.2754 - time_distributed_5_loss: 0.1752 - time_distributed_6_loss: 0.1132 - time_distributed_1_acc: 0.9122 - time_distributed_2_acc: 0.9235 - time_distributed_3_acc: 0.8791 - time_distributed_4_acc: 0.9037 - time_distributed_5_acc: 0.9277 - time_distributed_6_acc: 0.9606 - val_loss: 1.5152 - val_time_distributed_1_loss: 0.3473 - val_time_distributed_2_loss: 0.2091 - val_time_distributed_3_loss: 0.3095 - val_time_distributed_4_loss: 0.3207 - val_time_distributed_5_loss: 0.1991 - val_time_distributed_6_loss: 0.1295 - val_time_distributed_1_acc: 0.9033 - val_time_distributed_2_acc: 0.9089 - val_time_distributed_3_acc: 0.8651 - val_time_distributed_4_acc: 0.8880 - val_time_distributed_5_acc: 0.9212 - val_time_distributed_6_acc: 0.9563\n",
            "Epoch 83/150\n",
            "6573/6573 [==============================] - 2s 247us/step - loss: 1.3205 - time_distributed_1_loss: 0.3050 - time_distributed_2_loss: 0.1752 - time_distributed_3_loss: 0.2777 - time_distributed_4_loss: 0.2745 - time_distributed_5_loss: 0.1753 - time_distributed_6_loss: 0.1128 - time_distributed_1_acc: 0.9126 - time_distributed_2_acc: 0.9240 - time_distributed_3_acc: 0.8794 - time_distributed_4_acc: 0.9034 - time_distributed_5_acc: 0.9279 - time_distributed_6_acc: 0.9611 - val_loss: 1.5111 - val_time_distributed_1_loss: 0.3466 - val_time_distributed_2_loss: 0.2089 - val_time_distributed_3_loss: 0.3083 - val_time_distributed_4_loss: 0.3202 - val_time_distributed_5_loss: 0.1979 - val_time_distributed_6_loss: 0.1292 - val_time_distributed_1_acc: 0.9039 - val_time_distributed_2_acc: 0.9097 - val_time_distributed_3_acc: 0.8659 - val_time_distributed_4_acc: 0.8887 - val_time_distributed_5_acc: 0.9229 - val_time_distributed_6_acc: 0.9563\n",
            "Epoch 84/150\n",
            "6573/6573 [==============================] - 2s 243us/step - loss: 1.3130 - time_distributed_1_loss: 0.3033 - time_distributed_2_loss: 0.1743 - time_distributed_3_loss: 0.2762 - time_distributed_4_loss: 0.2727 - time_distributed_5_loss: 0.1741 - time_distributed_6_loss: 0.1124 - time_distributed_1_acc: 0.9132 - time_distributed_2_acc: 0.9240 - time_distributed_3_acc: 0.8803 - time_distributed_4_acc: 0.9049 - time_distributed_5_acc: 0.9282 - time_distributed_6_acc: 0.9606 - val_loss: 1.5094 - val_time_distributed_1_loss: 0.3461 - val_time_distributed_2_loss: 0.2088 - val_time_distributed_3_loss: 0.3078 - val_time_distributed_4_loss: 0.3198 - val_time_distributed_5_loss: 0.1979 - val_time_distributed_6_loss: 0.1291 - val_time_distributed_1_acc: 0.9042 - val_time_distributed_2_acc: 0.9097 - val_time_distributed_3_acc: 0.8661 - val_time_distributed_4_acc: 0.8885 - val_time_distributed_5_acc: 0.9218 - val_time_distributed_6_acc: 0.9563\n",
            "Epoch 85/150\n",
            "6573/6573 [==============================] - 2s 243us/step - loss: 1.3084 - time_distributed_1_loss: 0.3024 - time_distributed_2_loss: 0.1739 - time_distributed_3_loss: 0.2750 - time_distributed_4_loss: 0.2714 - time_distributed_5_loss: 0.1736 - time_distributed_6_loss: 0.1121 - time_distributed_1_acc: 0.9136 - time_distributed_2_acc: 0.9237 - time_distributed_3_acc: 0.8807 - time_distributed_4_acc: 0.9051 - time_distributed_5_acc: 0.9283 - time_distributed_6_acc: 0.9612 - val_loss: 1.5071 - val_time_distributed_1_loss: 0.3453 - val_time_distributed_2_loss: 0.2085 - val_time_distributed_3_loss: 0.3071 - val_time_distributed_4_loss: 0.3189 - val_time_distributed_5_loss: 0.1983 - val_time_distributed_6_loss: 0.1290 - val_time_distributed_1_acc: 0.9039 - val_time_distributed_2_acc: 0.9104 - val_time_distributed_3_acc: 0.8662 - val_time_distributed_4_acc: 0.8891 - val_time_distributed_5_acc: 0.9218 - val_time_distributed_6_acc: 0.9566\n",
            "Epoch 86/150\n",
            "6573/6573 [==============================] - 1s 215us/step - loss: 1.3033 - time_distributed_1_loss: 0.3010 - time_distributed_2_loss: 0.1737 - time_distributed_3_loss: 0.2738 - time_distributed_4_loss: 0.2698 - time_distributed_5_loss: 0.1731 - time_distributed_6_loss: 0.1119 - time_distributed_1_acc: 0.9138 - time_distributed_2_acc: 0.9240 - time_distributed_3_acc: 0.8811 - time_distributed_4_acc: 0.9066 - time_distributed_5_acc: 0.9285 - time_distributed_6_acc: 0.9609 - val_loss: 1.5056 - val_time_distributed_1_loss: 0.3448 - val_time_distributed_2_loss: 0.2087 - val_time_distributed_3_loss: 0.3069 - val_time_distributed_4_loss: 0.3185 - val_time_distributed_5_loss: 0.1976 - val_time_distributed_6_loss: 0.1291 - val_time_distributed_1_acc: 0.9046 - val_time_distributed_2_acc: 0.9095 - val_time_distributed_3_acc: 0.8667 - val_time_distributed_4_acc: 0.8896 - val_time_distributed_5_acc: 0.9232 - val_time_distributed_6_acc: 0.9569\n",
            "Epoch 87/150\n",
            "6573/6573 [==============================] - 1s 211us/step - loss: 1.2983 - time_distributed_1_loss: 0.2999 - time_distributed_2_loss: 0.1732 - time_distributed_3_loss: 0.2728 - time_distributed_4_loss: 0.2686 - time_distributed_5_loss: 0.1724 - time_distributed_6_loss: 0.1115 - time_distributed_1_acc: 0.9142 - time_distributed_2_acc: 0.9248 - time_distributed_3_acc: 0.8813 - time_distributed_4_acc: 0.9063 - time_distributed_5_acc: 0.9293 - time_distributed_6_acc: 0.9612 - val_loss: 1.5050 - val_time_distributed_1_loss: 0.3445 - val_time_distributed_2_loss: 0.2095 - val_time_distributed_3_loss: 0.3062 - val_time_distributed_4_loss: 0.3181 - val_time_distributed_5_loss: 0.1978 - val_time_distributed_6_loss: 0.1288 - val_time_distributed_1_acc: 0.9047 - val_time_distributed_2_acc: 0.9095 - val_time_distributed_3_acc: 0.8661 - val_time_distributed_4_acc: 0.8878 - val_time_distributed_5_acc: 0.9227 - val_time_distributed_6_acc: 0.9570\n",
            "Epoch 88/150\n",
            "6573/6573 [==============================] - 1s 209us/step - loss: 1.2943 - time_distributed_1_loss: 0.2986 - time_distributed_2_loss: 0.1729 - time_distributed_3_loss: 0.2720 - time_distributed_4_loss: 0.2674 - time_distributed_5_loss: 0.1721 - time_distributed_6_loss: 0.1113 - time_distributed_1_acc: 0.9142 - time_distributed_2_acc: 0.9245 - time_distributed_3_acc: 0.8810 - time_distributed_4_acc: 0.9068 - time_distributed_5_acc: 0.9290 - time_distributed_6_acc: 0.9611 - val_loss: 1.5039 - val_time_distributed_1_loss: 0.3438 - val_time_distributed_2_loss: 0.2090 - val_time_distributed_3_loss: 0.3065 - val_time_distributed_4_loss: 0.3174 - val_time_distributed_5_loss: 0.1985 - val_time_distributed_6_loss: 0.1287 - val_time_distributed_1_acc: 0.9044 - val_time_distributed_2_acc: 0.9093 - val_time_distributed_3_acc: 0.8667 - val_time_distributed_4_acc: 0.8903 - val_time_distributed_5_acc: 0.9214 - val_time_distributed_6_acc: 0.9568\n",
            "Epoch 89/150\n",
            "6573/6573 [==============================] - 1s 206us/step - loss: 1.2899 - time_distributed_1_loss: 0.2977 - time_distributed_2_loss: 0.1724 - time_distributed_3_loss: 0.2712 - time_distributed_4_loss: 0.2663 - time_distributed_5_loss: 0.1716 - time_distributed_6_loss: 0.1108 - time_distributed_1_acc: 0.9147 - time_distributed_2_acc: 0.9246 - time_distributed_3_acc: 0.8811 - time_distributed_4_acc: 0.9075 - time_distributed_5_acc: 0.9289 - time_distributed_6_acc: 0.9612 - val_loss: 1.5057 - val_time_distributed_1_loss: 0.3443 - val_time_distributed_2_loss: 0.2092 - val_time_distributed_3_loss: 0.3073 - val_time_distributed_4_loss: 0.3169 - val_time_distributed_5_loss: 0.1994 - val_time_distributed_6_loss: 0.1287 - val_time_distributed_1_acc: 0.9041 - val_time_distributed_2_acc: 0.9095 - val_time_distributed_3_acc: 0.8678 - val_time_distributed_4_acc: 0.8906 - val_time_distributed_5_acc: 0.9207 - val_time_distributed_6_acc: 0.9568\n",
            "Epoch 90/150\n",
            "6573/6573 [==============================] - 1s 208us/step - loss: 1.2849 - time_distributed_1_loss: 0.2965 - time_distributed_2_loss: 0.1720 - time_distributed_3_loss: 0.2704 - time_distributed_4_loss: 0.2644 - time_distributed_5_loss: 0.1710 - time_distributed_6_loss: 0.1106 - time_distributed_1_acc: 0.9147 - time_distributed_2_acc: 0.9246 - time_distributed_3_acc: 0.8822 - time_distributed_4_acc: 0.9079 - time_distributed_5_acc: 0.9292 - time_distributed_6_acc: 0.9613 - val_loss: 1.5009 - val_time_distributed_1_loss: 0.3433 - val_time_distributed_2_loss: 0.2095 - val_time_distributed_3_loss: 0.3050 - val_time_distributed_4_loss: 0.3166 - val_time_distributed_5_loss: 0.1980 - val_time_distributed_6_loss: 0.1285 - val_time_distributed_1_acc: 0.9049 - val_time_distributed_2_acc: 0.9089 - val_time_distributed_3_acc: 0.8685 - val_time_distributed_4_acc: 0.8884 - val_time_distributed_5_acc: 0.9226 - val_time_distributed_6_acc: 0.9571\n",
            "Epoch 91/150\n",
            "6573/6573 [==============================] - 1s 210us/step - loss: 1.2807 - time_distributed_1_loss: 0.2955 - time_distributed_2_loss: 0.1717 - time_distributed_3_loss: 0.2693 - time_distributed_4_loss: 0.2633 - time_distributed_5_loss: 0.1707 - time_distributed_6_loss: 0.1102 - time_distributed_1_acc: 0.9150 - time_distributed_2_acc: 0.9245 - time_distributed_3_acc: 0.8823 - time_distributed_4_acc: 0.9086 - time_distributed_5_acc: 0.9293 - time_distributed_6_acc: 0.9613 - val_loss: 1.4997 - val_time_distributed_1_loss: 0.3430 - val_time_distributed_2_loss: 0.2095 - val_time_distributed_3_loss: 0.3048 - val_time_distributed_4_loss: 0.3159 - val_time_distributed_5_loss: 0.1982 - val_time_distributed_6_loss: 0.1283 - val_time_distributed_1_acc: 0.9049 - val_time_distributed_2_acc: 0.9091 - val_time_distributed_3_acc: 0.8684 - val_time_distributed_4_acc: 0.8886 - val_time_distributed_5_acc: 0.9212 - val_time_distributed_6_acc: 0.9571\n",
            "Epoch 92/150\n",
            "6573/6573 [==============================] - 1s 206us/step - loss: 1.2764 - time_distributed_1_loss: 0.2944 - time_distributed_2_loss: 0.1714 - time_distributed_3_loss: 0.2684 - time_distributed_4_loss: 0.2621 - time_distributed_5_loss: 0.1703 - time_distributed_6_loss: 0.1099 - time_distributed_1_acc: 0.9152 - time_distributed_2_acc: 0.9246 - time_distributed_3_acc: 0.8831 - time_distributed_4_acc: 0.9087 - time_distributed_5_acc: 0.9297 - time_distributed_6_acc: 0.9615 - val_loss: 1.5015 - val_time_distributed_1_loss: 0.3434 - val_time_distributed_2_loss: 0.2100 - val_time_distributed_3_loss: 0.3052 - val_time_distributed_4_loss: 0.3167 - val_time_distributed_5_loss: 0.1980 - val_time_distributed_6_loss: 0.1282 - val_time_distributed_1_acc: 0.9039 - val_time_distributed_2_acc: 0.9098 - val_time_distributed_3_acc: 0.8691 - val_time_distributed_4_acc: 0.8915 - val_time_distributed_5_acc: 0.9217 - val_time_distributed_6_acc: 0.9569\n",
            "Epoch 93/150\n",
            "6573/6573 [==============================] - 1s 208us/step - loss: 1.2730 - time_distributed_1_loss: 0.2934 - time_distributed_2_loss: 0.1710 - time_distributed_3_loss: 0.2677 - time_distributed_4_loss: 0.2612 - time_distributed_5_loss: 0.1700 - time_distributed_6_loss: 0.1098 - time_distributed_1_acc: 0.9151 - time_distributed_2_acc: 0.9247 - time_distributed_3_acc: 0.8839 - time_distributed_4_acc: 0.9090 - time_distributed_5_acc: 0.9295 - time_distributed_6_acc: 0.9616 - val_loss: 1.4976 - val_time_distributed_1_loss: 0.3426 - val_time_distributed_2_loss: 0.2095 - val_time_distributed_3_loss: 0.3043 - val_time_distributed_4_loss: 0.3152 - val_time_distributed_5_loss: 0.1979 - val_time_distributed_6_loss: 0.1280 - val_time_distributed_1_acc: 0.9050 - val_time_distributed_2_acc: 0.9099 - val_time_distributed_3_acc: 0.8690 - val_time_distributed_4_acc: 0.8915 - val_time_distributed_5_acc: 0.9218 - val_time_distributed_6_acc: 0.9571\n",
            "Epoch 94/150\n",
            "6573/6573 [==============================] - 1s 206us/step - loss: 1.2683 - time_distributed_1_loss: 0.2924 - time_distributed_2_loss: 0.1704 - time_distributed_3_loss: 0.2665 - time_distributed_4_loss: 0.2601 - time_distributed_5_loss: 0.1695 - time_distributed_6_loss: 0.1094 - time_distributed_1_acc: 0.9154 - time_distributed_2_acc: 0.9256 - time_distributed_3_acc: 0.8844 - time_distributed_4_acc: 0.9098 - time_distributed_5_acc: 0.9296 - time_distributed_6_acc: 0.9617 - val_loss: 1.4963 - val_time_distributed_1_loss: 0.3420 - val_time_distributed_2_loss: 0.2099 - val_time_distributed_3_loss: 0.3043 - val_time_distributed_4_loss: 0.3145 - val_time_distributed_5_loss: 0.1976 - val_time_distributed_6_loss: 0.1280 - val_time_distributed_1_acc: 0.9053 - val_time_distributed_2_acc: 0.9092 - val_time_distributed_3_acc: 0.8687 - val_time_distributed_4_acc: 0.8892 - val_time_distributed_5_acc: 0.9228 - val_time_distributed_6_acc: 0.9575\n",
            "Epoch 95/150\n",
            "6573/6573 [==============================] - 1s 206us/step - loss: 1.2638 - time_distributed_1_loss: 0.2914 - time_distributed_2_loss: 0.1701 - time_distributed_3_loss: 0.2656 - time_distributed_4_loss: 0.2586 - time_distributed_5_loss: 0.1689 - time_distributed_6_loss: 0.1092 - time_distributed_1_acc: 0.9157 - time_distributed_2_acc: 0.9256 - time_distributed_3_acc: 0.8842 - time_distributed_4_acc: 0.9098 - time_distributed_5_acc: 0.9298 - time_distributed_6_acc: 0.9618 - val_loss: 1.4979 - val_time_distributed_1_loss: 0.3426 - val_time_distributed_2_loss: 0.2103 - val_time_distributed_3_loss: 0.3044 - val_time_distributed_4_loss: 0.3140 - val_time_distributed_5_loss: 0.1983 - val_time_distributed_6_loss: 0.1283 - val_time_distributed_1_acc: 0.9049 - val_time_distributed_2_acc: 0.9096 - val_time_distributed_3_acc: 0.8693 - val_time_distributed_4_acc: 0.8914 - val_time_distributed_5_acc: 0.9218 - val_time_distributed_6_acc: 0.9571\n",
            "Epoch 96/150\n",
            "6573/6573 [==============================] - 1s 209us/step - loss: 1.2604 - time_distributed_1_loss: 0.2904 - time_distributed_2_loss: 0.1698 - time_distributed_3_loss: 0.2651 - time_distributed_4_loss: 0.2574 - time_distributed_5_loss: 0.1689 - time_distributed_6_loss: 0.1088 - time_distributed_1_acc: 0.9157 - time_distributed_2_acc: 0.9254 - time_distributed_3_acc: 0.8845 - time_distributed_4_acc: 0.9100 - time_distributed_5_acc: 0.9293 - time_distributed_6_acc: 0.9620 - val_loss: 1.4973 - val_time_distributed_1_loss: 0.3423 - val_time_distributed_2_loss: 0.2111 - val_time_distributed_3_loss: 0.3041 - val_time_distributed_4_loss: 0.3138 - val_time_distributed_5_loss: 0.1980 - val_time_distributed_6_loss: 0.1281 - val_time_distributed_1_acc: 0.9055 - val_time_distributed_2_acc: 0.9095 - val_time_distributed_3_acc: 0.8685 - val_time_distributed_4_acc: 0.8891 - val_time_distributed_5_acc: 0.9219 - val_time_distributed_6_acc: 0.9568\n",
            "Epoch 97/150\n",
            "6573/6573 [==============================] - 1s 206us/step - loss: 1.2573 - time_distributed_1_loss: 0.2898 - time_distributed_2_loss: 0.1696 - time_distributed_3_loss: 0.2643 - time_distributed_4_loss: 0.2566 - time_distributed_5_loss: 0.1683 - time_distributed_6_loss: 0.1086 - time_distributed_1_acc: 0.9165 - time_distributed_2_acc: 0.9260 - time_distributed_3_acc: 0.8850 - time_distributed_4_acc: 0.9104 - time_distributed_5_acc: 0.9299 - time_distributed_6_acc: 0.9619 - val_loss: 1.4955 - val_time_distributed_1_loss: 0.3417 - val_time_distributed_2_loss: 0.2100 - val_time_distributed_3_loss: 0.3034 - val_time_distributed_4_loss: 0.3144 - val_time_distributed_5_loss: 0.1982 - val_time_distributed_6_loss: 0.1279 - val_time_distributed_1_acc: 0.9058 - val_time_distributed_2_acc: 0.9102 - val_time_distributed_3_acc: 0.8700 - val_time_distributed_4_acc: 0.8888 - val_time_distributed_5_acc: 0.9225 - val_time_distributed_6_acc: 0.9571\n",
            "Epoch 98/150\n",
            "6573/6573 [==============================] - 1s 205us/step - loss: 1.2531 - time_distributed_1_loss: 0.2886 - time_distributed_2_loss: 0.1690 - time_distributed_3_loss: 0.2638 - time_distributed_4_loss: 0.2552 - time_distributed_5_loss: 0.1683 - time_distributed_6_loss: 0.1082 - time_distributed_1_acc: 0.9161 - time_distributed_2_acc: 0.9259 - time_distributed_3_acc: 0.8844 - time_distributed_4_acc: 0.9117 - time_distributed_5_acc: 0.9297 - time_distributed_6_acc: 0.9620 - val_loss: 1.4934 - val_time_distributed_1_loss: 0.3413 - val_time_distributed_2_loss: 0.2101 - val_time_distributed_3_loss: 0.3031 - val_time_distributed_4_loss: 0.3133 - val_time_distributed_5_loss: 0.1979 - val_time_distributed_6_loss: 0.1277 - val_time_distributed_1_acc: 0.9049 - val_time_distributed_2_acc: 0.9095 - val_time_distributed_3_acc: 0.8707 - val_time_distributed_4_acc: 0.8898 - val_time_distributed_5_acc: 0.9232 - val_time_distributed_6_acc: 0.9574\n",
            "Epoch 99/150\n",
            "6573/6573 [==============================] - 1s 211us/step - loss: 1.2482 - time_distributed_1_loss: 0.2875 - time_distributed_2_loss: 0.1688 - time_distributed_3_loss: 0.2626 - time_distributed_4_loss: 0.2539 - time_distributed_5_loss: 0.1676 - time_distributed_6_loss: 0.1079 - time_distributed_1_acc: 0.9167 - time_distributed_2_acc: 0.9261 - time_distributed_3_acc: 0.8857 - time_distributed_4_acc: 0.9124 - time_distributed_5_acc: 0.9304 - time_distributed_6_acc: 0.9620 - val_loss: 1.4931 - val_time_distributed_1_loss: 0.3412 - val_time_distributed_2_loss: 0.2101 - val_time_distributed_3_loss: 0.3031 - val_time_distributed_4_loss: 0.3127 - val_time_distributed_5_loss: 0.1984 - val_time_distributed_6_loss: 0.1276 - val_time_distributed_1_acc: 0.9057 - val_time_distributed_2_acc: 0.9092 - val_time_distributed_3_acc: 0.8706 - val_time_distributed_4_acc: 0.8924 - val_time_distributed_5_acc: 0.9218 - val_time_distributed_6_acc: 0.9574\n",
            "Epoch 100/150\n",
            "6573/6573 [==============================] - 1s 206us/step - loss: 1.2445 - time_distributed_1_loss: 0.2867 - time_distributed_2_loss: 0.1683 - time_distributed_3_loss: 0.2618 - time_distributed_4_loss: 0.2529 - time_distributed_5_loss: 0.1671 - time_distributed_6_loss: 0.1078 - time_distributed_1_acc: 0.9171 - time_distributed_2_acc: 0.9262 - time_distributed_3_acc: 0.8861 - time_distributed_4_acc: 0.9128 - time_distributed_5_acc: 0.9299 - time_distributed_6_acc: 0.9621 - val_loss: 1.4935 - val_time_distributed_1_loss: 0.3413 - val_time_distributed_2_loss: 0.2102 - val_time_distributed_3_loss: 0.3034 - val_time_distributed_4_loss: 0.3124 - val_time_distributed_5_loss: 0.1983 - val_time_distributed_6_loss: 0.1279 - val_time_distributed_1_acc: 0.9050 - val_time_distributed_2_acc: 0.9091 - val_time_distributed_3_acc: 0.8695 - val_time_distributed_4_acc: 0.8924 - val_time_distributed_5_acc: 0.9220 - val_time_distributed_6_acc: 0.9572\n",
            "Epoch 101/150\n",
            "6573/6573 [==============================] - 1s 207us/step - loss: 1.2408 - time_distributed_1_loss: 0.2859 - time_distributed_2_loss: 0.1678 - time_distributed_3_loss: 0.2609 - time_distributed_4_loss: 0.2518 - time_distributed_5_loss: 0.1669 - time_distributed_6_loss: 0.1075 - time_distributed_1_acc: 0.9170 - time_distributed_2_acc: 0.9265 - time_distributed_3_acc: 0.8862 - time_distributed_4_acc: 0.9124 - time_distributed_5_acc: 0.9303 - time_distributed_6_acc: 0.9621 - val_loss: 1.4951 - val_time_distributed_1_loss: 0.3415 - val_time_distributed_2_loss: 0.2106 - val_time_distributed_3_loss: 0.3034 - val_time_distributed_4_loss: 0.3126 - val_time_distributed_5_loss: 0.1992 - val_time_distributed_6_loss: 0.1278 - val_time_distributed_1_acc: 0.9048 - val_time_distributed_2_acc: 0.9103 - val_time_distributed_3_acc: 0.8709 - val_time_distributed_4_acc: 0.8937 - val_time_distributed_5_acc: 0.9210 - val_time_distributed_6_acc: 0.9568\n",
            "Epoch 102/150\n",
            "6573/6573 [==============================] - 1s 208us/step - loss: 1.2380 - time_distributed_1_loss: 0.2853 - time_distributed_2_loss: 0.1677 - time_distributed_3_loss: 0.2604 - time_distributed_4_loss: 0.2507 - time_distributed_5_loss: 0.1665 - time_distributed_6_loss: 0.1073 - time_distributed_1_acc: 0.9169 - time_distributed_2_acc: 0.9265 - time_distributed_3_acc: 0.8867 - time_distributed_4_acc: 0.9128 - time_distributed_5_acc: 0.9304 - time_distributed_6_acc: 0.9622 - val_loss: 1.4926 - val_time_distributed_1_loss: 0.3411 - val_time_distributed_2_loss: 0.2105 - val_time_distributed_3_loss: 0.3028 - val_time_distributed_4_loss: 0.3118 - val_time_distributed_5_loss: 0.1985 - val_time_distributed_6_loss: 0.1278 - val_time_distributed_1_acc: 0.9055 - val_time_distributed_2_acc: 0.9093 - val_time_distributed_3_acc: 0.8706 - val_time_distributed_4_acc: 0.8934 - val_time_distributed_5_acc: 0.9224 - val_time_distributed_6_acc: 0.9571\n",
            "Epoch 103/150\n",
            "6573/6573 [==============================] - 1s 207us/step - loss: 1.2346 - time_distributed_1_loss: 0.2842 - time_distributed_2_loss: 0.1675 - time_distributed_3_loss: 0.2600 - time_distributed_4_loss: 0.2498 - time_distributed_5_loss: 0.1662 - time_distributed_6_loss: 0.1070 - time_distributed_1_acc: 0.9175 - time_distributed_2_acc: 0.9269 - time_distributed_3_acc: 0.8860 - time_distributed_4_acc: 0.9131 - time_distributed_5_acc: 0.9304 - time_distributed_6_acc: 0.9624 - val_loss: 1.4921 - val_time_distributed_1_loss: 0.3408 - val_time_distributed_2_loss: 0.2107 - val_time_distributed_3_loss: 0.3029 - val_time_distributed_4_loss: 0.3111 - val_time_distributed_5_loss: 0.1990 - val_time_distributed_6_loss: 0.1276 - val_time_distributed_1_acc: 0.9062 - val_time_distributed_2_acc: 0.9091 - val_time_distributed_3_acc: 0.8690 - val_time_distributed_4_acc: 0.8928 - val_time_distributed_5_acc: 0.9214 - val_time_distributed_6_acc: 0.9575\n",
            "Epoch 104/150\n",
            "6573/6573 [==============================] - 1s 205us/step - loss: 1.2313 - time_distributed_1_loss: 0.2836 - time_distributed_2_loss: 0.1669 - time_distributed_3_loss: 0.2593 - time_distributed_4_loss: 0.2487 - time_distributed_5_loss: 0.1660 - time_distributed_6_loss: 0.1068 - time_distributed_1_acc: 0.9178 - time_distributed_2_acc: 0.9269 - time_distributed_3_acc: 0.8871 - time_distributed_4_acc: 0.9139 - time_distributed_5_acc: 0.9304 - time_distributed_6_acc: 0.9624 - val_loss: 1.4949 - val_time_distributed_1_loss: 0.3415 - val_time_distributed_2_loss: 0.2114 - val_time_distributed_3_loss: 0.3029 - val_time_distributed_4_loss: 0.3114 - val_time_distributed_5_loss: 0.2000 - val_time_distributed_6_loss: 0.1278 - val_time_distributed_1_acc: 0.9052 - val_time_distributed_2_acc: 0.9097 - val_time_distributed_3_acc: 0.8705 - val_time_distributed_4_acc: 0.8923 - val_time_distributed_5_acc: 0.9204 - val_time_distributed_6_acc: 0.9573\n",
            "Epoch 105/150\n",
            "6573/6573 [==============================] - 1s 207us/step - loss: 1.2288 - time_distributed_1_loss: 0.2829 - time_distributed_2_loss: 0.1671 - time_distributed_3_loss: 0.2585 - time_distributed_4_loss: 0.2480 - time_distributed_5_loss: 0.1657 - time_distributed_6_loss: 0.1066 - time_distributed_1_acc: 0.9177 - time_distributed_2_acc: 0.9266 - time_distributed_3_acc: 0.8870 - time_distributed_4_acc: 0.9135 - time_distributed_5_acc: 0.9306 - time_distributed_6_acc: 0.9622 - val_loss: 1.4968 - val_time_distributed_1_loss: 0.3417 - val_time_distributed_2_loss: 0.2115 - val_time_distributed_3_loss: 0.3034 - val_time_distributed_4_loss: 0.3109 - val_time_distributed_5_loss: 0.2015 - val_time_distributed_6_loss: 0.1279 - val_time_distributed_1_acc: 0.9047 - val_time_distributed_2_acc: 0.9088 - val_time_distributed_3_acc: 0.8702 - val_time_distributed_4_acc: 0.8926 - val_time_distributed_5_acc: 0.9182 - val_time_distributed_6_acc: 0.9572\n",
            "Epoch 106/150\n",
            "6573/6573 [==============================] - 1s 207us/step - loss: 1.2254 - time_distributed_1_loss: 0.2821 - time_distributed_2_loss: 0.1665 - time_distributed_3_loss: 0.2580 - time_distributed_4_loss: 0.2470 - time_distributed_5_loss: 0.1654 - time_distributed_6_loss: 0.1065 - time_distributed_1_acc: 0.9181 - time_distributed_2_acc: 0.9270 - time_distributed_3_acc: 0.8869 - time_distributed_4_acc: 0.9142 - time_distributed_5_acc: 0.9306 - time_distributed_6_acc: 0.9623 - val_loss: 1.4929 - val_time_distributed_1_loss: 0.3413 - val_time_distributed_2_loss: 0.2112 - val_time_distributed_3_loss: 0.3033 - val_time_distributed_4_loss: 0.3106 - val_time_distributed_5_loss: 0.1988 - val_time_distributed_6_loss: 0.1278 - val_time_distributed_1_acc: 0.9050 - val_time_distributed_2_acc: 0.9088 - val_time_distributed_3_acc: 0.8696 - val_time_distributed_4_acc: 0.8931 - val_time_distributed_5_acc: 0.9218 - val_time_distributed_6_acc: 0.9569\n",
            "Epoch 107/150\n",
            "6573/6573 [==============================] - 1s 206us/step - loss: 1.2223 - time_distributed_1_loss: 0.2813 - time_distributed_2_loss: 0.1661 - time_distributed_3_loss: 0.2576 - time_distributed_4_loss: 0.2460 - time_distributed_5_loss: 0.1650 - time_distributed_6_loss: 0.1061 - time_distributed_1_acc: 0.9181 - time_distributed_2_acc: 0.9269 - time_distributed_3_acc: 0.8867 - time_distributed_4_acc: 0.9147 - time_distributed_5_acc: 0.9308 - time_distributed_6_acc: 0.9625 - val_loss: 1.4960 - val_time_distributed_1_loss: 0.3421 - val_time_distributed_2_loss: 0.2119 - val_time_distributed_3_loss: 0.3029 - val_time_distributed_4_loss: 0.3119 - val_time_distributed_5_loss: 0.1995 - val_time_distributed_6_loss: 0.1278 - val_time_distributed_1_acc: 0.9048 - val_time_distributed_2_acc: 0.9087 - val_time_distributed_3_acc: 0.8709 - val_time_distributed_4_acc: 0.8920 - val_time_distributed_5_acc: 0.9217 - val_time_distributed_6_acc: 0.9572\n",
            "Epoch 108/150\n",
            "6573/6573 [==============================] - 1s 208us/step - loss: 1.2195 - time_distributed_1_loss: 0.2806 - time_distributed_2_loss: 0.1659 - time_distributed_3_loss: 0.2568 - time_distributed_4_loss: 0.2453 - time_distributed_5_loss: 0.1650 - time_distributed_6_loss: 0.1059 - time_distributed_1_acc: 0.9183 - time_distributed_2_acc: 0.9274 - time_distributed_3_acc: 0.8868 - time_distributed_4_acc: 0.9141 - time_distributed_5_acc: 0.9304 - time_distributed_6_acc: 0.9624 - val_loss: 1.4944 - val_time_distributed_1_loss: 0.3414 - val_time_distributed_2_loss: 0.2118 - val_time_distributed_3_loss: 0.3029 - val_time_distributed_4_loss: 0.3111 - val_time_distributed_5_loss: 0.1996 - val_time_distributed_6_loss: 0.1276 - val_time_distributed_1_acc: 0.9057 - val_time_distributed_2_acc: 0.9092 - val_time_distributed_3_acc: 0.8703 - val_time_distributed_4_acc: 0.8928 - val_time_distributed_5_acc: 0.9227 - val_time_distributed_6_acc: 0.9572\n",
            "Epoch 109/150\n",
            "6573/6573 [==============================] - 1s 207us/step - loss: 1.2169 - time_distributed_1_loss: 0.2798 - time_distributed_2_loss: 0.1655 - time_distributed_3_loss: 0.2564 - time_distributed_4_loss: 0.2444 - time_distributed_5_loss: 0.1650 - time_distributed_6_loss: 0.1056 - time_distributed_1_acc: 0.9182 - time_distributed_2_acc: 0.9273 - time_distributed_3_acc: 0.8878 - time_distributed_4_acc: 0.9150 - time_distributed_5_acc: 0.9302 - time_distributed_6_acc: 0.9628 - val_loss: 1.4952 - val_time_distributed_1_loss: 0.3418 - val_time_distributed_2_loss: 0.2124 - val_time_distributed_3_loss: 0.3031 - val_time_distributed_4_loss: 0.3104 - val_time_distributed_5_loss: 0.1992 - val_time_distributed_6_loss: 0.1283 - val_time_distributed_1_acc: 0.9050 - val_time_distributed_2_acc: 0.9088 - val_time_distributed_3_acc: 0.8692 - val_time_distributed_4_acc: 0.8923 - val_time_distributed_5_acc: 0.9225 - val_time_distributed_6_acc: 0.9570\n",
            "Epoch 110/150\n",
            "6573/6573 [==============================] - 1s 206us/step - loss: 1.2132 - time_distributed_1_loss: 0.2793 - time_distributed_2_loss: 0.1653 - time_distributed_3_loss: 0.2555 - time_distributed_4_loss: 0.2432 - time_distributed_5_loss: 0.1643 - time_distributed_6_loss: 0.1055 - time_distributed_1_acc: 0.9185 - time_distributed_2_acc: 0.9274 - time_distributed_3_acc: 0.8883 - time_distributed_4_acc: 0.9155 - time_distributed_5_acc: 0.9305 - time_distributed_6_acc: 0.9627 - val_loss: 1.4954 - val_time_distributed_1_loss: 0.3417 - val_time_distributed_2_loss: 0.2122 - val_time_distributed_3_loss: 0.3026 - val_time_distributed_4_loss: 0.3113 - val_time_distributed_5_loss: 0.1999 - val_time_distributed_6_loss: 0.1278 - val_time_distributed_1_acc: 0.9057 - val_time_distributed_2_acc: 0.9096 - val_time_distributed_3_acc: 0.8700 - val_time_distributed_4_acc: 0.8928 - val_time_distributed_5_acc: 0.9218 - val_time_distributed_6_acc: 0.9573\n",
            "Epoch 111/150\n",
            "6573/6573 [==============================] - 1s 208us/step - loss: 1.2103 - time_distributed_1_loss: 0.2784 - time_distributed_2_loss: 0.1650 - time_distributed_3_loss: 0.2548 - time_distributed_4_loss: 0.2427 - time_distributed_5_loss: 0.1641 - time_distributed_6_loss: 0.1052 - time_distributed_1_acc: 0.9187 - time_distributed_2_acc: 0.9271 - time_distributed_3_acc: 0.8881 - time_distributed_4_acc: 0.9155 - time_distributed_5_acc: 0.9306 - time_distributed_6_acc: 0.9627 - val_loss: 1.5000 - val_time_distributed_1_loss: 0.3428 - val_time_distributed_2_loss: 0.2134 - val_time_distributed_3_loss: 0.3032 - val_time_distributed_4_loss: 0.3115 - val_time_distributed_5_loss: 0.2007 - val_time_distributed_6_loss: 0.1284 - val_time_distributed_1_acc: 0.9046 - val_time_distributed_2_acc: 0.9086 - val_time_distributed_3_acc: 0.8715 - val_time_distributed_4_acc: 0.8903 - val_time_distributed_5_acc: 0.9202 - val_time_distributed_6_acc: 0.9572\n",
            "Epoch 112/150\n",
            "6573/6573 [==============================] - 1s 207us/step - loss: 1.2077 - time_distributed_1_loss: 0.2778 - time_distributed_2_loss: 0.1649 - time_distributed_3_loss: 0.2545 - time_distributed_4_loss: 0.2417 - time_distributed_5_loss: 0.1637 - time_distributed_6_loss: 0.1052 - time_distributed_1_acc: 0.9189 - time_distributed_2_acc: 0.9276 - time_distributed_3_acc: 0.8884 - time_distributed_4_acc: 0.9157 - time_distributed_5_acc: 0.9310 - time_distributed_6_acc: 0.9628 - val_loss: 1.4968 - val_time_distributed_1_loss: 0.3423 - val_time_distributed_2_loss: 0.2130 - val_time_distributed_3_loss: 0.3026 - val_time_distributed_4_loss: 0.3110 - val_time_distributed_5_loss: 0.2000 - val_time_distributed_6_loss: 0.1279 - val_time_distributed_1_acc: 0.9051 - val_time_distributed_2_acc: 0.9087 - val_time_distributed_3_acc: 0.8701 - val_time_distributed_4_acc: 0.8930 - val_time_distributed_5_acc: 0.9217 - val_time_distributed_6_acc: 0.9569\n",
            "Epoch 113/150\n",
            "6573/6573 [==============================] - 1s 207us/step - loss: 1.2051 - time_distributed_1_loss: 0.2770 - time_distributed_2_loss: 0.1646 - time_distributed_3_loss: 0.2538 - time_distributed_4_loss: 0.2415 - time_distributed_5_loss: 0.1634 - time_distributed_6_loss: 0.1048 - time_distributed_1_acc: 0.9192 - time_distributed_2_acc: 0.9280 - time_distributed_3_acc: 0.8880 - time_distributed_4_acc: 0.9155 - time_distributed_5_acc: 0.9307 - time_distributed_6_acc: 0.9630 - val_loss: 1.5011 - val_time_distributed_1_loss: 0.3436 - val_time_distributed_2_loss: 0.2139 - val_time_distributed_3_loss: 0.3025 - val_time_distributed_4_loss: 0.3121 - val_time_distributed_5_loss: 0.2004 - val_time_distributed_6_loss: 0.1286 - val_time_distributed_1_acc: 0.9055 - val_time_distributed_2_acc: 0.9084 - val_time_distributed_3_acc: 0.8703 - val_time_distributed_4_acc: 0.8905 - val_time_distributed_5_acc: 0.9228 - val_time_distributed_6_acc: 0.9571\n",
            "Epoch 114/150\n",
            "6573/6573 [==============================] - 1s 211us/step - loss: 1.2040 - time_distributed_1_loss: 0.2766 - time_distributed_2_loss: 0.1645 - time_distributed_3_loss: 0.2537 - time_distributed_4_loss: 0.2406 - time_distributed_5_loss: 0.1638 - time_distributed_6_loss: 0.1048 - time_distributed_1_acc: 0.9192 - time_distributed_2_acc: 0.9279 - time_distributed_3_acc: 0.8881 - time_distributed_4_acc: 0.9157 - time_distributed_5_acc: 0.9308 - time_distributed_6_acc: 0.9628 - val_loss: 1.4985 - val_time_distributed_1_loss: 0.3428 - val_time_distributed_2_loss: 0.2131 - val_time_distributed_3_loss: 0.3023 - val_time_distributed_4_loss: 0.3113 - val_time_distributed_5_loss: 0.2011 - val_time_distributed_6_loss: 0.1279 - val_time_distributed_1_acc: 0.9046 - val_time_distributed_2_acc: 0.9097 - val_time_distributed_3_acc: 0.8717 - val_time_distributed_4_acc: 0.8929 - val_time_distributed_5_acc: 0.9213 - val_time_distributed_6_acc: 0.9569\n",
            "Epoch 115/150\n",
            "6573/6573 [==============================] - 1s 210us/step - loss: 1.1998 - time_distributed_1_loss: 0.2760 - time_distributed_2_loss: 0.1642 - time_distributed_3_loss: 0.2526 - time_distributed_4_loss: 0.2397 - time_distributed_5_loss: 0.1629 - time_distributed_6_loss: 0.1045 - time_distributed_1_acc: 0.9192 - time_distributed_2_acc: 0.9279 - time_distributed_3_acc: 0.8891 - time_distributed_4_acc: 0.9162 - time_distributed_5_acc: 0.9311 - time_distributed_6_acc: 0.9631 - val_loss: 1.4978 - val_time_distributed_1_loss: 0.3426 - val_time_distributed_2_loss: 0.2131 - val_time_distributed_3_loss: 0.3019 - val_time_distributed_4_loss: 0.3113 - val_time_distributed_5_loss: 0.2010 - val_time_distributed_6_loss: 0.1279 - val_time_distributed_1_acc: 0.9053 - val_time_distributed_2_acc: 0.9090 - val_time_distributed_3_acc: 0.8714 - val_time_distributed_4_acc: 0.8931 - val_time_distributed_5_acc: 0.9220 - val_time_distributed_6_acc: 0.9574\n",
            "Epoch 116/150\n",
            "6573/6573 [==============================] - 1s 208us/step - loss: 1.1965 - time_distributed_1_loss: 0.2751 - time_distributed_2_loss: 0.1635 - time_distributed_3_loss: 0.2520 - time_distributed_4_loss: 0.2389 - time_distributed_5_loss: 0.1626 - time_distributed_6_loss: 0.1043 - time_distributed_1_acc: 0.9197 - time_distributed_2_acc: 0.9281 - time_distributed_3_acc: 0.8887 - time_distributed_4_acc: 0.9168 - time_distributed_5_acc: 0.9310 - time_distributed_6_acc: 0.9630 - val_loss: 1.5044 - val_time_distributed_1_loss: 0.3442 - val_time_distributed_2_loss: 0.2139 - val_time_distributed_3_loss: 0.3039 - val_time_distributed_4_loss: 0.3119 - val_time_distributed_5_loss: 0.2021 - val_time_distributed_6_loss: 0.1284 - val_time_distributed_1_acc: 0.9029 - val_time_distributed_2_acc: 0.9100 - val_time_distributed_3_acc: 0.8715 - val_time_distributed_4_acc: 0.8937 - val_time_distributed_5_acc: 0.9206 - val_time_distributed_6_acc: 0.9571\n",
            "Epoch 117/150\n",
            "6573/6573 [==============================] - 1s 208us/step - loss: 1.1959 - time_distributed_1_loss: 0.2748 - time_distributed_2_loss: 0.1642 - time_distributed_3_loss: 0.2520 - time_distributed_4_loss: 0.2381 - time_distributed_5_loss: 0.1627 - time_distributed_6_loss: 0.1041 - time_distributed_1_acc: 0.9193 - time_distributed_2_acc: 0.9276 - time_distributed_3_acc: 0.8887 - time_distributed_4_acc: 0.9166 - time_distributed_5_acc: 0.9308 - time_distributed_6_acc: 0.9632 - val_loss: 1.5003 - val_time_distributed_1_loss: 0.3433 - val_time_distributed_2_loss: 0.2133 - val_time_distributed_3_loss: 0.3024 - val_time_distributed_4_loss: 0.3111 - val_time_distributed_5_loss: 0.2021 - val_time_distributed_6_loss: 0.1281 - val_time_distributed_1_acc: 0.9050 - val_time_distributed_2_acc: 0.9090 - val_time_distributed_3_acc: 0.8723 - val_time_distributed_4_acc: 0.8935 - val_time_distributed_5_acc: 0.9207 - val_time_distributed_6_acc: 0.9573\n",
            "Epoch 118/150\n",
            "6573/6573 [==============================] - 1s 208us/step - loss: 1.1930 - time_distributed_1_loss: 0.2740 - time_distributed_2_loss: 0.1633 - time_distributed_3_loss: 0.2516 - time_distributed_4_loss: 0.2376 - time_distributed_5_loss: 0.1624 - time_distributed_6_loss: 0.1040 - time_distributed_1_acc: 0.9199 - time_distributed_2_acc: 0.9281 - time_distributed_3_acc: 0.8888 - time_distributed_4_acc: 0.9167 - time_distributed_5_acc: 0.9312 - time_distributed_6_acc: 0.9631 - val_loss: 1.5031 - val_time_distributed_1_loss: 0.3437 - val_time_distributed_2_loss: 0.2138 - val_time_distributed_3_loss: 0.3029 - val_time_distributed_4_loss: 0.3115 - val_time_distributed_5_loss: 0.2028 - val_time_distributed_6_loss: 0.1282 - val_time_distributed_1_acc: 0.9049 - val_time_distributed_2_acc: 0.9094 - val_time_distributed_3_acc: 0.8724 - val_time_distributed_4_acc: 0.8925 - val_time_distributed_5_acc: 0.9186 - val_time_distributed_6_acc: 0.9573\n",
            "Epoch 119/150\n",
            "6573/6573 [==============================] - 1s 206us/step - loss: 1.1904 - time_distributed_1_loss: 0.2735 - time_distributed_2_loss: 0.1632 - time_distributed_3_loss: 0.2510 - time_distributed_4_loss: 0.2368 - time_distributed_5_loss: 0.1623 - time_distributed_6_loss: 0.1037 - time_distributed_1_acc: 0.9197 - time_distributed_2_acc: 0.9280 - time_distributed_3_acc: 0.8889 - time_distributed_4_acc: 0.9172 - time_distributed_5_acc: 0.9304 - time_distributed_6_acc: 0.9634 - val_loss: 1.5048 - val_time_distributed_1_loss: 0.3445 - val_time_distributed_2_loss: 0.2149 - val_time_distributed_3_loss: 0.3028 - val_time_distributed_4_loss: 0.3123 - val_time_distributed_5_loss: 0.2020 - val_time_distributed_6_loss: 0.1283 - val_time_distributed_1_acc: 0.9040 - val_time_distributed_2_acc: 0.9088 - val_time_distributed_3_acc: 0.8719 - val_time_distributed_4_acc: 0.8925 - val_time_distributed_5_acc: 0.9208 - val_time_distributed_6_acc: 0.9572\n",
            "Epoch 120/150\n",
            "6573/6573 [==============================] - 1s 207us/step - loss: 1.1871 - time_distributed_1_loss: 0.2728 - time_distributed_2_loss: 0.1627 - time_distributed_3_loss: 0.2502 - time_distributed_4_loss: 0.2362 - time_distributed_5_loss: 0.1615 - time_distributed_6_loss: 0.1037 - time_distributed_1_acc: 0.9198 - time_distributed_2_acc: 0.9283 - time_distributed_3_acc: 0.8893 - time_distributed_4_acc: 0.9172 - time_distributed_5_acc: 0.9317 - time_distributed_6_acc: 0.9633 - val_loss: 1.5031 - val_time_distributed_1_loss: 0.3439 - val_time_distributed_2_loss: 0.2143 - val_time_distributed_3_loss: 0.3024 - val_time_distributed_4_loss: 0.3125 - val_time_distributed_5_loss: 0.2017 - val_time_distributed_6_loss: 0.1282 - val_time_distributed_1_acc: 0.9049 - val_time_distributed_2_acc: 0.9092 - val_time_distributed_3_acc: 0.8721 - val_time_distributed_4_acc: 0.8930 - val_time_distributed_5_acc: 0.9213 - val_time_distributed_6_acc: 0.9574\n",
            "Epoch 121/150\n",
            "6573/6573 [==============================] - 1s 207us/step - loss: 1.1862 - time_distributed_1_loss: 0.2726 - time_distributed_2_loss: 0.1628 - time_distributed_3_loss: 0.2502 - time_distributed_4_loss: 0.2355 - time_distributed_5_loss: 0.1618 - time_distributed_6_loss: 0.1034 - time_distributed_1_acc: 0.9202 - time_distributed_2_acc: 0.9278 - time_distributed_3_acc: 0.8896 - time_distributed_4_acc: 0.9177 - time_distributed_5_acc: 0.9314 - time_distributed_6_acc: 0.9634 - val_loss: 1.5075 - val_time_distributed_1_loss: 0.3452 - val_time_distributed_2_loss: 0.2156 - val_time_distributed_3_loss: 0.3035 - val_time_distributed_4_loss: 0.3125 - val_time_distributed_5_loss: 0.2023 - val_time_distributed_6_loss: 0.1283 - val_time_distributed_1_acc: 0.9058 - val_time_distributed_2_acc: 0.9086 - val_time_distributed_3_acc: 0.8694 - val_time_distributed_4_acc: 0.8929 - val_time_distributed_5_acc: 0.9229 - val_time_distributed_6_acc: 0.9570\n",
            "Epoch 122/150\n",
            "6573/6573 [==============================] - 1s 209us/step - loss: 1.1830 - time_distributed_1_loss: 0.2717 - time_distributed_2_loss: 0.1622 - time_distributed_3_loss: 0.2496 - time_distributed_4_loss: 0.2349 - time_distributed_5_loss: 0.1615 - time_distributed_6_loss: 0.1032 - time_distributed_1_acc: 0.9203 - time_distributed_2_acc: 0.9290 - time_distributed_3_acc: 0.8901 - time_distributed_4_acc: 0.9176 - time_distributed_5_acc: 0.9315 - time_distributed_6_acc: 0.9635 - val_loss: 1.5051 - val_time_distributed_1_loss: 0.3445 - val_time_distributed_2_loss: 0.2148 - val_time_distributed_3_loss: 0.3027 - val_time_distributed_4_loss: 0.3123 - val_time_distributed_5_loss: 0.2022 - val_time_distributed_6_loss: 0.1286 - val_time_distributed_1_acc: 0.9044 - val_time_distributed_2_acc: 0.9091 - val_time_distributed_3_acc: 0.8714 - val_time_distributed_4_acc: 0.8929 - val_time_distributed_5_acc: 0.9212 - val_time_distributed_6_acc: 0.9571\n",
            "Epoch 123/150\n",
            "6573/6573 [==============================] - 1s 208us/step - loss: 1.1811 - time_distributed_1_loss: 0.2713 - time_distributed_2_loss: 0.1623 - time_distributed_3_loss: 0.2488 - time_distributed_4_loss: 0.2346 - time_distributed_5_loss: 0.1609 - time_distributed_6_loss: 0.1031 - time_distributed_1_acc: 0.9202 - time_distributed_2_acc: 0.9285 - time_distributed_3_acc: 0.8903 - time_distributed_4_acc: 0.9172 - time_distributed_5_acc: 0.9317 - time_distributed_6_acc: 0.9633 - val_loss: 1.5059 - val_time_distributed_1_loss: 0.3451 - val_time_distributed_2_loss: 0.2151 - val_time_distributed_3_loss: 0.3029 - val_time_distributed_4_loss: 0.3122 - val_time_distributed_5_loss: 0.2023 - val_time_distributed_6_loss: 0.1283 - val_time_distributed_1_acc: 0.9049 - val_time_distributed_2_acc: 0.9094 - val_time_distributed_3_acc: 0.8721 - val_time_distributed_4_acc: 0.8937 - val_time_distributed_5_acc: 0.9220 - val_time_distributed_6_acc: 0.9572\n",
            "Epoch 124/150\n",
            "6573/6573 [==============================] - 1s 207us/step - loss: 1.1794 - time_distributed_1_loss: 0.2709 - time_distributed_2_loss: 0.1621 - time_distributed_3_loss: 0.2486 - time_distributed_4_loss: 0.2339 - time_distributed_5_loss: 0.1610 - time_distributed_6_loss: 0.1028 - time_distributed_1_acc: 0.9206 - time_distributed_2_acc: 0.9288 - time_distributed_3_acc: 0.8892 - time_distributed_4_acc: 0.9178 - time_distributed_5_acc: 0.9313 - time_distributed_6_acc: 0.9635 - val_loss: 1.5062 - val_time_distributed_1_loss: 0.3451 - val_time_distributed_2_loss: 0.2152 - val_time_distributed_3_loss: 0.3026 - val_time_distributed_4_loss: 0.3121 - val_time_distributed_5_loss: 0.2023 - val_time_distributed_6_loss: 0.1289 - val_time_distributed_1_acc: 0.9042 - val_time_distributed_2_acc: 0.9091 - val_time_distributed_3_acc: 0.8719 - val_time_distributed_4_acc: 0.8939 - val_time_distributed_5_acc: 0.9221 - val_time_distributed_6_acc: 0.9575\n",
            "Epoch 125/150\n",
            "6573/6573 [==============================] - 1s 208us/step - loss: 1.1759 - time_distributed_1_loss: 0.2701 - time_distributed_2_loss: 0.1615 - time_distributed_3_loss: 0.2480 - time_distributed_4_loss: 0.2330 - time_distributed_5_loss: 0.1606 - time_distributed_6_loss: 0.1026 - time_distributed_1_acc: 0.9204 - time_distributed_2_acc: 0.9288 - time_distributed_3_acc: 0.8902 - time_distributed_4_acc: 0.9181 - time_distributed_5_acc: 0.9317 - time_distributed_6_acc: 0.9635 - val_loss: 1.5070 - val_time_distributed_1_loss: 0.3451 - val_time_distributed_2_loss: 0.2158 - val_time_distributed_3_loss: 0.3024 - val_time_distributed_4_loss: 0.3123 - val_time_distributed_5_loss: 0.2028 - val_time_distributed_6_loss: 0.1286 - val_time_distributed_1_acc: 0.9053 - val_time_distributed_2_acc: 0.9090 - val_time_distributed_3_acc: 0.8725 - val_time_distributed_4_acc: 0.8933 - val_time_distributed_5_acc: 0.9201 - val_time_distributed_6_acc: 0.9572\n",
            "Epoch 126/150\n",
            "6573/6573 [==============================] - 1s 207us/step - loss: 1.1747 - time_distributed_1_loss: 0.2696 - time_distributed_2_loss: 0.1615 - time_distributed_3_loss: 0.2479 - time_distributed_4_loss: 0.2327 - time_distributed_5_loss: 0.1604 - time_distributed_6_loss: 0.1026 - time_distributed_1_acc: 0.9208 - time_distributed_2_acc: 0.9288 - time_distributed_3_acc: 0.8901 - time_distributed_4_acc: 0.9180 - time_distributed_5_acc: 0.9316 - time_distributed_6_acc: 0.9636 - val_loss: 1.5098 - val_time_distributed_1_loss: 0.3457 - val_time_distributed_2_loss: 0.2154 - val_time_distributed_3_loss: 0.3029 - val_time_distributed_4_loss: 0.3135 - val_time_distributed_5_loss: 0.2034 - val_time_distributed_6_loss: 0.1289 - val_time_distributed_1_acc: 0.9047 - val_time_distributed_2_acc: 0.9086 - val_time_distributed_3_acc: 0.8724 - val_time_distributed_4_acc: 0.8935 - val_time_distributed_5_acc: 0.9203 - val_time_distributed_6_acc: 0.9572\n",
            "Epoch 127/150\n",
            "6573/6573 [==============================] - 1s 207us/step - loss: 1.1717 - time_distributed_1_loss: 0.2690 - time_distributed_2_loss: 0.1612 - time_distributed_3_loss: 0.2471 - time_distributed_4_loss: 0.2319 - time_distributed_5_loss: 0.1602 - time_distributed_6_loss: 0.1024 - time_distributed_1_acc: 0.9210 - time_distributed_2_acc: 0.9284 - time_distributed_3_acc: 0.8908 - time_distributed_4_acc: 0.9180 - time_distributed_5_acc: 0.9320 - time_distributed_6_acc: 0.9634 - val_loss: 1.5091 - val_time_distributed_1_loss: 0.3456 - val_time_distributed_2_loss: 0.2159 - val_time_distributed_3_loss: 0.3032 - val_time_distributed_4_loss: 0.3126 - val_time_distributed_5_loss: 0.2029 - val_time_distributed_6_loss: 0.1290 - val_time_distributed_1_acc: 0.9048 - val_time_distributed_2_acc: 0.9072 - val_time_distributed_3_acc: 0.8709 - val_time_distributed_4_acc: 0.8937 - val_time_distributed_5_acc: 0.9217 - val_time_distributed_6_acc: 0.9573\n",
            "Epoch 128/150\n",
            "6573/6573 [==============================] - 1s 209us/step - loss: 1.1696 - time_distributed_1_loss: 0.2685 - time_distributed_2_loss: 0.1608 - time_distributed_3_loss: 0.2467 - time_distributed_4_loss: 0.2315 - time_distributed_5_loss: 0.1598 - time_distributed_6_loss: 0.1023 - time_distributed_1_acc: 0.9211 - time_distributed_2_acc: 0.9291 - time_distributed_3_acc: 0.8907 - time_distributed_4_acc: 0.9185 - time_distributed_5_acc: 0.9319 - time_distributed_6_acc: 0.9637 - val_loss: 1.5144 - val_time_distributed_1_loss: 0.3469 - val_time_distributed_2_loss: 0.2170 - val_time_distributed_3_loss: 0.3040 - val_time_distributed_4_loss: 0.3138 - val_time_distributed_5_loss: 0.2033 - val_time_distributed_6_loss: 0.1295 - val_time_distributed_1_acc: 0.9054 - val_time_distributed_2_acc: 0.9094 - val_time_distributed_3_acc: 0.8708 - val_time_distributed_4_acc: 0.8938 - val_time_distributed_5_acc: 0.9218 - val_time_distributed_6_acc: 0.9572\n",
            "Epoch 129/150\n",
            "6573/6573 [==============================] - 1s 209us/step - loss: 1.1683 - time_distributed_1_loss: 0.2682 - time_distributed_2_loss: 0.1607 - time_distributed_3_loss: 0.2464 - time_distributed_4_loss: 0.2312 - time_distributed_5_loss: 0.1597 - time_distributed_6_loss: 0.1021 - time_distributed_1_acc: 0.9210 - time_distributed_2_acc: 0.9292 - time_distributed_3_acc: 0.8912 - time_distributed_4_acc: 0.9181 - time_distributed_5_acc: 0.9318 - time_distributed_6_acc: 0.9637 - val_loss: 1.5088 - val_time_distributed_1_loss: 0.3457 - val_time_distributed_2_loss: 0.2153 - val_time_distributed_3_loss: 0.3028 - val_time_distributed_4_loss: 0.3125 - val_time_distributed_5_loss: 0.2034 - val_time_distributed_6_loss: 0.1291 - val_time_distributed_1_acc: 0.9044 - val_time_distributed_2_acc: 0.9094 - val_time_distributed_3_acc: 0.8721 - val_time_distributed_4_acc: 0.8943 - val_time_distributed_5_acc: 0.9207 - val_time_distributed_6_acc: 0.9575\n",
            "Epoch 130/150\n",
            "6573/6573 [==============================] - 1s 208us/step - loss: 1.1669 - time_distributed_1_loss: 0.2679 - time_distributed_2_loss: 0.1607 - time_distributed_3_loss: 0.2464 - time_distributed_4_loss: 0.2303 - time_distributed_5_loss: 0.1597 - time_distributed_6_loss: 0.1019 - time_distributed_1_acc: 0.9209 - time_distributed_2_acc: 0.9291 - time_distributed_3_acc: 0.8903 - time_distributed_4_acc: 0.9191 - time_distributed_5_acc: 0.9320 - time_distributed_6_acc: 0.9637 - val_loss: 1.5127 - val_time_distributed_1_loss: 0.3470 - val_time_distributed_2_loss: 0.2153 - val_time_distributed_3_loss: 0.3039 - val_time_distributed_4_loss: 0.3134 - val_time_distributed_5_loss: 0.2034 - val_time_distributed_6_loss: 0.1297 - val_time_distributed_1_acc: 0.9035 - val_time_distributed_2_acc: 0.9092 - val_time_distributed_3_acc: 0.8706 - val_time_distributed_4_acc: 0.8941 - val_time_distributed_5_acc: 0.9216 - val_time_distributed_6_acc: 0.9574\n",
            "Epoch 131/150\n",
            "6573/6573 [==============================] - 1s 208us/step - loss: 1.1638 - time_distributed_1_loss: 0.2671 - time_distributed_2_loss: 0.1605 - time_distributed_3_loss: 0.2458 - time_distributed_4_loss: 0.2296 - time_distributed_5_loss: 0.1591 - time_distributed_6_loss: 0.1017 - time_distributed_1_acc: 0.9210 - time_distributed_2_acc: 0.9288 - time_distributed_3_acc: 0.8904 - time_distributed_4_acc: 0.9194 - time_distributed_5_acc: 0.9319 - time_distributed_6_acc: 0.9639 - val_loss: 1.5117 - val_time_distributed_1_loss: 0.3463 - val_time_distributed_2_loss: 0.2155 - val_time_distributed_3_loss: 0.3038 - val_time_distributed_4_loss: 0.3133 - val_time_distributed_5_loss: 0.2036 - val_time_distributed_6_loss: 0.1293 - val_time_distributed_1_acc: 0.9040 - val_time_distributed_2_acc: 0.9096 - val_time_distributed_3_acc: 0.8709 - val_time_distributed_4_acc: 0.8936 - val_time_distributed_5_acc: 0.9209 - val_time_distributed_6_acc: 0.9575\n",
            "Epoch 132/150\n",
            "6573/6573 [==============================] - 1s 210us/step - loss: 1.1632 - time_distributed_1_loss: 0.2669 - time_distributed_2_loss: 0.1607 - time_distributed_3_loss: 0.2454 - time_distributed_4_loss: 0.2294 - time_distributed_5_loss: 0.1592 - time_distributed_6_loss: 0.1015 - time_distributed_1_acc: 0.9216 - time_distributed_2_acc: 0.9290 - time_distributed_3_acc: 0.8903 - time_distributed_4_acc: 0.9185 - time_distributed_5_acc: 0.9317 - time_distributed_6_acc: 0.9640 - val_loss: 1.5113 - val_time_distributed_1_loss: 0.3464 - val_time_distributed_2_loss: 0.2158 - val_time_distributed_3_loss: 0.3032 - val_time_distributed_4_loss: 0.3130 - val_time_distributed_5_loss: 0.2035 - val_time_distributed_6_loss: 0.1293 - val_time_distributed_1_acc: 0.9040 - val_time_distributed_2_acc: 0.9085 - val_time_distributed_3_acc: 0.8715 - val_time_distributed_4_acc: 0.8946 - val_time_distributed_5_acc: 0.9215 - val_time_distributed_6_acc: 0.9575\n",
            "Epoch 133/150\n",
            "6573/6573 [==============================] - 1s 208us/step - loss: 1.1596 - time_distributed_1_loss: 0.2661 - time_distributed_2_loss: 0.1597 - time_distributed_3_loss: 0.2448 - time_distributed_4_loss: 0.2288 - time_distributed_5_loss: 0.1587 - time_distributed_6_loss: 0.1015 - time_distributed_1_acc: 0.9218 - time_distributed_2_acc: 0.9291 - time_distributed_3_acc: 0.8910 - time_distributed_4_acc: 0.9195 - time_distributed_5_acc: 0.9328 - time_distributed_6_acc: 0.9639 - val_loss: 1.5151 - val_time_distributed_1_loss: 0.3470 - val_time_distributed_2_loss: 0.2169 - val_time_distributed_3_loss: 0.3041 - val_time_distributed_4_loss: 0.3134 - val_time_distributed_5_loss: 0.2045 - val_time_distributed_6_loss: 0.1293 - val_time_distributed_1_acc: 0.9033 - val_time_distributed_2_acc: 0.9086 - val_time_distributed_3_acc: 0.8714 - val_time_distributed_4_acc: 0.8936 - val_time_distributed_5_acc: 0.9196 - val_time_distributed_6_acc: 0.9576\n",
            "Epoch 134/150\n",
            "6573/6573 [==============================] - 1s 205us/step - loss: 1.1592 - time_distributed_1_loss: 0.2657 - time_distributed_2_loss: 0.1599 - time_distributed_3_loss: 0.2449 - time_distributed_4_loss: 0.2286 - time_distributed_5_loss: 0.1587 - time_distributed_6_loss: 0.1013 - time_distributed_1_acc: 0.9219 - time_distributed_2_acc: 0.9291 - time_distributed_3_acc: 0.8908 - time_distributed_4_acc: 0.9194 - time_distributed_5_acc: 0.9322 - time_distributed_6_acc: 0.9640 - val_loss: 1.5157 - val_time_distributed_1_loss: 0.3471 - val_time_distributed_2_loss: 0.2161 - val_time_distributed_3_loss: 0.3036 - val_time_distributed_4_loss: 0.3138 - val_time_distributed_5_loss: 0.2057 - val_time_distributed_6_loss: 0.1293 - val_time_distributed_1_acc: 0.9038 - val_time_distributed_2_acc: 0.9086 - val_time_distributed_3_acc: 0.8724 - val_time_distributed_4_acc: 0.8940 - val_time_distributed_5_acc: 0.9184 - val_time_distributed_6_acc: 0.9573\n",
            "Epoch 135/150\n",
            "6573/6573 [==============================] - 1s 208us/step - loss: 1.1561 - time_distributed_1_loss: 0.2650 - time_distributed_2_loss: 0.1593 - time_distributed_3_loss: 0.2446 - time_distributed_4_loss: 0.2276 - time_distributed_5_loss: 0.1586 - time_distributed_6_loss: 0.1010 - time_distributed_1_acc: 0.9217 - time_distributed_2_acc: 0.9298 - time_distributed_3_acc: 0.8914 - time_distributed_4_acc: 0.9199 - time_distributed_5_acc: 0.9325 - time_distributed_6_acc: 0.9639 - val_loss: 1.5181 - val_time_distributed_1_loss: 0.3483 - val_time_distributed_2_loss: 0.2172 - val_time_distributed_3_loss: 0.3035 - val_time_distributed_4_loss: 0.3143 - val_time_distributed_5_loss: 0.2050 - val_time_distributed_6_loss: 0.1298 - val_time_distributed_1_acc: 0.9038 - val_time_distributed_2_acc: 0.9085 - val_time_distributed_3_acc: 0.8717 - val_time_distributed_4_acc: 0.8937 - val_time_distributed_5_acc: 0.9203 - val_time_distributed_6_acc: 0.9577\n",
            "Epoch 136/150\n",
            "6573/6573 [==============================] - 1s 204us/step - loss: 1.1536 - time_distributed_1_loss: 0.2646 - time_distributed_2_loss: 0.1590 - time_distributed_3_loss: 0.2439 - time_distributed_4_loss: 0.2269 - time_distributed_5_loss: 0.1582 - time_distributed_6_loss: 0.1010 - time_distributed_1_acc: 0.9221 - time_distributed_2_acc: 0.9302 - time_distributed_3_acc: 0.8914 - time_distributed_4_acc: 0.9196 - time_distributed_5_acc: 0.9325 - time_distributed_6_acc: 0.9639 - val_loss: 1.5201 - val_time_distributed_1_loss: 0.3483 - val_time_distributed_2_loss: 0.2183 - val_time_distributed_3_loss: 0.3043 - val_time_distributed_4_loss: 0.3153 - val_time_distributed_5_loss: 0.2043 - val_time_distributed_6_loss: 0.1295 - val_time_distributed_1_acc: 0.9030 - val_time_distributed_2_acc: 0.9087 - val_time_distributed_3_acc: 0.8707 - val_time_distributed_4_acc: 0.8938 - val_time_distributed_5_acc: 0.9217 - val_time_distributed_6_acc: 0.9578\n",
            "Epoch 137/150\n",
            "6573/6573 [==============================] - 1s 215us/step - loss: 1.1528 - time_distributed_1_loss: 0.2644 - time_distributed_2_loss: 0.1593 - time_distributed_3_loss: 0.2435 - time_distributed_4_loss: 0.2268 - time_distributed_5_loss: 0.1581 - time_distributed_6_loss: 0.1009 - time_distributed_1_acc: 0.9221 - time_distributed_2_acc: 0.9296 - time_distributed_3_acc: 0.8911 - time_distributed_4_acc: 0.9199 - time_distributed_5_acc: 0.9325 - time_distributed_6_acc: 0.9641 - val_loss: 1.5212 - val_time_distributed_1_loss: 0.3492 - val_time_distributed_2_loss: 0.2182 - val_time_distributed_3_loss: 0.3050 - val_time_distributed_4_loss: 0.3144 - val_time_distributed_5_loss: 0.2050 - val_time_distributed_6_loss: 0.1293 - val_time_distributed_1_acc: 0.9026 - val_time_distributed_2_acc: 0.9083 - val_time_distributed_3_acc: 0.8712 - val_time_distributed_4_acc: 0.8943 - val_time_distributed_5_acc: 0.9210 - val_time_distributed_6_acc: 0.9575\n",
            "Epoch 138/150\n",
            "6573/6573 [==============================] - 2s 243us/step - loss: 1.1499 - time_distributed_1_loss: 0.2636 - time_distributed_2_loss: 0.1589 - time_distributed_3_loss: 0.2430 - time_distributed_4_loss: 0.2262 - time_distributed_5_loss: 0.1576 - time_distributed_6_loss: 0.1006 - time_distributed_1_acc: 0.9223 - time_distributed_2_acc: 0.9296 - time_distributed_3_acc: 0.8911 - time_distributed_4_acc: 0.9201 - time_distributed_5_acc: 0.9324 - time_distributed_6_acc: 0.9643 - val_loss: 1.5239 - val_time_distributed_1_loss: 0.3498 - val_time_distributed_2_loss: 0.2187 - val_time_distributed_3_loss: 0.3045 - val_time_distributed_4_loss: 0.3156 - val_time_distributed_5_loss: 0.2052 - val_time_distributed_6_loss: 0.1301 - val_time_distributed_1_acc: 0.9043 - val_time_distributed_2_acc: 0.9057 - val_time_distributed_3_acc: 0.8712 - val_time_distributed_4_acc: 0.8936 - val_time_distributed_5_acc: 0.9218 - val_time_distributed_6_acc: 0.9577\n",
            "Epoch 139/150\n",
            "6573/6573 [==============================] - 2s 242us/step - loss: 1.1506 - time_distributed_1_loss: 0.2639 - time_distributed_2_loss: 0.1590 - time_distributed_3_loss: 0.2433 - time_distributed_4_loss: 0.2258 - time_distributed_5_loss: 0.1579 - time_distributed_6_loss: 0.1007 - time_distributed_1_acc: 0.9222 - time_distributed_2_acc: 0.9298 - time_distributed_3_acc: 0.8925 - time_distributed_4_acc: 0.9202 - time_distributed_5_acc: 0.9332 - time_distributed_6_acc: 0.9641 - val_loss: 1.5232 - val_time_distributed_1_loss: 0.3495 - val_time_distributed_2_loss: 0.2185 - val_time_distributed_3_loss: 0.3044 - val_time_distributed_4_loss: 0.3157 - val_time_distributed_5_loss: 0.2050 - val_time_distributed_6_loss: 0.1301 - val_time_distributed_1_acc: 0.9040 - val_time_distributed_2_acc: 0.9070 - val_time_distributed_3_acc: 0.8710 - val_time_distributed_4_acc: 0.8945 - val_time_distributed_5_acc: 0.9213 - val_time_distributed_6_acc: 0.9577\n",
            "Epoch 140/150\n",
            "6573/6573 [==============================] - 2s 247us/step - loss: 1.1466 - time_distributed_1_loss: 0.2628 - time_distributed_2_loss: 0.1585 - time_distributed_3_loss: 0.2425 - time_distributed_4_loss: 0.2252 - time_distributed_5_loss: 0.1572 - time_distributed_6_loss: 0.1004 - time_distributed_1_acc: 0.9224 - time_distributed_2_acc: 0.9298 - time_distributed_3_acc: 0.8918 - time_distributed_4_acc: 0.9204 - time_distributed_5_acc: 0.9331 - time_distributed_6_acc: 0.9642 - val_loss: 1.5224 - val_time_distributed_1_loss: 0.3491 - val_time_distributed_2_loss: 0.2175 - val_time_distributed_3_loss: 0.3050 - val_time_distributed_4_loss: 0.3157 - val_time_distributed_5_loss: 0.2052 - val_time_distributed_6_loss: 0.1299 - val_time_distributed_1_acc: 0.9032 - val_time_distributed_2_acc: 0.9086 - val_time_distributed_3_acc: 0.8706 - val_time_distributed_4_acc: 0.8939 - val_time_distributed_5_acc: 0.9218 - val_time_distributed_6_acc: 0.9575\n",
            "Epoch 141/150\n",
            "6573/6573 [==============================] - 2s 242us/step - loss: 1.1457 - time_distributed_1_loss: 0.2625 - time_distributed_2_loss: 0.1584 - time_distributed_3_loss: 0.2424 - time_distributed_4_loss: 0.2249 - time_distributed_5_loss: 0.1573 - time_distributed_6_loss: 0.1002 - time_distributed_1_acc: 0.9225 - time_distributed_2_acc: 0.9306 - time_distributed_3_acc: 0.8922 - time_distributed_4_acc: 0.9201 - time_distributed_5_acc: 0.9328 - time_distributed_6_acc: 0.9640 - val_loss: 1.5226 - val_time_distributed_1_loss: 0.3492 - val_time_distributed_2_loss: 0.2181 - val_time_distributed_3_loss: 0.3046 - val_time_distributed_4_loss: 0.3154 - val_time_distributed_5_loss: 0.2057 - val_time_distributed_6_loss: 0.1296 - val_time_distributed_1_acc: 0.9029 - val_time_distributed_2_acc: 0.9086 - val_time_distributed_3_acc: 0.8719 - val_time_distributed_4_acc: 0.8943 - val_time_distributed_5_acc: 0.9198 - val_time_distributed_6_acc: 0.9576\n",
            "Epoch 142/150\n",
            "6573/6573 [==============================] - 2s 240us/step - loss: 1.1442 - time_distributed_1_loss: 0.2621 - time_distributed_2_loss: 0.1582 - time_distributed_3_loss: 0.2422 - time_distributed_4_loss: 0.2245 - time_distributed_5_loss: 0.1570 - time_distributed_6_loss: 0.1002 - time_distributed_1_acc: 0.9227 - time_distributed_2_acc: 0.9296 - time_distributed_3_acc: 0.8921 - time_distributed_4_acc: 0.9206 - time_distributed_5_acc: 0.9332 - time_distributed_6_acc: 0.9644 - val_loss: 1.5245 - val_time_distributed_1_loss: 0.3500 - val_time_distributed_2_loss: 0.2181 - val_time_distributed_3_loss: 0.3042 - val_time_distributed_4_loss: 0.3161 - val_time_distributed_5_loss: 0.2056 - val_time_distributed_6_loss: 0.1307 - val_time_distributed_1_acc: 0.9032 - val_time_distributed_2_acc: 0.9080 - val_time_distributed_3_acc: 0.8715 - val_time_distributed_4_acc: 0.8937 - val_time_distributed_5_acc: 0.9206 - val_time_distributed_6_acc: 0.9577\n",
            "Epoch 143/150\n",
            "6573/6573 [==============================] - 2s 244us/step - loss: 1.1412 - time_distributed_1_loss: 0.2615 - time_distributed_2_loss: 0.1579 - time_distributed_3_loss: 0.2413 - time_distributed_4_loss: 0.2238 - time_distributed_5_loss: 0.1567 - time_distributed_6_loss: 0.1000 - time_distributed_1_acc: 0.9227 - time_distributed_2_acc: 0.9302 - time_distributed_3_acc: 0.8923 - time_distributed_4_acc: 0.9210 - time_distributed_5_acc: 0.9331 - time_distributed_6_acc: 0.9641 - val_loss: 1.5257 - val_time_distributed_1_loss: 0.3499 - val_time_distributed_2_loss: 0.2186 - val_time_distributed_3_loss: 0.3044 - val_time_distributed_4_loss: 0.3166 - val_time_distributed_5_loss: 0.2064 - val_time_distributed_6_loss: 0.1299 - val_time_distributed_1_acc: 0.9036 - val_time_distributed_2_acc: 0.9081 - val_time_distributed_3_acc: 0.8732 - val_time_distributed_4_acc: 0.8940 - val_time_distributed_5_acc: 0.9193 - val_time_distributed_6_acc: 0.9576\n",
            "Epoch 144/150\n",
            "6573/6573 [==============================] - 1s 208us/step - loss: 1.1396 - time_distributed_1_loss: 0.2612 - time_distributed_2_loss: 0.1576 - time_distributed_3_loss: 0.2410 - time_distributed_4_loss: 0.2234 - time_distributed_5_loss: 0.1565 - time_distributed_6_loss: 0.0999 - time_distributed_1_acc: 0.9225 - time_distributed_2_acc: 0.9300 - time_distributed_3_acc: 0.8918 - time_distributed_4_acc: 0.9210 - time_distributed_5_acc: 0.9332 - time_distributed_6_acc: 0.9642 - val_loss: 1.5312 - val_time_distributed_1_loss: 0.3510 - val_time_distributed_2_loss: 0.2193 - val_time_distributed_3_loss: 0.3059 - val_time_distributed_4_loss: 0.3168 - val_time_distributed_5_loss: 0.2079 - val_time_distributed_6_loss: 0.1302 - val_time_distributed_1_acc: 0.9030 - val_time_distributed_2_acc: 0.9072 - val_time_distributed_3_acc: 0.8721 - val_time_distributed_4_acc: 0.8944 - val_time_distributed_5_acc: 0.9176 - val_time_distributed_6_acc: 0.9577\n",
            "Epoch 145/150\n",
            "6573/6573 [==============================] - 1s 207us/step - loss: 1.1393 - time_distributed_1_loss: 0.2608 - time_distributed_2_loss: 0.1578 - time_distributed_3_loss: 0.2411 - time_distributed_4_loss: 0.2231 - time_distributed_5_loss: 0.1567 - time_distributed_6_loss: 0.0997 - time_distributed_1_acc: 0.9229 - time_distributed_2_acc: 0.9299 - time_distributed_3_acc: 0.8927 - time_distributed_4_acc: 0.9209 - time_distributed_5_acc: 0.9326 - time_distributed_6_acc: 0.9644 - val_loss: 1.5290 - val_time_distributed_1_loss: 0.3507 - val_time_distributed_2_loss: 0.2191 - val_time_distributed_3_loss: 0.3054 - val_time_distributed_4_loss: 0.3172 - val_time_distributed_5_loss: 0.2063 - val_time_distributed_6_loss: 0.1303 - val_time_distributed_1_acc: 0.9032 - val_time_distributed_2_acc: 0.9082 - val_time_distributed_3_acc: 0.8714 - val_time_distributed_4_acc: 0.8931 - val_time_distributed_5_acc: 0.9212 - val_time_distributed_6_acc: 0.9575\n",
            "Epoch 146/150\n",
            "6573/6573 [==============================] - 1s 208us/step - loss: 1.1373 - time_distributed_1_loss: 0.2605 - time_distributed_2_loss: 0.1577 - time_distributed_3_loss: 0.2405 - time_distributed_4_loss: 0.2230 - time_distributed_5_loss: 0.1561 - time_distributed_6_loss: 0.0996 - time_distributed_1_acc: 0.9231 - time_distributed_2_acc: 0.9302 - time_distributed_3_acc: 0.8919 - time_distributed_4_acc: 0.9206 - time_distributed_5_acc: 0.9330 - time_distributed_6_acc: 0.9645 - val_loss: 1.5286 - val_time_distributed_1_loss: 0.3506 - val_time_distributed_2_loss: 0.2183 - val_time_distributed_3_loss: 0.3053 - val_time_distributed_4_loss: 0.3170 - val_time_distributed_5_loss: 0.2072 - val_time_distributed_6_loss: 0.1302 - val_time_distributed_1_acc: 0.9035 - val_time_distributed_2_acc: 0.9077 - val_time_distributed_3_acc: 0.8722 - val_time_distributed_4_acc: 0.8950 - val_time_distributed_5_acc: 0.9198 - val_time_distributed_6_acc: 0.9575\n",
            "Epoch 147/150\n",
            "6573/6573 [==============================] - 1s 210us/step - loss: 1.1356 - time_distributed_1_loss: 0.2601 - time_distributed_2_loss: 0.1574 - time_distributed_3_loss: 0.2403 - time_distributed_4_loss: 0.2222 - time_distributed_5_loss: 0.1560 - time_distributed_6_loss: 0.0996 - time_distributed_1_acc: 0.9235 - time_distributed_2_acc: 0.9300 - time_distributed_3_acc: 0.8926 - time_distributed_4_acc: 0.9214 - time_distributed_5_acc: 0.9335 - time_distributed_6_acc: 0.9643 - val_loss: 1.5299 - val_time_distributed_1_loss: 0.3508 - val_time_distributed_2_loss: 0.2189 - val_time_distributed_3_loss: 0.3050 - val_time_distributed_4_loss: 0.3176 - val_time_distributed_5_loss: 0.2073 - val_time_distributed_6_loss: 0.1303 - val_time_distributed_1_acc: 0.9035 - val_time_distributed_2_acc: 0.9073 - val_time_distributed_3_acc: 0.8715 - val_time_distributed_4_acc: 0.8950 - val_time_distributed_5_acc: 0.9193 - val_time_distributed_6_acc: 0.9574\n",
            "Epoch 148/150\n",
            "6573/6573 [==============================] - 1s 208us/step - loss: 1.1349 - time_distributed_1_loss: 0.2598 - time_distributed_2_loss: 0.1573 - time_distributed_3_loss: 0.2402 - time_distributed_4_loss: 0.2220 - time_distributed_5_loss: 0.1562 - time_distributed_6_loss: 0.0994 - time_distributed_1_acc: 0.9229 - time_distributed_2_acc: 0.9305 - time_distributed_3_acc: 0.8923 - time_distributed_4_acc: 0.9211 - time_distributed_5_acc: 0.9333 - time_distributed_6_acc: 0.9644 - val_loss: 1.5363 - val_time_distributed_1_loss: 0.3522 - val_time_distributed_2_loss: 0.2196 - val_time_distributed_3_loss: 0.3065 - val_time_distributed_4_loss: 0.3180 - val_time_distributed_5_loss: 0.2092 - val_time_distributed_6_loss: 0.1307 - val_time_distributed_1_acc: 0.9036 - val_time_distributed_2_acc: 0.9068 - val_time_distributed_3_acc: 0.8718 - val_time_distributed_4_acc: 0.8947 - val_time_distributed_5_acc: 0.9169 - val_time_distributed_6_acc: 0.9580\n",
            "Epoch 149/150\n",
            "6573/6573 [==============================] - 1s 208us/step - loss: 1.1336 - time_distributed_1_loss: 0.2596 - time_distributed_2_loss: 0.1573 - time_distributed_3_loss: 0.2399 - time_distributed_4_loss: 0.2216 - time_distributed_5_loss: 0.1558 - time_distributed_6_loss: 0.0994 - time_distributed_1_acc: 0.9229 - time_distributed_2_acc: 0.9299 - time_distributed_3_acc: 0.8930 - time_distributed_4_acc: 0.9213 - time_distributed_5_acc: 0.9330 - time_distributed_6_acc: 0.9644 - val_loss: 1.5327 - val_time_distributed_1_loss: 0.3520 - val_time_distributed_2_loss: 0.2194 - val_time_distributed_3_loss: 0.3059 - val_time_distributed_4_loss: 0.3177 - val_time_distributed_5_loss: 0.2070 - val_time_distributed_6_loss: 0.1306 - val_time_distributed_1_acc: 0.9028 - val_time_distributed_2_acc: 0.9077 - val_time_distributed_3_acc: 0.8720 - val_time_distributed_4_acc: 0.8949 - val_time_distributed_5_acc: 0.9210 - val_time_distributed_6_acc: 0.9581\n",
            "Epoch 150/150\n",
            "6573/6573 [==============================] - 1s 208us/step - loss: 1.1308 - time_distributed_1_loss: 0.2586 - time_distributed_2_loss: 0.1567 - time_distributed_3_loss: 0.2395 - time_distributed_4_loss: 0.2210 - time_distributed_5_loss: 0.1558 - time_distributed_6_loss: 0.0991 - time_distributed_1_acc: 0.9237 - time_distributed_2_acc: 0.9306 - time_distributed_3_acc: 0.8930 - time_distributed_4_acc: 0.9219 - time_distributed_5_acc: 0.9337 - time_distributed_6_acc: 0.9647 - val_loss: 1.5358 - val_time_distributed_1_loss: 0.3532 - val_time_distributed_2_loss: 0.2198 - val_time_distributed_3_loss: 0.3066 - val_time_distributed_4_loss: 0.3182 - val_time_distributed_5_loss: 0.2067 - val_time_distributed_6_loss: 0.1312 - val_time_distributed_1_acc: 0.9026 - val_time_distributed_2_acc: 0.9067 - val_time_distributed_3_acc: 0.8717 - val_time_distributed_4_acc: 0.8942 - val_time_distributed_5_acc: 0.9213 - val_time_distributed_6_acc: 0.9579\n"
          ],
          "name": "stdout"
        },
        {
          "output_type": "execute_result",
          "data": {
            "text/plain": [
              "<keras.callbacks.History at 0x7f14933a1c18>"
            ]
          },
          "metadata": {
            "tags": []
          },
          "execution_count": 24
        }
      ]
    },
    {
      "cell_type": "markdown",
      "metadata": {
        "id": "WzVKjqT1bNyd",
        "colab_type": "text"
      },
      "source": [
        "# 2. Тестируем результаты"
      ]
    },
    {
      "cell_type": "code",
      "metadata": {
        "colab_type": "code",
        "id": "sFzt70RjapuF",
        "outputId": "24c8ea4c-74a4-4ef4-8d61-36ba3e990eb1",
        "colab": {
          "base_uri": "https://localhost:8080/",
          "height": 836
        }
      },
      "source": [
        "#Просто пример работы модели\n",
        "test_samples = [\n",
        "    \"эти типы стали есть на складе .\".split()\n",
        "]\n",
        "\n",
        "test_samples_X = []\n",
        "for sent in test_samples:\n",
        "    sent_ids = []\n",
        "    for word in sent:\n",
        "        if word not in word2id:\n",
        "            #print(word)\n",
        "            pass\n",
        "        sent_ids.append(word2id.get(word.lower(), 1))\n",
        "    test_samples_X.append(sent_ids)\n",
        "test_samples_X = pad_sequences(test_samples_X, maxlen=MAX_LENGTH, padding='post')\n",
        "predictions = model.predict(test_samples_X)\n",
        "print(type(predictions))\n",
        "print(type(predictions[0]))\n",
        "for i, idx in enumerate(predictions[0].argmax(axis=2)[0]):\n",
        "  if i > (len(test_samples[0])-1):\n",
        "    break\n",
        "  print(test_samples[0][i], id2pos[idx])\n",
        "print('')\n",
        "\n",
        "for i, idx in enumerate(predictions[1].argmax(axis=2)[0]):\n",
        "  if i > (len(test_samples[0])-1):\n",
        "    break\n",
        "  print(test_samples[0][i], id2anim[idx])\n",
        "print('')\n",
        "\n",
        "for i, idx in enumerate(predictions[2].argmax(axis=2)[0]):\n",
        "  if i > (len(test_samples[0])-1):\n",
        "    break\n",
        "  print(test_samples[0][i], id2face[idx])\n",
        "print('')\n",
        "\n",
        "for i, idx in enumerate(predictions[3].argmax(axis=2)[0]):\n",
        "  if i > (len(test_samples[0])-1):\n",
        "    break\n",
        "  print(test_samples[0][i], id2case[idx])\n",
        "  \n",
        "print('')\n",
        "for i, idx in enumerate(predictions[4].argmax(axis=2)[0]):\n",
        "  if i > (len(test_samples[0])-1):\n",
        "    break\n",
        "  print(test_samples[0][i], id2num[idx])\n",
        "  \n",
        "print('')\n",
        "for i, idx in enumerate(predictions[5].argmax(axis=2)[0]):\n",
        "  if i > (len(test_samples[0])-1):\n",
        "    break\n",
        "  print(test_samples[0][i], id2tran[idx])"
      ],
      "execution_count": 25,
      "outputs": [
        {
          "output_type": "stream",
          "text": [
            "<class 'list'>\n",
            "<class 'numpy.ndarray'>\n",
            "эти ADJF\n",
            "типы NOUN\n",
            "стали VERB\n",
            "есть ADJF\n",
            "на PREP\n",
            "складе NOUN\n",
            ". PNCT\n",
            "\n",
            "эти NONE\n",
            "типы inan\n",
            "стали NONE\n",
            "есть NONE\n",
            "на NONE\n",
            "складе inan\n",
            ". NONE\n",
            "\n",
            "эти NONE\n",
            "типы masc\n",
            "стали NONE\n",
            "есть NONE\n",
            "на NONE\n",
            "складе femn\n",
            ". NONE\n",
            "\n",
            "эти nomn\n",
            "типы nomn\n",
            "стали NONE\n",
            "есть NONE\n",
            "на NONE\n",
            "складе loct\n",
            ". NONE\n",
            "\n",
            "эти plur\n",
            "типы plur\n",
            "стали plur\n",
            "есть plur\n",
            "на NONE\n",
            "складе sing\n",
            ". NONE\n",
            "\n",
            "эти NONE\n",
            "типы NONE\n",
            "стали intr\n",
            "есть NONE\n",
            "на NONE\n",
            "складе NONE\n",
            ". NONE\n"
          ],
          "name": "stdout"
        }
      ]
    },
    {
      "cell_type": "code",
      "metadata": {
        "id": "oq5UzZAcpblf",
        "colab_type": "code",
        "outputId": "b175c3df-6060-4df6-918f-f150f7aa85b5",
        "colab": {
          "base_uri": "https://localhost:8080/",
          "height": 150
        }
      },
      "source": [
        "for i, idx in enumerate(predictions[0].argmax(axis=2)[0]):\n",
        "  #print(predictions[0].argmax(axis=2)[0]) #Части речи предложения\n",
        "  #print(predictions[1].argmax(axis=2)[0]) #Одушевленность\n",
        "  #print(predictions[2].argmax(axis=2)[0]) #Лицо\n",
        "  #print(predictions[3].argmax(axis=2)[0]) #Падеж\n",
        "  #print(predictions[4].argmax(axis=2)[0]) #Число\n",
        "  #print(predictions[5].argmax(axis=2)[0]) #Переходность\n",
        "  if i > (len(test_samples[0])-1):\n",
        "    break\n",
        "  print(test_samples[0][i], id2pos[idx])\n",
        "print('')"
      ],
      "execution_count": 26,
      "outputs": [
        {
          "output_type": "stream",
          "text": [
            "эти ADJF\n",
            "типы NOUN\n",
            "стали VERB\n",
            "есть ADJF\n",
            "на PREP\n",
            "складе NOUN\n",
            ". PNCT\n",
            "\n"
          ],
          "name": "stdout"
        }
      ]
    },
    {
      "cell_type": "code",
      "metadata": {
        "id": "RuPOYkjUETSn",
        "colab_type": "code",
        "outputId": "1eacd90d-4d1f-4c54-fb78-20ec035e4bb5",
        "colab": {
          "base_uri": "https://localhost:8080/",
          "height": 134
        }
      },
      "source": [
        "#Считаем Метрику между множествами тэгов исходных и полученных. \n",
        "corpus[0]\n"
      ],
      "execution_count": 27,
      "outputs": [
        {
          "output_type": "execute_result",
          "data": {
            "text/plain": [
              "[['«', 'PNCT'],\n",
              " ['Школа', 'NOUN', 'inan', 'femn', 'sing', 'nomn'],\n",
              " ['злословия', 'NOUN', 'inan', 'neut', 'sing', 'gent'],\n",
              " ['»', 'PNCT'],\n",
              " ['учит', 'VERB', 'impf', 'tran', 'sing', '3per', 'pres', 'indc'],\n",
              " ['прикусить', 'INFN', 'perf', 'tran'],\n",
              " ['язык', 'NOUN', 'inan', 'masc', 'sing', 'accs']]"
            ]
          },
          "metadata": {
            "tags": []
          },
          "execution_count": 27
        }
      ]
    },
    {
      "cell_type": "markdown",
      "metadata": {
        "id": "z5Wb_ArXeI5F",
        "colab_type": "text"
      },
      "source": [
        "Дорабатываем качество, чтобы не было лишних тэгов."
      ]
    },
    {
      "cell_type": "code",
      "metadata": {
        "id": "McvNlUJEKm_6",
        "colab_type": "code",
        "colab": {}
      },
      "source": [
        "#VERB: no anim, no case\n",
        "#NOUN: no tran\n",
        "#PNCT: no anim, no case, no tran, no face, no num\n",
        "#ADJF: no tran, no anim\n",
        "#ADV: no tran, no face, no case, no anim, no num"
      ],
      "execution_count": 0,
      "outputs": []
    },
    {
      "cell_type": "code",
      "metadata": {
        "id": "s2bpNUK8Fic1",
        "colab_type": "code",
        "colab": {}
      },
      "source": [
        "#На выходе словарь, где ключ - порядковый номер токена в предложении, а значения - список его тэгов. \n",
        "#Все NONE удалены, т.к. для подсчета метрики они будут очень занижать все, ведь в исходных тэгах нет NONE\n",
        "def ready_for_predict(sent):\n",
        "  d = {} #Наш словарь\n",
        "  test_sample = []\n",
        "  test_sample.extend([word[0] for word in sent])\n",
        "  test_samples=[test_sample]\n",
        "  #print(test_samples)\n",
        "  test_samples_X = []\n",
        "  for sent in test_samples:\n",
        "    sent_ids=[]\n",
        "    for word in sent:\n",
        "      if word not in word2id:\n",
        "        pass\n",
        "      sent_ids.append(word2id.get(word.lower(), 1))\n",
        "    test_samples_X.append(sent_ids)\n",
        "  test_samples_X = pad_sequences(test_samples_X, maxlen=MAX_LENGTH, padding='post')\n",
        "  predictions = model.predict(test_samples_X)\n",
        "  \n",
        "  \n",
        "  #Для каждой категории добавляем значение в словарь d\n",
        "  for i, idx in enumerate(predictions[0].argmax(axis=2)[0]):\n",
        "    if i > (len(test_samples[0])-1):\n",
        "      break\n",
        "    d[i] = []\n",
        "    d[i].append(id2pos[idx])\n",
        "    #print(test_samples[0][i], id2pos[idx])\n",
        "  \n",
        "  for i, idx in enumerate(predictions[1].argmax(axis=2)[0]):\n",
        "    if i > (len(test_samples[0])-1):\n",
        "      break\n",
        "    \n",
        "    if d[i][0] == 'VERB' or d[i][0] == 'PNCT' or d[i][0]=='ADVB' or d[i][0] == 'ADJF' or d[i][0] == \"PREP\":\n",
        "      d[i].append('NONE')\n",
        "    else:\n",
        "      d[i].append(id2anim[idx])  \n",
        "    #print(test_samples[0][i], id2anim[idx])\n",
        "    #print('')\n",
        "\n",
        "  for i, idx in enumerate(predictions[2].argmax(axis=2)[0]):\n",
        "    if i > (len(test_samples[0])-1):\n",
        "      break    \n",
        "    if d[i][0] == 'PNCT' or d[i][0] == 'ADVB' or d[i][0] == \"PREP\":\n",
        "      pass\n",
        "    else:  \n",
        "      d[i].append(id2face[idx])\n",
        "    #print(test_samples[0][i], id2face[idx])\n",
        "    #print('')\n",
        "\n",
        "  for i, idx in enumerate(predictions[3].argmax(axis=2)[0]):\n",
        "    if i > (len(test_samples[0])-1):\n",
        "      break    \n",
        "    if d[i][0] == 'VERB' or d[i][0] == 'PNCT' or d[i][0] == 'ADVB' or d[i][0] == \"PREP\":\n",
        "      pass\n",
        "    else:  \n",
        "      d[i].append(id2case[idx])\n",
        "    #print(test_samples[0][i], id2case[idx])\n",
        "    #print('')\n",
        "  \n",
        "  for i, idx in enumerate(predictions[4].argmax(axis=2)[0]):\n",
        "    if i > (len(test_samples[0])-1):\n",
        "      break\n",
        "    if d[i][0] == 'PNCT' or d[i][0] == 'ADVB' or d[i][0] == \"PREP\":\n",
        "      pass\n",
        "    else:\n",
        "      d[i].append(id2num[idx])\n",
        "    #print(test_samples[0][i], id2num[idx])  \n",
        "    #print('')\n",
        "  \n",
        "  for i, idx in enumerate(predictions[5].argmax(axis=2)[0]):\n",
        "    if i > (len(test_samples[0])-1):\n",
        "      break\n",
        "    if d[i][0] != 'VERB':\n",
        "      pass\n",
        "    else:\n",
        "      d[i].append(id2tran[idx])\n",
        "    #print(test_samples[0][i], id2tran[idx])\n",
        "    \n",
        "    for key in d.keys():      \n",
        "      while 'NONE' in d[key]:\n",
        "        d[key].remove('NONE')    \n",
        "    \n",
        "  return d   "
      ],
      "execution_count": 0,
      "outputs": []
    },
    {
      "cell_type": "markdown",
      "metadata": {
        "id": "OHA3XVsQ1oQf",
        "colab_type": "text"
      },
      "source": [
        "Далее мы считаем метрику Жаккара для каждого слова в предложении, затем из этого выбираем среднее и добавляем в список metrics. "
      ]
    },
    {
      "cell_type": "code",
      "metadata": {
        "id": "ICbSbxu_OImP",
        "colab_type": "code",
        "outputId": "138d7565-3839-4b2b-bf15-66e17f478982",
        "colab": {
          "base_uri": "https://localhost:8080/",
          "height": 50
        }
      },
      "source": [
        "import numpy as np\n",
        "\n",
        "metrics = []\n",
        "count_full = 0\n",
        "mistakes = []\n",
        "\n",
        "for sent in metric_corpus:\n",
        "\n",
        "  sent_metrics = []\n",
        "  #print(sent)\n",
        "  sent_real = []\n",
        "  words = []\n",
        "  if len(sent) > 10:\n",
        "    sent = sent[:10]\n",
        "  for word in sent:\n",
        "    sent_real.append(word[1:])\n",
        "    #print(word[0])\n",
        "    words.append(word[0])\n",
        "  #print(words)\n",
        "  sent_pred = ready_for_predict(sent)\n",
        "  \n",
        "  \n",
        "  for i in range(0, len(sent_real)):\n",
        "    set_real = set(sent_real[i])     \n",
        "    set_pred = set(sent_pred[i])\n",
        "    metric = len(set_real&set_pred) / len(set_pred|set_real)\n",
        "    sent_metrics.append(metric)\n",
        "  \n",
        "  if np.mean(sent_metrics) == 1:\n",
        "    count_full += 1\n",
        "  if np.mean(sent_metrics) < 0.5:\n",
        "    mistakes.append(words)\n",
        "  \n",
        "  if len(sent_metrics)==0:\n",
        "    #print(\"EMPTYTYTYTYTYTYTYT\")\n",
        "    continue\n",
        "  metrics.append(np.mean(sent_metrics))\n",
        "  \n",
        "#print(sent_real)\n",
        "#print(sent_pred.keys())\n",
        "print(len(metrics))\n",
        "print(len(metric_corpus))"
      ],
      "execution_count": 30,
      "outputs": [
        {
          "output_type": "stream",
          "text": [
            "318\n",
            "318\n"
          ],
          "name": "stdout"
        }
      ]
    },
    {
      "cell_type": "code",
      "metadata": {
        "id": "P2bzOcpvmV1S",
        "colab_type": "code",
        "outputId": "2a1fc5e6-a809-4eeb-b92e-0b2bf28e7e39",
        "colab": {
          "base_uri": "https://localhost:8080/",
          "height": 33
        }
      },
      "source": [
        "print('Метрика Жаккара: ', np.mean(metrics))"
      ],
      "execution_count": 31,
      "outputs": [
        {
          "output_type": "stream",
          "text": [
            "Метрика Жаккара:  0.7330689666041755\n"
          ],
          "name": "stdout"
        }
      ]
    },
    {
      "cell_type": "code",
      "metadata": {
        "id": "sbsag6Hie82T",
        "colab_type": "code",
        "colab": {
          "base_uri": "https://localhost:8080/",
          "height": 33
        },
        "outputId": "d29712c7-faee-4cec-f9a7-8393a6b7fea1"
      },
      "source": [
        "count_full"
      ],
      "execution_count": 33,
      "outputs": [
        {
          "output_type": "execute_result",
          "data": {
            "text/plain": [
              "17"
            ]
          },
          "metadata": {
            "tags": []
          },
          "execution_count": 33
        }
      ]
    },
    {
      "cell_type": "code",
      "metadata": {
        "id": "7M8UqmTgfjsZ",
        "colab_type": "code",
        "colab": {
          "base_uri": "https://localhost:8080/",
          "height": 435
        },
        "outputId": "52621d97-89bb-4e8e-b14d-f10e83de8798"
      },
      "source": [
        "mistakes"
      ],
      "execution_count": 34,
      "outputs": [
        {
          "output_type": "execute_result",
          "data": {
            "text/plain": [
              "[['Занимаешься', 'паломничествами', '?'],\n",
              " ['Он',\n",
              "  'лечит',\n",
              "  'болезнями',\n",
              "  'или',\n",
              "  'какими-то',\n",
              "  'жизненными',\n",
              "  'испытаниями',\n",
              "  '.'],\n",
              " ['«', 'Esta', 'noche', 'es', 'Nochebuena', ',', 'Y', 'no', 'es', 'noche'],\n",
              " ['Свободную', 'демократическую', 'Украину', '.'],\n",
              " ['Сумчатая', 'куница'],\n",
              " ['Она', 'давеча', 'собиралась', '.'],\n",
              " ['Философия', 'потока'],\n",
              " ['Растущая', 'Индонезия'],\n",
              " ['Растущая', 'Индонезия'],\n",
              " ['Страдают', 'экспортёры', '.'],\n",
              " ['Уехал', 'Димка', '.'],\n",
              " ['Сломалась', 'стиральная', 'машинка', '.'],\n",
              " ['Освободители'],\n",
              " ['Первопроходцами', 'станут', 'уральцы', '.'],\n",
              " ['iCamp', 'предлагает', 'массу', 'возможностей', ':'],\n",
              " ['Стивен', 'Хокинг', 'выдвинул', 'новую', 'научную', 'теорию'],\n",
              " ['Economist', 'продан'],\n",
              " ['ICE', 'купил', 'NYSE']]"
            ]
          },
          "metadata": {
            "tags": []
          },
          "execution_count": 34
        }
      ]
    },
    {
      "cell_type": "code",
      "metadata": {
        "id": "4O8fT3Rjf11B",
        "colab_type": "code",
        "colab": {
          "base_uri": "https://localhost:8080/",
          "height": 338
        },
        "outputId": "d5face30-05fc-4433-a822-7046c4600e83"
      },
      "source": [
        "for mistake in mistakes:\n",
        "  print(ready_for_predict(mistake))\n",
        "  "
      ],
      "execution_count": 35,
      "outputs": [
        {
          "output_type": "stream",
          "text": [
            "{0: ['NOUN', 'nomn', 'sing'], 1: ['NOUN', 'femn', 'sing'], 2: ['PNCT']}\n",
            "{0: ['PREP'], 1: ['NOUN', 'inan', 'femn', 'loct', 'sing'], 2: ['NOUN', 'inan', 'femn', 'loct', 'sing'], 3: ['CONJ'], 4: ['PREP'], 5: ['NOUN', 'inan', 'masc', 'datv', 'sing'], 6: ['CONJ'], 7: ['PNCT']}\n",
            "{0: ['PNCT'], 1: ['LATN'], 2: ['LATN'], 3: ['LATN'], 4: ['LATN'], 5: ['PNCT'], 6: ['LATN'], 7: ['LATN'], 8: ['LATN'], 9: ['LATN']}\n",
            "{0: ['PREP'], 1: ['NOUN', 'inan', 'femn', 'ablt', 'sing'], 2: ['PREP'], 3: ['PNCT']}\n",
            "{0: ['PREP'], 1: ['PREP']}\n",
            "{0: ['PREP'], 1: ['NOUN', 'inan', 'femn', 'loct', 'sing'], 2: ['PREP'], 3: ['PNCT']}\n",
            "{0: ['NOUN', 'nomn', 'sing'], 1: ['NOUN', 'femn', 'sing']}\n",
            "{0: ['NOUN', 'nomn', 'sing'], 1: ['CONJ']}\n",
            "{0: ['NOUN', 'nomn', 'sing'], 1: ['CONJ']}\n",
            "{0: ['PREP'], 1: ['NOUN', 'inan', 'femn', 'ablt', 'sing'], 2: ['PNCT']}\n",
            "{0: ['PREP'], 1: ['NOUN', 'inan', 'masc', 'gent', 'plur'], 2: ['PNCT']}\n",
            "{0: ['PREP'], 1: ['PREP'], 2: ['NOUN', 'inan', 'masc', 'gent', 'plur'], 3: ['PNCT']}\n",
            "{0: ['PREP']}\n",
            "{0: ['NOUN', 'nomn', 'sing'], 1: ['PREP'], 2: ['PREP'], 3: ['PNCT']}\n",
            "{0: ['ROMN'], 1: ['LATN'], 2: ['NOUN', 'inan', 'masc', 'gent', 'plur'], 3: ['PREP'], 4: ['PNCT']}\n",
            "{0: ['PREP'], 1: ['NOUN', 'inan', 'femn', 'ablt', 'sing'], 2: ['PREP'], 3: ['NOUN', 'inan', 'masc', 'loct', 'sing'], 4: ['NOUN', 'inan', 'femn', 'loct', 'sing'], 5: ['NOUN', 'femn', 'gent', 'sing']}\n",
            "{0: ['LATN'], 1: ['LATN', 'plur']}\n",
            "{0: ['ROMN'], 1: ['PREP'], 2: ['PRED']}\n"
          ],
          "name": "stdout"
        }
      ]
    }
  ]
}
