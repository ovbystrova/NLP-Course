{
  "nbformat": 4,
  "nbformat_minor": 0,
  "metadata": {
    "colab": {
      "name": "Актуальная домашка по майнору.ipynb",
      "version": "0.3.2",
      "provenance": [],
      "collapsed_sections": [
        "E7ME-ag0hoDA",
        "AwsSaKOZuY1K"
      ],
      "toc_visible": true
    },
    "language_info": {
      "codemirror_mode": {
        "name": "ipython",
        "version": 3
      },
      "file_extension": ".py",
      "mimetype": "text/x-python",
      "name": "python",
      "nbconvert_exporter": "python",
      "pygments_lexer": "ipython3",
      "version": "3.6.5"
    },
    "kernelspec": {
      "name": "python3",
      "display_name": "Python 3"
    },
    "accelerator": "GPU"
  },
  "cells": [
    {
      "cell_type": "markdown",
      "metadata": {
        "colab_type": "text",
        "id": "E7ME-ag0hoDA"
      },
      "source": [
        "# Данные"
      ]
    },
    {
      "cell_type": "code",
      "metadata": {
        "colab_type": "code",
        "id": "eVLBU4s9fF-q",
        "outputId": "bbd574d2-9479-413f-ee07-b0878607d268",
        "colab": {
          "base_uri": "https://localhost:8080/",
          "height": 371
        }
      },
      "source": [
        "!wget https://www.dropbox.com/s/nd7v1fod89xla6j/vk_texts_with_sources.csv"
      ],
      "execution_count": 3,
      "outputs": [
        {
          "output_type": "stream",
          "text": [
            "--2019-06-09 15:14:46--  https://www.dropbox.com/s/nd7v1fod89xla6j/vk_texts_with_sources.csv\n",
            "Resolving www.dropbox.com (www.dropbox.com)... 162.125.66.1, 2620:100:6031:1::a27d:5101\n",
            "Connecting to www.dropbox.com (www.dropbox.com)|162.125.66.1|:443... connected.\n",
            "HTTP request sent, awaiting response... 301 Moved Permanently\n",
            "Location: /s/raw/nd7v1fod89xla6j/vk_texts_with_sources.csv [following]\n",
            "--2019-06-09 15:14:47--  https://www.dropbox.com/s/raw/nd7v1fod89xla6j/vk_texts_with_sources.csv\n",
            "Reusing existing connection to www.dropbox.com:443.\n",
            "HTTP request sent, awaiting response... 302 Found\n",
            "Location: https://uc72dfebe0df9211a291d0cd3d0e.dl.dropboxusercontent.com/cd/0/inline/Aihac5g6aEsP623mi-AyIY4tEBLUFgrZJImll2LtbRtzdFP7e1CBzw-82srLmoUB1wLGPT2UzgHMkmK2eN9STG8JTEp6LuvWIaL6PPShFUz32g/file# [following]\n",
            "--2019-06-09 15:14:47--  https://uc72dfebe0df9211a291d0cd3d0e.dl.dropboxusercontent.com/cd/0/inline/Aihac5g6aEsP623mi-AyIY4tEBLUFgrZJImll2LtbRtzdFP7e1CBzw-82srLmoUB1wLGPT2UzgHMkmK2eN9STG8JTEp6LuvWIaL6PPShFUz32g/file\n",
            "Resolving uc72dfebe0df9211a291d0cd3d0e.dl.dropboxusercontent.com (uc72dfebe0df9211a291d0cd3d0e.dl.dropboxusercontent.com)... 162.125.9.6, 2620:100:601f:6::a27d:906\n",
            "Connecting to uc72dfebe0df9211a291d0cd3d0e.dl.dropboxusercontent.com (uc72dfebe0df9211a291d0cd3d0e.dl.dropboxusercontent.com)|162.125.9.6|:443... connected.\n",
            "HTTP request sent, awaiting response... 200 OK\n",
            "Length: 14406837 (14M) [text/plain]\n",
            "Saving to: ‘vk_texts_with_sources.csv.2’\n",
            "\n",
            "vk_texts_with_sourc 100%[===================>]  13.74M  67.9MB/s    in 0.2s    \n",
            "\n",
            "2019-06-09 15:14:48 (67.9 MB/s) - ‘vk_texts_with_sources.csv.2’ saved [14406837/14406837]\n",
            "\n"
          ],
          "name": "stdout"
        }
      ]
    },
    {
      "cell_type": "code",
      "metadata": {
        "colab_type": "code",
        "id": "qxZMU8CBK664",
        "outputId": "b2d3c6fb-02b2-493e-dc2e-fadb8445d387",
        "colab": {
          "base_uri": "https://localhost:8080/",
          "height": 196
        }
      },
      "source": [
        "import pandas as pd\n",
        "df = pd.read_csv('vk_texts_with_sources.csv', usecols = ['text', 'source'])\n",
        "df.head()"
      ],
      "execution_count": 4,
      "outputs": [
        {
          "output_type": "execute_result",
          "data": {
            "text/html": [
              "<div>\n",
              "<style scoped>\n",
              "    .dataframe tbody tr th:only-of-type {\n",
              "        vertical-align: middle;\n",
              "    }\n",
              "\n",
              "    .dataframe tbody tr th {\n",
              "        vertical-align: top;\n",
              "    }\n",
              "\n",
              "    .dataframe thead th {\n",
              "        text-align: right;\n",
              "    }\n",
              "</style>\n",
              "<table border=\"1\" class=\"dataframe\">\n",
              "  <thead>\n",
              "    <tr style=\"text-align: right;\">\n",
              "      <th></th>\n",
              "      <th>text</th>\n",
              "      <th>source</th>\n",
              "    </tr>\n",
              "  </thead>\n",
              "  <tbody>\n",
              "    <tr>\n",
              "      <th>0</th>\n",
              "      <td>Начальник Главного оперативного управления Ген...</td>\n",
              "      <td>mil</td>\n",
              "    </tr>\n",
              "    <tr>\n",
              "      <th>1</th>\n",
              "      <td>Артиллерийские подразделения общевойскового об...</td>\n",
              "      <td>mil</td>\n",
              "    </tr>\n",
              "    <tr>\n",
              "      <th>2</th>\n",
              "      <td>Подразделения морской пехоты Каспийской флотил...</td>\n",
              "      <td>mil</td>\n",
              "    </tr>\n",
              "    <tr>\n",
              "      <th>3</th>\n",
              "      <td>Команды на всеармейских этапах конкурсов АрМИ-...</td>\n",
              "      <td>mil</td>\n",
              "    </tr>\n",
              "    <tr>\n",
              "      <th>4</th>\n",
              "      <td>На большом учебно-методическом командирском сб...</td>\n",
              "      <td>mil</td>\n",
              "    </tr>\n",
              "  </tbody>\n",
              "</table>\n",
              "</div>"
            ],
            "text/plain": [
              "                                                text source\n",
              "0  Начальник Главного оперативного управления Ген...    mil\n",
              "1  Артиллерийские подразделения общевойскового об...    mil\n",
              "2  Подразделения морской пехоты Каспийской флотил...    mil\n",
              "3  Команды на всеармейских этапах конкурсов АрМИ-...    mil\n",
              "4  На большом учебно-методическом командирском сб...    mil"
            ]
          },
          "metadata": {
            "tags": []
          },
          "execution_count": 4
        }
      ]
    },
    {
      "cell_type": "markdown",
      "metadata": {
        "colab_type": "text",
        "id": "dYNCAr17MFA3"
      },
      "source": [
        "# Домашнее задание\n",
        "\n",
        "В этом домашнем задании вы будете решать задачу тематической классификации. Даны тексты, опубликованные в нескольких пабликах VK.com, посвященных государственным и муниципальным службам. Формально задача заключается в том, чтобы по тексту ($d$) определить в каком паблике он опубликован, то есть, к какому классу $c$ он принадлежит. "
      ]
    },
    {
      "cell_type": "markdown",
      "metadata": {
        "colab_type": "text",
        "id": "e2EnN-U7MemU"
      },
      "source": [
        "## Задание 1 [1 балл]. Описательные статистики\n",
        "Посчитайте:\n",
        "* количество текстов и количество классов\n",
        "* количество слов (без лемматизации и с лемматизацией) в коллекции\n",
        "* среднюю длину текста в словах и символах\n",
        "* найдите 5 самых частых существительных в текстах каждого паблика \n",
        "\n",
        "*Рекомендуем использовать pandas для расчета описательных статистик.*"
      ]
    },
    {
      "cell_type": "code",
      "metadata": {
        "id": "aVTSuvzmz4Xn",
        "colab_type": "code",
        "outputId": "7fa04f05-8acb-4889-877e-bdbcc095136c",
        "colab": {
          "base_uri": "https://localhost:8080/",
          "height": 50
        }
      },
      "source": [
        "n = len(df)\n",
        "print('Количество текстов: {}'.format(n))\n",
        "print('Количество классов: {}'.format(len(df.source.unique())))\n",
        "\n",
        "#<br> - один из самых частотных, это мусор, поэтому удаляем его.\n",
        "for i in range(0, len(df)):\n",
        "  df.text[i] = str(df.text[i]).replace('<br>', '')"
      ],
      "execution_count": 5,
      "outputs": [
        {
          "output_type": "stream",
          "text": [
            "Количество текстов: 11625\n",
            "Количество классов: 4\n"
          ],
          "name": "stdout"
        }
      ]
    },
    {
      "cell_type": "code",
      "metadata": {
        "id": "YijsFLH0T71w",
        "colab_type": "code",
        "outputId": "160b4cf1-d75c-4c1c-c78a-ab66497f73da",
        "colab": {
          "base_uri": "https://localhost:8080/",
          "height": 104
        }
      },
      "source": [
        "!pip install pymorphy2"
      ],
      "execution_count": 6,
      "outputs": [
        {
          "output_type": "stream",
          "text": [
            "Requirement already satisfied: pymorphy2 in /usr/local/lib/python3.6/dist-packages (0.8)\n",
            "Requirement already satisfied: docopt>=0.6 in /usr/local/lib/python3.6/dist-packages (from pymorphy2) (0.6.2)\n",
            "Requirement already satisfied: pymorphy2-dicts<3.0,>=2.4 in /usr/local/lib/python3.6/dist-packages (from pymorphy2) (2.4.393442.3710985)\n",
            "Requirement already satisfied: dawg-python>=0.7 in /usr/local/lib/python3.6/dist-packages (from pymorphy2) (0.7.2)\n"
          ],
          "name": "stdout"
        }
      ]
    },
    {
      "cell_type": "code",
      "metadata": {
        "id": "49tIS6wN2e-R",
        "colab_type": "code",
        "outputId": "0f463e02-505e-418c-e87d-6bc8c9e8e3c0",
        "colab": {
          "base_uri": "https://localhost:8080/",
          "height": 84
        }
      },
      "source": [
        "import pymorphy2 as pm\n",
        "import numpy as np\n",
        "from collections import Counter\n",
        "import string\n",
        "string.punctuation += '–' #Добавила, т.к. этого знака нет в исходной строке, а он один из самых частотных\n",
        "morph = pm.MorphAnalyzer()\n",
        "\n",
        "vocab_nolemm = Counter() #Словарь без лемматизации\n",
        "vocab = Counter() #Словарь с лемматизацией\n",
        "n_words = [] #Список для длинн текстов в словах\n",
        "n_symbols = [] #Список для длинн текстов в символах\n",
        "\n",
        "#Добавляем каждое слово в словарь, если это не знак пунктуации.\n",
        "for line in df.text:\n",
        "  n_line = 0\n",
        "  n_symbols.append(len(line)) #Добавляем длину текста в символах\n",
        "  for word in str(line).split():\n",
        "    if word not in string.punctuation:\n",
        "      n_line += 1\n",
        "      p = morph.parse(word)[0].normal_form\n",
        "      vocab[p] += 1\n",
        "      vocab_nolemm[word.lower()] += 1\n",
        "  n_words.append(n_line) #Добавляем длинну текста в словах\n",
        "\n",
        "\n",
        "print('Количество слов без лемматизации: {}'.format(len(vocab_nolemm)))\n",
        "print('Количество слов c лемматизацией: {}'.format(len(vocab)))\n",
        "#print(vocab.most_common()[:10])\n",
        "print('Средняя длинна текста в словах: {}'.format(np.mean(n_words)))\n",
        "print('Средняя длинна текста в символах: {}'.format(np.mean(n_symbols)))"
      ],
      "execution_count": 7,
      "outputs": [
        {
          "output_type": "stream",
          "text": [
            "Количество слов без лемматизации: 126955\n",
            "Количество слов c лемматизацией: 86386\n",
            "Средняя длинна текста в словах: 82.76120430107527\n",
            "Средняя длинна текста в символах: 661.6347526881721\n"
          ],
          "name": "stdout"
        }
      ]
    },
    {
      "cell_type": "code",
      "metadata": {
        "id": "eA6sC8AjGEVg",
        "colab_type": "code",
        "outputId": "49274891-b82a-4352-e59d-155ee48c67fc",
        "colab": {
          "base_uri": "https://localhost:8080/",
          "height": 104
        }
      },
      "source": [
        "#Пять самых частых существительных в текстах каждого паблика\n",
        "sources = df.source.unique() #Создаем список наших пабликов\n",
        "\n",
        "#Проходимся по всем источникам. Для каждого создаем словарь, добавляем в него все сущ. в нормальной форме. \n",
        "for element in sources:\n",
        "  vocab_temp = Counter()\n",
        "  df_temporary = df[df.source == element]\n",
        "  for line in df_temporary.text:\n",
        "    for word in str(line).split():\n",
        "      if word not in string.punctuation and morph.parse(word)[0].tag.POS == 'NOUN' :\n",
        "        p = morph.parse(word)[0].normal_form\n",
        "        vocab_temp[p] += 1\n",
        "  print('Пять самых частых сущ. в текстах паблика {}: {}'.format(element, vocab_temp.most_common()[:5]))\n",
        "  "
      ],
      "execution_count": 8,
      "outputs": [
        {
          "output_type": "stream",
          "text": [
            "Пять самых частых сущ. в текстах паблика mil: [('военный', 1354), ('#минобороны', 973), ('россия', 951), ('год', 847), ('оборона', 777)]\n",
            "Пять самых частых сущ. в текстах паблика mchsgov: [('#мчс', 1904), ('мчс', 1532), ('россия', 1375), ('#мчсроссия', 1217), ('спасатель', 497)]\n",
            "Пять самых частых сущ. в текстах паблика russianpost: [('почта', 2595), ('россия', 1797), ('год', 1317), ('отделение', 1212), ('письмо', 879)]\n",
            "Пять самых частых сущ. в текстах паблика mospolice: [('россия', 3714), ('мвд', 3148), ('москва', 3097), ('полиция', 2794), ('сотрудник', 2664)]\n"
          ],
          "name": "stdout"
        }
      ]
    },
    {
      "cell_type": "markdown",
      "metadata": {
        "id": "BdUVOh3RIZvn",
        "colab_type": "text"
      },
      "source": [
        "Стоит отметить, что в паблике mil наиболее частотным является 'Военный'. Возможно, сюда и попали некоторые употребления как прилагательные, но военный-сущ как раз соответствует интуитивному представлению о паблике mil(military), поэтому все хорошо. В остальных пабликах тоже слова соотвествуют тематике. "
      ]
    },
    {
      "cell_type": "markdown",
      "metadata": {
        "colab_type": "text",
        "id": "fTJPlulvQSqQ"
      },
      "source": [
        "Разделите коллекцию текстов на обучающую и тестовую части. "
      ]
    },
    {
      "cell_type": "code",
      "metadata": {
        "id": "3Ue2i30XKs9p",
        "colab_type": "code",
        "outputId": "5f2f1189-0ca3-4cad-8771-72d8a4a1abbd",
        "colab": {
          "base_uri": "https://localhost:8080/",
          "height": 33
        }
      },
      "source": [
        "from sklearn.model_selection import train_test_split\n",
        "train, test = train_test_split(df, test_size=0.2)\n",
        "len(train), len(test)"
      ],
      "execution_count": 64,
      "outputs": [
        {
          "output_type": "execute_result",
          "data": {
            "text/plain": [
              "(9300, 2325)"
            ]
          },
          "metadata": {
            "tags": []
          },
          "execution_count": 64
        }
      ]
    },
    {
      "cell_type": "markdown",
      "metadata": {
        "colab_type": "text",
        "id": "9yCVYfbpNhXd"
      },
      "source": [
        " ## Задание 2 [2 балла]. Классификация по правилам\n",
        " \n",
        " * Разработайте несколько правил вида \"Если встречается слово $w$, то текст относится к паблику $c$\"\n",
        " * Посчитайте, какую точность, полноту, $f$-меру и $accuracy$ вы получаете при классификации по правилам\n",
        " * Получилось ли у вас придумать правило, которое никогда не ошибается?"
      ]
    },
    {
      "cell_type": "markdown",
      "metadata": {
        "id": "HRmCklUcMYkm",
        "colab_type": "text"
      },
      "source": [
        "Исходя из приведенных выше списков самых частых существительных, попробуем привести следующие правила:\n",
        "\n",
        "1) Если в тексте есть слово '#мсч', то он относится к паблику mchgov.\n",
        "\n",
        "2) Если в тексте есть слово 'военный', - то к паблику mil\n",
        "\n",
        "3) Если есть 'полиция' и 'москва',  - то к mospolice\n",
        "\n",
        "4) Если есть слово 'почта',  - то к russianpost.\n",
        "\n",
        "При этом будем учитывать все формы наших искомых слов. Только в первом случае можно брать хэштэг, т.к. он, скорее всего, не изменяется."
      ]
    },
    {
      "cell_type": "code",
      "metadata": {
        "id": "eqnFCKIOMXDu",
        "colab_type": "code",
        "outputId": "9c2ad9aa-89f5-443b-94dd-90eb5161f943",
        "colab": {
          "base_uri": "https://localhost:8080/",
          "height": 184
        }
      },
      "source": [
        "#df = pd.read_csv('vk_texts_with_sources.csv', usecols = ['text', 'source'])\n",
        "\n",
        "\n",
        "#Переделаем наши source в категориальные переменные где mil = 1; mschgov = 2; russianpost = 3; mospolice = 4.\n",
        "id2source = {1:'mil', 2:'mchsgov', 3:'russianpost', 4:'mospolice'}\n",
        "source2id = {source:i for i, source in id2source.items()}\n",
        "\n",
        "#Создадим колонку 'predictions' где будут предсказания согласна нашим правилам. \n",
        "df['predictions'] = 0\n",
        "\n",
        "for i in range(0, len(df.text)): # 1 правило\n",
        "  if '#мчс' in str(df.text[i]).lower():\n",
        "    df.predictions[i] = 'mchsgov'\n",
        "    continue\n",
        "  \n",
        "  voin = morph.parse('военный')[0].lexeme #второе правило\n",
        "  voin_forms = [x[0] for x in voin]\n",
        "  for form in voin_forms:\n",
        "    if form in str(df.text[i]).lower():\n",
        "      df.predictions[i] = 'mil'\n",
        "      break\n",
        "  if df.predictions[i] != 0:\n",
        "    continue    \n",
        "  \n",
        "  \n",
        "  police = morph.parse('полиция')[0].lexeme #Третье правило: сначала ищем полицию\n",
        "  police_forms = [x[0] for x in police]\n",
        "  for form in police_forms:\n",
        "    if form in str(df.text[i]).lower():\n",
        "      mosk = morph.parse('москва')[0].lexeme #если она есть, ищем москву.\n",
        "      mosk_forms = [x[0] for x in mosk]\n",
        "      for form in mosk_forms[:-6]: #Убрали последние 6 форм, т.к. это абревиатуры типа 'м'\n",
        "        if form in str(df.text[i]).lower():\n",
        "          df.predictions[i] = 'mospolice'\n",
        "          break\n",
        "    if df.predictions[i] != 0:\n",
        "      break\n",
        "  if df.predictions[i] != 0:\n",
        "    continue  \n",
        "  \n",
        "  post = morph.parse('почта')[0].lexeme #Четвертое\n",
        "  post_forms = [x[0] for x in post]\n",
        "  for form in post_forms:\n",
        "    if form in str(df.text[i]).lower():\n",
        "      df.predictions[i] = 'russianpost'\n",
        "      break"
      ],
      "execution_count": 10,
      "outputs": [
        {
          "output_type": "stream",
          "text": [
            "/usr/local/lib/python3.6/dist-packages/ipykernel_launcher.py:16: SettingWithCopyWarning: \n",
            "A value is trying to be set on a copy of a slice from a DataFrame\n",
            "\n",
            "See the caveats in the documentation: http://pandas.pydata.org/pandas-docs/stable/indexing.html#indexing-view-versus-copy\n",
            "  app.launch_new_instance()\n",
            "/usr/local/lib/python3.6/dist-packages/pandas/core/indexing.py:190: SettingWithCopyWarning: \n",
            "A value is trying to be set on a copy of a slice from a DataFrame\n",
            "\n",
            "See the caveats in the documentation: http://pandas.pydata.org/pandas-docs/stable/indexing.html#indexing-view-versus-copy\n",
            "  self._setitem_with_indexer(indexer, value)\n"
          ],
          "name": "stderr"
        }
      ]
    },
    {
      "cell_type": "code",
      "metadata": {
        "id": "youdsXagXxcR",
        "colab_type": "code",
        "outputId": "6a5273d6-68e0-4c43-9569-ed13c3920b33",
        "colab": {
          "base_uri": "https://localhost:8080/",
          "height": 196
        }
      },
      "source": [
        "df.head()"
      ],
      "execution_count": 11,
      "outputs": [
        {
          "output_type": "execute_result",
          "data": {
            "text/html": [
              "<div>\n",
              "<style scoped>\n",
              "    .dataframe tbody tr th:only-of-type {\n",
              "        vertical-align: middle;\n",
              "    }\n",
              "\n",
              "    .dataframe tbody tr th {\n",
              "        vertical-align: top;\n",
              "    }\n",
              "\n",
              "    .dataframe thead th {\n",
              "        text-align: right;\n",
              "    }\n",
              "</style>\n",
              "<table border=\"1\" class=\"dataframe\">\n",
              "  <thead>\n",
              "    <tr style=\"text-align: right;\">\n",
              "      <th></th>\n",
              "      <th>text</th>\n",
              "      <th>source</th>\n",
              "      <th>predictions</th>\n",
              "    </tr>\n",
              "  </thead>\n",
              "  <tbody>\n",
              "    <tr>\n",
              "      <th>0</th>\n",
              "      <td>Начальник Главного оперативного управления Ген...</td>\n",
              "      <td>mil</td>\n",
              "      <td>mil</td>\n",
              "    </tr>\n",
              "    <tr>\n",
              "      <th>1</th>\n",
              "      <td>Артиллерийские подразделения общевойскового об...</td>\n",
              "      <td>mil</td>\n",
              "      <td>0</td>\n",
              "    </tr>\n",
              "    <tr>\n",
              "      <th>2</th>\n",
              "      <td>Подразделения морской пехоты Каспийской флотил...</td>\n",
              "      <td>mil</td>\n",
              "      <td>0</td>\n",
              "    </tr>\n",
              "    <tr>\n",
              "      <th>3</th>\n",
              "      <td>Команды на всеармейских этапах конкурсов АрМИ-...</td>\n",
              "      <td>mil</td>\n",
              "      <td>mil</td>\n",
              "    </tr>\n",
              "    <tr>\n",
              "      <th>4</th>\n",
              "      <td>На большом учебно-методическом командирском сб...</td>\n",
              "      <td>mil</td>\n",
              "      <td>mil</td>\n",
              "    </tr>\n",
              "  </tbody>\n",
              "</table>\n",
              "</div>"
            ],
            "text/plain": [
              "                                                text source predictions\n",
              "0  Начальник Главного оперативного управления Ген...    mil         mil\n",
              "1  Артиллерийские подразделения общевойскового об...    mil           0\n",
              "2  Подразделения морской пехоты Каспийской флотил...    mil           0\n",
              "3  Команды на всеармейских этапах конкурсов АрМИ-...    mil         mil\n",
              "4  На большом учебно-методическом командирском сб...    mil         mil"
            ]
          },
          "metadata": {
            "tags": []
          },
          "execution_count": 11
        }
      ]
    },
    {
      "cell_type": "markdown",
      "metadata": {
        "id": "kDA1Wel9nS91",
        "colab_type": "text"
      },
      "source": [
        "Всего у нас 11625 текстов. Последовательно применив каждое правило, получаем следующие результаты:\n",
        "\n",
        "1) После применения первого правила неразмеченными остались 9649 текстов.\n",
        "\n",
        "2) После применения второго - 8732.\n",
        "\n",
        "3) После третьего  - 6877.\n",
        "\n",
        "4) После четвертого - 4555. \n",
        "\n",
        "Таким образом, мы обработали примерно треть текстов. Посмотрим на обработанные тексты, посчитаем метрики на них."
      ]
    },
    {
      "cell_type": "code",
      "metadata": {
        "id": "aBG3Jx3SaWPI",
        "colab_type": "code",
        "colab": {}
      },
      "source": [
        "LABELS = ['mchsgov', 'mil', 'mospolice', 'russianpost']"
      ],
      "execution_count": 0,
      "outputs": []
    },
    {
      "cell_type": "code",
      "metadata": {
        "id": "YwBef8PsoQm3",
        "colab_type": "code",
        "colab": {}
      },
      "source": [
        "from sklearn.metrics import precision_recall_fscore_support\n",
        "from sklearn.metrics import accuracy_score"
      ],
      "execution_count": 0,
      "outputs": []
    },
    {
      "cell_type": "code",
      "metadata": {
        "id": "2LhK-BSOS1W-",
        "colab_type": "code",
        "outputId": "26c604e9-139f-4bc8-e3d5-88a19a4c5cf2",
        "colab": {
          "base_uri": "https://localhost:8080/",
          "height": 100
        }
      },
      "source": [
        "df_done = df[df.predictions != 0 ]\n",
        "df_done.head()\n",
        "print(len(df) - len(df_done), len(df_done)) #Кол-во непредсказанных текстов и кол-во предсказанных\n",
        "metrics = precision_recall_fscore_support(list(df_done.source), list(df_done.predictions), average='macro', labels=LABELS)\n",
        "acc = accuracy_score(list(df_done.source), list(df_done.predictions))\n",
        "\n",
        "print('Precision: {}'.format(metrics[0]))\n",
        "print('Recall: {}'.format(metrics[1]))\n",
        "print('f1-score: {}'.format(metrics[2]))\n",
        "print('Accuracy: {}'.format(acc))"
      ],
      "execution_count": 14,
      "outputs": [
        {
          "output_type": "stream",
          "text": [
            "4555 7070\n",
            "Precision: 0.950582603129613\n",
            "Recall: 0.9562922216356675\n",
            "f1-score: 0.953242126700108\n",
            "Accuracy: 0.958981612446959\n"
          ],
          "name": "stdout"
        }
      ]
    },
    {
      "cell_type": "markdown",
      "metadata": {
        "id": "J7tI4x7ArBZ9",
        "colab_type": "text"
      },
      "source": [
        "Таким образом, для тех текстов, которые мы смогли классифицировать, метрики высокие. Посмотрим теперь на все тексты. "
      ]
    },
    {
      "cell_type": "code",
      "metadata": {
        "id": "uOUnQZvDrOA4",
        "colab_type": "code",
        "outputId": "ab8a54ea-028d-4ef2-f8c3-078b0bf1c3f0",
        "colab": {
          "base_uri": "https://localhost:8080/",
          "height": 84
        }
      },
      "source": [
        "metrics = precision_recall_fscore_support(list(df.source), list(df.predictions), average='macro', labels=LABELS)\n",
        "acc = accuracy_score(list(df.source), list(df.predictions))\n",
        "\n",
        "print('Precision: {}'.format(metrics[0]))\n",
        "print('Recall: {}'.format(metrics[1]))\n",
        "print('f1-score: {}'.format(metrics[2]))\n",
        "print('Accuracy: {}'.format(acc))"
      ],
      "execution_count": 15,
      "outputs": [
        {
          "output_type": "stream",
          "text": [
            "Precision: 0.950582603129613\n",
            "Recall: 0.5912811283749377\n",
            "f1-score: 0.7095386914883555\n",
            "Accuracy: 0.5832258064516129\n"
          ],
          "name": "stdout"
        }
      ]
    },
    {
      "cell_type": "markdown",
      "metadata": {
        "id": "OAbOpRx1rbat",
        "colab_type": "text"
      },
      "source": [
        "Очевидно, что показатели ниже.  Для того, чтобы понять, получилось ли такое правило, которое не ошибается. Посмотрим Precision для всех наших классов. (Т.к. на присваивание одному классу есть только одно правило, что если Precision = 1, то это правило абсолютно верное.)\n"
      ]
    },
    {
      "cell_type": "code",
      "metadata": {
        "id": "amXJ3F8jscJq",
        "colab_type": "code",
        "outputId": "ba9ee23c-55e2-4478-9d7a-875702b83423",
        "colab": {
          "base_uri": "https://localhost:8080/",
          "height": 33
        }
      },
      "source": [
        "precisions = precision_recall_fscore_support(list(df_done.source), list(df_done.predictions), labels=LABELS)[0]\n",
        "precisions"
      ],
      "execution_count": 16,
      "outputs": [
        {
          "output_type": "execute_result",
          "data": {
            "text/plain": [
              "array([0.98279352, 0.89094875, 0.97897574, 0.9496124 ])"
            ]
          },
          "metadata": {
            "tags": []
          },
          "execution_count": 16
        }
      ]
    },
    {
      "cell_type": "markdown",
      "metadata": {
        "id": "sMPmueoassQi",
        "colab_type": "text"
      },
      "source": [
        "Мы видим, что максимальный Precision у первого класса, а это у нас - mchgov. На этот класс указывает только одно правило.  А значит - оно не дает максимальных результатов, но оно самое лучшее из рассмотренных четырех правил. Хуже всего сработало правило про 'военный'."
      ]
    },
    {
      "cell_type": "code",
      "metadata": {
        "id": "sLr3tsJKc59E",
        "colab_type": "code",
        "colab": {}
      },
      "source": [
        "#Удалим колонку с нашими предсказаниями, она больше не нужна\n",
        "del df['predictions']"
      ],
      "execution_count": 0,
      "outputs": []
    },
    {
      "cell_type": "code",
      "metadata": {
        "id": "JzCVj1mxcsfM",
        "colab_type": "code",
        "outputId": "ff775ca5-1ab7-4aea-881d-03ab05f835b4",
        "colab": {
          "base_uri": "https://localhost:8080/",
          "height": 196
        }
      },
      "source": [
        "df.head()"
      ],
      "execution_count": 18,
      "outputs": [
        {
          "output_type": "execute_result",
          "data": {
            "text/html": [
              "<div>\n",
              "<style scoped>\n",
              "    .dataframe tbody tr th:only-of-type {\n",
              "        vertical-align: middle;\n",
              "    }\n",
              "\n",
              "    .dataframe tbody tr th {\n",
              "        vertical-align: top;\n",
              "    }\n",
              "\n",
              "    .dataframe thead th {\n",
              "        text-align: right;\n",
              "    }\n",
              "</style>\n",
              "<table border=\"1\" class=\"dataframe\">\n",
              "  <thead>\n",
              "    <tr style=\"text-align: right;\">\n",
              "      <th></th>\n",
              "      <th>text</th>\n",
              "      <th>source</th>\n",
              "    </tr>\n",
              "  </thead>\n",
              "  <tbody>\n",
              "    <tr>\n",
              "      <th>0</th>\n",
              "      <td>Начальник Главного оперативного управления Ген...</td>\n",
              "      <td>mil</td>\n",
              "    </tr>\n",
              "    <tr>\n",
              "      <th>1</th>\n",
              "      <td>Артиллерийские подразделения общевойскового об...</td>\n",
              "      <td>mil</td>\n",
              "    </tr>\n",
              "    <tr>\n",
              "      <th>2</th>\n",
              "      <td>Подразделения морской пехоты Каспийской флотил...</td>\n",
              "      <td>mil</td>\n",
              "    </tr>\n",
              "    <tr>\n",
              "      <th>3</th>\n",
              "      <td>Команды на всеармейских этапах конкурсов АрМИ-...</td>\n",
              "      <td>mil</td>\n",
              "    </tr>\n",
              "    <tr>\n",
              "      <th>4</th>\n",
              "      <td>На большом учебно-методическом командирском сб...</td>\n",
              "      <td>mil</td>\n",
              "    </tr>\n",
              "  </tbody>\n",
              "</table>\n",
              "</div>"
            ],
            "text/plain": [
              "                                                text source\n",
              "0  Начальник Главного оперативного управления Ген...    mil\n",
              "1  Артиллерийские подразделения общевойскового об...    mil\n",
              "2  Подразделения морской пехоты Каспийской флотил...    mil\n",
              "3  Команды на всеармейских этапах конкурсов АрМИ-...    mil\n",
              "4  На большом учебно-методическом командирском сб...    mil"
            ]
          },
          "metadata": {
            "tags": []
          },
          "execution_count": 18
        }
      ]
    },
    {
      "cell_type": "markdown",
      "metadata": {
        "colab_type": "text",
        "id": "22tJKQnaOjie"
      },
      "source": [
        "## Задание 3 [3 балла]. Baseline\n",
        "Используйте стандартный ```sklearn.pipeline``` для классификации текстов: \n",
        "* векторизация \n",
        "* $tf-idf$ взвешивание \n",
        "* ваш любимый метод классификации.\n",
        "\n",
        "\n",
        "Оцените результаты классификации по стандартным мерам качества и проведите анализ ошибок. Для этого рекомендуем визуализировать матрицу ошибок (confusion matrix). "
      ]
    },
    {
      "cell_type": "code",
      "metadata": {
        "id": "-RjAt0aOtzk2",
        "colab_type": "code",
        "colab": {}
      },
      "source": [
        "from sklearn.naive_bayes import MultinomialNB\n",
        "from sklearn.pipeline import Pipeline\n",
        "from sklearn.feature_extraction.text import TfidfTransformer\n",
        "from sklearn.feature_extraction.text import CountVectorizer\n",
        "from sklearn import metrics"
      ],
      "execution_count": 0,
      "outputs": []
    },
    {
      "cell_type": "code",
      "metadata": {
        "id": "J9CVS3R2uFpH",
        "colab_type": "code",
        "outputId": "46b6775f-beb8-44fd-ce53-4f7db6b61bd9",
        "colab": {
          "base_uri": "https://localhost:8080/",
          "height": 33
        }
      },
      "source": [
        "#Векторизация\n",
        "count_vect = CountVectorizer()\n",
        "X_train_counts = count_vect.fit_transform(train.text)\n",
        "X_train_counts.shape"
      ],
      "execution_count": 20,
      "outputs": [
        {
          "output_type": "execute_result",
          "data": {
            "text/plain": [
              "(9300, 74162)"
            ]
          },
          "metadata": {
            "tags": []
          },
          "execution_count": 20
        }
      ]
    },
    {
      "cell_type": "code",
      "metadata": {
        "id": "dQ47SaurudtH",
        "colab_type": "code",
        "outputId": "65e96f5a-e14d-4072-8258-bdb318fcd92a",
        "colab": {
          "base_uri": "https://localhost:8080/",
          "height": 33
        }
      },
      "source": [
        "#Tf-трансформация\n",
        "tf_transformer = TfidfTransformer(use_idf=False).fit(X_train_counts)\n",
        "X_train_tf = tf_transformer.transform(X_train_counts)\n",
        "X_train_tf.shape"
      ],
      "execution_count": 21,
      "outputs": [
        {
          "output_type": "execute_result",
          "data": {
            "text/plain": [
              "(9300, 74162)"
            ]
          },
          "metadata": {
            "tags": []
          },
          "execution_count": 21
        }
      ]
    },
    {
      "cell_type": "code",
      "metadata": {
        "id": "CzorA1O9uoWQ",
        "colab_type": "code",
        "outputId": "84b55f6b-a6dd-4a6a-c1c0-f55f6d8d00f5",
        "colab": {
          "base_uri": "https://localhost:8080/",
          "height": 33
        }
      },
      "source": [
        "#Tf-idf Трансформация\n",
        "tfidf_transformer = TfidfTransformer()\n",
        "X_train_tfidf = tfidf_transformer.fit_transform(X_train_counts)\n",
        "X_train_tfidf.shape"
      ],
      "execution_count": 22,
      "outputs": [
        {
          "output_type": "execute_result",
          "data": {
            "text/plain": [
              "(9300, 74162)"
            ]
          },
          "metadata": {
            "tags": []
          },
          "execution_count": 22
        }
      ]
    },
    {
      "cell_type": "code",
      "metadata": {
        "id": "KynvAAZNuuNa",
        "colab_type": "code",
        "colab": {}
      },
      "source": [
        "#Используем Native Bayes\n",
        "clf = MultinomialNB().fit(X_train_tfidf, train.source)"
      ],
      "execution_count": 0,
      "outputs": []
    },
    {
      "cell_type": "code",
      "metadata": {
        "id": "juot6PVStoUB",
        "colab_type": "code",
        "colab": {}
      },
      "source": [
        "#Строим pipeline\n",
        "text_clf = Pipeline([\n",
        "     ('vect', CountVectorizer()),\n",
        "     ('tfidf', TfidfTransformer()),\n",
        "     ('clf', MultinomialNB()),\n",
        " ])"
      ],
      "execution_count": 0,
      "outputs": []
    },
    {
      "cell_type": "code",
      "metadata": {
        "id": "FFNbtZvPvPzA",
        "colab_type": "code",
        "outputId": "d9cbaba9-63d2-40db-b795-5871aa50c4e3",
        "colab": {
          "base_uri": "https://localhost:8080/",
          "height": 301
        }
      },
      "source": [
        "text_clf.fit(train.text, train.source)  #Обучаем его"
      ],
      "execution_count": 25,
      "outputs": [
        {
          "output_type": "execute_result",
          "data": {
            "text/plain": [
              "Pipeline(memory=None,\n",
              "         steps=[('vect',\n",
              "                 CountVectorizer(analyzer='word', binary=False,\n",
              "                                 decode_error='strict',\n",
              "                                 dtype=<class 'numpy.int64'>, encoding='utf-8',\n",
              "                                 input='content', lowercase=True, max_df=1.0,\n",
              "                                 max_features=None, min_df=1,\n",
              "                                 ngram_range=(1, 1), preprocessor=None,\n",
              "                                 stop_words=None, strip_accents=None,\n",
              "                                 token_pattern='(?u)\\\\b\\\\w\\\\w+\\\\b',\n",
              "                                 tokenizer=None, vocabulary=None)),\n",
              "                ('tfidf',\n",
              "                 TfidfTransformer(norm='l2', smooth_idf=True,\n",
              "                                  sublinear_tf=False, use_idf=True)),\n",
              "                ('clf',\n",
              "                 MultinomialNB(alpha=1.0, class_prior=None, fit_prior=True))],\n",
              "         verbose=False)"
            ]
          },
          "metadata": {
            "tags": []
          },
          "execution_count": 25
        }
      ]
    },
    {
      "cell_type": "code",
      "metadata": {
        "id": "zL9NJzimveY6",
        "colab_type": "code",
        "colab": {}
      },
      "source": [
        "predicted = text_clf.predict(test.text)"
      ],
      "execution_count": 0,
      "outputs": []
    },
    {
      "cell_type": "code",
      "metadata": {
        "id": "ydbtMofZvmBC",
        "colab_type": "code",
        "outputId": "d31fe2be-2755-434b-ee14-4543f03d9f4e",
        "colab": {
          "base_uri": "https://localhost:8080/",
          "height": 201
        }
      },
      "source": [
        "print(metrics.classification_report(test.source, predicted, target_names= LABELS))"
      ],
      "execution_count": 27,
      "outputs": [
        {
          "output_type": "stream",
          "text": [
            "              precision    recall  f1-score   support\n",
            "\n",
            "     mchsgov       0.98      0.91      0.95       629\n",
            "         mil       0.98      0.96      0.97       604\n",
            "   mospolice       0.94      1.00      0.96       563\n",
            " russianpost       0.91      0.95      0.93       529\n",
            "\n",
            "    accuracy                           0.95      2325\n",
            "   macro avg       0.95      0.96      0.95      2325\n",
            "weighted avg       0.96      0.95      0.95      2325\n",
            "\n"
          ],
          "name": "stdout"
        }
      ]
    },
    {
      "cell_type": "markdown",
      "metadata": {
        "id": "_FfAnUriwj8T",
        "colab_type": "text"
      },
      "source": [
        "Из отчета мы видим, что лучше всего удалось классифицировать mil (хоть полнота и уступает mospolice, но f-мера самая высокая из всех.)\n"
      ]
    },
    {
      "cell_type": "code",
      "metadata": {
        "id": "9TtqMBBu375r",
        "colab_type": "code",
        "outputId": "88fc1309-27fa-4450-abb0-068aeac24a3f",
        "colab": {
          "base_uri": "https://localhost:8080/",
          "height": 291
        }
      },
      "source": [
        "import seaborn as sns\n",
        "import matplotlib.pyplot as plt\n",
        "%matplotlib inline\n",
        "\n",
        "\n",
        "cnf_matrix_baseline = metrics.confusion_matrix(test.source, predicted, labels=LABELS)\n",
        "sns.heatmap(cnf_matrix_baseline, annot=True, fmt=\"d\", cbar=False,xticklabels=LABELS, yticklabels=LABELS)\n",
        "plt.title(\"Confusion matrix\")\n",
        "plt.show()"
      ],
      "execution_count": 28,
      "outputs": [
        {
          "output_type": "display_data",
          "data": {
            "image/png": "[encoded data removed]",
            "text/plain": [
              "<Figure size 432x288 with 1 Axes>"
            ]
          },
          "metadata": {
            "tags": []
          }
        }
      ]
    },
    {
      "cell_type": "markdown",
      "metadata": {
        "id": "4ZYdsFDix-q5",
        "colab_type": "text"
      },
      "source": [
        "Из матрицы ошибок мы можем видеть, что много лишних текстов было приписано к классам mospolice и russianpost.  Однако больше всего текстов было отнято у класса  mchsgov и russianpost. "
      ]
    },
    {
      "cell_type": "markdown",
      "metadata": {
        "colab_type": "text",
        "id": "I4m1rDQ3PAqO"
      },
      "source": [
        "## Задание 4 [2 балла]. Снижение размерности\n",
        "Добавьте в ваш ```sklearn.pipeline```  методы снижения размерности:  PCA / LSI / LSA / LDA / другое. Какие методы классификации разумно использовать после снижения размерности? Как изменились результаты классификации после добавления нового шага?"
      ]
    },
    {
      "cell_type": "code",
      "metadata": {
        "id": "REf0PpcBYdKP",
        "colab_type": "code",
        "colab": {}
      },
      "source": [
        "from sklearn.decomposition import TruncatedSVD"
      ],
      "execution_count": 0,
      "outputs": []
    },
    {
      "cell_type": "code",
      "metadata": {
        "id": "mfNv95O4ctCf",
        "colab_type": "code",
        "colab": {}
      },
      "source": [
        "from sklearn.linear_model import LogisticRegression\n",
        "logreg = LogisticRegression()"
      ],
      "execution_count": 0,
      "outputs": []
    },
    {
      "cell_type": "code",
      "metadata": {
        "id": "88zmFUsjYteQ",
        "colab_type": "code",
        "colab": {}
      },
      "source": [
        "text_clf_lr = Pipeline([\n",
        "     ('vect', CountVectorizer()),\n",
        "     ('tfidf', TfidfTransformer()),\n",
        "    ('svd', TruncatedSVD(n_components=4)),\n",
        "     ('lg', logreg),\n",
        " ])"
      ],
      "execution_count": 0,
      "outputs": []
    },
    {
      "cell_type": "code",
      "metadata": {
        "id": "gpR6jAxdZCp-",
        "colab_type": "code",
        "outputId": "4a8747b5-21ef-4682-de39-5e037e9a265a",
        "colab": {
          "base_uri": "https://localhost:8080/",
          "height": 488
        }
      },
      "source": [
        "text_clf_lr.fit(train.text, train.source)"
      ],
      "execution_count": 32,
      "outputs": [
        {
          "output_type": "stream",
          "text": [
            "/usr/local/lib/python3.6/dist-packages/sklearn/linear_model/logistic.py:432: FutureWarning: Default solver will be changed to 'lbfgs' in 0.22. Specify a solver to silence this warning.\n",
            "  FutureWarning)\n",
            "/usr/local/lib/python3.6/dist-packages/sklearn/linear_model/logistic.py:469: FutureWarning: Default multi_class will be changed to 'auto' in 0.22. Specify the multi_class option to silence this warning.\n",
            "  \"this warning.\", FutureWarning)\n"
          ],
          "name": "stderr"
        },
        {
          "output_type": "execute_result",
          "data": {
            "text/plain": [
              "Pipeline(memory=None,\n",
              "         steps=[('vect',\n",
              "                 CountVectorizer(analyzer='word', binary=False,\n",
              "                                 decode_error='strict',\n",
              "                                 dtype=<class 'numpy.int64'>, encoding='utf-8',\n",
              "                                 input='content', lowercase=True, max_df=1.0,\n",
              "                                 max_features=None, min_df=1,\n",
              "                                 ngram_range=(1, 1), preprocessor=None,\n",
              "                                 stop_words=None, strip_accents=None,\n",
              "                                 token_pattern='(?u)\\\\b\\\\w\\\\w+\\\\b',\n",
              "                                 tokenizer=None, vocabulary=Non...\n",
              "                ('svd',\n",
              "                 TruncatedSVD(algorithm='randomized', n_components=4, n_iter=5,\n",
              "                              random_state=None, tol=0.0)),\n",
              "                ('lg',\n",
              "                 LogisticRegression(C=1.0, class_weight=None, dual=False,\n",
              "                                    fit_intercept=True, intercept_scaling=1,\n",
              "                                    l1_ratio=None, max_iter=100,\n",
              "                                    multi_class='warn', n_jobs=None,\n",
              "                                    penalty='l2', random_state=None,\n",
              "                                    solver='warn', tol=0.0001, verbose=0,\n",
              "                                    warm_start=False))],\n",
              "         verbose=False)"
            ]
          },
          "metadata": {
            "tags": []
          },
          "execution_count": 32
        }
      ]
    },
    {
      "cell_type": "code",
      "metadata": {
        "id": "kyOhzbqQcW5h",
        "colab_type": "code",
        "colab": {}
      },
      "source": [
        "predicted_lr = text_clf_lr.predict(test.text)"
      ],
      "execution_count": 0,
      "outputs": []
    },
    {
      "cell_type": "code",
      "metadata": {
        "id": "9RXZfIFPc7Nu",
        "colab_type": "code",
        "outputId": "6945c509-f46a-4f37-fa06-b69457e58d54",
        "colab": {
          "base_uri": "https://localhost:8080/",
          "height": 201
        }
      },
      "source": [
        "print(metrics.classification_report(test.source, predicted_lr, target_names= LABELS))"
      ],
      "execution_count": 34,
      "outputs": [
        {
          "output_type": "stream",
          "text": [
            "              precision    recall  f1-score   support\n",
            "\n",
            "     mchsgov       0.95      0.78      0.86       629\n",
            "         mil       0.55      0.85      0.67       604\n",
            "   mospolice       0.94      0.95      0.95       563\n",
            " russianpost       0.62      0.36      0.46       529\n",
            "\n",
            "    accuracy                           0.74      2325\n",
            "   macro avg       0.77      0.74      0.73      2325\n",
            "weighted avg       0.77      0.74      0.74      2325\n",
            "\n"
          ],
          "name": "stdout"
        }
      ]
    },
    {
      "cell_type": "code",
      "metadata": {
        "id": "VgvsebK2dAMv",
        "colab_type": "code",
        "outputId": "076734a2-b5b2-4754-8a61-b21129138be5",
        "colab": {
          "base_uri": "https://localhost:8080/",
          "height": 291
        }
      },
      "source": [
        "cnf_matrix_lr = metrics.confusion_matrix(test.source, predicted_lr, labels=LABELS)\n",
        "sns.heatmap(cnf_matrix_lr, annot=True, fmt=\"d\", cbar=False, xticklabels=LABELS, yticklabels=LABELS)\n",
        "plt.title(\"Confusion matrix\")\n",
        "plt.show()"
      ],
      "execution_count": 35,
      "outputs": [
        {
          "output_type": "display_data",
          "data": {
            "image/png": "[encoded data removed]",
            "text/plain": [
              "<Figure size 432x288 with 1 Axes>"
            ]
          },
          "metadata": {
            "tags": []
          }
        }
      ]
    },
    {
      "cell_type": "markdown",
      "metadata": {
        "id": "jlkKuKj2dUR7",
        "colab_type": "text"
      },
      "source": [
        "Можно заметить явные ухуждения по всем показателям, но связано это с тем, что использована была логистическая регрессия. В дальнейшем лучше отказаться от этой идеи. Хуже всего классификация прошла для russianpost (f-score и recall меньше 0.5)"
      ]
    },
    {
      "cell_type": "markdown",
      "metadata": {
        "colab_type": "text",
        "id": "7vVPaaVwPVwg"
      },
      "source": [
        "## Задание 5 [1 балл]. Лемматизация\n",
        "Посмотрите, как влияет лемматизация на качество классификации. Как изменится качество классификации, если вы используете ```CountVectorizer``` на словах или $n$-граммах на лемматизированных текстах?"
      ]
    },
    {
      "cell_type": "code",
      "metadata": {
        "id": "woQN-75Uh5E8",
        "colab_type": "code",
        "colab": {
          "base_uri": "https://localhost:8080/",
          "height": 196
        },
        "outputId": "84985137-ee47-4310-94a2-01119bbe1964"
      },
      "source": [
        "train.head()"
      ],
      "execution_count": 65,
      "outputs": [
        {
          "output_type": "execute_result",
          "data": {
            "text/html": [
              "<div>\n",
              "<style scoped>\n",
              "    .dataframe tbody tr th:only-of-type {\n",
              "        vertical-align: middle;\n",
              "    }\n",
              "\n",
              "    .dataframe tbody tr th {\n",
              "        vertical-align: top;\n",
              "    }\n",
              "\n",
              "    .dataframe thead th {\n",
              "        text-align: right;\n",
              "    }\n",
              "</style>\n",
              "<table border=\"1\" class=\"dataframe\">\n",
              "  <thead>\n",
              "    <tr style=\"text-align: right;\">\n",
              "      <th></th>\n",
              "      <th>text</th>\n",
              "      <th>source</th>\n",
              "    </tr>\n",
              "  </thead>\n",
              "  <tbody>\n",
              "    <tr>\n",
              "      <th>8502</th>\n",
              "      <td>Почтовая химия!Клей для марок готовится из сме...</td>\n",
              "      <td>russianpost</td>\n",
              "    </tr>\n",
              "    <tr>\n",
              "      <th>9169</th>\n",
              "      <td>На Петровке, 38 председателя Совета ветеранов ...</td>\n",
              "      <td>mospolice</td>\n",
              "    </tr>\n",
              "    <tr>\n",
              "      <th>3370</th>\n",
              "      <td>#МЧС #МЧСРОССИИ При подготовке к Чемпионату ми...</td>\n",
              "      <td>mchsgov</td>\n",
              "    </tr>\n",
              "    <tr>\n",
              "      <th>4950</th>\n",
              "      <td>#ПамяткаМЧС #МЧС #МЧСРОССИИГаз, по-прежнему, и...</td>\n",
              "      <td>mchsgov</td>\n",
              "    </tr>\n",
              "    <tr>\n",
              "      <th>3245</th>\n",
              "      <td>#МЧС #МЧСРОССИИСотрудники МЧС России обследуют...</td>\n",
              "      <td>mchsgov</td>\n",
              "    </tr>\n",
              "  </tbody>\n",
              "</table>\n",
              "</div>"
            ],
            "text/plain": [
              "                                                   text       source\n",
              "8502  Почтовая химия!Клей для марок готовится из сме...  russianpost\n",
              "9169  На Петровке, 38 председателя Совета ветеранов ...    mospolice\n",
              "3370  #МЧС #МЧСРОССИИ При подготовке к Чемпионату ми...      mchsgov\n",
              "4950  #ПамяткаМЧС #МЧС #МЧСРОССИИГаз, по-прежнему, и...      mchsgov\n",
              "3245  #МЧС #МЧСРОССИИСотрудники МЧС России обследуют...      mchsgov"
            ]
          },
          "metadata": {
            "tags": []
          },
          "execution_count": 65
        }
      ]
    },
    {
      "cell_type": "code",
      "metadata": {
        "id": "AERCfm-p3IOB",
        "colab_type": "code",
        "colab": {
          "base_uri": "https://localhost:8080/",
          "height": 117
        },
        "outputId": "eb445b72-30d1-452e-884b-86483c8da1b3"
      },
      "source": [
        "train['lemmas'] = 'empty'"
      ],
      "execution_count": 66,
      "outputs": [
        {
          "output_type": "stream",
          "text": [
            "/usr/local/lib/python3.6/dist-packages/ipykernel_launcher.py:1: SettingWithCopyWarning: \n",
            "A value is trying to be set on a copy of a slice from a DataFrame.\n",
            "Try using .loc[row_indexer,col_indexer] = value instead\n",
            "\n",
            "See the caveats in the documentation: http://pandas.pydata.org/pandas-docs/stable/indexing.html#indexing-view-versus-copy\n",
            "  \"\"\"Entry point for launching an IPython kernel.\n"
          ],
          "name": "stderr"
        }
      ]
    },
    {
      "cell_type": "code",
      "metadata": {
        "id": "zPXqrRDKd74E",
        "colab_type": "code",
        "colab": {}
      },
      "source": [
        "#Здесь мы обнулили наши индексы, чтобы все было хорошо и как надо, а то изначально все было плохо, сохранили старые на всякий случай в колонке index\n",
        "train = train.reset_index()#drop=True)"
      ],
      "execution_count": 0,
      "outputs": []
    },
    {
      "cell_type": "code",
      "metadata": {
        "id": "TvccUn7pnHU4",
        "colab_type": "code",
        "colab": {}
      },
      "source": [
        "test = test.reset_index()"
      ],
      "execution_count": 0,
      "outputs": []
    },
    {
      "cell_type": "code",
      "metadata": {
        "id": "XIOGytcce9D5",
        "colab_type": "code",
        "colab": {
          "base_uri": "https://localhost:8080/",
          "height": 100
        },
        "outputId": "3da9b22c-1860-4d13-b8a0-1de14a2750a5"
      },
      "source": [
        "#Создаем список с лемматизацией, его будем подавать в CountVectorizer()\n",
        "for i, element in enumerate(train.text):\n",
        "  #print(train.text[0])\n",
        "  #print(element)\n",
        "  new_text = ''\n",
        "  for word in str(element).split():\n",
        "    p = morph.parse(word)[0].normal_form\n",
        "    new_text = new_text + ' ' + p\n",
        "  #print(new_text)\n",
        "  train['lemmas'][i] = new_text\n",
        " "
      ],
      "execution_count": 69,
      "outputs": [
        {
          "output_type": "stream",
          "text": [
            "/usr/local/lib/python3.6/dist-packages/ipykernel_launcher.py:9: SettingWithCopyWarning: \n",
            "A value is trying to be set on a copy of a slice from a DataFrame\n",
            "\n",
            "See the caveats in the documentation: http://pandas.pydata.org/pandas-docs/stable/indexing.html#indexing-view-versus-copy\n",
            "  if __name__ == '__main__':\n"
          ],
          "name": "stderr"
        }
      ]
    },
    {
      "cell_type": "code",
      "metadata": {
        "id": "8133hhLAa7uC",
        "colab_type": "code",
        "colab": {
          "base_uri": "https://localhost:8080/",
          "height": 196
        },
        "outputId": "7c5b8784-c7d0-4578-cd73-9751b965a4d0"
      },
      "source": [
        "train.head()"
      ],
      "execution_count": 70,
      "outputs": [
        {
          "output_type": "execute_result",
          "data": {
            "text/html": [
              "<div>\n",
              "<style scoped>\n",
              "    .dataframe tbody tr th:only-of-type {\n",
              "        vertical-align: middle;\n",
              "    }\n",
              "\n",
              "    .dataframe tbody tr th {\n",
              "        vertical-align: top;\n",
              "    }\n",
              "\n",
              "    .dataframe thead th {\n",
              "        text-align: right;\n",
              "    }\n",
              "</style>\n",
              "<table border=\"1\" class=\"dataframe\">\n",
              "  <thead>\n",
              "    <tr style=\"text-align: right;\">\n",
              "      <th></th>\n",
              "      <th>index</th>\n",
              "      <th>text</th>\n",
              "      <th>source</th>\n",
              "      <th>lemmas</th>\n",
              "    </tr>\n",
              "  </thead>\n",
              "  <tbody>\n",
              "    <tr>\n",
              "      <th>0</th>\n",
              "      <td>8502</td>\n",
              "      <td>Почтовая химия!Клей для марок готовится из сме...</td>\n",
              "      <td>russianpost</td>\n",
              "      <td>почтовый химия!клеить для марка готовиться из...</td>\n",
              "    </tr>\n",
              "    <tr>\n",
              "      <th>1</th>\n",
              "      <td>9169</td>\n",
              "      <td>На Петровке, 38 председателя Совета ветеранов ...</td>\n",
              "      <td>mospolice</td>\n",
              "      <td>на петровке, 38 председатель совет ветеран гу...</td>\n",
              "    </tr>\n",
              "    <tr>\n",
              "      <th>2</th>\n",
              "      <td>3370</td>\n",
              "      <td>#МЧС #МЧСРОССИИ При подготовке к Чемпионату ми...</td>\n",
              "      <td>mchsgov</td>\n",
              "      <td>#мчс #мчсроссия при подготовка к чемпионат ми...</td>\n",
              "    </tr>\n",
              "    <tr>\n",
              "      <th>3</th>\n",
              "      <td>4950</td>\n",
              "      <td>#ПамяткаМЧС #МЧС #МЧСРОССИИГаз, по-прежнему, и...</td>\n",
              "      <td>mchsgov</td>\n",
              "      <td>#памяткамчс #мчс #мчсроссиигаз, по-прежнему, ...</td>\n",
              "    </tr>\n",
              "    <tr>\n",
              "      <th>4</th>\n",
              "      <td>3245</td>\n",
              "      <td>#МЧС #МЧСРОССИИСотрудники МЧС России обследуют...</td>\n",
              "      <td>mchsgov</td>\n",
              "      <td>#мчс #мчсроссиисотрудник мчс россия обследова...</td>\n",
              "    </tr>\n",
              "  </tbody>\n",
              "</table>\n",
              "</div>"
            ],
            "text/plain": [
              "   index  ...                                             lemmas\n",
              "0   8502  ...   почтовый химия!клеить для марка готовиться из...\n",
              "1   9169  ...   на петровке, 38 председатель совет ветеран гу...\n",
              "2   3370  ...   #мчс #мчсроссия при подготовка к чемпионат ми...\n",
              "3   4950  ...   #памяткамчс #мчс #мчсроссиигаз, по-прежнему, ...\n",
              "4   3245  ...   #мчс #мчсроссиисотрудник мчс россия обследова...\n",
              "\n",
              "[5 rows x 4 columns]"
            ]
          },
          "metadata": {
            "tags": []
          },
          "execution_count": 70
        }
      ]
    },
    {
      "cell_type": "code",
      "metadata": {
        "id": "NSg3eWsmlMKI",
        "colab_type": "code",
        "outputId": "b09a371b-634f-4ad1-a45e-9d310a495f68",
        "colab": {
          "base_uri": "https://localhost:8080/",
          "height": 33
        }
      },
      "source": [
        "len(train.text), len(train.lemmas)"
      ],
      "execution_count": 72,
      "outputs": [
        {
          "output_type": "execute_result",
          "data": {
            "text/plain": [
              "(9300, 9300)"
            ]
          },
          "metadata": {
            "tags": []
          },
          "execution_count": 72
        }
      ]
    },
    {
      "cell_type": "code",
      "metadata": {
        "id": "Xmw0mRRee6oN",
        "colab_type": "code",
        "outputId": "592d5ddb-f44c-42f4-ad35-715b2ffedfe3",
        "colab": {
          "base_uri": "https://localhost:8080/",
          "height": 33
        }
      },
      "source": [
        "#Подаем на вход лемматизированные данные\n",
        "count_vect = CountVectorizer()\n",
        "X_train_counts = count_vect.fit_transform(train.lemmas)\n",
        "X_train_counts.shape"
      ],
      "execution_count": 73,
      "outputs": [
        {
          "output_type": "execute_result",
          "data": {
            "text/plain": [
              "(9300, 48479)"
            ]
          },
          "metadata": {
            "tags": []
          },
          "execution_count": 73
        }
      ]
    },
    {
      "cell_type": "code",
      "metadata": {
        "id": "zkJ6wCECmHOz",
        "colab_type": "code",
        "outputId": "e043ea65-a2b8-4724-da2b-e755d6a45c18",
        "colab": {
          "base_uri": "https://localhost:8080/",
          "height": 33
        }
      },
      "source": [
        "#Tf-трансформация\n",
        "tf_transformer = TfidfTransformer(use_idf=False).fit(X_train_counts)\n",
        "X_train_tf = tf_transformer.transform(X_train_counts)\n",
        "X_train_tf.shape"
      ],
      "execution_count": 74,
      "outputs": [
        {
          "output_type": "execute_result",
          "data": {
            "text/plain": [
              "(9300, 48479)"
            ]
          },
          "metadata": {
            "tags": []
          },
          "execution_count": 74
        }
      ]
    },
    {
      "cell_type": "code",
      "metadata": {
        "id": "X6nNnl9XmMma",
        "colab_type": "code",
        "outputId": "2ea0111b-c0f7-43d5-c32e-1c7462d5c582",
        "colab": {
          "base_uri": "https://localhost:8080/",
          "height": 33
        }
      },
      "source": [
        "#Tf-idf Трансформация\n",
        "tfidf_transformer = TfidfTransformer()\n",
        "X_train_tfidf = tfidf_transformer.fit_transform(X_train_counts)\n",
        "X_train_tfidf.shape"
      ],
      "execution_count": 75,
      "outputs": [
        {
          "output_type": "execute_result",
          "data": {
            "text/plain": [
              "(9300, 48479)"
            ]
          },
          "metadata": {
            "tags": []
          },
          "execution_count": 75
        }
      ]
    },
    {
      "cell_type": "markdown",
      "metadata": {
        "id": "nKUJrxSsAeqa",
        "colab_type": "text"
      },
      "source": [
        "Можно заметить, что уменьшается размерность X по сравнению с предыдущими методами"
      ]
    },
    {
      "cell_type": "code",
      "metadata": {
        "colab_type": "code",
        "id": "cqQIXqP4fO_0",
        "colab": {}
      },
      "source": [
        "clf = MultinomialNB().fit(X_train_tfidf, train.source)"
      ],
      "execution_count": 0,
      "outputs": []
    },
    {
      "cell_type": "code",
      "metadata": {
        "id": "6q79v5W4mSDI",
        "colab_type": "code",
        "colab": {}
      },
      "source": [
        "#Строим pipeline\n",
        "text_clf_lemm = Pipeline([\n",
        "     ('vect', CountVectorizer()),\n",
        "     ('tfidf', TfidfTransformer()),\n",
        "     ('clf', MultinomialNB()),\n",
        " ])"
      ],
      "execution_count": 0,
      "outputs": []
    },
    {
      "cell_type": "code",
      "metadata": {
        "id": "35yCORg0maL0",
        "colab_type": "code",
        "outputId": "ff57b813-1844-4be1-c64e-eb1643c42502",
        "colab": {
          "base_uri": "https://localhost:8080/",
          "height": 301
        }
      },
      "source": [
        "text_clf_lemm.fit(train.lemmas, train.source)  #Обучаем его"
      ],
      "execution_count": 78,
      "outputs": [
        {
          "output_type": "execute_result",
          "data": {
            "text/plain": [
              "Pipeline(memory=None,\n",
              "         steps=[('vect',\n",
              "                 CountVectorizer(analyzer='word', binary=False,\n",
              "                                 decode_error='strict',\n",
              "                                 dtype=<class 'numpy.int64'>, encoding='utf-8',\n",
              "                                 input='content', lowercase=True, max_df=1.0,\n",
              "                                 max_features=None, min_df=1,\n",
              "                                 ngram_range=(1, 1), preprocessor=None,\n",
              "                                 stop_words=None, strip_accents=None,\n",
              "                                 token_pattern='(?u)\\\\b\\\\w\\\\w+\\\\b',\n",
              "                                 tokenizer=None, vocabulary=None)),\n",
              "                ('tfidf',\n",
              "                 TfidfTransformer(norm='l2', smooth_idf=True,\n",
              "                                  sublinear_tf=False, use_idf=True)),\n",
              "                ('clf',\n",
              "                 MultinomialNB(alpha=1.0, class_prior=None, fit_prior=True))],\n",
              "         verbose=False)"
            ]
          },
          "metadata": {
            "tags": []
          },
          "execution_count": 78
        }
      ]
    },
    {
      "cell_type": "code",
      "metadata": {
        "id": "wsxDoOePmduY",
        "colab_type": "code",
        "colab": {}
      },
      "source": [
        "predicted_lemm = text_clf_lemm.predict(test.text)"
      ],
      "execution_count": 0,
      "outputs": []
    },
    {
      "cell_type": "code",
      "metadata": {
        "id": "N6S4phT0mmcQ",
        "colab_type": "code",
        "outputId": "c55db4cb-5846-435e-b60e-02d3a5ff8568",
        "colab": {
          "base_uri": "https://localhost:8080/",
          "height": 201
        }
      },
      "source": [
        "print(metrics.classification_report(test.source, predicted_lemm, target_names=LABELS))"
      ],
      "execution_count": 80,
      "outputs": [
        {
          "output_type": "stream",
          "text": [
            "              precision    recall  f1-score   support\n",
            "\n",
            "     mchsgov       0.99      0.93      0.96       614\n",
            "         mil       0.99      0.98      0.98       583\n",
            "   mospolice       0.95      0.99      0.97       591\n",
            " russianpost       0.92      0.95      0.94       537\n",
            "\n",
            "    accuracy                           0.96      2325\n",
            "   macro avg       0.96      0.96      0.96      2325\n",
            "weighted avg       0.96      0.96      0.96      2325\n",
            "\n"
          ],
          "name": "stdout"
        }
      ]
    },
    {
      "cell_type": "code",
      "metadata": {
        "id": "NmHHpbI4mp_r",
        "colab_type": "code",
        "outputId": "71a52eaa-d49b-4dbe-9dfe-c8ce2111773b",
        "colab": {
          "base_uri": "https://localhost:8080/",
          "height": 291
        }
      },
      "source": [
        "cnf_matrix_lemm = metrics.confusion_matrix(test.source, predicted_lemm, labels=LABELS)\n",
        "sns.heatmap(cnf_matrix_lemm, annot=True, fmt=\"d\", cbar=False, xticklabels=LABELS, yticklabels=LABELS)\n",
        "plt.title(\"Confusion matrix\")\n",
        "plt.show()"
      ],
      "execution_count": 81,
      "outputs": [
        {
          "output_type": "display_data",
          "data": {
            "image/png": "[encoded data removed]",
            "text/plain": [
              "<Figure size 432x288 with 1 Axes>"
            ]
          },
          "metadata": {
            "tags": []
          }
        }
      ]
    },
    {
      "cell_type": "markdown",
      "metadata": {
        "id": "0sirX-T6mrqL",
        "colab_type": "text"
      },
      "source": [
        "В целом, различий особых нет. Разница по сравнению с baseline в пределах 0.02 для f-score. "
      ]
    },
    {
      "cell_type": "markdown",
      "metadata": {
        "colab_type": "text",
        "id": "cdakRHahQp-l"
      },
      "source": [
        "## Задание 6 [3 балла]. Continious bag of words\n",
        "Для baseline решения мы использовали обычное представление текста в виде мешка слов. Попробуйте использовать другие модели представления текста – например, в виде непрерывного мешка слов, то есть, в виде набора эмбеддингов. Для того, чтобы получить вектор текста попробуйте:\n",
        "* усреднить все эмбеддинги слов, входящих в этот текст\n",
        "* усреднить все эмбеддинги слов, входящих в этот текст с $tf-idf$ весами\n",
        "* использовать любую модель эмбеддинга документа.\n",
        "\n",
        "Используйте любую модель эмбеддингов по вашему вкусу. \n",
        "\n",
        "\n",
        "Оцените результаты классификации по стандартным мерам качества и проведите анализ ошибок. Для этого рекомендуем визуализировать матрицу ошибок (confusion matrix). "
      ]
    },
    {
      "cell_type": "code",
      "metadata": {
        "id": "nrvYhiW0KulB",
        "colab_type": "code",
        "outputId": "d2a9b40b-9d5b-4921-ad63-d134eb2de651",
        "colab": {
          "base_uri": "https://localhost:8080/",
          "height": 70
        }
      },
      "source": [
        "#Источник, на котором основывалась http://nadbordrozd.github.io/blog/2016/05/20/text-classification-with-word2vec/\n",
        "import gensim\n",
        "model = gensim.models.Word2Vec(train.text, size=100)\n",
        "w2v = dict(zip(model.wv.index2word, model.wv.syn0))"
      ],
      "execution_count": 82,
      "outputs": [
        {
          "output_type": "stream",
          "text": [
            "/usr/local/lib/python3.6/dist-packages/ipykernel_launcher.py:3: DeprecationWarning: Call to deprecated `syn0` (Attribute will be removed in 4.0.0, use self.wv.vectors instead).\n",
            "  This is separate from the ipykernel package so we can avoid doing imports until\n"
          ],
          "name": "stderr"
        }
      ]
    },
    {
      "cell_type": "code",
      "metadata": {
        "id": "IEPFxzRyK_Do",
        "colab_type": "code",
        "colab": {}
      },
      "source": [
        "class MeanEmbeddingVectorizer(object):\n",
        "    def __init__(self, word2vec):\n",
        "        self.word2vec = word2vec\n",
        "        self.dim = len(list(word2vec.values()))\n",
        "\n",
        "    def fit(self, X, y):\n",
        "        return self\n",
        "\n",
        "    def transform(self, X):\n",
        "        return np.array([\n",
        "            np.mean([self.word2vec[w] for w in words if w in self.word2vec]\n",
        "                    or [np.zeros(self.dim)], axis=0)\n",
        "            for words in X\n",
        "        ])"
      ],
      "execution_count": 0,
      "outputs": []
    },
    {
      "cell_type": "code",
      "metadata": {
        "id": "uwkQ_4FWLD9x",
        "colab_type": "code",
        "colab": {}
      },
      "source": [
        "class TfidfEmbeddingVectorizer(object):\n",
        "    def __init__(self, word2vec):\n",
        "        self.word2vec = word2vec\n",
        "        self.word2weight = None\n",
        "        self.dim = len(list(word2vec.values()))\n",
        "\n",
        "    def fit(self, X, y):\n",
        "        tfidf = TfidfVectorizer(analyzer=lambda x: x)\n",
        "        tfidf.fit(X)\n",
        "        # Если слово абсолютно не знакомое, то ставим дефолт idf (max)\n",
        "        max_idf = max(tfidf.idf_)\n",
        "        self.word2weight = defaultdict(\n",
        "            lambda: max_idf,\n",
        "            [(w, tfidf.idf_[i]) for w, i in tfidf.vocabulary_.items()])\n",
        "\n",
        "        return self\n",
        "\n",
        "    def transform(self, X):\n",
        "        return np.array([\n",
        "                np.mean([self.word2vec[w] * self.word2weight[w]\n",
        "                         for w in words if w in self.word2vec] or\n",
        "                        [np.zeros(self.dim)], axis=0)\n",
        "                for words in X\n",
        "            ])"
      ],
      "execution_count": 0,
      "outputs": []
    },
    {
      "cell_type": "code",
      "metadata": {
        "id": "9g3miUUSLHT7",
        "colab_type": "code",
        "colab": {}
      },
      "source": [
        "from sklearn.ensemble import ExtraTreesClassifier\n",
        "\n",
        "etree_w2v = Pipeline([\n",
        "    (\"word2vec vectorizer\", MeanEmbeddingVectorizer(w2v)),\n",
        "    (\"extra trees\", ExtraTreesClassifier(n_estimators=200))])\n",
        "etree_w2v_tfidf = Pipeline([\n",
        "    (\"word2vec vectorizer\", TfidfEmbeddingVectorizer(w2v)),\n",
        "    (\"extra trees\", ExtraTreesClassifier(n_estimators=200))])"
      ],
      "execution_count": 0,
      "outputs": []
    },
    {
      "cell_type": "code",
      "metadata": {
        "id": "ZLnRC3gDL_W_",
        "colab_type": "code",
        "outputId": "b4db8fb7-5d7c-4a80-a58e-3c1a4f1237cc",
        "colab": {
          "base_uri": "https://localhost:8080/",
          "height": 268
        }
      },
      "source": [
        "etree_w2v.fit(train.text, train.source)"
      ],
      "execution_count": 86,
      "outputs": [
        {
          "output_type": "execute_result",
          "data": {
            "text/plain": [
              "Pipeline(memory=None,\n",
              "         steps=[('word2vec vectorizer',\n",
              "                 <__main__.MeanEmbeddingVectorizer object at 0x7fd0b81cf4e0>),\n",
              "                ('extra trees',\n",
              "                 ExtraTreesClassifier(bootstrap=False, class_weight=None,\n",
              "                                      criterion='gini', max_depth=None,\n",
              "                                      max_features='auto', max_leaf_nodes=None,\n",
              "                                      min_impurity_decrease=0.0,\n",
              "                                      min_impurity_split=None,\n",
              "                                      min_samples_leaf=1, min_samples_split=2,\n",
              "                                      min_weight_fraction_leaf=0.0,\n",
              "                                      n_estimators=200, n_jobs=None,\n",
              "                                      oob_score=False, random_state=None,\n",
              "                                      verbose=0, warm_start=False))],\n",
              "         verbose=False)"
            ]
          },
          "metadata": {
            "tags": []
          },
          "execution_count": 86
        }
      ]
    },
    {
      "cell_type": "code",
      "metadata": {
        "id": "P77PMwYyMeWy",
        "colab_type": "code",
        "colab": {}
      },
      "source": [
        "predicted_cbow1 = etree_w2v.predict(test.text)"
      ],
      "execution_count": 0,
      "outputs": []
    },
    {
      "cell_type": "code",
      "metadata": {
        "id": "HFmRDJi0wm04",
        "colab_type": "code",
        "outputId": "608af71d-56a4-4fcb-90a7-b0c92fe7bf46",
        "colab": {
          "base_uri": "https://localhost:8080/",
          "height": 201
        }
      },
      "source": [
        "print(metrics.classification_report(test.source, predicted_cbow1, target_names= LABELS))"
      ],
      "execution_count": 88,
      "outputs": [
        {
          "output_type": "stream",
          "text": [
            "              precision    recall  f1-score   support\n",
            "\n",
            "     mchsgov       0.96      0.84      0.90       614\n",
            "         mil       0.86      0.93      0.89       583\n",
            "   mospolice       0.92      0.88      0.90       591\n",
            " russianpost       0.80      0.88      0.84       537\n",
            "\n",
            "    accuracy                           0.88      2325\n",
            "   macro avg       0.88      0.88      0.88      2325\n",
            "weighted avg       0.89      0.88      0.88      2325\n",
            "\n"
          ],
          "name": "stdout"
        }
      ]
    },
    {
      "cell_type": "code",
      "metadata": {
        "id": "sanivPO4MmG-",
        "colab_type": "code",
        "outputId": "1f70a969-7ced-4e72-8079-1a31eefb9482",
        "colab": {
          "base_uri": "https://localhost:8080/",
          "height": 291
        }
      },
      "source": [
        "cnf_matrix_cwbo1 = metrics.confusion_matrix(test.source, predicted_cbow1)\n",
        "sns.heatmap(cnf_matrix_cwbo1, annot=True, fmt=\"d\", cbar=False, xticklabels=LABELS, yticklabels=LABELS)\n",
        "plt.title(\"Confusion matrix\")\n",
        "plt.show()"
      ],
      "execution_count": 89,
      "outputs": [
        {
          "output_type": "display_data",
          "data": {
            "image/png": "[encoded data removed]",
            "text/plain": [
              "<Figure size 432x288 with 1 Axes>"
            ]
          },
          "metadata": {
            "tags": []
          }
        }
      ]
    },
    {
      "cell_type": "markdown",
      "metadata": {
        "id": "ph7x5uo3PpPU",
        "colab_type": "text"
      },
      "source": [
        "Это была матрица просто по векторам (1 пункт из задания). Худшие результаты наблюдаются для russianpost. Посмотрим, что будет, если использовать с tf-idf. "
      ]
    },
    {
      "cell_type": "code",
      "metadata": {
        "id": "XgUCoKfpRgdU",
        "colab_type": "code",
        "colab": {}
      },
      "source": [
        "from sklearn.feature_extraction.text import TfidfVectorizer\n",
        "from collections import defaultdict"
      ],
      "execution_count": 0,
      "outputs": []
    },
    {
      "cell_type": "code",
      "metadata": {
        "id": "IySUKlMDMieB",
        "colab_type": "code",
        "outputId": "54942fb2-a0f8-4fda-c60a-018dfe7aa51f",
        "colab": {
          "base_uri": "https://localhost:8080/",
          "height": 268
        }
      },
      "source": [
        "etree_w2v_tfidf.fit(train.text, train.source)"
      ],
      "execution_count": 91,
      "outputs": [
        {
          "output_type": "execute_result",
          "data": {
            "text/plain": [
              "Pipeline(memory=None,\n",
              "         steps=[('word2vec vectorizer',\n",
              "                 <__main__.TfidfEmbeddingVectorizer object at 0x7fd0ba68e278>),\n",
              "                ('extra trees',\n",
              "                 ExtraTreesClassifier(bootstrap=False, class_weight=None,\n",
              "                                      criterion='gini', max_depth=None,\n",
              "                                      max_features='auto', max_leaf_nodes=None,\n",
              "                                      min_impurity_decrease=0.0,\n",
              "                                      min_impurity_split=None,\n",
              "                                      min_samples_leaf=1, min_samples_split=2,\n",
              "                                      min_weight_fraction_leaf=0.0,\n",
              "                                      n_estimators=200, n_jobs=None,\n",
              "                                      oob_score=False, random_state=None,\n",
              "                                      verbose=0, warm_start=False))],\n",
              "         verbose=False)"
            ]
          },
          "metadata": {
            "tags": []
          },
          "execution_count": 91
        }
      ]
    },
    {
      "cell_type": "code",
      "metadata": {
        "id": "ByZxD0GTR3xg",
        "colab_type": "code",
        "colab": {}
      },
      "source": [
        "predicted_cbow2 = etree_w2v_tfidf.predict(test.text)"
      ],
      "execution_count": 0,
      "outputs": []
    },
    {
      "cell_type": "code",
      "metadata": {
        "id": "FDHUpHzvwtzq",
        "colab_type": "code",
        "outputId": "e6d2e9b4-763e-4d9c-eeb8-d3c414529564",
        "colab": {
          "base_uri": "https://localhost:8080/",
          "height": 201
        }
      },
      "source": [
        "print(metrics.classification_report(test.source, predicted_cbow2, target_names= LABELS))"
      ],
      "execution_count": 93,
      "outputs": [
        {
          "output_type": "stream",
          "text": [
            "              precision    recall  f1-score   support\n",
            "\n",
            "     mchsgov       0.95      0.86      0.90       614\n",
            "         mil       0.86      0.93      0.89       583\n",
            "   mospolice       0.93      0.89      0.91       591\n",
            " russianpost       0.79      0.86      0.83       537\n",
            "\n",
            "    accuracy                           0.88      2325\n",
            "   macro avg       0.88      0.88      0.88      2325\n",
            "weighted avg       0.89      0.88      0.88      2325\n",
            "\n"
          ],
          "name": "stdout"
        }
      ]
    },
    {
      "cell_type": "markdown",
      "metadata": {
        "id": "PmuK1yO6Gz31",
        "colab_type": "text"
      },
      "source": [
        "Показатели улучшились!!! (f1-score только для mospolice хуже на 0.01)"
      ]
    },
    {
      "cell_type": "code",
      "metadata": {
        "id": "g2wZd3zTSlMh",
        "colab_type": "code",
        "outputId": "02e83939-c573-4506-99d4-3e44a8d666b8",
        "colab": {
          "base_uri": "https://localhost:8080/",
          "height": 291
        }
      },
      "source": [
        "cnf_matrix_cwbo2 = metrics.confusion_matrix(test.source, predicted_cbow2)\n",
        "sns.heatmap(cnf_matrix_cwbo2, annot=True, fmt=\"d\", cbar=False, xticklabels=LABELS, yticklabels=LABELS)\n",
        "plt.title(\"Confusion matrix\")\n",
        "plt.show()"
      ],
      "execution_count": 94,
      "outputs": [
        {
          "output_type": "display_data",
          "data": {
            "image/png": "[encoded data removed]",
            "text/plain": [
              "<Figure size 432x288 with 1 Axes>"
            ]
          },
          "metadata": {
            "tags": []
          }
        }
      ]
    },
    {
      "cell_type": "markdown",
      "metadata": {
        "id": "tSVuEEyZHgBF",
        "colab_type": "text"
      },
      "source": [
        "Из матрицы можно заметить, что ситуация с russianpost стала чуть хуже."
      ]
    },
    {
      "cell_type": "markdown",
      "metadata": {
        "colab_type": "text",
        "id": "uyVQ5Gm7Qzcz"
      },
      "source": [
        "## Задание 7 [2 балла]. fastText\n",
        "\n",
        "Используйте ```fastText``` в режиме классификации. Оцените результаты классификации по стандартным мерам качества и проведите анализ ошибок. Для этого рекомендуем визуализировать матрицу ошибок (confusion matrix). "
      ]
    },
    {
      "cell_type": "code",
      "metadata": {
        "id": "r3-BP4ema0s3",
        "colab_type": "code",
        "outputId": "23971686-ad4e-4502-fe21-cf73b5f92fc9",
        "colab": {
          "base_uri": "https://localhost:8080/",
          "height": 67
        }
      },
      "source": [
        "!pip install fasttext"
      ],
      "execution_count": 95,
      "outputs": [
        {
          "output_type": "stream",
          "text": [
            "Requirement already satisfied: fasttext in /usr/local/lib/python3.6/dist-packages (0.8.3)\n",
            "Requirement already satisfied: numpy>=1 in /usr/local/lib/python3.6/dist-packages (from fasttext) (1.16.4)\n",
            "Requirement already satisfied: future in /usr/local/lib/python3.6/dist-packages (from fasttext) (0.16.0)\n"
          ],
          "name": "stdout"
        }
      ]
    },
    {
      "cell_type": "code",
      "metadata": {
        "id": "jxrtqzuua0ru",
        "colab_type": "code",
        "colab": {}
      },
      "source": [
        "import fasttext"
      ],
      "execution_count": 0,
      "outputs": []
    },
    {
      "cell_type": "code",
      "metadata": {
        "id": "YVG8kBgIfUmB",
        "colab_type": "code",
        "outputId": "03ad6383-39b9-4f40-de09-cf71a4dd9410",
        "colab": {
          "base_uri": "https://localhost:8080/",
          "height": 368
        }
      },
      "source": [
        "!wget https://github.com/facebookresearch/fastText/archive/0.2.0.zip\n",
        "!unzip 0.2.0.zip\n",
        "%cd fastText-0.2.0\n",
        "!make"
      ],
      "execution_count": 97,
      "outputs": [
        {
          "output_type": "stream",
          "text": [
            "--2019-06-09 15:56:36--  https://github.com/facebookresearch/fastText/archive/0.2.0.zip\n",
            "Resolving github.com (github.com)... 192.30.253.113\n",
            "Connecting to github.com (github.com)|192.30.253.113|:443... connected.\n",
            "HTTP request sent, awaiting response... 302 Found\n",
            "Location: https://codeload.github.com/facebookresearch/fastText/zip/0.2.0 [following]\n",
            "--2019-06-09 15:56:36--  https://codeload.github.com/facebookresearch/fastText/zip/0.2.0\n",
            "Resolving codeload.github.com (codeload.github.com)... 192.30.253.121\n",
            "Connecting to codeload.github.com (codeload.github.com)|192.30.253.121|:443... connected.\n",
            "HTTP request sent, awaiting response... 200 OK\n",
            "Length: unspecified [application/zip]\n",
            "Saving to: ‘0.2.0.zip.1’\n",
            "\n",
            "0.2.0.zip.1             [  <=>               ]   4.10M  12.0MB/s    in 0.3s    \n",
            "\n",
            "2019-06-09 15:56:37 (12.0 MB/s) - ‘0.2.0.zip.1’ saved [4304799]\n",
            "\n",
            "Archive:  0.2.0.zip\n",
            "7842495a4d64c7a3bb4339d45d6e64321d002ed8\n",
            "replace fastText-0.2.0/.circleci/cmake_test.sh? [y]es, [n]o, [A]ll, [N]one, [r]ename: N\n",
            "/content/fastText-0.2.0\n",
            "make: Nothing to be done for 'opt'.\n"
          ],
          "name": "stdout"
        }
      ]
    },
    {
      "cell_type": "code",
      "metadata": {
        "id": "4dAv04io1DKH",
        "colab_type": "code",
        "colab": {}
      },
      "source": [
        "#Записываем файл в текстовый в нужном для fastText формате __label__класс текст\n",
        "with open('train.txt', 'w', encoding = 'utf-8') as file:\n",
        "  for i in range(0, len(train.source)):\n",
        "    try:\n",
        "      text = '__label__' + str(list(train.source)[i]) + ' '     \n",
        "      text_news = list(train.text)[i]\n",
        "      full = text + text_news + '\\n'\n",
        "      file.write(full)\n",
        "    except:\n",
        "      print(i)"
      ],
      "execution_count": 0,
      "outputs": []
    },
    {
      "cell_type": "code",
      "metadata": {
        "id": "mBoEw9M6inb6",
        "colab_type": "code",
        "outputId": "e79c4e6d-5e36-4b7c-d5db-88171607493d",
        "colab": {
          "base_uri": "https://localhost:8080/",
          "height": 84
        }
      },
      "source": [
        "#Обучаем fasttext на 1000 эпохах\n",
        "! ./fasttext supervised -input train.txt -lr 0.1 -epoch 1000 -output model"
      ],
      "execution_count": 99,
      "outputs": [
        {
          "output_type": "stream",
          "text": [
            "\rRead 0M words\n",
            "Number of words:  117977\n",
            "Number of labels: 4\n",
            "Progress: 100.0% words/sec/thread:  347998 lr:  0.000000 loss:  0.033176 ETA:   0h 0m\n"
          ],
          "name": "stdout"
        }
      ]
    },
    {
      "cell_type": "code",
      "metadata": {
        "id": "b134ftwo7sY7",
        "colab_type": "code",
        "colab": {}
      },
      "source": [
        "#Приведем к данному формату и тестовые данные. \n",
        "with open('test.txt', 'w', encoding = 'utf-8') as file:\n",
        "  for i in range(0, len(test.source)):\n",
        "    try:\n",
        "      text = '__label__' + str(list(test.source)[i]) + ' '     \n",
        "      text_news = list(test.text)[i]\n",
        "      full = text + text_news + '\\n'\n",
        "      file.write(full)\n",
        "    except:\n",
        "      print(i)"
      ],
      "execution_count": 0,
      "outputs": []
    },
    {
      "cell_type": "code",
      "metadata": {
        "id": "yRTNvgTn8sV3",
        "colab_type": "code",
        "outputId": "eb7dc035-4a47-4565-d879-a7c2d3cc90a3",
        "colab": {
          "base_uri": "https://localhost:8080/",
          "height": 67
        }
      },
      "source": [
        "! ./fasttext test model.bin test.txt 1"
      ],
      "execution_count": 101,
      "outputs": [
        {
          "output_type": "stream",
          "text": [
            "N\t2325\n",
            "P@1\t0.962\n",
            "R@1\t0.962\n"
          ],
          "name": "stdout"
        }
      ]
    },
    {
      "cell_type": "code",
      "metadata": {
        "id": "K8Hdqhe5BeQy",
        "colab_type": "code",
        "colab": {}
      },
      "source": [
        "#Записываем предсказанное в отдельный файл\n",
        "! ./fasttext predict model.bin test.txt 1 > predicted.txt"
      ],
      "execution_count": 0,
      "outputs": []
    },
    {
      "cell_type": "code",
      "metadata": {
        "id": "TKQK47NyCE81",
        "colab_type": "code",
        "colab": {}
      },
      "source": [
        "#Составляем список из предсказаний, убираем от туда __label__\n",
        "with open('predicted.txt', 'r', encoding='utf-8') as file:\n",
        "  predicted_ft = []\n",
        "  for line in file.readlines():\n",
        "    if line.startswith('__'):\n",
        "      predicted_ft.append(line[9:-1])"
      ],
      "execution_count": 0,
      "outputs": []
    },
    {
      "cell_type": "code",
      "metadata": {
        "id": "pQQiY1KZC8zz",
        "colab_type": "code",
        "outputId": "e9f10aa3-7e47-4fe9-f1c4-281363590026",
        "colab": {
          "base_uri": "https://localhost:8080/",
          "height": 184
        }
      },
      "source": [
        "predicted_ft[:10]\n"
      ],
      "execution_count": 104,
      "outputs": [
        {
          "output_type": "execute_result",
          "data": {
            "text/plain": [
              "['mospolice',\n",
              " 'mil',\n",
              " 'mchsgov',\n",
              " 'mchsgov',\n",
              " 'mospolice',\n",
              " 'mchsgov',\n",
              " 'mil',\n",
              " 'mospolice',\n",
              " 'mospolice',\n",
              " 'mchsgov']"
            ]
          },
          "metadata": {
            "tags": []
          },
          "execution_count": 104
        }
      ]
    },
    {
      "cell_type": "code",
      "metadata": {
        "id": "L9O2nB1WMjsK",
        "colab_type": "code",
        "outputId": "f7f73f90-ae9f-46c6-c795-6715a248fa83",
        "colab": {
          "base_uri": "https://localhost:8080/",
          "height": 201
        }
      },
      "source": [
        "print(metrics.classification_report(test.source, predicted_ft, target_names= LABELS))"
      ],
      "execution_count": 105,
      "outputs": [
        {
          "output_type": "stream",
          "text": [
            "              precision    recall  f1-score   support\n",
            "\n",
            "     mchsgov       0.97      0.93      0.95       614\n",
            "         mil       0.97      0.99      0.98       583\n",
            "   mospolice       0.97      0.98      0.97       591\n",
            " russianpost       0.94      0.95      0.94       537\n",
            "\n",
            "    accuracy                           0.96      2325\n",
            "   macro avg       0.96      0.96      0.96      2325\n",
            "weighted avg       0.96      0.96      0.96      2325\n",
            "\n"
          ],
          "name": "stdout"
        }
      ]
    },
    {
      "cell_type": "code",
      "metadata": {
        "id": "gG6wd832ET-r",
        "colab_type": "code",
        "outputId": "7038c8d7-1a91-465a-d7e6-2235dc0fb911",
        "colab": {
          "base_uri": "https://localhost:8080/",
          "height": 291
        }
      },
      "source": [
        "cnf_matrix_ft = metrics.confusion_matrix(test.source, predicted_ft)\n",
        "sns.heatmap(cnf_matrix_ft, annot=True, fmt=\"d\", cbar=False, xticklabels=LABELS, yticklabels=LABELS)\n",
        "plt.title(\"Confusion matrix\")\n",
        "plt.show()"
      ],
      "execution_count": 106,
      "outputs": [
        {
          "output_type": "display_data",
          "data": {
            "image/png": "[encoded data removed]",
            "text/plain": [
              "<Figure size 432x288 with 1 Axes>"
            ]
          },
          "metadata": {
            "tags": []
          }
        }
      ]
    },
    {
      "cell_type": "markdown",
      "metadata": {
        "id": "FmccO8SI_SQz",
        "colab_type": "text"
      },
      "source": [
        "Мы видим, что качество предсказаний одно из наилучших.  Есть небольшие выбросы (в russianpost особенно), но в целом, все красиво и прекрасно.  Для всех классов f-score превышает 0.95!"
      ]
    },
    {
      "cell_type": "markdown",
      "metadata": {
        "id": "qdFCc1pxuY1J",
        "colab_type": "text"
      },
      "source": [
        "## Задание 8 [4 балла]. CNN\n",
        "\n",
        "Реализуйте модель Kim et al (2014) для решения задачи классификации с помощью CNN. Оцените результаты классификации по стандартным мерам качества и проведите анализ ошибок. Для этого рекомендуем визуализировать матрицу ошибок (confusion matrix).\n",
        "Ссылка: Kim Y. Convolutional Neural Networks for Sentence Classification. 2014"
      ]
    },
    {
      "cell_type": "code",
      "metadata": {
        "id": "rLB25nXArWQp",
        "colab_type": "code",
        "outputId": "bf6aaeac-a3b8-4d71-fb0c-2c73343f31de",
        "colab": {
          "base_uri": "https://localhost:8080/",
          "height": 33
        }
      },
      "source": [
        "from keras.layers import Embedding, Input, Conv1D, MaxPooling1D, Flatten, Dense, Dropout\n",
        "from keras.models import Model, Sequential"
      ],
      "execution_count": 107,
      "outputs": [
        {
          "output_type": "stream",
          "text": [
            "Using TensorFlow backend.\n"
          ],
          "name": "stderr"
        }
      ]
    },
    {
      "cell_type": "code",
      "metadata": {
        "id": "faAFaAyaxTG9",
        "colab_type": "code",
        "colab": {}
      },
      "source": [
        "from keras.preprocessing.text import Tokenizer\n",
        "from keras.preprocessing.sequence import pad_sequences\n",
        "from keras.utils import np_utils\n",
        "from sklearn.preprocessing import LabelBinarizer, LabelEncoder"
      ],
      "execution_count": 0,
      "outputs": []
    },
    {
      "cell_type": "code",
      "metadata": {
        "id": "em3_V4NdrKMB",
        "colab_type": "code",
        "colab": {}
      },
      "source": [
        "#Модель взята из семинара и немного доработана под дз\n",
        "TEXT_LENGTH = 9300\n",
        "VOCABULARY_SIZE = 9300\n",
        "EMBEDDING_DIM = 100\n",
        "DIMS = 250\n",
        "MAX_FEATURES = 9300\n",
        "batch_size = 128\n",
        "\n",
        "nb_filter = 250\n",
        "filter_length = 1\n",
        "hidden_dims = 250\n",
        "nb_epoch = 100"
      ],
      "execution_count": 0,
      "outputs": []
    },
    {
      "cell_type": "code",
      "metadata": {
        "id": "2nUkknCQxLPY",
        "colab_type": "code",
        "outputId": "eeb66e56-3045-4719-f81a-5e1444212298",
        "colab": {
          "base_uri": "https://localhost:8080/",
          "height": 33
        }
      },
      "source": [
        "tokenizer = Tokenizer(num_words=MAX_FEATURES)\n",
        "tokenizer.fit_on_texts(train.text)\n",
        "tokenizer"
      ],
      "execution_count": 182,
      "outputs": [
        {
          "output_type": "execute_result",
          "data": {
            "text/plain": [
              "<keras_preprocessing.text.Tokenizer at 0x7fd04e9b5278>"
            ]
          },
          "metadata": {
            "tags": []
          },
          "execution_count": 182
        }
      ]
    },
    {
      "cell_type": "code",
      "metadata": {
        "id": "PXvOOi6bxX0F",
        "colab_type": "code",
        "colab": {}
      },
      "source": [
        "sequences = tokenizer.texts_to_sequences(train.text)\n",
        "X_train = tokenizer.sequences_to_matrix(sequences, mode='count')\n",
        "sequences = tokenizer.texts_to_sequences(test.text)\n",
        "X_test = tokenizer.sequences_to_matrix(sequences, mode='count')"
      ],
      "execution_count": 0,
      "outputs": []
    },
    {
      "cell_type": "code",
      "metadata": {
        "id": "hpV_EzGBxlwP",
        "colab_type": "code",
        "colab": {}
      },
      "source": [
        "le = LabelEncoder()\n",
        "le.fit(train.source.unique())\n",
        "y_train = np_utils.to_categorical(le.transform(train.source), 4)\n",
        "y_test = np_utils.to_categorical(le.transform(test.source), 4)\n",
        "y_true = le.transform(test.source)"
      ],
      "execution_count": 0,
      "outputs": []
    },
    {
      "cell_type": "code",
      "metadata": {
        "id": "Bpy6nJOqq6Eu",
        "colab_type": "code",
        "colab": {}
      },
      "source": [
        "model = Sequential()\n",
        "model.add(Embedding(VOCABULARY_SIZE,\n",
        "                            EMBEDDING_DIM,\n",
        "                            input_length=TEXT_LENGTH,\n",
        "                            trainable=True))\n",
        "model.add(Conv1D(128, 16, activation='relu'))\n",
        "model.add(MaxPooling1D())\n",
        "model.add(Dropout(0.2))\n",
        "model.add(Flatten())\n",
        "model.add(Dense(4, activation = 'softmax'))\n",
        "model.compile(optimizer='adam', loss='binary_crossentropy', metrics=['acc'])\n",
        "model.compile(loss='categorical_crossentropy', optimizer='adam', metrics=['accuracy'])"
      ],
      "execution_count": 0,
      "outputs": []
    },
    {
      "cell_type": "code",
      "metadata": {
        "id": "VjJCw0Usw4TL",
        "colab_type": "code",
        "colab": {
          "base_uri": "https://localhost:8080/",
          "height": 134
        },
        "outputId": "20644431-5497-4348-a482-ffe1819dab01"
      },
      "source": [
        "model.fit(X_train, y_train, batch_size=128, epochs=3)"
      ],
      "execution_count": 186,
      "outputs": [
        {
          "output_type": "stream",
          "text": [
            "Epoch 1/3\n",
            "9300/9300 [==============================] - 50s 5ms/step - loss: 1.1458 - acc: 0.6295\n",
            "Epoch 2/3\n",
            "9300/9300 [==============================] - 49s 5ms/step - loss: 0.1681 - acc: 0.9589\n",
            "Epoch 3/3\n",
            "9300/9300 [==============================] - 49s 5ms/step - loss: 0.0665 - acc: 0.9835\n"
          ],
          "name": "stdout"
        },
        {
          "output_type": "execute_result",
          "data": {
            "text/plain": [
              "<keras.callbacks.History at 0x7fd04e9680f0>"
            ]
          },
          "metadata": {
            "tags": []
          },
          "execution_count": 186
        }
      ]
    },
    {
      "cell_type": "code",
      "metadata": {
        "id": "DvOMXJ-Wq9GB",
        "colab_type": "code",
        "colab": {}
      },
      "source": [
        "y_pred = model.predict_classes(X_test)\n",
        "y_pred = le.inverse_transform(y_pred)"
      ],
      "execution_count": 0,
      "outputs": []
    },
    {
      "cell_type": "code",
      "metadata": {
        "id": "AI8p6Ntz2jRi",
        "colab_type": "code",
        "colab": {}
      },
      "source": [
        "#Делаем обратную трансформацию\n",
        "y_true = le.inverse_transform(y_true)"
      ],
      "execution_count": 0,
      "outputs": []
    },
    {
      "cell_type": "code",
      "metadata": {
        "id": "c81palXTq_ZN",
        "colab_type": "code",
        "outputId": "8540ac15-84fb-4da7-d173-6795c1d5f66a",
        "colab": {
          "base_uri": "https://localhost:8080/",
          "height": 475
        }
      },
      "source": [
        "print(metrics.classification_report(y_true, y_pred))\n",
        "sns.heatmap(data=metrics.confusion_matrix(y_true, y_pred, labels = LABELS), annot=True, fmt=\"d\", cbar=False, xticklabels=LABELS, yticklabels=LABELS)\n",
        "plt.title(\"Confusion matrix\")\n",
        "plt.show()"
      ],
      "execution_count": 189,
      "outputs": [
        {
          "output_type": "stream",
          "text": [
            "              precision    recall  f1-score   support\n",
            "\n",
            "     mchsgov       0.97      0.94      0.96       614\n",
            "         mil       0.97      0.99      0.98       583\n",
            "   mospolice       0.96      0.99      0.98       591\n",
            " russianpost       0.96      0.93      0.95       537\n",
            "\n",
            "    accuracy                           0.97      2325\n",
            "   macro avg       0.96      0.96      0.96      2325\n",
            "weighted avg       0.97      0.97      0.96      2325\n",
            "\n"
          ],
          "name": "stdout"
        },
        {
          "output_type": "display_data",
          "data": {
            "image/png": "[encoded data removed]",
            "text/plain": [
              "<Figure size 432x288 with 1 Axes>"
            ]
          },
          "metadata": {
            "tags": []
          }
        }
      ]
    },
    {
      "cell_type": "markdown",
      "metadata": {
        "id": "TVPAGIq8FeK8",
        "colab_type": "text"
      },
      "source": [
        "Как и в случае с FastText, f-score везде выше 0.95. Матрица ошибок показывает, что больше всего путаницы с russianpost(опять) и mchsgov."
      ]
    },
    {
      "cell_type": "markdown",
      "metadata": {
        "id": "AwsSaKOZuY1K",
        "colab_type": "text"
      },
      "source": [
        "## Задание 9 [4 + 2 балла]. RNN\n",
        "\n",
        "(4 балла)Используйте ```RNN``` для решения задачи текстовой классификации. Оцените результаты классификации по стандартным мерам качества и проведите анализ ошибок. Для этого рекомендуем визуализировать матрицу ошибок (confusion matrix).\n",
        "\n",
        "За дополнительные 2 балла добавьте в модель символьные признаки - CharCNN или CharRNN"
      ]
    },
    {
      "cell_type": "code",
      "metadata": {
        "id": "XQsjyZcSUpo8",
        "colab_type": "code",
        "colab": {}
      },
      "source": [
        "MAX_NB_WORDS = 50000\n",
        "MAX_SEQUENCE_LENGTH = 250\n",
        "EMBEDDING_DIM = 100\n",
        "tokenizer = Tokenizer(num_words=MAX_NB_WORDS, filters='!\"#$%&()*+,-./:;<=>?@[\\]^_`{|}~', lower=True)\n",
        "tokenizer.fit_on_texts(df['text'].values)\n",
        "word_index = tokenizer.word_index"
      ],
      "execution_count": 0,
      "outputs": []
    },
    {
      "cell_type": "code",
      "metadata": {
        "id": "OsbQ_1O5WDV3",
        "colab_type": "code",
        "outputId": "34f0d5be-0464-4527-abc1-1f85283bd2d1",
        "colab": {
          "base_uri": "https://localhost:8080/",
          "height": 33
        }
      },
      "source": [
        "#Делаем все одинаковой длинны\n",
        "X = tokenizer.texts_to_sequences(df['text'].values)\n",
        "X = pad_sequences(X, maxlen=MAX_SEQUENCE_LENGTH)\n",
        "X.shape"
      ],
      "execution_count": 191,
      "outputs": [
        {
          "output_type": "execute_result",
          "data": {
            "text/plain": [
              "(11625, 250)"
            ]
          },
          "metadata": {
            "tags": []
          },
          "execution_count": 191
        }
      ]
    },
    {
      "cell_type": "code",
      "metadata": {
        "id": "jfSj9LrPWVeI",
        "colab_type": "code",
        "outputId": "f7c0acd9-1352-49fb-e173-ce745bd2e617",
        "colab": {
          "base_uri": "https://localhost:8080/",
          "height": 33
        }
      },
      "source": [
        "Y = pd.get_dummies(df['source']).values\n",
        "Y.shape"
      ],
      "execution_count": 192,
      "outputs": [
        {
          "output_type": "execute_result",
          "data": {
            "text/plain": [
              "(11625, 4)"
            ]
          },
          "metadata": {
            "tags": []
          },
          "execution_count": 192
        }
      ]
    },
    {
      "cell_type": "code",
      "metadata": {
        "id": "PcQb7o_ZWbkU",
        "colab_type": "code",
        "outputId": "4949a906-e1a7-462c-c283-fd930579534b",
        "colab": {
          "base_uri": "https://localhost:8080/",
          "height": 50
        }
      },
      "source": [
        "X_train, X_test, Y_train, Y_test = train_test_split(X,Y, test_size = 0.10, random_state = 42)\n",
        "print(X_train.shape,Y_train.shape)\n",
        "print(X_test.shape,Y_test.shape)"
      ],
      "execution_count": 193,
      "outputs": [
        {
          "output_type": "stream",
          "text": [
            "(10462, 250) (10462, 4)\n",
            "(1163, 250) (1163, 4)\n"
          ],
          "name": "stdout"
        }
      ]
    },
    {
      "cell_type": "code",
      "metadata": {
        "id": "-6s19jRmWt5N",
        "colab_type": "code",
        "colab": {}
      },
      "source": [
        "from keras.layers import SpatialDropout1D, LSTM\n",
        "from keras.callbacks import EarlyStopping"
      ],
      "execution_count": 0,
      "outputs": []
    },
    {
      "cell_type": "code",
      "metadata": {
        "id": "C-b7bR6sWhBi",
        "colab_type": "code",
        "outputId": "df958ec9-470d-4623-b821-378fde950fb6",
        "colab": {
          "base_uri": "https://localhost:8080/",
          "height": 221
        }
      },
      "source": [
        "#Первый слой - эмбединг, второй - LSTM. На выходе - 4 значение( на каждый класс)\n",
        "model = Sequential()\n",
        "model.add(Embedding(MAX_NB_WORDS, EMBEDDING_DIM, input_length=X.shape[1]))\n",
        "model.add(SpatialDropout1D(0.2))\n",
        "model.add(LSTM(100, dropout=0.2, recurrent_dropout=0.2))\n",
        "model.add(Dense(4, activation='softmax'))\n",
        "model.compile(loss='categorical_crossentropy', optimizer='adam', metrics=['accuracy'])\n",
        "\n",
        "epochs = 5\n",
        "batch_size = 64\n",
        "\n",
        "history = model.fit(X_train, Y_train, epochs=epochs, batch_size=batch_size,validation_split=0.1,callbacks=[EarlyStopping(monitor='val_loss', patience=3, min_delta=0.0001)])\n"
      ],
      "execution_count": 195,
      "outputs": [
        {
          "output_type": "stream",
          "text": [
            "Train on 9415 samples, validate on 1047 samples\n",
            "Epoch 1/5\n",
            "9415/9415 [==============================] - 90s 10ms/step - loss: 0.6050 - acc: 0.7928 - val_loss: 0.1852 - val_acc: 0.9503\n",
            "Epoch 2/5\n",
            "9415/9415 [==============================] - 89s 9ms/step - loss: 0.1402 - acc: 0.9668 - val_loss: 0.1191 - val_acc: 0.9713\n",
            "Epoch 3/5\n",
            "9415/9415 [==============================] - 89s 9ms/step - loss: 0.0738 - acc: 0.9804 - val_loss: 0.1159 - val_acc: 0.9675\n",
            "Epoch 4/5\n",
            "9415/9415 [==============================] - 89s 9ms/step - loss: 0.0543 - acc: 0.9857 - val_loss: 0.1259 - val_acc: 0.9608\n",
            "Epoch 5/5\n",
            "9415/9415 [==============================] - 89s 9ms/step - loss: 0.0415 - acc: 0.9890 - val_loss: 0.1240 - val_acc: 0.9694\n"
          ],
          "name": "stdout"
        }
      ]
    },
    {
      "cell_type": "code",
      "metadata": {
        "id": "MipiB7nKaMEp",
        "colab_type": "code",
        "outputId": "f2c83aef-4662-4aad-af13-a25e0723b455",
        "colab": {
          "base_uri": "https://localhost:8080/",
          "height": 84
        }
      },
      "source": [
        "accr = model.evaluate(X_test,Y_test)\n",
        "print('Test set\\n  Loss: {:0.3f}\\n  Accuracy: {:0.3f}'.format(accr[0],accr[1]))"
      ],
      "execution_count": 196,
      "outputs": [
        {
          "output_type": "stream",
          "text": [
            "1163/1163 [==============================] - 8s 7ms/step\n",
            "Test set\n",
            "  Loss: 0.115\n",
            "  Accuracy: 0.966\n"
          ],
          "name": "stdout"
        }
      ]
    },
    {
      "cell_type": "code",
      "metadata": {
        "id": "fxZYfKIMaTfE",
        "colab_type": "code",
        "outputId": "7c905d17-77ac-4040-a5f5-fd3f30602115",
        "colab": {
          "base_uri": "https://localhost:8080/",
          "height": 281
        }
      },
      "source": [
        "plt.title('Loss')\n",
        "plt.plot(history.history['loss'], label='train')\n",
        "plt.plot(history.history['val_loss'], label='test')\n",
        "plt.legend()\n",
        "plt.show();"
      ],
      "execution_count": 197,
      "outputs": [
        {
          "output_type": "display_data",
          "data": {
            "image/png": "[encoded data removed]",
            "text/plain": [
              "<Figure size 432x288 with 1 Axes>"
            ]
          },
          "metadata": {
            "tags": []
          }
        }
      ]
    },
    {
      "cell_type": "code",
      "metadata": {
        "id": "5-3vSVnbaZwc",
        "colab_type": "code",
        "outputId": "189ce29a-1d28-4446-d34a-c22b8072aa2d",
        "colab": {
          "base_uri": "https://localhost:8080/",
          "height": 281
        }
      },
      "source": [
        "plt.title('Accuracy')\n",
        "plt.plot(history.history['acc'], label='train')\n",
        "plt.plot(history.history['val_acc'], label='test')\n",
        "plt.legend()\n",
        "plt.show();"
      ],
      "execution_count": 198,
      "outputs": [
        {
          "output_type": "display_data",
          "data": {
            "image/png": "[encoded data removed]",
            "text/plain": [
              "<Figure size 432x288 with 1 Axes>"
            ]
          },
          "metadata": {
            "tags": []
          }
        }
      ]
    },
    {
      "cell_type": "markdown",
      "metadata": {
        "id": "nrS-9h1-bD6w",
        "colab_type": "text"
      },
      "source": [
        "Как мы видим, результаты на валидации лучше чем в остальных методах. Acc > 0.95"
      ]
    },
    {
      "cell_type": "markdown",
      "metadata": {
        "id": "FjcLANsYuY1M",
        "colab_type": "text"
      },
      "source": [
        "## Задание 10 [8 баллов]. ULMFit\n",
        "\n",
        "Используйте ```ULMFit``` для решения задачи классификации. Оцените результаты классификации по стандартным мерам качества и проведите анализ ошибок. Для этого рекомендуем визуализировать матрицу ошибок (confusion matrix). "
      ]
    },
    {
      "cell_type": "code",
      "metadata": {
        "id": "sQjetV0cWSgq",
        "colab_type": "code",
        "colab": {}
      },
      "source": [
        ""
      ],
      "execution_count": 0,
      "outputs": []
    },
    {
      "cell_type": "markdown",
      "metadata": {
        "id": "OgOMy1rHMXzg",
        "colab_type": "text"
      },
      "source": [
        "**ИТОГО**: Лучше всего себя показала модель fasttext. Она и простая в применении, и дает высокие результаты. По сравнению  с CNN ее плюс еще и в том, что времени тратится меньше. У обеих моделей f-score был более 0.95. \n",
        "\n",
        "Для данного конкретного задания лемматизация не принесла каких-либо существенных результатов, поэтому была использована только в одном пункте. \n",
        "\n"
      ]
    },
    {
      "cell_type": "markdown",
      "metadata": {
        "colab_type": "text",
        "id": "_8fKqCD6Q5tW"
      },
      "source": [
        "## Конец\n",
        "Выполните какие-то из предыдущих заданий. Для всех заданий, кроме задания 1 требуется вычислить метрику accuracy метода.\n",
        "\n",
        "Подведите итоги и проведите сравнение всех использованных методов. Какой из них показался вам лучше и почему?\n",
        "\n",
        "**NB!** Задание обязательное вне зависимости от того, сколько из предыдущих пунктов вы выполнили, и дополнительных баллов не дает.\n",
        "\n",
        "\n",
        "Для получения полной оценки за NLP-часть достаточно набрать **20 баллов**."
      ]
    },
    {
      "cell_type": "markdown",
      "metadata": {
        "colab_type": "text",
        "id": "4FkOuR_NiXeT"
      },
      "source": [
        "# Правила сдачи \n",
        "\n",
        "1. Домашняя работа должна быть выполнена в ipynb-тетрадке.\n",
        "2. Сделанную тетрадку нужно отправить ассистенту (ссылка на контакты будет в вики).\n",
        "3. Задание выполняется индивидуально.\n",
        "4. Все вычисления должны быть снабжены пояснениями!\n",
        "5. Дедлайн – 10 июня в 10.00.\n"
      ]
    },
    {
      "cell_type": "code",
      "metadata": {
        "id": "xG1gWkYkuY1Q",
        "colab_type": "code",
        "colab": {}
      },
      "source": [
        ""
      ],
      "execution_count": 0,
      "outputs": []
    }
  ]
}