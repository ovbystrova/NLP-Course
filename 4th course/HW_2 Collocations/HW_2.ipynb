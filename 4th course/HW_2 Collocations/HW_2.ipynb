{
 "cells": [
  {
   "cell_type": "code",
   "execution_count": 1,
   "metadata": {},
   "outputs": [],
   "source": [
    "from pymorphy2 import MorphAnalyzer\n",
    "from nltk.tokenize import RegexpTokenizer\n",
    "from collections import Counter\n",
    "from nltk.parse import DependencyGraph\n",
    "from pymorphy2.tokenizers import simple_word_tokenize"
   ]
  },
  {
   "cell_type": "code",
   "execution_count": 2,
   "metadata": {},
   "outputs": [],
   "source": [
    "m = MorphAnalyzer()\n",
    "tokenizer = RegexpTokenizer(r'\\w+')"
   ]
  },
  {
   "cell_type": "markdown",
   "metadata": {},
   "source": [
    "# Задание 1"
   ]
  },
  {
   "cell_type": "markdown",
   "metadata": {},
   "source": [
    "Скачайте корпус текстов, обработайте его с помощью UDPipe, извлеките все группы \"глагол + прямое дополнение, выраженное существительным\" (не учитывайте глаголы, которые встречаются в корпусе менее 50 раз)."
   ]
  },
  {
   "cell_type": "code",
   "execution_count": 3,
   "metadata": {},
   "outputs": [
    {
     "name": "stderr",
     "output_type": "stream",
     "text": [
      "Loading UDPipe model: done.\n"
     ]
    }
   ],
   "source": [
    "!C:\\Users\\user\\Desktop\\Aot\\hw2\\udpipe-1.2.0-bin\\bin-win64/udpipe --input horizontal --output conllu \\\n",
    "--tokenize --tag --parse \\\n",
    "C:\\Users\\user\\Desktop\\Aot\\hw2\\russian-syntagrus-ud-2.4-190531.udpipe \\\n",
    "< testset2.txt > corpus.conllu"
   ]
  },
  {
   "cell_type": "code",
   "execution_count": 65,
   "metadata": {},
   "outputs": [],
   "source": [
    "trees = []\n",
    "\n",
    "with open('corpus.conllu', encoding='utf-8') as f:\n",
    "    parsed_sents = f.read().split('\\n\\n')\n",
    "\n",
    "    for sent in parsed_sents:\n",
    "        tree = [line for line in sent.split('\\n') if line and line[0] != '#']\n",
    "        trees.append('\\n'.join(tree))"
   ]
  },
  {
   "cell_type": "code",
   "execution_count": 66,
   "metadata": {},
   "outputs": [
    {
     "name": "stdout",
     "output_type": "stream",
     "text": [
      "1\tИ\tи\tCCONJ\t_\t_\t6\tcc\t_\t_\n",
      "2\tтогда\tтогда\tADV\t_\tDegree=Pos\t6\tadvmod\t_\t_\n",
      "3\tо\tо\tADP\t_\t_\t4\tcase\t_\t_\n",
      "4\tразделении\tразделений\tNOUN\t_\tAnimacy=Inan|Case=Loc|Gender=Neut|Number=Sing\t6\tobl\t_\t_\n",
      "5\tвластей\tвласть\tNOUN\t_\tAnimacy=Inan|Case=Gen|Gender=Fem|Number=Plur\t4\tnmod\t_\t_\n",
      "6\tпридется\tприйтись\tVERB\t_\tAspect=Perf|Mood=Ind|Number=Sing|Person=3|Tense=Fut|VerbForm=Fin|Voice=Mid\t0\troot\t_\t_\n",
      "7\tокончательно\tокончательно\tADV\t_\tDegree=Pos\t8\tadvmod\t_\t_\n",
      "8\tзабыть\tзабыть\tVERB\t_\tAspect=Perf|VerbForm=Inf|Voice=Act\t6\tcsubj\t_\tSpaceAfter=No\n",
      "9\t.\t.\tPUNCT\t_\t_\t6\tpunct\t_\tSpacesAfter=\\r\\n\\t\n"
     ]
    }
   ],
   "source": [
    "print(trees[1])"
   ]
  },
  {
   "cell_type": "code",
   "execution_count": 67,
   "metadata": {},
   "outputs": [],
   "source": [
    "def normalize(text):\n",
    "    tokens = tokenizer.tokenize(text.lower())\n",
    "    lemmas = [m.parse(t)[0].normal_form for t in tokens]\n",
    "    return ' '.join(lemmas)"
   ]
  },
  {
   "cell_type": "code",
   "execution_count": 68,
   "metadata": {},
   "outputs": [
    {
     "name": "stdout",
     "output_type": "stream",
     "text": [
      "17055 ['предложить', 'объединить', 'заявить', 'прийтись', 'забыть']\n",
      "2120\n",
      "65 ['заявить', 'подать', 'просить', 'признать', 'стать']\n"
     ]
    }
   ],
   "source": [
    "verbs_50 = []\n",
    "for tree in trees:\n",
    "    for line in tree.split('\\n'):\n",
    "        elements = line.split('\\t')\n",
    "        if len(elements) > 3 and elements[3] == 'VERB':\n",
    "            #print(elements)\n",
    "            verbs_50.append(elements[2])\n",
    "print(len(verbs_50), verbs_50[:5])\n",
    "verbs_c = Counter(verbs_50)\n",
    "print(len(verbs_c))\n",
    "verbs_50 = [x[0] for x in verbs_c.items() if x[1] >= 50]\n",
    "print(len(verbs_50), verbs_50[:5])"
   ]
  },
  {
   "cell_type": "code",
   "execution_count": 69,
   "metadata": {},
   "outputs": [],
   "source": [
    "groups = []\n",
    "for i, tree in enumerate(trees):\n",
    "    try:\n",
    "        g = DependencyGraph(tree, top_relation_label='root')\n",
    "        for element in g.triples():\n",
    "                #print(element)\n",
    "                #print(element[1])\n",
    "                #break\n",
    "            if element[0][1] == 'VERB' and element[1] == 'obj' and element[2][1] == 'NOUN':\n",
    "                norm_el = normalize(element[0][0])\n",
    "                if norm_el in verbs_50:\n",
    "                    groups.append((normalize(element[0][0]), normalize(element[2][0])))\n",
    "    except:\n",
    "        pass\n",
    "    #break"
   ]
  },
  {
   "cell_type": "code",
   "execution_count": 70,
   "metadata": {},
   "outputs": [
    {
     "data": {
      "text/plain": [
       "[('подать', 'иск'),\n",
       " ('признать', 'договор'),\n",
       " ('рассмотреть', 'вопрос'),\n",
       " ('обвинить', 'руководство'),\n",
       " ('получить', 'срок')]"
      ]
     },
     "execution_count": 70,
     "metadata": {},
     "output_type": "execute_result"
    }
   ],
   "source": [
    "groups[:5]"
   ]
  },
  {
   "cell_type": "code",
   "execution_count": 71,
   "metadata": {},
   "outputs": [
    {
     "data": {
      "text/plain": [
       "1974"
      ]
     },
     "execution_count": 71,
     "metadata": {},
     "output_type": "execute_result"
    }
   ],
   "source": [
    "len(groups)"
   ]
  },
  {
   "cell_type": "markdown",
   "metadata": {},
   "source": [
    "# Задание 2"
   ]
  },
  {
   "cell_type": "markdown",
   "metadata": {},
   "source": [
    "Оцените полученные словосочетания следующими метриками: log-likelihood, dice, PMI (можно использовать nltk.collocations)."
   ]
  },
  {
   "cell_type": "code",
   "execution_count": 12,
   "metadata": {},
   "outputs": [],
   "source": [
    "import nltk\n",
    "from nltk.collocations import *"
   ]
  },
  {
   "cell_type": "code",
   "execution_count": 72,
   "metadata": {},
   "outputs": [],
   "source": [
    "bigram_measures = nltk.collocations.BigramAssocMeasures()\n",
    "finder = BigramCollocationFinder.from_documents(groups)"
   ]
  },
  {
   "cell_type": "code",
   "execution_count": 73,
   "metadata": {},
   "outputs": [],
   "source": [
    "finder.apply_freq_filter(3)"
   ]
  },
  {
   "cell_type": "code",
   "execution_count": 74,
   "metadata": {},
   "outputs": [],
   "source": [
    "likelihood = finder.nbest(nltk.collocations.BigramAssocMeasures().likelihood_ratio, 100)\n",
    "dice = finder.nbest(nltk.collocations.BigramAssocMeasures().dice, 100)\n",
    "pmi = finder.nbest(nltk.collocations.BigramAssocMeasures().pmi, 100)"
   ]
  },
  {
   "cell_type": "code",
   "execution_count": 75,
   "metadata": {},
   "outputs": [
    {
     "data": {
      "text/plain": [
       "[('подать', 'иск'),\n",
       " ('принять', 'решение'),\n",
       " ('удовлетворить', 'иск'),\n",
       " ('вынести', 'приговор'),\n",
       " ('просить', 'суд'),\n",
       " ('обжаловать', 'решение'),\n",
       " ('вынести', 'решение'),\n",
       " ('удовлетворить', 'ходатайство'),\n",
       " ('отклонить', 'жалоба'),\n",
       " ('предъявить', 'обвинение')]"
      ]
     },
     "execution_count": 75,
     "metadata": {},
     "output_type": "execute_result"
    }
   ],
   "source": [
    "likelihood[:10]"
   ]
  },
  {
   "cell_type": "code",
   "execution_count": 76,
   "metadata": {},
   "outputs": [],
   "source": [
    "likeli_scores = finder.score_ngrams(nltk.collocations.BigramAssocMeasures().likelihood_ratio)\n",
    "dice_scores = finder.score_ngrams(nltk.collocations.BigramAssocMeasures().dice)\n",
    "pmi_scores = finder.score_ngrams(nltk.collocations.BigramAssocMeasures().pmi)"
   ]
  },
  {
   "cell_type": "code",
   "execution_count": 77,
   "metadata": {},
   "outputs": [
    {
     "data": {
      "text/plain": [
       "[(('подать', 'иск'), 373.0076053454368),\n",
       " (('принять', 'решение'), 199.8617926261594),\n",
       " (('удовлетворить', 'иск'), 174.50888096556136),\n",
       " (('вынести', 'приговор'), 173.35989706128592),\n",
       " (('просить', 'суд'), 170.63331645005636),\n",
       " (('обжаловать', 'решение'), 163.51914253223453),\n",
       " (('вынести', 'решение'), 121.10258287873937),\n",
       " (('удовлетворить', 'ходатайство'), 120.93951872963609),\n",
       " (('отклонить', 'жалоба'), 100.35520276852321),\n",
       " (('предъявить', 'обвинение'), 97.12141507085039)]"
      ]
     },
     "execution_count": 77,
     "metadata": {},
     "output_type": "execute_result"
    }
   ],
   "source": [
    "likeli_scores[:10]"
   ]
  },
  {
   "cell_type": "code",
   "execution_count": 78,
   "metadata": {},
   "outputs": [
    {
     "data": {
      "text/plain": [
       "[(('пройти', 'прение'), 0.6666666666666666),\n",
       " (('решить', 'проблема'), 0.6),\n",
       " (('запретить', 'деятельность'), 0.5833333333333334),\n",
       " (('просить', 'суд'), 0.5555555555555556),\n",
       " (('подать', 'иск'), 0.5088757396449705),\n",
       " (('делать', 'вывод'), 0.46153846153846156),\n",
       " (('назначить', 'наказание'), 0.46153846153846156),\n",
       " (('выплатить', 'компенсация'), 0.45714285714285713),\n",
       " (('заявить', 'отвод'), 0.4444444444444444),\n",
       " (('предъявить', 'обвинение'), 0.43333333333333335)]"
      ]
     },
     "execution_count": 78,
     "metadata": {},
     "output_type": "execute_result"
    }
   ],
   "source": [
    "dice_scores[:10]"
   ]
  },
  {
   "cell_type": "code",
   "execution_count": 79,
   "metadata": {},
   "outputs": [
    {
     "data": {
      "text/plain": [
       "[(('решить', 'проблема'), 9.139551352398794),\n",
       " (('назначить', 'наказание'), 8.624978179569034),\n",
       " (('объявить', 'голодовка'), 8.361943773735241),\n",
       " (('делать', 'вывод'), 8.209940680290192),\n",
       " (('заявить', 'отвод'), 8.139551352398794),\n",
       " (('пройти', 'прение'), 8.139551352398794),\n",
       " (('запретить', 'деятельность'), 7.677445599463171),\n",
       " (('доказать', 'незаконность'), 7.6249781795690375),\n",
       " (('обязать', 'прокуратура'), 7.139551352398794),\n",
       " (('выплатить', 'штраф'), 6.969626350956482)]"
      ]
     },
     "execution_count": 79,
     "metadata": {},
     "output_type": "execute_result"
    }
   ],
   "source": [
    "pmi_scores[:10]"
   ]
  },
  {
   "cell_type": "markdown",
   "metadata": {},
   "source": [
    "# Задание 3"
   ]
  },
  {
   "cell_type": "markdown",
   "metadata": {},
   "source": [
    "Подготовьте \"золотой стандарт\" коллокаций (далее ЗС) для этого корпуса: возьмите словосочетания, которые попадают в топ-100 по всем метрикам, пересеките со словарем глагольной сочетаемости."
   ]
  },
  {
   "cell_type": "code",
   "execution_count": 80,
   "metadata": {},
   "outputs": [
    {
     "name": "stdout",
     "output_type": "stream",
     "text": [
      "78\n"
     ]
    },
    {
     "data": {
      "text/plain": [
       "{('взыскать', 'деньга'),\n",
       " ('взыскать', 'компенсация'),\n",
       " ('вынести', 'вердикт'),\n",
       " ('вынести', 'определение'),\n",
       " ('вынести', 'постановление'),\n",
       " ('вынести', 'приговор'),\n",
       " ('выплатить', 'компенсация'),\n",
       " ('выплатить', 'штраф'),\n",
       " ('дать', 'возможность'),\n",
       " ('дать', 'киллер'),\n",
       " ('дать', 'показание'),\n",
       " ('дать', 'санкция'),\n",
       " ('дать', 'свет'),\n",
       " ('дать', 'согласие'),\n",
       " ('делать', 'вывод'),\n",
       " ('доказать', 'незаконность'),\n",
       " ('запретить', 'деятельность'),\n",
       " ('заявить', 'отвод'),\n",
       " ('заявить', 'ходатайство'),\n",
       " ('иметь', 'место'),\n",
       " ('иметь', 'право'),\n",
       " ('иметь', 'шанс'),\n",
       " ('использовать', 'знак'),\n",
       " ('использовать', 'положение'),\n",
       " ('использовать', 'схема'),\n",
       " ('назначить', 'наказание'),\n",
       " ('направить', 'дело'),\n",
       " ('направить', 'письмо'),\n",
       " ('направить', 'представление'),\n",
       " ('обвинить', 'глава'),\n",
       " ('обвинить', 'господин'),\n",
       " ('обвинить', 'компания'),\n",
       " ('обвинить', 'президент'),\n",
       " ('обжаловать', 'постановление'),\n",
       " ('обжаловать', 'решение'),\n",
       " ('объявить', 'голодовка'),\n",
       " ('обязать', 'прокуратура'),\n",
       " ('оспаривать', 'законность'),\n",
       " ('оспорить', 'доначисление'),\n",
       " ('оспорить', 'предписание'),\n",
       " ('оспорить', 'претензия'),\n",
       " ('оспорить', 'сделка'),\n",
       " ('оставить', 'приговор'),\n",
       " ('отказать', 'жалоба'),\n",
       " ('отклонить', 'жалоба'),\n",
       " ('отменить', 'постановление'),\n",
       " ('отменить', 'регистрация'),\n",
       " ('отменить', 'указ'),\n",
       " ('передать', 'дело'),\n",
       " ('подать', 'апелляция'),\n",
       " ('подать', 'иск'),\n",
       " ('подтвердить', 'законность'),\n",
       " ('подтвердить', 'информация'),\n",
       " ('подтвердить', 'право'),\n",
       " ('получить', 'деньга'),\n",
       " ('получить', 'повестка'),\n",
       " ('получить', 'срок'),\n",
       " ('предъявить', 'нота'),\n",
       " ('предъявить', 'обвинение'),\n",
       " ('предъявить', 'претензия'),\n",
       " ('приговорить', 'господин'),\n",
       " ('приговорить', 'экс глава'),\n",
       " ('признать', 'договор'),\n",
       " ('признать', 'правота'),\n",
       " ('принять', 'решение'),\n",
       " ('принять', 'участие'),\n",
       " ('провести', 'обыск'),\n",
       " ('провести', 'проверка'),\n",
       " ('пройти', 'прение'),\n",
       " ('просить', 'суд'),\n",
       " ('рассматривать', 'дело'),\n",
       " ('рассмотреть', 'вопрос'),\n",
       " ('рассмотреть', 'жалоба'),\n",
       " ('рассмотреть', 'представление'),\n",
       " ('рассмотреть', 'ходатайство'),\n",
       " ('решить', 'проблема'),\n",
       " ('удовлетворить', 'требование'),\n",
       " ('удовлетворить', 'ходатайство')}"
      ]
     },
     "execution_count": 80,
     "metadata": {},
     "output_type": "execute_result"
    }
   ],
   "source": [
    "top_over_metrics = set(pmi) & set(dice) & set(likelihood)\n",
    "print(len(top_over_metrics))\n",
    "top_over_metrics"
   ]
  },
  {
   "cell_type": "code",
   "execution_count": 81,
   "metadata": {},
   "outputs": [],
   "source": [
    "with open('verb_coll.txt', encoding='utf-8') as f:\n",
    "    lines = f.readlines()\n",
    "\n",
    "verb_coll = []\n",
    "for line in lines:\n",
    "    element = normalize(line.split('\\t')[-1]).split() \n",
    "    verb_coll.append(tuple(element))"
   ]
  },
  {
   "cell_type": "code",
   "execution_count": 82,
   "metadata": {},
   "outputs": [
    {
     "data": {
      "text/plain": [
       "27"
      ]
     },
     "execution_count": 82,
     "metadata": {},
     "output_type": "execute_result"
    }
   ],
   "source": [
    "golden_standart = set(verb_coll) & top_over_metrics\n",
    "len(golden_standart)"
   ]
  },
  {
   "cell_type": "code",
   "execution_count": 83,
   "metadata": {},
   "outputs": [
    {
     "data": {
      "text/plain": [
       "{('вынести', 'определение'),\n",
       " ('вынести', 'постановление'),\n",
       " ('вынести', 'приговор'),\n",
       " ('дать', 'возможность'),\n",
       " ('дать', 'показание'),\n",
       " ('дать', 'санкция'),\n",
       " ('дать', 'согласие'),\n",
       " ('делать', 'вывод'),\n",
       " ('заявить', 'ходатайство'),\n",
       " ('иметь', 'шанс'),\n",
       " ('направить', 'дело'),\n",
       " ('обжаловать', 'решение'),\n",
       " ('отменить', 'постановление'),\n",
       " ('передать', 'дело'),\n",
       " ('подать', 'иск'),\n",
       " ('получить', 'срок'),\n",
       " ('предъявить', 'обвинение'),\n",
       " ('предъявить', 'претензия'),\n",
       " ('принять', 'решение'),\n",
       " ('принять', 'участие'),\n",
       " ('провести', 'обыск'),\n",
       " ('провести', 'проверка'),\n",
       " ('рассматривать', 'дело'),\n",
       " ('рассмотреть', 'вопрос'),\n",
       " ('рассмотреть', 'жалоба'),\n",
       " ('решить', 'проблема'),\n",
       " ('удовлетворить', 'требование')}"
      ]
     },
     "execution_count": 83,
     "metadata": {},
     "output_type": "execute_result"
    }
   ],
   "source": [
    "golden_standart"
   ]
  },
  {
   "cell_type": "markdown",
   "metadata": {},
   "source": [
    "# Задание 4"
   ]
  },
  {
   "cell_type": "markdown",
   "metadata": {},
   "source": [
    "Добавьте в ЗС словосочетания из топ-100 , которые не вошли в словарь, но являются коллокациями (если такие есть), объясните свой выбор."
   ]
  },
  {
   "cell_type": "code",
   "execution_count": 84,
   "metadata": {},
   "outputs": [
    {
     "data": {
      "text/plain": [
       "{('взыскать', 'деньга'),\n",
       " ('взыскать', 'компенсация'),\n",
       " ('вынести', 'вердикт'),\n",
       " ('выплатить', 'компенсация'),\n",
       " ('выплатить', 'штраф'),\n",
       " ('дать', 'киллер'),\n",
       " ('дать', 'свет'),\n",
       " ('доказать', 'незаконность'),\n",
       " ('запретить', 'деятельность'),\n",
       " ('заявить', 'отвод'),\n",
       " ('иметь', 'место'),\n",
       " ('иметь', 'право'),\n",
       " ('использовать', 'знак'),\n",
       " ('использовать', 'положение'),\n",
       " ('использовать', 'схема'),\n",
       " ('назначить', 'наказание'),\n",
       " ('направить', 'письмо'),\n",
       " ('направить', 'представление'),\n",
       " ('обвинить', 'глава'),\n",
       " ('обвинить', 'господин'),\n",
       " ('обвинить', 'компания'),\n",
       " ('обвинить', 'президент'),\n",
       " ('обжаловать', 'постановление'),\n",
       " ('объявить', 'голодовка'),\n",
       " ('обязать', 'прокуратура'),\n",
       " ('оспаривать', 'законность'),\n",
       " ('оспорить', 'доначисление'),\n",
       " ('оспорить', 'предписание'),\n",
       " ('оспорить', 'претензия'),\n",
       " ('оспорить', 'сделка'),\n",
       " ('оставить', 'приговор'),\n",
       " ('отказать', 'жалоба'),\n",
       " ('отклонить', 'жалоба'),\n",
       " ('отменить', 'регистрация'),\n",
       " ('отменить', 'указ'),\n",
       " ('подать', 'апелляция'),\n",
       " ('подтвердить', 'законность'),\n",
       " ('подтвердить', 'информация'),\n",
       " ('подтвердить', 'право'),\n",
       " ('получить', 'деньга'),\n",
       " ('получить', 'повестка'),\n",
       " ('предъявить', 'нота'),\n",
       " ('приговорить', 'господин'),\n",
       " ('приговорить', 'экс глава'),\n",
       " ('признать', 'договор'),\n",
       " ('признать', 'правота'),\n",
       " ('пройти', 'прение'),\n",
       " ('просить', 'суд'),\n",
       " ('рассмотреть', 'представление'),\n",
       " ('рассмотреть', 'ходатайство'),\n",
       " ('удовлетворить', 'ходатайство')}"
      ]
     },
     "execution_count": 84,
     "metadata": {},
     "output_type": "execute_result"
    }
   ],
   "source": [
    "top_over_metrics - golden_standart"
   ]
  },
  {
   "cell_type": "code",
   "execution_count": 85,
   "metadata": {},
   "outputs": [],
   "source": [
    "to_add = [('вынести', 'вердикт'), ('выплатить', 'штраф'), ('иметь', 'право'), ('обжаловать', 'постановление'), ('подать', 'апелляция'), ('рассмотреть', 'ходатайство'),\n",
    "('удовлетворить', 'ходатайство')]"
   ]
  },
  {
   "cell_type": "markdown",
   "metadata": {},
   "source": [
    "Я бы добавила эти коллокации, т.к. они, как мне кажется, часто употребляемые, в целом разумные (в отличие от всяких \"дать лицо\") и они тот факт, что они попали в пересечение трех метрих - тоже можно считать причиной добавления"
   ]
  }
 ],
 "metadata": {
  "kernelspec": {
   "display_name": "Python 3",
   "language": "python",
   "name": "python3"
  },
  "language_info": {
   "codemirror_mode": {
    "name": "ipython",
    "version": 3
   },
   "file_extension": ".py",
   "mimetype": "text/x-python",
   "name": "python",
   "nbconvert_exporter": "python",
   "pygments_lexer": "ipython3",
   "version": "3.7.1"
  }
 },
 "nbformat": 4,
 "nbformat_minor": 2
}
