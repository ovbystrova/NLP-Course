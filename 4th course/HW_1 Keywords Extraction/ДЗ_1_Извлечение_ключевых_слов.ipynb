{
  "nbformat": 4,
  "nbformat_minor": 0,
  "metadata": {
    "colab": {
      "name": "ДЗ_1. Извлечение ключевых слов.ipynb",
      "provenance": [],
      "collapsed_sections": [
        "-mSw95TUn7t9",
        "zWYGO5rdq1Qh"
      ]
    },
    "kernelspec": {
      "name": "python3",
      "display_name": "Python 3"
    },
    "accelerator": "GPU"
  },
  "cells": [
    {
      "cell_type": "code",
      "metadata": {
        "id": "zsSnPfvGxjG2",
        "colab_type": "code",
        "colab": {}
      },
      "source": [
        "import re\n",
        "import os"
      ],
      "execution_count": 0,
      "outputs": []
    },
    {
      "cell_type": "markdown",
      "metadata": {
        "id": "-mSw95TUn7t9",
        "colab_type": "text"
      },
      "source": [
        "#Задание 1."
      ]
    },
    {
      "cell_type": "markdown",
      "metadata": {
        "id": "8_4mxHeApOku",
        "colab_type": "text"
      },
      "source": [
        "Подготовить мини-корпус (4-5 текстов или до 10 тысяч токенов) с разметкой ключевых слов. Желательно указать источник корпуса и описать, в каком виде там были представлены ключевые слова."
      ]
    },
    {
      "cell_type": "markdown",
      "metadata": {
        "id": "AF42OsjzpP01",
        "colab_type": "text"
      },
      "source": [
        "Я взяла отсюда (https://github.com/SDuari/Keyword-Extraction-Datasets) датасет Marujo2012. Это новостные статьи.Выбрала рандомно 5 текстов на разные темы. Для каждой статьи в формате txt есть соответствующий txt файл с ключами. Например: "
      ]
    },
    {
      "cell_type": "code",
      "metadata": {
        "id": "-KTP-5X7pKQ4",
        "colab_type": "code",
        "outputId": "e68637b1-97bb-4cae-a845-0864685dfaac",
        "colab": {
          "base_uri": "https://localhost:8080/",
          "height": 70
        }
      },
      "source": [
        "with open('crime-20949862.txt', encoding = 'utf-8') as f:\n",
        "  print(f.read())"
      ],
      "execution_count": 3,
      "outputs": [
        {
          "output_type": "stream",
          "text": [
            "16 Agusan teachers, students kidnapped\n",
            "BUTUAN CITY, Philippines – Armed men identified as former rebel returnees kidnapped 16 people, most of them teachers, at a graduation ceremony in Prosperidad, Agusan del Sur early Friday. Prosperidad Mayor Alvin Magdamit said the teachers and students had just come from graduation rites in Barangay La Purisima when 10 armed men led by a certain Reyjoy Brital forcibly herded and brought them to the mountains. Most of those kidnapped were teachers, but there were two children aged 10 and 13 in the group, officials said. Brital allegedly demanded the release of fellow Manobo Ondo Perez and three other tribesmen who are being held at the Agusan del Sur jail on charges of kidnapping and illegal possession of firearms in connection with the December 2009 hostage-taking, in which 47 villagers were held for several days. Speaking to negotiators by cell phone, Brital threatened “to make a sample” of the hostages if a rescue attempt was launched. He also urged negotiators to send food for the hostages. “They should behave because if they continue to come into our area we will make an example out of the hostages,” Brital was heard saying in the local dialect. Police sharpshooters were deployed around the area where the hostages were held and negotiations were under way. Senior Inspector Joel Solon Mendez of the Agusan del Sur provincial police said the six gunmen holding the hostages had initially given a 24-hour deadline to release their four fellow tribesmen. But he said that as of yesterday morning, they appeared to have softened their position on the deadline and demanded that food and water be delivered to them. Magdamit led government negotiators appealing for the immediate release of the children. Police identified some of the hostages as Narciso Oliveros, Hipolito Lastimado, Apolonio Alibangbang, Joel Sausa, Manuel Mordeno, Filipina Quitoy, Allan Gallano, Mary Jean Bedrijo, Arnold Quitoy, Pido Dolorito, Gerlie Monticalbo, Maricel Lagnazon, Diosdado Cabantac, and Shen-shen Cabagtag. \n"
          ],
          "name": "stdout"
        }
      ]
    },
    {
      "cell_type": "markdown",
      "metadata": {
        "id": "X-tt4fAfqFHr",
        "colab_type": "text"
      },
      "source": [
        "Для это статьи ключи:"
      ]
    },
    {
      "cell_type": "code",
      "metadata": {
        "id": "9sOMU0F3qIto",
        "colab_type": "code",
        "outputId": "85136736-9bf5-427c-bffd-a4f4d4eaf67f",
        "colab": {
          "base_uri": "https://localhost:8080/",
          "height": 987
        }
      },
      "source": [
        "with open('crime-20949862.key', encoding = 'utf-8') as f:\n",
        "  print(f.read())"
      ],
      "execution_count": 4,
      "outputs": [
        {
          "output_type": "stream",
          "text": [
            "\n",
            "Magdamit\n",
            "government\n",
            "former rebel\n",
            "Senior\n",
            "fellow\n",
            "deadline\n",
            "position\n",
            "children Police\n",
            "graduation\n",
            "cell phone\n",
            "negotiators\n",
            "illegal possession\n",
            "two children\n",
            "Police sharpshooters\n",
            "morning\n",
            "jail\n",
            "Joel Sausa\n",
            "Diosdado Cabantac\n",
            "immediate release\n",
            "Pido Dolorito\n",
            "Brital\n",
            "connection\n",
            "tribesmen who\n",
            "Allan Gallano\n",
            "example\n",
            "make\n",
            "BUTUAN CITY\n",
            "release\n",
            "attempt\n",
            "Mayor\n",
            "area\n",
            "people most\n",
            "Friday\n",
            "graduation ceremony\n",
            "continue\n",
            "group\n",
            "Filipina\n",
            "kidnapped\n",
            "hostages\n",
            "returnees kidnapped\n",
            "ceremony\n",
            "fellow tribesmen\n",
            "Alvin Magdamit\n",
            "Manobo\n",
            "brought\n",
            "mountains\n",
            "heard\n",
            "demanded\n",
            "launched\n",
            "Monticalbo\n",
            "negotiations\n",
            "possession\n",
            "certain Reyjoy Brital\n",
            "identified\n",
            "Lagnazon\n",
            "sample\n",
            "Prosperidad\n"
          ],
          "name": "stdout"
        }
      ]
    },
    {
      "cell_type": "markdown",
      "metadata": {
        "id": "pdpvWbefqcwC",
        "colab_type": "text"
      },
      "source": [
        "Всего в корпусе 450 документов, средняя длина в словах - 427, среднее кол-во ключевых слов - 69.  Ключевые слова не лемматизированы. "
      ]
    },
    {
      "cell_type": "markdown",
      "metadata": {
        "id": "zWYGO5rdq1Qh",
        "colab_type": "text"
      },
      "source": [
        "# Задание 2. "
      ]
    },
    {
      "cell_type": "markdown",
      "metadata": {
        "id": "fN80HpNUq3RW",
        "colab_type": "text"
      },
      "source": [
        "Разметить ключевые слова самостоятельно. Оценить пересечение с имеющейся разметкой."
      ]
    },
    {
      "cell_type": "markdown",
      "metadata": {
        "id": "vqGKb7ZdxNrG",
        "colab_type": "text"
      },
      "source": [
        "Загрузим все файлы в списки."
      ]
    },
    {
      "cell_type": "code",
      "metadata": {
        "id": "J9ljT1TCxQBB",
        "colab_type": "code",
        "outputId": "5cc3c541-73a2-4cf4-abe4-a5d5b718a4ce",
        "colab": {
          "base_uri": "https://localhost:8080/",
          "height": 53
        }
      },
      "source": [
        "files = ' '.join(os.listdir())\n",
        "files"
      ],
      "execution_count": 5,
      "outputs": [
        {
          "output_type": "execute_result",
          "data": {
            "text/plain": [
              "'.config health-20916374.txt crime-20949862.txt business-20935665.txt sports-20949554.mykey sports-20949554.txt business-20935665.mykey crime-20949862.mykey art_and_culture-20893614.txt art_and_culture-20893614.mykey crime-20949862.key sports-20949554.key business-20935665.key health-20916374.key art_and_culture-20893614.key health-20916374.mykey sample_data'"
            ]
          },
          "metadata": {
            "tags": []
          },
          "execution_count": 5
        }
      ]
    },
    {
      "cell_type": "code",
      "metadata": {
        "id": "O-o8aGPYyFxl",
        "colab_type": "code",
        "outputId": "89efca65-cc7a-46a1-d9e6-25bc3a8ba1ec",
        "colab": {
          "base_uri": "https://localhost:8080/",
          "height": 100
        }
      },
      "source": [
        "texts = re.findall(r'\\S*\\.txt', files)\n",
        "texts"
      ],
      "execution_count": 6,
      "outputs": [
        {
          "output_type": "execute_result",
          "data": {
            "text/plain": [
              "['health-20916374.txt',\n",
              " 'crime-20949862.txt',\n",
              " 'business-20935665.txt',\n",
              " 'sports-20949554.txt',\n",
              " 'art_and_culture-20893614.txt']"
            ]
          },
          "metadata": {
            "tags": []
          },
          "execution_count": 6
        }
      ]
    },
    {
      "cell_type": "code",
      "metadata": {
        "id": "1VynaM7cy2L_",
        "colab_type": "code",
        "outputId": "57dd99ac-a194-4708-cb6e-d4be99a22d5b",
        "colab": {
          "base_uri": "https://localhost:8080/",
          "height": 87
        }
      },
      "source": [
        "articles = [] # Список статей\n",
        "keys = [] # Список оригинальных авторских ключевых слов\n",
        "mykeys = [] # Мой список ключевых слов\n",
        "for text in texts:\n",
        "  with open(text, encoding='utf-8') as f:\n",
        "    articles.append(f.read())\n",
        "  with open(text[:-3]+'key', encoding='utf-8') as f:\n",
        "    keys.append(f.read().split('\\n'))\n",
        "  with open(text[:-3]+'mykey', encoding='utf-8') as f:\n",
        "    mykeys.append(f.read().split('\\n'))\n",
        "print(articles)\n",
        "print(keys)\n",
        "print(mykeys)\n",
        "  "
      ],
      "execution_count": 7,
      "outputs": [
        {
          "output_type": "stream",
          "text": [
            "['Federal court tosses NH man\\'s health overhaul suit\\nCONCORD, N.H. - A federal court has thrown out a New Hampshire man\\'s lawsuit challenging the constitutionality of the government\\'s health care overhaul, saying he lacked standing to sue because his Medicare coverage will automatically satisfy the law\\'s insurance mandate. Harold Peterson, 80, of Nashua, sued President Barack Obama and Congress last year objecting mainly to the law\\'s requirement that nearly all Americans carry health insurance. While similar lawsuits have been filed around the country, Peterson\\'s case appears to have been the first brought by a Medicare recipient, according to U.S. District Court Judge Joseph Laplante, who dismissed the lawsuit Wednesday. Laplante acknowledged that the law, and the insurance mandate in particular, \"\"may raise interesting constitutional issues,\"\" but said Peterson had no standing to challenge it because he did not plausibly explain how the mandate would harm him. \"\"As the defendants note, Medicare coverage automatically satisfies the Act\\'s health insurance mandate. So Peterson will not have to incur any financial burdens, or indeed do anything at all, to satisfy the mandate. The federal government will satisfy it for him,\"\" the court wrote. Peterson, who works as a real estate consultant and represented himself in court, said Friday that he disagrees with that reasoning because he believes the law could end up reducing Medicare benefits. \"\"The fact that you have Medicare doesn\\'t make a difference because Medicare is being impacted as well,\"\" he said. The court pointed out that the law expressly states that none of its provisions shall result in a reduction of guaranteed benefits for those covered by Medicare, the government health program for people over age 65. While that doesn\\'t necessarily guarantee the intended results, Peterson\\'s speculation that the law may end up causing benefit reductions wasn\\'t enough to allow the case to continue, the judge wrote. The court also rejected Peterson\\'s claim that the law has caused his supplemental private health insurance premiums to rise. In order for him to sue on those grounds, he would have had to show that a ruling in his favor would have reversed that harm. But since his private insurer wasn\\'t part of the lawsuit, declaring the law unconstitutional would not have ensured that his premiums would go down. Despite the ruling, Peterson said he will continue to highlight what he views as a constitutional crisis. \"\"I decided to file it because I, as well as a lot of other people, are getting tired of the fact that our legislators and other government people are completely ignoring the Constitution,\"\" he said. ', '16 Agusan teachers, students kidnapped\\nBUTUAN CITY, Philippines – Armed men identified as former rebel returnees kidnapped 16 people, most of them teachers, at a graduation ceremony in Prosperidad, Agusan del Sur early Friday. Prosperidad Mayor Alvin Magdamit said the teachers and students had just come from graduation rites in Barangay La Purisima when 10 armed men led by a certain Reyjoy Brital forcibly herded and brought them to the mountains. Most of those kidnapped were teachers, but there were two children aged 10 and 13 in the group, officials said. Brital allegedly demanded the release of fellow Manobo Ondo Perez and three other tribesmen who are being held at the Agusan del Sur jail on charges of kidnapping and illegal possession of firearms in connection with the December 2009 hostage-taking, in which 47 villagers were held for several days. Speaking to negotiators by cell phone, Brital threatened “to make a sample” of the hostages if a rescue attempt was launched. He also urged negotiators to send food for the hostages. “They should behave because if they continue to come into our area we will make an example out of the hostages,” Brital was heard saying in the local dialect. Police sharpshooters were deployed around the area where the hostages were held and negotiations were under way. Senior Inspector Joel Solon Mendez of the Agusan del Sur provincial police said the six gunmen holding the hostages had initially given a 24-hour deadline to release their four fellow tribesmen. But he said that as of yesterday morning, they appeared to have softened their position on the deadline and demanded that food and water be delivered to them. Magdamit led government negotiators appealing for the immediate release of the children. Police identified some of the hostages as Narciso Oliveros, Hipolito Lastimado, Apolonio Alibangbang, Joel Sausa, Manuel Mordeno, Filipina Quitoy, Allan Gallano, Mary Jean Bedrijo, Arnold Quitoy, Pido Dolorito, Gerlie Monticalbo, Maricel Lagnazon, Diosdado Cabantac, and Shen-shen Cabagtag. ', 'U.S. Jobless Rate Unexpectedly Drops to Two-Year Low in March\\nApril 2 (Bloomberg) - The unemployment rate in the U.S. unexpectedly fell to a two-year low of 8.8 percent in March as employers created more jobs than forecast, adding to evidence the labor-market recovery is gaining traction. Payrolls rose by 216,000 workers last month after a 194,000 gain the prior month, the Labor Department said yesterday in Washington. Economists projected a March increase of 190,000, according to the median estimate in a Bloomberg News survey. A separate report showed manufacturing expanded at close to the fastest pace in seven years. “It does look like things have turned the corner,” Scott Brown, chief economist at Raymond James & Associates Inc. in St. Petersburg, said in an interview with Lisa Murphy on Bloomberg Television’s “Fast Forward.” “We’re finally seeing small- and medium-sized companies hiring.” Stocks climbed as the figures showed the world’s largest economy is weathering the highest energy prices in more than two years. Treasuries pared losses after William Dudley, president of the Federal Reserve Bank of New York, said the jobs data shouldn’t change the central bank’s plans to buy $600 billion of government securities through June. “I don’t see any reason to pull back from that yet,” Dudley said in response to reporters’ questions about the Fed’s bond-buying program after a speech in San Juan, Puerto Rico. In his speech, he said the recovery is “still tenuous” and “far from the mark” of the central bank’s goals of full employment. Shares Climb The Standard & Poor’s 500 Index gained 0.5 percent to 1,332.41 at the 4 p.m. close in New York yesterday. Treasuries rose, with the yield on the 10-year note falling to 3.44 percent from 3.47 percent the previous day. Manufacturing expanded in March at about the same pace as February, the strongest month since May 2004. The Tempe, Arizona-based Institute for Supply Management said its manufacturing index was 61.2 compared with 61.4 in February. Readings greater than 50 signal expansion. While companies stepped up hiring, earnings and hours stagnated, the Labor Department’s figures showed. Average hourly earnings for production workers rose 0.8 percent over the past six months, the smallest gain for such a period since 2004. “With the increased pace of hiring, this suggests that increasing numbers of returning jobless workers may be settling for lower wages than they had earned before the recession,” David Resler, chief economist at Nomura Securities International Inc. in New York, said in a note to clients. Fed’s Effectiveness Bill Gross, manager of the world’s biggest bond fund at Pacific Investment Management Co., said the gain in employment suggests the Fed’s bond purchases have been effective. “Their objective obviously is to improve the economy and to create jobs but also to put a floor under the stock market, and we know that’s working,” Gross said yesterday in a radio interview on “Bloomberg Surveillance” with Tom Keene. The Fed, after its latest policy meeting March 15, pledged to continue its bond-purchase program in order to “promote a stronger pace of economic recovery.” Policy makers said the economy is on a “firmer footing” while acknowledging a rise in commodity prices. Record exports and gains in business and consumer spending are prompting companies like Chrysler Group LLC and Kohl’s Corp. to boost staff. Other manufacturing reports yesterday showed China’s factories accelerated for the first time in four months, while India’s grew for a 24th month. Chrysler, aiming for its first net profit since emerging from bankruptcy in 2009, plans to hire 1,000 engineers and high- tech workers for its small and midsized vehicles. The Auburn Hills, Michigan-based company is also urging its dealers to hire more salesmen and service workers to help boost sales by 32 percent this year. Adding Staff “Hiring additional personnel in preparation for the spring market is essential for success in 2011,” Peter Grady, vice president of Chrysler’s network development and fleet, said in a memo to dealers last month. Private hiring, which excludes government agencies, rose by 230,000 in March after a 240,000 increase in February, the biggest back-to-back gain since 2006. The separate survey of households showed the size of the labor force increased by 160,000 in March and employment grew by 291,000. That pushed the share of the population that is employed up to 58.5 percent from 58.4 percent a month earlier. Government payrolls decreased for a fifth straight month in March, reflecting cuts at the local level. Factory payrolls increased by 17,000 last month, while the construction industry shed jobs. Led by Services Employment at service-providers rose 185,000 in March, the most since May 2010. Temporary-help services companies added 28,800 workers and retail employment increased by 17,700. Economic growth accelerated to a 3.1 percent annual rate in the fourth quarter of 2010 as consumer spending climbed by the most in four years. Oil prices that closed at $107.94 yesterday on the New York Mercantile Exchange, the highest since September 2008, may keep climbing should Middle East political turmoil continue unabated, raising the risk that consumer spending will slow. U.S. companies are still trying to gauge the effects of the March 11 earthquake in Japan and the subsequent nuclear crisis on international supply chains. Toyota Motor Corp. expects assembly interruptions that may affect North America plants. - With assistance from Tom Keene and Lisa Murphy in New York and Alex Kowalski in Washington. Editors: Carlos Torres, Vince Golle To contact the reporter on this story: Bob Willis in Washington at bwillis@bloomberg.net To contact the editor responsible for this story: Christopher Wellisz at cwellisz@bloomberg.net ', 'Chelsea possess best attack of Premier League: Carlo Ancelotti\\nChelsea manager Carlo Ancelotti has said that his Manchester United counterpart Sir Alex Ferguson can keep Wayne Rooney, as his team has the best attack in the Premier League. \"\"Rooney is a fantastic player. I like him. He\\'s a fantastic striker, but I do not want to change. And I am sure Sir Alex does not want any changes either. We have the best group of forwards in the Premier League. I am happy with these strikers, and I do not want to swap them with anybody,\"\" the Daily Express quoted Ancelotti as saying. Ancelotti has a strong strike-force in Didier Drogba, Nicolas Anelka, Salomon Kalou and Fernando Torres. Despite this, as Chelsea head to Stoke today, needing to win all their nine league games in order to retain their League title, none of the four strikers have scored in the last two months, since Torres joined the team from Liverpool. However, Chelsea has managed to get by, having lost only once in their past eight games in the league, thanks to goals from their midfield, Frank Lampard. Chelsea takes on United next week in the first leg of their Champions League quarter-final, with Ancelotti demanding a better performance from his strikers. \"\"You don\\'t lose that ability to score. If you are a top scorer, you\\'ll stay like that until the end of your career. It comes back,\"\" he said. Ancelotti has long maintained that the nine point gap between his team and Ferguson\\'s United is too great to contemplate overtaking and winning a second straight title. However, Chelsea players claim that a title charge is back on now after their recent revival. ', 'Singer Michael Buble weds TV star Luisana Lopilato\\nCanadian pop star Michael Buble kisses his bride Argentine TV actress Luisana Lopilato after their civil wedding ceremony in Buenos Aires, Argentina, Thursday March 31, 2011. (AP Photo/Natacha Pisarenko) BUENOS AIRES, Argentina (AP) - Canadian pop star Michael Buble married Argentine TV actress Luisana Lopilato in a civil ceremony on Thursday. The Grammy-winning singer of \"\"Crazy Love\"\" and his Argentine sweetheart posed for a mob of fans after tying the knot at a civil registry in downtown Buenos Aires. She wore a lilac chiffon dress with silver high heels and Buble wore a sharp gray suit as he leaned down for a smooch. Then Lopilato, 23, tossed a bouquet of purple orchids into the crowd as some fans threw rice and red rose petals and a young woman shouted \"\"I love you Michael!\"\" Buble, 35, won his Grammy last month for traditional pop vocal album, and is one of North America\\'s top-grossing concert entertainers. Lopilato made her name as a model and in Argentine sitcoms and soap operas, including \"\"Rebel Way,\"\" \"\"Little Girls,\"\" \"\"Married With Children\"\" and \"\"Pirate Soul.\"\" The couple plan a full ceremony with 300 guests next month at a mansion outside Buenos Aires, and another wedding in Vancouver in April. They have homes in Canada, Los Angeles and Buenos Aires province. Buble dated British actress Emily Blunt for several years before he met Lopilato in 2009 during a South American concert tour. Lopilato was romantically involved before with tennis player Juan Monaco. With more than 500,000 fans and followers in Facebook and Twitter, Lopilato sent messages throughout the day, thanking her family and the media. \"\"How beautiful it all was!\"\" she wrote. ']\n",
            "[['recipient', 'government', 'health', 'explain', 'satisfy', 'states', 'private', 'covered', 'dismissed', 'constitutionality', 'reduction', 'financial', 'program', 'issues', 'supplemental', 'insurance', 'completely', 'federal', 'automatically', 'requirement', 'claim', 'benefits', 'challenging', 'premiums', 'New Hampshire', 'Medicare', 'government health program', 'lawsuit', 'Medicare coverage', 'CONCORD', 'Congress', 'Americans', 'US District Court Judge Joseph Laplante', \"NH man's health overhaul\", 'Harold Peterson', 'federal government', 'President Barack Obama', 'real estate consultant', \"government's health care\", 'Federal court', 'Peterson', 'Nashua'], ['', 'Magdamit', 'government', 'former rebel', 'Senior', 'fellow', 'deadline', 'position', 'children Police', 'graduation', 'cell phone', 'negotiators', 'illegal possession', 'two children', 'Police sharpshooters', 'morning', 'jail', 'Joel Sausa', 'Diosdado Cabantac', 'immediate release', 'Pido Dolorito', 'Brital', 'connection', 'tribesmen who', 'Allan Gallano', 'example', 'make', 'BUTUAN CITY', 'release', 'attempt', 'Mayor', 'area', 'people most', 'Friday', 'graduation ceremony', 'continue', 'group', 'Filipina', 'kidnapped', 'hostages', 'returnees kidnapped', 'ceremony', 'fellow tribesmen', 'Alvin Magdamit', 'Manobo', 'brought', 'mountains', 'heard', 'demanded', 'launched', 'Monticalbo', 'negotiations', 'possession', 'certain Reyjoy Brital', 'identified', 'Lagnazon', 'sample', 'Prosperidad'], ['midsized vehicles', 'Pacific Investment Management', 'compared', 'created', 'separate survey', 'government', 'purchases', 'essential', 'turmoil continue', 'acknowledging', 'international', 'climbing', 'serviceproviders', 'Washington', 'gains', 'companies stepped', 'personnel', 'Factory payrolls increased', 'Bloomberg', 'Televisions', 'suggests', 'economy', 'editor responsible', 'same pace', 'business', 'Department', 'mediumsized', 'forecast', 'recovery', 'reflecting', 'Government', 'engineers', 'employment', 'yield', 'assembly interruptions', 'reporter', 'pledged', 'stock market', 'spending', 'Unexpectedly', 'questions', 'Effectiveness', 'unexpectedly', 'Washington Economists projected', 'development', 'assistance', 'contact', 'effective', 'Manufacturing expanded', 'hiring', 'US Jobless', 'manufacturing', 'unemployment', 'workers', 'Surveillance', 'prior', 'accelerated', 'turned', 'Federal Reserve Bank', 'returning', 'prompting companies', 'economist', 'New York', 'company', 'vice president', 'weathering', 'commodity'], ['managed', 'Chelsea', 'possess', 'attack', 'Champions League quarterfinal', 'Premier League', 'swap', 'fantastic striker', 'best group of forwards', 'strong strikeforce', 'lost only once', 'retain', 'Ancelotti demanding', 'top scorer', 'Ancelotti', 'needing', 'best attack', 'happy', 'fantastic player', 'Manchester United counterpart Sir Alex Ferguson', 'four strikers have scored', 'first leg', 'better performance from', 'Sir Alex', 'nine league games', 'nine point gap', 'League title', 'do not want to swap them with anybody', 'Fernando Torres', 'Premier League Carlo Ancelotti', 'past eight games', 'Didier Drogba Nicolas Anelka Salomon Kalou', 'Wayne Rooney', 'Carlo Ancelotti', 'from Liverpool', 'Frank Lampard Chelsea takes on United next week', 'strikers', 'last two months', 'long maintained', 'win', 'goals', 'Torres joined', 'these strikers', 'Rooney'], ['married Argentine', 'his Grammy', 'ceremony', 'kisses', 'messages', 'romantically', 'vocal', 'Argentine', 'woman', 'Buble dated', 'thanking', 'wedding ceremony', 'Canadian', 'Michael', 'bouquet', 'vocal album', 'Crazy Love', 'Canadian pop', 'Argentina AP', 'mansion', 'Facebook', 'rose', 'Argentine sweetheart', 'month', 'registry', 'South American', 'after tying', 'downtown', 'beautiful', 'traditional', 'Grammy', 'Vancouver', 'chiffon dress', 'Grammywinning', 'family', 'Lopilato made', 'North', 'bride Argentine TV actress', 'media', 'Twitter', 'met', 'high']]\n",
            "[['CONCORD', 'federal court', 'New Hampshire', 'Medicare', 'satisfy', 'lacked', 'sue', 'insurance', 'sued', 'President Barack Obama', 'lawsuits', 'first', 'recipient', 'dismissed', 'lawsuit', 'issues', 'federal government', 'will satisfy', 'Peterson', 'consultant', 'represented himself', 'reducing', 'Medicare benefits', 'reduction', 'garanteed benefits', \"does't\", 'guarantee', 'ruling', 'reversed that harm', 'highlight', 'constitutional crisis', 'ignoring', 'Constitution'], ['Armed men', 'kidnapped', '16 people', 'Prosperidad', 'teachers and studens', 'children', 'mountains', 'demanded', 'release', 'tribesmen', 'December 2009', 'negotiators', 'Brital', 'local dialect', 'sharpshooters', '24-hour deadline', 'identified', 'hostages'], ['Unemployment rate', 'fell', '8.8 percent', 'Payrolls rose', 'increase', 'Bloomberg News', 'Scott Brown', 'Stocks climbed', 'energy', 'prices', 'two years', 'William Dudley', 'central bank', 'speech', 'Treasures', 'rose', 'recovery', '500 Index', 'gained', 'Manufacturing', 'strongest', 'expansion', 'jobless workers', 'improve the economy', 'stock market', 'Fed', 'bankruptcy', '2009', '1,000 engineers', 'hiring', 'housholds', 'labor force', 'pushed', 'cuts', 'Government payrolls', 'decreased', 'Factory payrolls', 'increased', '28,000 workers', 'effects', 'March 11', 'earthquake', 'nuclear crisis', 'expects'], ['Chelsea', 'manager', 'Carlo Ancelotti', 'Manchester United', 'counterpart ', 'Sir Alex Ferguson', 'keep', 'Wayne Rooney', 'best attack', 'happy', 'Didier Drogba', 'Nicolas Anelka', 'Salomon Kalou', 'Fernando Torres', 'nine', 'games', 'League title', 'demanding', 'performance', 'mainteined', 'nine point'], ['Canadian', 'pop star', 'Michael Buble', 'kisses', 'bride', 'Luisana Lopilato', 'wedding ceremony', 'married', 'singer', 'civil registry', 'fans', 'top-grossing', 'model', '300 guests', 'next month', 'Canada', 'Los Angeles', 'Buenos Aires', 'dated', 'Emily Blunt', 'before', '2009', '500,000 fans', 'messages']]\n"
          ],
          "name": "stdout"
        }
      ]
    },
    {
      "cell_type": "code",
      "metadata": {
        "id": "c8_9fY0Pz0Ia",
        "colab_type": "code",
        "colab": {}
      },
      "source": [
        "assert len(articles) == len(keys) == len(mykeys)"
      ],
      "execution_count": 0,
      "outputs": []
    },
    {
      "cell_type": "markdown",
      "metadata": {
        "id": "lnMpPaiR0esB",
        "colab_type": "text"
      },
      "source": [
        "Посмотрим на пересечения в разметке. Возьмем меру Жаккара."
      ]
    },
    {
      "cell_type": "code",
      "metadata": {
        "id": "7xJ8sGAa0eDW",
        "colab_type": "code",
        "outputId": "4a12f598-f45e-4f45-bf4f-a17356509ea1",
        "colab": {
          "base_uri": "https://localhost:8080/",
          "height": 100
        }
      },
      "source": [
        "for i in range(0, len(articles)):\n",
        "  original_keys = set(keys[i])\n",
        "  my_keys = set(mykeys[i])\n",
        "  jaccard = len( original_keys & my_keys) / len(original_keys | my_keys)\n",
        "  print('Для текста {} пересечение в разметке: {}'.format(texts[i], jaccard))\n"
      ],
      "execution_count": 10,
      "outputs": [
        {
          "output_type": "stream",
          "text": [
            "Для текста health-20916374.txt пересечение в разметке: 0.20967741935483872\n",
            "Для текста crime-20949862.txt пересечение в разметке: 0.13432835820895522\n",
            "Для текста business-20935665.txt пересечение в разметке: 0.027777777777777776\n",
            "Для текста sports-20949554.txt пересечение в разметке: 0.1206896551724138\n",
            "Для текста art_and_culture-20893614.txt пересечение в разметке: 0.06451612903225806\n"
          ],
          "name": "stdout"
        }
      ]
    },
    {
      "cell_type": "markdown",
      "metadata": {
        "id": "QYcolU6e2CE8",
        "colab_type": "text"
      },
      "source": [
        "Результаты, конечно, не очень. Посмотрим на одну из разметок подробнее. "
      ]
    },
    {
      "cell_type": "code",
      "metadata": {
        "id": "xHCaweBL2ZWn",
        "colab_type": "code",
        "outputId": "d36a201d-3437-439c-daed-c35e02446d03",
        "colab": {
          "base_uri": "https://localhost:8080/",
          "height": 70
        }
      },
      "source": [
        "print(mykeys[0])\n",
        "print(keys[0])"
      ],
      "execution_count": 11,
      "outputs": [
        {
          "output_type": "stream",
          "text": [
            "['CONCORD', 'federal court', 'New Hampshire', 'Medicare', 'satisfy', 'lacked', 'sue', 'insurance', 'sued', 'President Barack Obama', 'lawsuits', 'first', 'recipient', 'dismissed', 'lawsuit', 'issues', 'federal government', 'will satisfy', 'Peterson', 'consultant', 'represented himself', 'reducing', 'Medicare benefits', 'reduction', 'garanteed benefits', \"does't\", 'guarantee', 'ruling', 'reversed that harm', 'highlight', 'constitutional crisis', 'ignoring', 'Constitution']\n",
            "['recipient', 'government', 'health', 'explain', 'satisfy', 'states', 'private', 'covered', 'dismissed', 'constitutionality', 'reduction', 'financial', 'program', 'issues', 'supplemental', 'insurance', 'completely', 'federal', 'automatically', 'requirement', 'claim', 'benefits', 'challenging', 'premiums', 'New Hampshire', 'Medicare', 'government health program', 'lawsuit', 'Medicare coverage', 'CONCORD', 'Congress', 'Americans', 'US District Court Judge Joseph Laplante', \"NH man's health overhaul\", 'Harold Peterson', 'federal government', 'President Barack Obama', 'real estate consultant', \"government's health care\", 'Federal court', 'Peterson', 'Nashua']\n"
          ],
          "name": "stdout"
        }
      ]
    },
    {
      "cell_type": "code",
      "metadata": {
        "id": "NzNTbbX427Ro",
        "colab_type": "code",
        "outputId": "4333cd73-ba7c-4ca3-e331-110d976dd6db",
        "colab": {
          "base_uri": "https://localhost:8080/",
          "height": 53
        }
      },
      "source": [
        "print(set(mykeys[0]) & set(keys[0]))"
      ],
      "execution_count": 12,
      "outputs": [
        {
          "output_type": "stream",
          "text": [
            "{'New Hampshire', 'President Barack Obama', 'CONCORD', 'insurance', 'Peterson', 'issues', 'dismissed', 'reduction', 'recipient', 'lawsuit', 'satisfy', 'Medicare', 'federal government'}\n"
          ],
          "name": "stdout"
        }
      ]
    },
    {
      "cell_type": "markdown",
      "metadata": {
        "id": "wVX51AxK3MDj",
        "colab_type": "text"
      },
      "source": [
        "В общем, учитывая, что в среднем в статье 69 ключевых слов - не удивительно, что такие низкие результаты."
      ]
    },
    {
      "cell_type": "markdown",
      "metadata": {
        "id": "axPM4VDF3anw",
        "colab_type": "text"
      },
      "source": [
        "#Задание 3 - 4"
      ]
    },
    {
      "cell_type": "markdown",
      "metadata": {
        "id": "VlvdLiPP3iYC",
        "colab_type": "text"
      },
      "source": [
        "Применить к этому корпусу 3 метода извлечения ключевых слов на выбор (RAKE, TextRank, tf*idf, OKAPI BM25)."
      ]
    },
    {
      "cell_type": "code",
      "metadata": {
        "id": "vc3iVfgdQgXn",
        "colab_type": "code",
        "colab": {}
      },
      "source": [
        "def count_metrics(y_pred, y_true, i):\n",
        "  \"\"\"\n",
        "  Функция считает precision, recall и f_score\n",
        "  \"\"\"\n",
        "  y_pred = set(y_pred)\n",
        "  y_true = set(y_true)\n",
        "  precision = len(y_pred & y_true) / len(y_pred)\n",
        "  recall = len(y_pred & y_true) / len(y_true)\n",
        "  f_score = 2 * (precision * recall) / (precision + recall)\n",
        "  return 'For text {} : Precision : {} . Recall : {} . F_score : {} '.format(texts[i], precision, recall, f_score)"
      ],
      "execution_count": 0,
      "outputs": []
    },
    {
      "cell_type": "code",
      "metadata": {
        "id": "Eh8rgzv0SKyr",
        "colab_type": "code",
        "colab": {
          "base_uri": "https://localhost:8080/",
          "height": 53
        },
        "outputId": "813d0e20-cc1c-4621-dd86-420e9e001c22"
      },
      "source": [
        "#Приведем к нижнему регистру ключи (т.к. все алгоритмы возвращают в нижнем регистре)\n",
        "for i in range(0, len(keys)):\n",
        "  keys[i] = [key.lower() for key in keys[i]]\n",
        "print(keys)"
      ],
      "execution_count": 23,
      "outputs": [
        {
          "output_type": "stream",
          "text": [
            "[['recipient', 'government', 'health', 'explain', 'satisfy', 'states', 'private', 'covered', 'dismissed', 'constitutionality', 'reduction', 'financial', 'program', 'issues', 'supplemental', 'insurance', 'completely', 'federal', 'automatically', 'requirement', 'claim', 'benefits', 'challenging', 'premiums', 'new hampshire', 'medicare', 'government health program', 'lawsuit', 'medicare coverage', 'concord', 'congress', 'americans', 'us district court judge joseph laplante', \"nh man's health overhaul\", 'harold peterson', 'federal government', 'president barack obama', 'real estate consultant', \"government's health care\", 'federal court', 'peterson', 'nashua'], ['', 'magdamit', 'government', 'former rebel', 'senior', 'fellow', 'deadline', 'position', 'children police', 'graduation', 'cell phone', 'negotiators', 'illegal possession', 'two children', 'police sharpshooters', 'morning', 'jail', 'joel sausa', 'diosdado cabantac', 'immediate release', 'pido dolorito', 'brital', 'connection', 'tribesmen who', 'allan gallano', 'example', 'make', 'butuan city', 'release', 'attempt', 'mayor', 'area', 'people most', 'friday', 'graduation ceremony', 'continue', 'group', 'filipina', 'kidnapped', 'hostages', 'returnees kidnapped', 'ceremony', 'fellow tribesmen', 'alvin magdamit', 'manobo', 'brought', 'mountains', 'heard', 'demanded', 'launched', 'monticalbo', 'negotiations', 'possession', 'certain reyjoy brital', 'identified', 'lagnazon', 'sample', 'prosperidad'], ['midsized vehicles', 'pacific investment management', 'compared', 'created', 'separate survey', 'government', 'purchases', 'essential', 'turmoil continue', 'acknowledging', 'international', 'climbing', 'serviceproviders', 'washington', 'gains', 'companies stepped', 'personnel', 'factory payrolls increased', 'bloomberg', 'televisions', 'suggests', 'economy', 'editor responsible', 'same pace', 'business', 'department', 'mediumsized', 'forecast', 'recovery', 'reflecting', 'government', 'engineers', 'employment', 'yield', 'assembly interruptions', 'reporter', 'pledged', 'stock market', 'spending', 'unexpectedly', 'questions', 'effectiveness', 'unexpectedly', 'washington economists projected', 'development', 'assistance', 'contact', 'effective', 'manufacturing expanded', 'hiring', 'us jobless', 'manufacturing', 'unemployment', 'workers', 'surveillance', 'prior', 'accelerated', 'turned', 'federal reserve bank', 'returning', 'prompting companies', 'economist', 'new york', 'company', 'vice president', 'weathering', 'commodity'], ['managed', 'chelsea', 'possess', 'attack', 'champions league quarterfinal', 'premier league', 'swap', 'fantastic striker', 'best group of forwards', 'strong strikeforce', 'lost only once', 'retain', 'ancelotti demanding', 'top scorer', 'ancelotti', 'needing', 'best attack', 'happy', 'fantastic player', 'manchester united counterpart sir alex ferguson', 'four strikers have scored', 'first leg', 'better performance from', 'sir alex', 'nine league games', 'nine point gap', 'league title', 'do not want to swap them with anybody', 'fernando torres', 'premier league carlo ancelotti', 'past eight games', 'didier drogba nicolas anelka salomon kalou', 'wayne rooney', 'carlo ancelotti', 'from liverpool', 'frank lampard chelsea takes on united next week', 'strikers', 'last two months', 'long maintained', 'win', 'goals', 'torres joined', 'these strikers', 'rooney'], ['married argentine', 'his grammy', 'ceremony', 'kisses', 'messages', 'romantically', 'vocal', 'argentine', 'woman', 'buble dated', 'thanking', 'wedding ceremony', 'canadian', 'michael', 'bouquet', 'vocal album', 'crazy love', 'canadian pop', 'argentina ap', 'mansion', 'facebook', 'rose', 'argentine sweetheart', 'month', 'registry', 'south american', 'after tying', 'downtown', 'beautiful', 'traditional', 'grammy', 'vancouver', 'chiffon dress', 'grammywinning', 'family', 'lopilato made', 'north', 'bride argentine tv actress', 'media', 'twitter', 'met', 'high']]\n"
          ],
          "name": "stdout"
        }
      ]
    },
    {
      "cell_type": "markdown",
      "metadata": {
        "id": "bb0vYTiW4Lic",
        "colab_type": "text"
      },
      "source": [
        "## RAKE"
      ]
    },
    {
      "cell_type": "code",
      "metadata": {
        "id": "AzpCQLuc4gVW",
        "colab_type": "code",
        "colab": {}
      },
      "source": [
        "!pip install python-rake"
      ],
      "execution_count": 0,
      "outputs": []
    },
    {
      "cell_type": "code",
      "metadata": {
        "id": "4K4JPu1e4NKk",
        "colab_type": "code",
        "outputId": "2bb79c63-4df5-4cad-c9c9-9cfd1d7894f9",
        "colab": {
          "base_uri": "https://localhost:8080/",
          "height": 50
        }
      },
      "source": [
        "import RAKE\n",
        "import nltk\n",
        "nltk.download('stopwords')\n",
        "from nltk.corpus import stopwords"
      ],
      "execution_count": 19,
      "outputs": [
        {
          "output_type": "stream",
          "text": [
            "[nltk_data] Downloading package stopwords to /root/nltk_data...\n",
            "[nltk_data]   Package stopwords is already up-to-date!\n"
          ],
          "name": "stdout"
        }
      ]
    },
    {
      "cell_type": "code",
      "metadata": {
        "id": "umeaxeWG6f8B",
        "colab_type": "code",
        "outputId": "e4aad67e-3c46-45cb-fb19-0fa8adfe7908",
        "colab": {
          "base_uri": "https://localhost:8080/",
          "height": 100
        }
      },
      "source": [
        "rake = RAKE.Rake(stop)\n",
        "\n",
        "for i in range(0, len(texts)):\n",
        "  y_rake = rake.run(articles[i], maxWords=3, minFrequency=1)\n",
        "  y_rake = [key[0] for key in y_rake]\n",
        "  print(count_metrics(y_rake, keys[i], i))"
      ],
      "execution_count": 35,
      "outputs": [
        {
          "output_type": "stream",
          "text": [
            "For text health-20916374.txt : Precision : 0.15126050420168066 . Recall : 0.42857142857142855 . F_score : 0.2236024844720497 \n",
            "For text crime-20949862.txt : Precision : 0.3253012048192771 . Recall : 0.46551724137931033 . F_score : 0.38297872340425526 \n",
            "For text business-20935665.txt : Precision : 0.10830324909747292 . Recall : 0.46153846153846156 . F_score : 0.17543859649122806 \n",
            "For text sports-20949554.txt : Precision : 0.32051282051282054 . Recall : 0.5681818181818182 . F_score : 0.4098360655737705 \n",
            "For text art_and_culture-20893614.txt : Precision : 0.14285714285714285 . Recall : 0.2619047619047619 . F_score : 0.18487394957983194 \n"
          ],
          "name": "stdout"
        }
      ]
    },
    {
      "cell_type": "markdown",
      "metadata": {
        "id": "hn00DamRTXgz",
        "colab_type": "text"
      },
      "source": [
        "Лучшие результаты на спортивном тексте и на статье про преступления. "
      ]
    },
    {
      "cell_type": "markdown",
      "metadata": {
        "id": "jPPg5-e08G_N",
        "colab_type": "text"
      },
      "source": [
        "## TextRank"
      ]
    },
    {
      "cell_type": "code",
      "metadata": {
        "id": "GAL_GdMn8JYm",
        "colab_type": "code",
        "colab": {}
      },
      "source": [
        "from gensim.summarization import keywords as kw"
      ],
      "execution_count": 0,
      "outputs": []
    },
    {
      "cell_type": "code",
      "metadata": {
        "id": "8aQzs_qR8eOs",
        "colab_type": "code",
        "outputId": "1caeb029-079b-4dae-c597-2b2cef0d63f9",
        "colab": {
          "base_uri": "https://localhost:8080/",
          "height": 100
        }
      },
      "source": [
        "for i in range(0, len(texts)):\n",
        "  y_textrank = kw(articles[i], split=True)\n",
        "  print(count_metrics(y_textrank, keys[i], i))"
      ],
      "execution_count": 39,
      "outputs": [
        {
          "output_type": "stream",
          "text": [
            "For text health-20916374.txt : Precision : 0.23809523809523808 . Recall : 0.11904761904761904 . F_score : 0.15873015873015875 \n",
            "For text crime-20949862.txt : Precision : 0.4583333333333333 . Recall : 0.1896551724137931 . F_score : 0.2682926829268293 \n",
            "For text business-20935665.txt : Precision : 0.13432835820895522 . Recall : 0.13846153846153847 . F_score : 0.13636363636363635 \n",
            "For text sports-20949554.txt : Precision : 0.13333333333333333 . Recall : 0.045454545454545456 . F_score : 0.06779661016949153 \n",
            "For text art_and_culture-20893614.txt : Precision : 0.25 . Recall : 0.11904761904761904 . F_score : 0.16129032258064516 \n"
          ],
          "name": "stdout"
        }
      ]
    },
    {
      "cell_type": "markdown",
      "metadata": {
        "id": "TsmONehTT2Aw",
        "colab_type": "text"
      },
      "source": [
        "Тут по F-score дела еще хуже, чем с RANK, но precision у текста про преступления выше. "
      ]
    },
    {
      "cell_type": "markdown",
      "metadata": {
        "id": "qwnFE8-289To",
        "colab_type": "text"
      },
      "source": [
        "## TF-IDF"
      ]
    },
    {
      "cell_type": "code",
      "metadata": {
        "id": "m5cIyleW9CSA",
        "colab_type": "code",
        "colab": {}
      },
      "source": [
        " from sklearn.feature_extraction.text import TfidfVectorizer"
      ],
      "execution_count": 0,
      "outputs": []
    },
    {
      "cell_type": "code",
      "metadata": {
        "id": "-7EzLTgvUtwX",
        "colab_type": "code",
        "colab": {}
      },
      "source": [
        "vectorizer = TfidfVectorizer(stop_words='english', ngram_range=(1, 3))\n",
        "X = vectorizer.fit_transform(articles)"
      ],
      "execution_count": 0,
      "outputs": []
    },
    {
      "cell_type": "code",
      "metadata": {
        "id": "gHYSxD75VCLJ",
        "colab_type": "code",
        "colab": {
          "base_uri": "https://localhost:8080/",
          "height": 100
        },
        "outputId": "c086eab5-6152-40bb-c498-1dc02875e5c4"
      },
      "source": [
        "import numpy as np\n",
        "for i in range(0, len(articles)):\n",
        "  transformed_article = vectorizer.transform([articles[i]])\n",
        "  feature_array = np.array(vectorizer.get_feature_names())\n",
        "  tfidf_sorting = np.argsort(transformed_article.toarray()).flatten()[::-1]\n",
        "  n = len(keys[i]) #Берем столько же топовых слов, сколько в keys[i]\n",
        "  y_tfidf = feature_array[tfidf_sorting][:n]\n",
        "  print(count_metrics(y_tfidf, keys[i], i))"
      ],
      "execution_count": 53,
      "outputs": [
        {
          "output_type": "stream",
          "text": [
            "For text health-20916374.txt : Precision : 0.3333333333333333 . Recall : 0.3333333333333333 . F_score : 0.3333333333333333 \n",
            "For text crime-20949862.txt : Precision : 0.25862068965517243 . Recall : 0.25862068965517243 . F_score : 0.25862068965517243 \n",
            "For text business-20935665.txt : Precision : 0.23880597014925373 . Recall : 0.24615384615384617 . F_score : 0.2424242424242424 \n",
            "For text sports-20949554.txt : Precision : 0.20454545454545456 . Recall : 0.20454545454545456 . F_score : 0.20454545454545456 \n",
            "For text art_and_culture-20893614.txt : Precision : 0.14285714285714285 . Recall : 0.14285714285714285 . F_score : 0.14285714285714285 \n"
          ],
          "name": "stdout"
        }
      ]
    },
    {
      "cell_type": "markdown",
      "metadata": {
        "id": "llahJ3knXDhR",
        "colab_type": "text"
      },
      "source": [
        "Тут самый сбалансированный результат получился (хоть и не очень хороший)."
      ]
    },
    {
      "cell_type": "markdown",
      "metadata": {
        "id": "bGN4SYzM9bZQ",
        "colab_type": "text"
      },
      "source": [
        "# Задание 5"
      ]
    },
    {
      "cell_type": "markdown",
      "metadata": {
        "colab_type": "text",
        "id": "u3_Up-TEXZYX"
      },
      "source": [
        "Описать ошибки автоматического выделения ключевых слов (что выделяется лишнее, что не выделяется); предложить свои методы решения этих проблем."
      ]
    },
    {
      "cell_type": "markdown",
      "metadata": {
        "id": "NUpaR_-eXoCW",
        "colab_type": "text"
      },
      "source": [
        "Посмотрим на примере последнего текста (потому что его ключи хранятся сейчас в переменных) для каждого из методов что выделяется лишнее и что не выделяется."
      ]
    },
    {
      "cell_type": "code",
      "metadata": {
        "id": "kc6lkHy3YXL7",
        "colab_type": "code",
        "colab": {}
      },
      "source": [
        "def look_for_errors(y_pred, y_true):\n",
        "  y_pred = set(y_pred)\n",
        "  y_true = set(y_true)\n",
        "  print('Лишние элементы: ', y_pred - y_true)\n",
        "  print('Что не выделяется: ', y_true - y_pred)"
      ],
      "execution_count": 0,
      "outputs": []
    },
    {
      "cell_type": "code",
      "metadata": {
        "id": "gqB6okZ_XaD4",
        "colab_type": "code",
        "colab": {
          "base_uri": "https://localhost:8080/",
          "height": 70
        },
        "outputId": "9893163a-ffb5-4493-8c7c-b46b9b5347a1"
      },
      "source": [
        "#RAKE\n",
        "look_for_errors(y_rake, keys[-1])"
      ],
      "execution_count": 63,
      "outputs": [
        {
          "output_type": "stream",
          "text": [
            "Лишние элементы:  {'fans', 'los angeles', '23', 'north america', 'wrote', 'ap photo/natacha pisarenko', 'buble wore', 'wore', 'tossed', 'argentine sitcoms', 'mob', 'april', 'including', 'young woman shouted', 'buenos aires province', 'fans threw rice', 'civil ceremony', 'crowd', 'buble', 'lopilato', 'civil registry', 'purple orchids', '000 fans', 'homes', '500', 'couple plan', 'silver high heels', 'thursday march 31', 'top-grossing concert entertainers', 'sharp gray suit', 'ap', 'grammy-winning singer', 'little girls', 'name', 'buenos aires', 'leaned', 'thursday', 'grammy last month', 'argentine sweetheart posed', 'full ceremony', '2009', 'argentina', 'day', 'lilac chiffon dress', 'several years', 'followers', 'met lopilato', 'red rose petals', 'rebel way', 'knot', 'downtown buenos aires', 'smooch', 'model', '2011', 'canada', 'another wedding', 'soap operas', 'romantically involved', 'one', 'married', 'children', 'love', 'civil wedding ceremony', 'pirate soul', 'tying', '35'}\n",
            "Что не выделяется:  {'canadian', 'grammy', 'downtown', 'canadian pop', 'bride argentine tv actress', 'rose', 'woman', 'his grammy', 'month', 'high', 'south american', 'kisses', 'met', 'after tying', 'argentine sweetheart', 'mansion', 'grammywinning', 'vocal album', 'north', 'wedding ceremony', 'argentine', 'chiffon dress', 'messages', 'registry', 'married argentine', 'traditional', 'ceremony', 'vocal', 'romantically', 'argentina ap', 'buble dated'}\n"
          ],
          "name": "stdout"
        }
      ]
    },
    {
      "cell_type": "code",
      "metadata": {
        "id": "hs7ID3OrYz7h",
        "colab_type": "code",
        "colab": {
          "base_uri": "https://localhost:8080/",
          "height": 70
        },
        "outputId": "3c0830fa-cac4-46b2-c0ad-13a789e74867"
      },
      "source": [
        "#TextRank\n",
        "look_for_errors(y_textrank, keys[-1])"
      ],
      "execution_count": 61,
      "outputs": [
        {
          "output_type": "stream",
          "text": [
            "Лишние элементы:  {'buble', 'buenos', 'los', 'lopilato', 'actress', 'player', 'civil', 'married', 'aires', 'concert', 'threw', 'pop', 'chiffon', 'juan', 'gray'}\n",
            "Что не выделяется:  {'beautiful', 'canadian', 'grammy', 'downtown', 'canadian pop', 'bride argentine tv actress', 'thanking', 'twitter', 'his grammy', 'month', 'south american', 'vancouver', 'kisses', 'met', 'crazy love', 'after tying', 'argentine sweetheart', 'mansion', 'media', 'grammywinning', 'vocal album', 'north', 'family', 'wedding ceremony', 'chiffon dress', 'messages', 'registry', 'married argentine', 'traditional', 'lopilato made', 'ceremony', 'facebook', 'vocal', 'bouquet', 'romantically', 'argentina ap', 'buble dated'}\n"
          ],
          "name": "stdout"
        }
      ]
    },
    {
      "cell_type": "code",
      "metadata": {
        "id": "XrSlwMjVY7Xd",
        "colab_type": "code",
        "colab": {
          "base_uri": "https://localhost:8080/",
          "height": 70
        },
        "outputId": "eebf24d7-593d-49d7-bc55-6d3e3f59f8ed"
      },
      "source": [
        "#Tf-idf\n",
        "look_for_errors(y_tfidf, keys[-1])"
      ],
      "execution_count": 62,
      "outputs": [
        {
          "output_type": "stream",
          "text": [
            "Лишние элементы:  {'fans', 'actress', 'wore', 'michael buble', 'actress luisana', 'luisana lopilato civil', 'buble', 'buenos', 'lopilato', 'wedding', 'civil', 'aires', 'pop star michael', 'pop star', 'argentine tv', 'ap', 'lopilato civil', 'luisana', 'star michael', 'buenos aires', 'thursday', 'concert', 'argentina', 'pop', 'canadian pop star', 'singer', 'tv actress luisana', 'star', 'aires argentina', 'argentine tv actress', 'married', 'tv', 'love', 'buenos aires argentina', 'tv actress', 'luisana lopilato'}\n",
            "Что не выделяется:  {'beautiful', 'downtown', 'bride argentine tv actress', 'rose', 'thanking', 'twitter', 'woman', 'his grammy', 'month', 'high', 'south american', 'vancouver', 'kisses', 'met', 'crazy love', 'after tying', 'argentine sweetheart', 'mansion', 'media', 'grammywinning', 'vocal album', 'north', 'family', 'wedding ceremony', 'chiffon dress', 'messages', 'registry', 'married argentine', 'traditional', 'lopilato made', 'facebook', 'vocal', 'bouquet', 'romantically', 'argentina ap', 'buble dated'}\n"
          ],
          "name": "stdout"
        }
      ]
    },
    {
      "cell_type": "markdown",
      "metadata": {
        "id": "fZL958_qd7RN",
        "colab_type": "text"
      },
      "source": [
        "1. У меня установлено ограничение на то, сколько слов может быть в ключе (до трех), но есть конретное ключевое слово из четырех слов (\"bride argentine tv actress\"). Можно увеличить до квадраграмм (хотя тогда могут появиться лишние ключевые слова).\n",
        "2. Возможно, проблема так же в том, что в оригинальной разметке очень много ключей (около 60 в среднем на текст). \n",
        "3. Возможно, стоит лемматизировать как исходные ключи, так и все ключи в различных y_pred."
      ]
    }
  ]
}